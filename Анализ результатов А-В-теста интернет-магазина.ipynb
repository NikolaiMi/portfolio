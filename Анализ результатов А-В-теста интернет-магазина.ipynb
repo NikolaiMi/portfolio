{
 "cells": [
  {
   "cell_type": "markdown",
   "metadata": {},
   "source": [
    "# Проверка результатов A/B-теста для интернет-магазина"
   ]
  },
  {
   "cell_type": "markdown",
   "metadata": {},
   "source": [
    "## Оглавление <a id=\"оглавление\"></a>\n",
    "[1. Изучение и предобработка данных](#Шаг_1)\n",
    "* [1.1 приоритизация гипотез](#Шаг_11)<br>\n",
    "\n",
    "[2. Анализ результатов А/В-теста](#Шаг_2)<br>\n",
    "* [2.1 Куммулятивная выручка по группам](#Шаг_21)<br>\n",
    "* [2.2 Куммулятивный средний чек по группам](#Шаг_22)<br>\n",
    "* [2.3 Куммулятивная конверсия по группам](#Шаг_23)<br>\n",
    "* [2.4 Количество заказов по пользователям](#Шаг_24)<br>\n",
    "* [2.5 Стоимость заказов](#Шаг_25)<br>\n",
    "* [2.6 Различие конверсии в группах](#Шаг_26)<br>\n",
    "* [2.7 Различия среднего чека в группах](#Шаг_27)<br>\n",
    "\n",
    "[Шаг 3. Принимаем решение по результатам A/B-теста](#Шаг_3)<br>\n",
    "* [Вывод: что делать с А/В-тестом?](#Шаг_31)<br>\n",
    "* [Какие гипотезы стоит еще протестировать?](#Шаг_32)<br>\n",
    "* [На что еще обратить внимание?](#Шаг_33)<br>"
   ]
  },
  {
   "cell_type": "markdown",
   "metadata": {},
   "source": [
    "## Описание проекта <a id=\"описание\"></a>"
   ]
  },
  {
   "cell_type": "markdown",
   "metadata": {},
   "source": [
    "**Заказчик:** Интернет-магазин \"Ноунейм\"\n",
    "\n",
    "**Что исследуем:** Влияние какого-то изменения на сайте на конверсию в продажу и средний чек у пользователей интернет-магазина <br> (по условиям задачи проверяемая гипотеза неизвестна)\n",
    "\n",
    "**Цель:** Определить, влияет ли изменение на выручку и стоит ли продолжать тест\n",
    "\n",
    "**Задачи**:\n",
    "1. Проанализировать результаты A/B-теста и сделать выводы\n",
    "2. Приоритизировать гипотезы\n",
    "\n",
    "**Данные:**\n",
    "1. список гипотез с оценкой по методам ICE & RICE\n",
    "2. данные о заказах за период проведения теста\n",
    "3. данные о визитах на сайт за период проведения теста"
   ]
  },
  {
   "cell_type": "markdown",
   "metadata": {},
   "source": [
    "## Шаг 1. Изучение и предобработка данных <a id=\"Шаг_1\"></a>\n",
    "[К оглавлению](#оглавление)<br>\n",
    "[К выводам по шагу](#conclusion1)"
   ]
  },
  {
   "cell_type": "code",
   "execution_count": 1,
   "metadata": {},
   "outputs": [],
   "source": [
    "# импортируем нужные библиотеки\n",
    "import pandas as pd\n",
    "import matplotlib.pyplot as plt\n",
    "import numpy as np\n",
    "from scipy import stats as st\n",
    "import seaborn as sns\n",
    "import datetime as dt\n",
    "\n",
    "plt.style.use('seaborn') \n",
    "sns.set(style=\"darkgrid\")\n",
    "\n",
    "pd.options.display.float_format = '{: .2f}'.format\n",
    "pd.options.display.max_colwidth = None\n",
    "\n",
    "import warnings \n",
    "warnings.filterwarnings('ignore') \n",
    "\n",
    "hypos = pd.read_csv('hypothesis.csv')\n",
    "\n",
    "orders = pd.read_csv('orders.csv')\n",
    "\n",
    "visitors = pd.read_csv('visitors.csv')"
   ]
  },
  {
   "cell_type": "markdown",
   "metadata": {},
   "source": [
    "**Таблица Hypothesis** (информация о гипотезах; 5 столбцов):\n",
    "\n",
    "1. **Hypothesis** — краткое описание гипотезы\n",
    "2. **Reach** — охват пользователей по 10-балльной шкале;\n",
    "3. **Impact** — влияние на пользователей по 10-балльной шкале;\n",
    "4. **Confidence** — уверенность в гипотезе по 10-балльной шкале;\n",
    "5. **Efforts** — затраты ресурсов на проверку гипотезы по 10-балльной шкале.\n",
    "\n",
    "Чем больше значение Efforts, тем дороже проверка гипотезы."
   ]
  },
  {
   "cell_type": "code",
   "execution_count": 2,
   "metadata": {
    "scrolled": false
   },
   "outputs": [
    {
     "name": "stdout",
     "output_type": "stream",
     "text": [
      "<class 'pandas.core.frame.DataFrame'>\n",
      "RangeIndex: 9 entries, 0 to 8\n",
      "Data columns (total 5 columns):\n",
      " #   Column      Non-Null Count  Dtype \n",
      "---  ------      --------------  ----- \n",
      " 0   Hypothesis  9 non-null      object\n",
      " 1   Reach       9 non-null      int64 \n",
      " 2   Impact      9 non-null      int64 \n",
      " 3   Confidence  9 non-null      int64 \n",
      " 4   Efforts     9 non-null      int64 \n",
      "dtypes: int64(4), object(1)\n",
      "memory usage: 488.0+ bytes\n",
      "кол-во строк-дубликатов:  0\n"
     ]
    },
    {
     "data": {
      "text/html": [
       "<div>\n",
       "<style scoped>\n",
       "    .dataframe tbody tr th:only-of-type {\n",
       "        vertical-align: middle;\n",
       "    }\n",
       "\n",
       "    .dataframe tbody tr th {\n",
       "        vertical-align: top;\n",
       "    }\n",
       "\n",
       "    .dataframe thead th {\n",
       "        text-align: right;\n",
       "    }\n",
       "</style>\n",
       "<table border=\"1\" class=\"dataframe\">\n",
       "  <thead>\n",
       "    <tr style=\"text-align: right;\">\n",
       "      <th></th>\n",
       "      <th>Hypothesis</th>\n",
       "      <th>Reach</th>\n",
       "      <th>Impact</th>\n",
       "      <th>Confidence</th>\n",
       "      <th>Efforts</th>\n",
       "    </tr>\n",
       "  </thead>\n",
       "  <tbody>\n",
       "    <tr>\n",
       "      <th>0</th>\n",
       "      <td>Добавить два новых канала привлечения трафика, что позволит привлекать на 30% больше пользователей</td>\n",
       "      <td>3</td>\n",
       "      <td>10</td>\n",
       "      <td>8</td>\n",
       "      <td>6</td>\n",
       "    </tr>\n",
       "    <tr>\n",
       "      <th>1</th>\n",
       "      <td>Запустить собственную службу доставки, что сократит срок доставки заказов</td>\n",
       "      <td>2</td>\n",
       "      <td>5</td>\n",
       "      <td>4</td>\n",
       "      <td>10</td>\n",
       "    </tr>\n",
       "    <tr>\n",
       "      <th>2</th>\n",
       "      <td>Добавить блоки рекомендаций товаров на сайт интернет магазина, чтобы повысить конверсию и средний чек заказа</td>\n",
       "      <td>8</td>\n",
       "      <td>3</td>\n",
       "      <td>7</td>\n",
       "      <td>3</td>\n",
       "    </tr>\n",
       "    <tr>\n",
       "      <th>3</th>\n",
       "      <td>Изменить структура категорий, что увеличит конверсию, т.к. пользователи быстрее найдут нужный товар</td>\n",
       "      <td>8</td>\n",
       "      <td>3</td>\n",
       "      <td>3</td>\n",
       "      <td>8</td>\n",
       "    </tr>\n",
       "    <tr>\n",
       "      <th>4</th>\n",
       "      <td>Изменить цвет фона главной страницы, чтобы увеличить вовлеченность пользователей</td>\n",
       "      <td>3</td>\n",
       "      <td>1</td>\n",
       "      <td>1</td>\n",
       "      <td>1</td>\n",
       "    </tr>\n",
       "  </tbody>\n",
       "</table>\n",
       "</div>"
      ],
      "text/plain": [
       "                                                                                                     Hypothesis  \\\n",
       "0            Добавить два новых канала привлечения трафика, что позволит привлекать на 30% больше пользователей   \n",
       "1                                     Запустить собственную службу доставки, что сократит срок доставки заказов   \n",
       "2  Добавить блоки рекомендаций товаров на сайт интернет магазина, чтобы повысить конверсию и средний чек заказа   \n",
       "3           Изменить структура категорий, что увеличит конверсию, т.к. пользователи быстрее найдут нужный товар   \n",
       "4                              Изменить цвет фона главной страницы, чтобы увеличить вовлеченность пользователей   \n",
       "\n",
       "   Reach  Impact  Confidence  Efforts  \n",
       "0      3      10           8        6  \n",
       "1      2       5           4       10  \n",
       "2      8       3           7        3  \n",
       "3      8       3           3        8  \n",
       "4      3       1           1        1  "
      ]
     },
     "metadata": {},
     "output_type": "display_data"
    }
   ],
   "source": [
    "# изучаем данные\n",
    "hypos.info()\n",
    "print('кол-во строк-дубликатов: ', hypos.duplicated().sum())\n",
    "display(hypos.head(5))"
   ]
  },
  {
   "cell_type": "markdown",
   "metadata": {},
   "source": [
    "В таблице нет дубликатов и экстримальных значений. <br>\n",
    "Типы данных в порядке."
   ]
  },
  {
   "cell_type": "markdown",
   "metadata": {},
   "source": [
    "**Таблица Orders** (информация о заказах и покупателях; 5 столбцов):\n",
    "\n",
    "1. **transactionId** — идентификатор заказа\n",
    "2. **visitorId** — идентификатор пользователя, совершившего заказ\n",
    "3. **date** — дата, когда был совершён заказ\n",
    "4. **revenue** — выручка заказа\n",
    "5. **group** — группа A/B-теста, в которую попал заказ"
   ]
  },
  {
   "cell_type": "code",
   "execution_count": 3,
   "metadata": {
    "scrolled": false
   },
   "outputs": [
    {
     "name": "stdout",
     "output_type": "stream",
     "text": [
      "<class 'pandas.core.frame.DataFrame'>\n",
      "RangeIndex: 1197 entries, 0 to 1196\n",
      "Data columns (total 5 columns):\n",
      " #   Column         Non-Null Count  Dtype \n",
      "---  ------         --------------  ----- \n",
      " 0   transactionId  1197 non-null   int64 \n",
      " 1   visitorId      1197 non-null   int64 \n",
      " 2   date           1197 non-null   object\n",
      " 3   revenue        1197 non-null   int64 \n",
      " 4   group          1197 non-null   object\n",
      "dtypes: int64(3), object(2)\n",
      "memory usage: 46.9+ KB\n",
      "кол-во строк-дубликатов:  0\n"
     ]
    },
    {
     "data": {
      "text/html": [
       "<div>\n",
       "<style scoped>\n",
       "    .dataframe tbody tr th:only-of-type {\n",
       "        vertical-align: middle;\n",
       "    }\n",
       "\n",
       "    .dataframe tbody tr th {\n",
       "        vertical-align: top;\n",
       "    }\n",
       "\n",
       "    .dataframe thead th {\n",
       "        text-align: right;\n",
       "    }\n",
       "</style>\n",
       "<table border=\"1\" class=\"dataframe\">\n",
       "  <thead>\n",
       "    <tr style=\"text-align: right;\">\n",
       "      <th></th>\n",
       "      <th>transactionId</th>\n",
       "      <th>visitorId</th>\n",
       "      <th>date</th>\n",
       "      <th>revenue</th>\n",
       "      <th>group</th>\n",
       "    </tr>\n",
       "  </thead>\n",
       "  <tbody>\n",
       "    <tr>\n",
       "      <th>487</th>\n",
       "      <td>2786000406</td>\n",
       "      <td>2744017357</td>\n",
       "      <td>2019-08-19</td>\n",
       "      <td>1490</td>\n",
       "      <td>A</td>\n",
       "    </tr>\n",
       "    <tr>\n",
       "      <th>914</th>\n",
       "      <td>2792059099</td>\n",
       "      <td>1602967004</td>\n",
       "      <td>2019-08-08</td>\n",
       "      <td>4040</td>\n",
       "      <td>A</td>\n",
       "    </tr>\n",
       "    <tr>\n",
       "      <th>157</th>\n",
       "      <td>290380159</td>\n",
       "      <td>732900740</td>\n",
       "      <td>2019-08-22</td>\n",
       "      <td>400</td>\n",
       "      <td>A</td>\n",
       "    </tr>\n",
       "    <tr>\n",
       "      <th>258</th>\n",
       "      <td>2117234618</td>\n",
       "      <td>4002369227</td>\n",
       "      <td>2019-08-23</td>\n",
       "      <td>1920</td>\n",
       "      <td>A</td>\n",
       "    </tr>\n",
       "    <tr>\n",
       "      <th>812</th>\n",
       "      <td>663375979</td>\n",
       "      <td>1508900659</td>\n",
       "      <td>2019-08-21</td>\n",
       "      <td>690</td>\n",
       "      <td>A</td>\n",
       "    </tr>\n",
       "  </tbody>\n",
       "</table>\n",
       "</div>"
      ],
      "text/plain": [
       "     transactionId   visitorId        date  revenue group\n",
       "487     2786000406  2744017357  2019-08-19     1490     A\n",
       "914     2792059099  1602967004  2019-08-08     4040     A\n",
       "157      290380159   732900740  2019-08-22      400     A\n",
       "258     2117234618  4002369227  2019-08-23     1920     A\n",
       "812      663375979  1508900659  2019-08-21      690     A"
      ]
     },
     "metadata": {},
     "output_type": "display_data"
    }
   ],
   "source": [
    "# изучаем данные\n",
    "orders.info()\n",
    "print('кол-во строк-дубликатов: ', orders.duplicated().sum())\n",
    "display(orders.sample(5))"
   ]
  },
  {
   "cell_type": "markdown",
   "metadata": {},
   "source": [
    "В таблице нет дубликатов. <br>\n",
    "Следует привести тип данных в столбце date к формату date.time."
   ]
  },
  {
   "cell_type": "code",
   "execution_count": 4,
   "metadata": {},
   "outputs": [
    {
     "name": "stdout",
     "output_type": "stream",
     "text": [
      "<class 'pandas.core.frame.DataFrame'>\n",
      "RangeIndex: 1197 entries, 0 to 1196\n",
      "Data columns (total 5 columns):\n",
      " #   Column         Non-Null Count  Dtype         \n",
      "---  ------         --------------  -----         \n",
      " 0   transactionId  1197 non-null   int64         \n",
      " 1   visitorId      1197 non-null   int64         \n",
      " 2   date           1197 non-null   datetime64[ns]\n",
      " 3   revenue        1197 non-null   int64         \n",
      " 4   group          1197 non-null   object        \n",
      "dtypes: datetime64[ns](1), int64(3), object(1)\n",
      "memory usage: 46.9+ KB\n"
     ]
    }
   ],
   "source": [
    "orders['date'] = pd.to_datetime(orders['date'])\n",
    "orders.info()"
   ]
  },
  {
   "cell_type": "markdown",
   "metadata": {},
   "source": [
    "**Таблица Visitors** (информация о посещениях и посетителях сайта; 3 столбца):\n",
    "\n",
    "1. date — дата\n",
    "2. group — группа A/B-теста\n",
    "3. visitors — количество пользователей в указанную дату в указанной группе A/B-теста"
   ]
  },
  {
   "cell_type": "code",
   "execution_count": 5,
   "metadata": {
    "scrolled": false
   },
   "outputs": [
    {
     "name": "stdout",
     "output_type": "stream",
     "text": [
      "<class 'pandas.core.frame.DataFrame'>\n",
      "RangeIndex: 62 entries, 0 to 61\n",
      "Data columns (total 3 columns):\n",
      " #   Column    Non-Null Count  Dtype \n",
      "---  ------    --------------  ----- \n",
      " 0   date      62 non-null     object\n",
      " 1   group     62 non-null     object\n",
      " 2   visitors  62 non-null     int64 \n",
      "dtypes: int64(1), object(2)\n",
      "memory usage: 1.6+ KB\n",
      "кол-во строк-дубликатов:  0\n"
     ]
    },
    {
     "data": {
      "text/html": [
       "<div>\n",
       "<style scoped>\n",
       "    .dataframe tbody tr th:only-of-type {\n",
       "        vertical-align: middle;\n",
       "    }\n",
       "\n",
       "    .dataframe tbody tr th {\n",
       "        vertical-align: top;\n",
       "    }\n",
       "\n",
       "    .dataframe thead th {\n",
       "        text-align: right;\n",
       "    }\n",
       "</style>\n",
       "<table border=\"1\" class=\"dataframe\">\n",
       "  <thead>\n",
       "    <tr style=\"text-align: right;\">\n",
       "      <th></th>\n",
       "      <th>date</th>\n",
       "      <th>group</th>\n",
       "      <th>visitors</th>\n",
       "    </tr>\n",
       "  </thead>\n",
       "  <tbody>\n",
       "    <tr>\n",
       "      <th>45</th>\n",
       "      <td>2019-08-15</td>\n",
       "      <td>B</td>\n",
       "      <td>544</td>\n",
       "    </tr>\n",
       "    <tr>\n",
       "      <th>12</th>\n",
       "      <td>2019-08-13</td>\n",
       "      <td>A</td>\n",
       "      <td>748</td>\n",
       "    </tr>\n",
       "    <tr>\n",
       "      <th>31</th>\n",
       "      <td>2019-08-01</td>\n",
       "      <td>B</td>\n",
       "      <td>713</td>\n",
       "    </tr>\n",
       "    <tr>\n",
       "      <th>30</th>\n",
       "      <td>2019-08-31</td>\n",
       "      <td>A</td>\n",
       "      <td>699</td>\n",
       "    </tr>\n",
       "    <tr>\n",
       "      <th>19</th>\n",
       "      <td>2019-08-20</td>\n",
       "      <td>A</td>\n",
       "      <td>575</td>\n",
       "    </tr>\n",
       "  </tbody>\n",
       "</table>\n",
       "</div>"
      ],
      "text/plain": [
       "          date group  visitors\n",
       "45  2019-08-15     B       544\n",
       "12  2019-08-13     A       748\n",
       "31  2019-08-01     B       713\n",
       "30  2019-08-31     A       699\n",
       "19  2019-08-20     A       575"
      ]
     },
     "metadata": {},
     "output_type": "display_data"
    }
   ],
   "source": [
    "# изучаем данные\n",
    "visitors.info()\n",
    "print('кол-во строк-дубликатов: ', visitors.duplicated().sum())\n",
    "display(visitors.sample(5))"
   ]
  },
  {
   "cell_type": "markdown",
   "metadata": {},
   "source": [
    "Дубликатов нет. <br>\n",
    "Следует заменить тип данных в столбце с датой."
   ]
  },
  {
   "cell_type": "code",
   "execution_count": 6,
   "metadata": {
    "scrolled": true
   },
   "outputs": [
    {
     "name": "stdout",
     "output_type": "stream",
     "text": [
      "<class 'pandas.core.frame.DataFrame'>\n",
      "RangeIndex: 62 entries, 0 to 61\n",
      "Data columns (total 3 columns):\n",
      " #   Column    Non-Null Count  Dtype         \n",
      "---  ------    --------------  -----         \n",
      " 0   date      62 non-null     datetime64[ns]\n",
      " 1   group     62 non-null     object        \n",
      " 2   visitors  62 non-null     int64         \n",
      "dtypes: datetime64[ns](1), int64(1), object(1)\n",
      "memory usage: 1.6+ KB\n"
     ]
    }
   ],
   "source": [
    "visitors['date'] = pd.to_datetime(visitors['date'])\n",
    "visitors.info()"
   ]
  },
  {
   "cell_type": "markdown",
   "metadata": {},
   "source": [
    "**Проверим, не пересекаются ли пользователи в разныз группах.**"
   ]
  },
  {
   "cell_type": "code",
   "execution_count": 7,
   "metadata": {
    "scrolled": true
   },
   "outputs": [
    {
     "data": {
      "text/html": [
       "<div>\n",
       "<style scoped>\n",
       "    .dataframe tbody tr th:only-of-type {\n",
       "        vertical-align: middle;\n",
       "    }\n",
       "\n",
       "    .dataframe tbody tr th {\n",
       "        vertical-align: top;\n",
       "    }\n",
       "\n",
       "    .dataframe thead th {\n",
       "        text-align: right;\n",
       "    }\n",
       "</style>\n",
       "<table border=\"1\" class=\"dataframe\">\n",
       "  <thead>\n",
       "    <tr style=\"text-align: right;\">\n",
       "      <th></th>\n",
       "      <th>visitorId</th>\n",
       "      <th>group</th>\n",
       "    </tr>\n",
       "  </thead>\n",
       "  <tbody>\n",
       "    <tr>\n",
       "      <th>0</th>\n",
       "      <td>8300375</td>\n",
       "      <td>2</td>\n",
       "    </tr>\n",
       "    <tr>\n",
       "      <th>1</th>\n",
       "      <td>232979603</td>\n",
       "      <td>2</td>\n",
       "    </tr>\n",
       "    <tr>\n",
       "      <th>2</th>\n",
       "      <td>276558944</td>\n",
       "      <td>2</td>\n",
       "    </tr>\n",
       "    <tr>\n",
       "      <th>3</th>\n",
       "      <td>351125977</td>\n",
       "      <td>2</td>\n",
       "    </tr>\n",
       "    <tr>\n",
       "      <th>4</th>\n",
       "      <td>366673373</td>\n",
       "      <td>2</td>\n",
       "    </tr>\n",
       "    <tr>\n",
       "      <th>...</th>\n",
       "      <td>...</td>\n",
       "      <td>...</td>\n",
       "    </tr>\n",
       "    <tr>\n",
       "      <th>59</th>\n",
       "      <td>4069496402</td>\n",
       "      <td>2</td>\n",
       "    </tr>\n",
       "    <tr>\n",
       "      <th>60</th>\n",
       "      <td>4109358064</td>\n",
       "      <td>2</td>\n",
       "    </tr>\n",
       "    <tr>\n",
       "      <th>61</th>\n",
       "      <td>4120364173</td>\n",
       "      <td>2</td>\n",
       "    </tr>\n",
       "    <tr>\n",
       "      <th>62</th>\n",
       "      <td>4134830387</td>\n",
       "      <td>2</td>\n",
       "    </tr>\n",
       "    <tr>\n",
       "      <th>63</th>\n",
       "      <td>4266935830</td>\n",
       "      <td>2</td>\n",
       "    </tr>\n",
       "  </tbody>\n",
       "</table>\n",
       "<p>64 rows × 2 columns</p>\n",
       "</div>"
      ],
      "text/plain": [
       "     visitorId  group\n",
       "0      8300375      2\n",
       "1    232979603      2\n",
       "2    276558944      2\n",
       "3    351125977      2\n",
       "4    366673373      2\n",
       "..         ...    ...\n",
       "59  4069496402      2\n",
       "60  4109358064      2\n",
       "61  4120364173      2\n",
       "62  4134830387      2\n",
       "63  4266935830      2\n",
       "\n",
       "[64 rows x 2 columns]"
      ]
     },
     "execution_count": 7,
     "metadata": {},
     "output_type": "execute_result"
    }
   ],
   "source": [
    "# для каждого пользователя посчитаем кол-во групп, в которые он попал\n",
    "# соберем список всех пользователей, которые есть сразу в двух группах\n",
    "both_group_users = orders.groupby('visitorId').agg({'group': 'count'}).query('group == 2').reset_index()\n",
    "both_group_users"
   ]
  },
  {
   "cell_type": "markdown",
   "metadata": {},
   "source": [
    "В таблице с заказами есть 64 пользователя, которые находятся в двух группах сразу.\n",
    "\n",
    "Нужно избавиться от таких пользователей, чтобы они не искажали результаты теста."
   ]
  },
  {
   "cell_type": "code",
   "execution_count": 8,
   "metadata": {
    "scrolled": true
   },
   "outputs": [
    {
     "name": "stdout",
     "output_type": "stream",
     "text": [
      "<class 'pandas.core.frame.DataFrame'>\n",
      "Int64Index: 1069 entries, 0 to 1196\n",
      "Data columns (total 5 columns):\n",
      " #   Column         Non-Null Count  Dtype         \n",
      "---  ------         --------------  -----         \n",
      " 0   transactionId  1069 non-null   int64         \n",
      " 1   visitorId      1069 non-null   int64         \n",
      " 2   date           1069 non-null   datetime64[ns]\n",
      " 3   revenue        1069 non-null   int64         \n",
      " 4   group          1069 non-null   object        \n",
      "dtypes: datetime64[ns](1), int64(3), object(1)\n",
      "memory usage: 50.1+ KB\n"
     ]
    }
   ],
   "source": [
    "# создадим переменную-список id-пользователей, которые попали в обе группы\n",
    "both_group_users = both_group_users['visitorId']\n",
    "\n",
    "# очистим таблицу с заказами от таких пользователей\n",
    "orders = orders.query('visitorId not in @both_group_users')\n",
    "orders.info()"
   ]
  },
  {
   "cell_type": "markdown",
   "metadata": {},
   "source": [
    "### Выводы <a id=\"conclusion1\"></a>\n",
    "[К оглавлению](#оглавление)<br>\n",
    "\n",
    "1. Таблицы не содержат дубликатов и неадекватных значений.\n",
    "\n",
    "2. В таблицах orders и visitors заменили тип данных у столбца date на datetime, чтобы с этим столбцом было удобнее работать.\n",
    "\n",
    "3. Из таблицы orders исключили пользователей, которые попали в обе группы сразу, так как они могут искажать результаты теста."
   ]
  },
  {
   "cell_type": "markdown",
   "metadata": {},
   "source": [
    "### 1.1 Приоритизация гипотез <a id=\"Шаг_11\"></a>\n",
    "[К оглавлению](#оглавление)<br>\n",
    "[К выводам по шагу](#conclusion11)\n",
    "\n",
    "\n",
    "- [x] приоритизировать гипотезы с помощью метода ICE\n",
    "- [x] приоритизировать гипотезы с помощью метода RICE\n",
    "- [x] Объяснить, почему у одних и тех же гипотез получился разный приоритет"
   ]
  },
  {
   "cell_type": "code",
   "execution_count": 9,
   "metadata": {
    "scrolled": false
   },
   "outputs": [
    {
     "data": {
      "text/html": [
       "<div>\n",
       "<style scoped>\n",
       "    .dataframe tbody tr th:only-of-type {\n",
       "        vertical-align: middle;\n",
       "    }\n",
       "\n",
       "    .dataframe tbody tr th {\n",
       "        vertical-align: top;\n",
       "    }\n",
       "\n",
       "    .dataframe thead th {\n",
       "        text-align: right;\n",
       "    }\n",
       "</style>\n",
       "<table border=\"1\" class=\"dataframe\">\n",
       "  <thead>\n",
       "    <tr style=\"text-align: right;\">\n",
       "      <th></th>\n",
       "      <th>Hypothesis</th>\n",
       "      <th>Reach</th>\n",
       "      <th>Impact</th>\n",
       "      <th>Confidence</th>\n",
       "      <th>Efforts</th>\n",
       "      <th>ICE</th>\n",
       "    </tr>\n",
       "  </thead>\n",
       "  <tbody>\n",
       "    <tr>\n",
       "      <th>8</th>\n",
       "      <td>Запустить акцию, дающую скидку на товар в день рождения</td>\n",
       "      <td>1</td>\n",
       "      <td>9</td>\n",
       "      <td>9</td>\n",
       "      <td>5</td>\n",
       "      <td>16.20</td>\n",
       "    </tr>\n",
       "    <tr>\n",
       "      <th>0</th>\n",
       "      <td>Добавить два новых канала привлечения трафика, что позволит привлекать на 30% больше пользователей</td>\n",
       "      <td>3</td>\n",
       "      <td>10</td>\n",
       "      <td>8</td>\n",
       "      <td>6</td>\n",
       "      <td>13.33</td>\n",
       "    </tr>\n",
       "    <tr>\n",
       "      <th>7</th>\n",
       "      <td>Добавить форму подписки на все основные страницы, чтобы собрать базу клиентов для email-рассылок</td>\n",
       "      <td>10</td>\n",
       "      <td>7</td>\n",
       "      <td>8</td>\n",
       "      <td>5</td>\n",
       "      <td>11.20</td>\n",
       "    </tr>\n",
       "    <tr>\n",
       "      <th>6</th>\n",
       "      <td>Показать на главной странице баннеры с актуальными акциями и распродажами, чтобы увеличить конверсию</td>\n",
       "      <td>5</td>\n",
       "      <td>3</td>\n",
       "      <td>8</td>\n",
       "      <td>3</td>\n",
       "      <td>8.00</td>\n",
       "    </tr>\n",
       "    <tr>\n",
       "      <th>2</th>\n",
       "      <td>Добавить блоки рекомендаций товаров на сайт интернет магазина, чтобы повысить конверсию и средний чек заказа</td>\n",
       "      <td>8</td>\n",
       "      <td>3</td>\n",
       "      <td>7</td>\n",
       "      <td>3</td>\n",
       "      <td>7.00</td>\n",
       "    </tr>\n",
       "    <tr>\n",
       "      <th>1</th>\n",
       "      <td>Запустить собственную службу доставки, что сократит срок доставки заказов</td>\n",
       "      <td>2</td>\n",
       "      <td>5</td>\n",
       "      <td>4</td>\n",
       "      <td>10</td>\n",
       "      <td>2.00</td>\n",
       "    </tr>\n",
       "    <tr>\n",
       "      <th>5</th>\n",
       "      <td>Добавить страницу отзывов клиентов о магазине, что позволит увеличить количество заказов</td>\n",
       "      <td>3</td>\n",
       "      <td>2</td>\n",
       "      <td>2</td>\n",
       "      <td>3</td>\n",
       "      <td>1.33</td>\n",
       "    </tr>\n",
       "    <tr>\n",
       "      <th>3</th>\n",
       "      <td>Изменить структура категорий, что увеличит конверсию, т.к. пользователи быстрее найдут нужный товар</td>\n",
       "      <td>8</td>\n",
       "      <td>3</td>\n",
       "      <td>3</td>\n",
       "      <td>8</td>\n",
       "      <td>1.12</td>\n",
       "    </tr>\n",
       "    <tr>\n",
       "      <th>4</th>\n",
       "      <td>Изменить цвет фона главной страницы, чтобы увеличить вовлеченность пользователей</td>\n",
       "      <td>3</td>\n",
       "      <td>1</td>\n",
       "      <td>1</td>\n",
       "      <td>1</td>\n",
       "      <td>1.00</td>\n",
       "    </tr>\n",
       "  </tbody>\n",
       "</table>\n",
       "</div>"
      ],
      "text/plain": [
       "                                                                                                     Hypothesis  \\\n",
       "8                                                       Запустить акцию, дающую скидку на товар в день рождения   \n",
       "0            Добавить два новых канала привлечения трафика, что позволит привлекать на 30% больше пользователей   \n",
       "7              Добавить форму подписки на все основные страницы, чтобы собрать базу клиентов для email-рассылок   \n",
       "6          Показать на главной странице баннеры с актуальными акциями и распродажами, чтобы увеличить конверсию   \n",
       "2  Добавить блоки рекомендаций товаров на сайт интернет магазина, чтобы повысить конверсию и средний чек заказа   \n",
       "1                                     Запустить собственную службу доставки, что сократит срок доставки заказов   \n",
       "5                      Добавить страницу отзывов клиентов о магазине, что позволит увеличить количество заказов   \n",
       "3           Изменить структура категорий, что увеличит конверсию, т.к. пользователи быстрее найдут нужный товар   \n",
       "4                              Изменить цвет фона главной страницы, чтобы увеличить вовлеченность пользователей   \n",
       "\n",
       "   Reach  Impact  Confidence  Efforts    ICE  \n",
       "8      1       9           9        5  16.20  \n",
       "0      3      10           8        6  13.33  \n",
       "7     10       7           8        5  11.20  \n",
       "6      5       3           8        3   8.00  \n",
       "2      8       3           7        3   7.00  \n",
       "1      2       5           4       10   2.00  \n",
       "5      3       2           2        3   1.33  \n",
       "3      8       3           3        8   1.12  \n",
       "4      3       1           1        1   1.00  "
      ]
     },
     "execution_count": 9,
     "metadata": {},
     "output_type": "execute_result"
    }
   ],
   "source": [
    "hypos['ICE'] = (hypos['Impact'] * hypos['Confidence']) / hypos['Efforts']\n",
    "hypos.sort_values('ICE', ascending = False)"
   ]
  },
  {
   "cell_type": "markdown",
   "metadata": {},
   "source": [
    "Если следовать оценки по методу ICE, то в первую очередь следует оценить гипотезы с индексами 8, а затем 0 и 7.\n",
    "\n",
    "Гипотезы с индексами 1, 5, 3 и 4 не стоит проверять, так как у них слишком низкая оценка. <br>\n",
    "Такую оценку эти гипотезы получили, потому что слишком низкая уверенность (Confidence) в том, что трудозатраты (Efforts) и польза (Impact) оценены правильно."
   ]
  },
  {
   "cell_type": "code",
   "execution_count": 10,
   "metadata": {
    "scrolled": false
   },
   "outputs": [
    {
     "data": {
      "text/html": [
       "<div>\n",
       "<style scoped>\n",
       "    .dataframe tbody tr th:only-of-type {\n",
       "        vertical-align: middle;\n",
       "    }\n",
       "\n",
       "    .dataframe tbody tr th {\n",
       "        vertical-align: top;\n",
       "    }\n",
       "\n",
       "    .dataframe thead th {\n",
       "        text-align: right;\n",
       "    }\n",
       "</style>\n",
       "<table border=\"1\" class=\"dataframe\">\n",
       "  <thead>\n",
       "    <tr style=\"text-align: right;\">\n",
       "      <th></th>\n",
       "      <th>Hypothesis</th>\n",
       "      <th>Reach</th>\n",
       "      <th>Impact</th>\n",
       "      <th>Confidence</th>\n",
       "      <th>Efforts</th>\n",
       "      <th>ICE</th>\n",
       "      <th>RICE</th>\n",
       "    </tr>\n",
       "  </thead>\n",
       "  <tbody>\n",
       "    <tr>\n",
       "      <th>7</th>\n",
       "      <td>Добавить форму подписки на все основные страницы, чтобы собрать базу клиентов для email-рассылок</td>\n",
       "      <td>10</td>\n",
       "      <td>7</td>\n",
       "      <td>8</td>\n",
       "      <td>5</td>\n",
       "      <td>11.20</td>\n",
       "      <td>112.00</td>\n",
       "    </tr>\n",
       "    <tr>\n",
       "      <th>2</th>\n",
       "      <td>Добавить блоки рекомендаций товаров на сайт интернет магазина, чтобы повысить конверсию и средний чек заказа</td>\n",
       "      <td>8</td>\n",
       "      <td>3</td>\n",
       "      <td>7</td>\n",
       "      <td>3</td>\n",
       "      <td>7.00</td>\n",
       "      <td>56.00</td>\n",
       "    </tr>\n",
       "    <tr>\n",
       "      <th>0</th>\n",
       "      <td>Добавить два новых канала привлечения трафика, что позволит привлекать на 30% больше пользователей</td>\n",
       "      <td>3</td>\n",
       "      <td>10</td>\n",
       "      <td>8</td>\n",
       "      <td>6</td>\n",
       "      <td>13.33</td>\n",
       "      <td>40.00</td>\n",
       "    </tr>\n",
       "    <tr>\n",
       "      <th>6</th>\n",
       "      <td>Показать на главной странице баннеры с актуальными акциями и распродажами, чтобы увеличить конверсию</td>\n",
       "      <td>5</td>\n",
       "      <td>3</td>\n",
       "      <td>8</td>\n",
       "      <td>3</td>\n",
       "      <td>8.00</td>\n",
       "      <td>40.00</td>\n",
       "    </tr>\n",
       "    <tr>\n",
       "      <th>8</th>\n",
       "      <td>Запустить акцию, дающую скидку на товар в день рождения</td>\n",
       "      <td>1</td>\n",
       "      <td>9</td>\n",
       "      <td>9</td>\n",
       "      <td>5</td>\n",
       "      <td>16.20</td>\n",
       "      <td>16.20</td>\n",
       "    </tr>\n",
       "    <tr>\n",
       "      <th>3</th>\n",
       "      <td>Изменить структура категорий, что увеличит конверсию, т.к. пользователи быстрее найдут нужный товар</td>\n",
       "      <td>8</td>\n",
       "      <td>3</td>\n",
       "      <td>3</td>\n",
       "      <td>8</td>\n",
       "      <td>1.12</td>\n",
       "      <td>9.00</td>\n",
       "    </tr>\n",
       "    <tr>\n",
       "      <th>1</th>\n",
       "      <td>Запустить собственную службу доставки, что сократит срок доставки заказов</td>\n",
       "      <td>2</td>\n",
       "      <td>5</td>\n",
       "      <td>4</td>\n",
       "      <td>10</td>\n",
       "      <td>2.00</td>\n",
       "      <td>4.00</td>\n",
       "    </tr>\n",
       "    <tr>\n",
       "      <th>5</th>\n",
       "      <td>Добавить страницу отзывов клиентов о магазине, что позволит увеличить количество заказов</td>\n",
       "      <td>3</td>\n",
       "      <td>2</td>\n",
       "      <td>2</td>\n",
       "      <td>3</td>\n",
       "      <td>1.33</td>\n",
       "      <td>4.00</td>\n",
       "    </tr>\n",
       "    <tr>\n",
       "      <th>4</th>\n",
       "      <td>Изменить цвет фона главной страницы, чтобы увеличить вовлеченность пользователей</td>\n",
       "      <td>3</td>\n",
       "      <td>1</td>\n",
       "      <td>1</td>\n",
       "      <td>1</td>\n",
       "      <td>1.00</td>\n",
       "      <td>3.00</td>\n",
       "    </tr>\n",
       "  </tbody>\n",
       "</table>\n",
       "</div>"
      ],
      "text/plain": [
       "                                                                                                     Hypothesis  \\\n",
       "7              Добавить форму подписки на все основные страницы, чтобы собрать базу клиентов для email-рассылок   \n",
       "2  Добавить блоки рекомендаций товаров на сайт интернет магазина, чтобы повысить конверсию и средний чек заказа   \n",
       "0            Добавить два новых канала привлечения трафика, что позволит привлекать на 30% больше пользователей   \n",
       "6          Показать на главной странице баннеры с актуальными акциями и распродажами, чтобы увеличить конверсию   \n",
       "8                                                       Запустить акцию, дающую скидку на товар в день рождения   \n",
       "3           Изменить структура категорий, что увеличит конверсию, т.к. пользователи быстрее найдут нужный товар   \n",
       "1                                     Запустить собственную службу доставки, что сократит срок доставки заказов   \n",
       "5                      Добавить страницу отзывов клиентов о магазине, что позволит увеличить количество заказов   \n",
       "4                              Изменить цвет фона главной страницы, чтобы увеличить вовлеченность пользователей   \n",
       "\n",
       "   Reach  Impact  Confidence  Efforts    ICE    RICE  \n",
       "7     10       7           8        5  11.20  112.00  \n",
       "2      8       3           7        3   7.00   56.00  \n",
       "0      3      10           8        6  13.33   40.00  \n",
       "6      5       3           8        3   8.00   40.00  \n",
       "8      1       9           9        5  16.20   16.20  \n",
       "3      8       3           3        8   1.12    9.00  \n",
       "1      2       5           4       10   2.00    4.00  \n",
       "5      3       2           2        3   1.33    4.00  \n",
       "4      3       1           1        1   1.00    3.00  "
      ]
     },
     "execution_count": 10,
     "metadata": {},
     "output_type": "execute_result"
    }
   ],
   "source": [
    "hypos['RICE'] = (hypos['Reach'] * hypos['Impact'] * hypos['Confidence']) / hypos['Efforts']\n",
    "\n",
    "hypos.sort_values('RICE', ascending = False)"
   ]
  },
  {
   "cell_type": "markdown",
   "metadata": {},
   "source": [
    "Если следовать оценки по методу RICE, то в первую очередь следует оценить гипотезу с индексом 7, а затем 2, 0 и 6.\n",
    "\n",
    "Гипотезы с индексами 8, 3, 1, 5 и 4 не стоит проверять, так как у них слишком низкая оценка. <br>\n",
    "Такую оценку эти гипотезы получили из-за низкого охвата (в слачае 8 гипотезы) и из-за низкой уверенности (Confidence) в оценке по остальным параметрам (во всех остальных гипотезах)."
   ]
  },
  {
   "cell_type": "markdown",
   "metadata": {},
   "source": [
    "#### Выводы <a id=\"conclusion11\"></a>\n",
    "[К оглавлению](#оглавление)<br>\n",
    "\n",
    "При оценке по обоим методам стоит отказаться от проверки гипотез с индексами 1, 3, 4 и 5.\n",
    "\n",
    "Если следовать оценке RICE, то к этому списку добавляется гипотеза с индексом 8. <br>\n",
    "Это происходит потому, что, несмотря на высокие оценки по другим параметрам, гипотетическое изменение охватит очень мало пользователей (Reach = 1). <br>\n",
    "Оценка по методу ICE не учитывает этот параметр и поэтому ставит гипотезу с индексом 8 на первое место.\n",
    "\n",
    "При оценке по методу ICE следует в первую очередь проверять гипотезы 8, 0 и 7. \n",
    "\n",
    "При оценке по RICE: 7, 2, 0 и 6.\n",
    "\n",
    "Как видно, в RICE добавляются гипотезы 2 и 0 (и при этом снижается приоритет у гипотезы 0). <br>\n",
    "Это происходит из-за влияния параметра Reach: он понижает приоритет тех гипотез, у которых низкий охват.\n",
    "\n",
    "****"
   ]
  },
  {
   "cell_type": "markdown",
   "metadata": {},
   "source": [
    "## Шаг 2. Анализ A/B-теста <a id=\"Шаг_2\"></a>\n",
    "[К оглавлению](#оглавление)<br>\n",
    "\n",
    "Чек-лист чтобы ничего не забыть:\n",
    "- [x] Постройте график кумулятивной выручки по группам. Сделайте выводы и предположения.\n",
    "- [x] Постройте график кумулятивного среднего чека по группам. Сделайте выводы и предположения.\n",
    "- [x] Постройте график относительного изменения кумулятивного среднего чека группы B к группе A.Сделайте выводы и предположения.\n",
    "- [x] Постройте график кумулятивной конверсии по группам. Сделайте выводы и предположения.\n",
    "- [x] Постройте график относительного изменения кумулятивной конверсии группы B к группе A. Сделайте выводы и предположения.\n",
    "- [x] Постройте точечный график количества заказов по пользователям. Сделайте выводы и предположения.\n",
    "- [x] Посчитайте 95-й и 99-й перцентили количества заказов на пользователя. Выберите границу для определения аномальных пользователей.\n",
    "- [x] Постройте точечный график стоимостей заказов. Сделайте выводы и предположения.\n",
    "- [x] Посчитайте 95-й и 99-й перцентили стоимости заказов. Выберите границу для определения аномальных заказов.\n",
    "- [x] Посчитайте статистическую значимость различий в конверсии между группами по «сырым» данным. Сделайте выводы и предположения.\n",
    "- [x] Посчитайте статистическую значимость различий в среднем чеке заказа между группами по «сырым» данным. Сделайте выводы и предположения.\n",
    "- [x] Посчитайте статистическую значимость различий в конверсии между группами по «очищенным» данным. Сделайте выводы и предположения.\n",
    "- [x] Посчитайте статистическую значимость различий в среднем чеке заказа между группами по «очищенным» данным. Сделайте выводы и предположения."
   ]
  },
  {
   "cell_type": "markdown",
   "metadata": {},
   "source": [
    "Прежде, чем приступить к построению графиков и расчету статистик, нам нужно создать датафрейм, в котором соберем куммулятивные данные."
   ]
  },
  {
   "cell_type": "code",
   "execution_count": 11,
   "metadata": {
    "scrolled": false
   },
   "outputs": [
    {
     "data": {
      "text/html": [
       "<div>\n",
       "<style scoped>\n",
       "    .dataframe tbody tr th:only-of-type {\n",
       "        vertical-align: middle;\n",
       "    }\n",
       "\n",
       "    .dataframe tbody tr th {\n",
       "        vertical-align: top;\n",
       "    }\n",
       "\n",
       "    .dataframe thead th {\n",
       "        text-align: right;\n",
       "    }\n",
       "</style>\n",
       "<table border=\"1\" class=\"dataframe\">\n",
       "  <thead>\n",
       "    <tr style=\"text-align: right;\">\n",
       "      <th></th>\n",
       "      <th>date</th>\n",
       "      <th>group</th>\n",
       "    </tr>\n",
       "  </thead>\n",
       "  <tbody>\n",
       "    <tr>\n",
       "      <th>0</th>\n",
       "      <td>2019-08-15</td>\n",
       "      <td>B</td>\n",
       "    </tr>\n",
       "    <tr>\n",
       "      <th>7</th>\n",
       "      <td>2019-08-15</td>\n",
       "      <td>A</td>\n",
       "    </tr>\n",
       "    <tr>\n",
       "      <th>45</th>\n",
       "      <td>2019-08-16</td>\n",
       "      <td>A</td>\n",
       "    </tr>\n",
       "    <tr>\n",
       "      <th>47</th>\n",
       "      <td>2019-08-16</td>\n",
       "      <td>B</td>\n",
       "    </tr>\n",
       "    <tr>\n",
       "      <th>55</th>\n",
       "      <td>2019-08-01</td>\n",
       "      <td>A</td>\n",
       "    </tr>\n",
       "    <tr>\n",
       "      <th>...</th>\n",
       "      <td>...</td>\n",
       "      <td>...</td>\n",
       "    </tr>\n",
       "    <tr>\n",
       "      <th>1068</th>\n",
       "      <td>2019-08-12</td>\n",
       "      <td>A</td>\n",
       "    </tr>\n",
       "    <tr>\n",
       "      <th>1114</th>\n",
       "      <td>2019-08-13</td>\n",
       "      <td>B</td>\n",
       "    </tr>\n",
       "    <tr>\n",
       "      <th>1116</th>\n",
       "      <td>2019-08-13</td>\n",
       "      <td>A</td>\n",
       "    </tr>\n",
       "    <tr>\n",
       "      <th>1149</th>\n",
       "      <td>2019-08-14</td>\n",
       "      <td>B</td>\n",
       "    </tr>\n",
       "    <tr>\n",
       "      <th>1150</th>\n",
       "      <td>2019-08-14</td>\n",
       "      <td>A</td>\n",
       "    </tr>\n",
       "  </tbody>\n",
       "</table>\n",
       "<p>62 rows × 2 columns</p>\n",
       "</div>"
      ],
      "text/plain": [
       "           date group\n",
       "0    2019-08-15     B\n",
       "7    2019-08-15     A\n",
       "45   2019-08-16     A\n",
       "47   2019-08-16     B\n",
       "55   2019-08-01     A\n",
       "...         ...   ...\n",
       "1068 2019-08-12     A\n",
       "1114 2019-08-13     B\n",
       "1116 2019-08-13     A\n",
       "1149 2019-08-14     B\n",
       "1150 2019-08-14     A\n",
       "\n",
       "[62 rows x 2 columns]"
      ]
     },
     "execution_count": 11,
     "metadata": {},
     "output_type": "execute_result"
    }
   ],
   "source": [
    "# соберем все уникальные пары дат и групп теста\n",
    "#далее мы используем этот датафрейм, чтобы посчитать кол-во заказов, пользователей и общую выручку накопленные на каждый день\n",
    "\n",
    "datesGroups = orders[['date','group']].drop_duplicates() \n",
    "datesGroups"
   ]
  },
  {
   "cell_type": "markdown",
   "metadata": {},
   "source": [
    "Далее на каждую дату из полученной таблицы соберем куммулятивные данные о заказах. <br>\n",
    "Сделаем это так:\n",
    "1. Получим строки таблицы orders, которые меньше или равны дате из новой таблицы и в которых указана соотвествующая группа (А/B)\n",
    "2. Для каждого такого среза найдем общее кол-во заказов и посетителей, а также суммарную выручку, и припишем эти данные к максимальной дате в срезе (она совпадает с датой из таблицы datesGroups)\n",
    "3. Отсортируем результат по дате и группе\n",
    "\n",
    "В итоге мы получим такой датафрейм, в котором на каждый день будет указано количество пользователей, заказов и общая выручка, которые успели накопиться к этому дню."
   ]
  },
  {
   "cell_type": "code",
   "execution_count": 12,
   "metadata": {},
   "outputs": [
    {
     "data": {
      "text/html": [
       "<div>\n",
       "<style scoped>\n",
       "    .dataframe tbody tr th:only-of-type {\n",
       "        vertical-align: middle;\n",
       "    }\n",
       "\n",
       "    .dataframe tbody tr th {\n",
       "        vertical-align: top;\n",
       "    }\n",
       "\n",
       "    .dataframe thead th {\n",
       "        text-align: right;\n",
       "    }\n",
       "</style>\n",
       "<table border=\"1\" class=\"dataframe\">\n",
       "  <thead>\n",
       "    <tr style=\"text-align: right;\">\n",
       "      <th></th>\n",
       "      <th>date</th>\n",
       "      <th>group</th>\n",
       "      <th>transactionId</th>\n",
       "      <th>visitorId</th>\n",
       "      <th>revenue</th>\n",
       "    </tr>\n",
       "  </thead>\n",
       "  <tbody>\n",
       "    <tr>\n",
       "      <th>55</th>\n",
       "      <td>2019-08-01</td>\n",
       "      <td>A</td>\n",
       "      <td>21</td>\n",
       "      <td>18</td>\n",
       "      <td>126097</td>\n",
       "    </tr>\n",
       "    <tr>\n",
       "      <th>66</th>\n",
       "      <td>2019-08-01</td>\n",
       "      <td>B</td>\n",
       "      <td>19</td>\n",
       "      <td>18</td>\n",
       "      <td>82717</td>\n",
       "    </tr>\n",
       "    <tr>\n",
       "      <th>175</th>\n",
       "      <td>2019-08-02</td>\n",
       "      <td>A</td>\n",
       "      <td>37</td>\n",
       "      <td>33</td>\n",
       "      <td>174270</td>\n",
       "    </tr>\n",
       "    <tr>\n",
       "      <th>173</th>\n",
       "      <td>2019-08-02</td>\n",
       "      <td>B</td>\n",
       "      <td>40</td>\n",
       "      <td>39</td>\n",
       "      <td>239878</td>\n",
       "    </tr>\n",
       "    <tr>\n",
       "      <th>291</th>\n",
       "      <td>2019-08-03</td>\n",
       "      <td>A</td>\n",
       "      <td>61</td>\n",
       "      <td>57</td>\n",
       "      <td>286743</td>\n",
       "    </tr>\n",
       "  </tbody>\n",
       "</table>\n",
       "</div>"
      ],
      "text/plain": [
       "          date group  transactionId  visitorId  revenue\n",
       "55  2019-08-01     A             21         18   126097\n",
       "66  2019-08-01     B             19         18    82717\n",
       "175 2019-08-02     A             37         33   174270\n",
       "173 2019-08-02     B             40         39   239878\n",
       "291 2019-08-03     A             61         57   286743"
      ]
     },
     "execution_count": 12,
     "metadata": {},
     "output_type": "execute_result"
    }
   ],
   "source": [
    "ordersAggregated = (datesGroups\n",
    "                     # Получим строки таблицы orders, дата которых меньше или равна дате элемента из datesGroups,\n",
    "                     #а группа теста равна группе из datesGroups\n",
    "                     .apply(lambda x: orders[np.logical_and(orders['date'] <= x['date'], orders['group'] == x['group'])]\n",
    "                            # посчитаем нужные данные по полученному срезу\n",
    "                            .agg({'date' : 'max',\n",
    "                                  'group' : 'max',\n",
    "                                  'transactionId' : pd.Series.nunique,\n",
    "                                  'visitorId' : pd.Series.nunique,\n",
    "                                  'revenue' : 'sum'}),\n",
    "                            axis=1) # применим лямбда-функцию к каждой строке датафрейма\n",
    "                     .sort_values(by=['date','group']) # отсортируем таблицу\n",
    "                    )\n",
    "\n",
    "ordersAggregated.head()"
   ]
  },
  {
   "cell_type": "markdown",
   "metadata": {},
   "source": [
    "Получили нужную таблицу.\n",
    "\n",
    "Далее сделаем такую же, но по датафрейму с посетителями найдем суммарное кол-во посетителей в каждой группе на каждый день."
   ]
  },
  {
   "cell_type": "code",
   "execution_count": 13,
   "metadata": {
    "scrolled": true
   },
   "outputs": [
    {
     "data": {
      "text/html": [
       "<div>\n",
       "<style scoped>\n",
       "    .dataframe tbody tr th:only-of-type {\n",
       "        vertical-align: middle;\n",
       "    }\n",
       "\n",
       "    .dataframe tbody tr th {\n",
       "        vertical-align: top;\n",
       "    }\n",
       "\n",
       "    .dataframe thead th {\n",
       "        text-align: right;\n",
       "    }\n",
       "</style>\n",
       "<table border=\"1\" class=\"dataframe\">\n",
       "  <thead>\n",
       "    <tr style=\"text-align: right;\">\n",
       "      <th></th>\n",
       "      <th>date</th>\n",
       "      <th>group</th>\n",
       "      <th>visitors</th>\n",
       "    </tr>\n",
       "  </thead>\n",
       "  <tbody>\n",
       "    <tr>\n",
       "      <th>55</th>\n",
       "      <td>2019-08-01</td>\n",
       "      <td>A</td>\n",
       "      <td>719</td>\n",
       "    </tr>\n",
       "    <tr>\n",
       "      <th>66</th>\n",
       "      <td>2019-08-01</td>\n",
       "      <td>B</td>\n",
       "      <td>713</td>\n",
       "    </tr>\n",
       "    <tr>\n",
       "      <th>175</th>\n",
       "      <td>2019-08-02</td>\n",
       "      <td>A</td>\n",
       "      <td>1338</td>\n",
       "    </tr>\n",
       "    <tr>\n",
       "      <th>173</th>\n",
       "      <td>2019-08-02</td>\n",
       "      <td>B</td>\n",
       "      <td>1294</td>\n",
       "    </tr>\n",
       "    <tr>\n",
       "      <th>291</th>\n",
       "      <td>2019-08-03</td>\n",
       "      <td>A</td>\n",
       "      <td>1845</td>\n",
       "    </tr>\n",
       "  </tbody>\n",
       "</table>\n",
       "</div>"
      ],
      "text/plain": [
       "          date group  visitors\n",
       "55  2019-08-01     A       719\n",
       "66  2019-08-01     B       713\n",
       "175 2019-08-02     A      1338\n",
       "173 2019-08-02     B      1294\n",
       "291 2019-08-03     A      1845"
      ]
     },
     "execution_count": 13,
     "metadata": {},
     "output_type": "execute_result"
    }
   ],
   "source": [
    "visitorsAggregated = (datesGroups\n",
    "                      .apply(lambda x: visitors[np.logical_and(visitors['date'] <= x['date'], visitors['group'] == x['group'])]\n",
    "                             .agg({'date' : 'max',\n",
    "                                   'group' : 'max',\n",
    "                                   'visitors' : 'sum'}),\n",
    "                             axis=1)\n",
    "                      .sort_values(by=['date','group']))\n",
    "\n",
    "visitorsAggregated.head()"
   ]
  },
  {
   "cell_type": "markdown",
   "metadata": {},
   "source": [
    "Далее объединим обе таблицы в одну, посчитаем конверсию и сделаем срезы для разных групп."
   ]
  },
  {
   "cell_type": "code",
   "execution_count": 14,
   "metadata": {},
   "outputs": [
    {
     "data": {
      "text/html": [
       "<div>\n",
       "<style scoped>\n",
       "    .dataframe tbody tr th:only-of-type {\n",
       "        vertical-align: middle;\n",
       "    }\n",
       "\n",
       "    .dataframe tbody tr th {\n",
       "        vertical-align: top;\n",
       "    }\n",
       "\n",
       "    .dataframe thead th {\n",
       "        text-align: right;\n",
       "    }\n",
       "</style>\n",
       "<table border=\"1\" class=\"dataframe\">\n",
       "  <thead>\n",
       "    <tr style=\"text-align: right;\">\n",
       "      <th></th>\n",
       "      <th>date</th>\n",
       "      <th>group</th>\n",
       "      <th>orders</th>\n",
       "      <th>buyers</th>\n",
       "      <th>revenue</th>\n",
       "      <th>visitors</th>\n",
       "      <th>conversion</th>\n",
       "    </tr>\n",
       "  </thead>\n",
       "  <tbody>\n",
       "    <tr>\n",
       "      <th>0</th>\n",
       "      <td>2019-08-01</td>\n",
       "      <td>A</td>\n",
       "      <td>21</td>\n",
       "      <td>18</td>\n",
       "      <td>126097</td>\n",
       "      <td>719</td>\n",
       "      <td>0.03</td>\n",
       "    </tr>\n",
       "    <tr>\n",
       "      <th>1</th>\n",
       "      <td>2019-08-01</td>\n",
       "      <td>B</td>\n",
       "      <td>19</td>\n",
       "      <td>18</td>\n",
       "      <td>82717</td>\n",
       "      <td>713</td>\n",
       "      <td>0.03</td>\n",
       "    </tr>\n",
       "    <tr>\n",
       "      <th>2</th>\n",
       "      <td>2019-08-02</td>\n",
       "      <td>A</td>\n",
       "      <td>37</td>\n",
       "      <td>33</td>\n",
       "      <td>174270</td>\n",
       "      <td>1338</td>\n",
       "      <td>0.03</td>\n",
       "    </tr>\n",
       "    <tr>\n",
       "      <th>3</th>\n",
       "      <td>2019-08-02</td>\n",
       "      <td>B</td>\n",
       "      <td>40</td>\n",
       "      <td>39</td>\n",
       "      <td>239878</td>\n",
       "      <td>1294</td>\n",
       "      <td>0.03</td>\n",
       "    </tr>\n",
       "    <tr>\n",
       "      <th>4</th>\n",
       "      <td>2019-08-03</td>\n",
       "      <td>A</td>\n",
       "      <td>61</td>\n",
       "      <td>57</td>\n",
       "      <td>286743</td>\n",
       "      <td>1845</td>\n",
       "      <td>0.03</td>\n",
       "    </tr>\n",
       "  </tbody>\n",
       "</table>\n",
       "</div>"
      ],
      "text/plain": [
       "        date group  orders  buyers  revenue  visitors  conversion\n",
       "0 2019-08-01     A      21      18   126097       719        0.03\n",
       "1 2019-08-01     B      19      18    82717       713        0.03\n",
       "2 2019-08-02     A      37      33   174270      1338        0.03\n",
       "3 2019-08-02     B      40      39   239878      1294        0.03\n",
       "4 2019-08-03     A      61      57   286743      1845        0.03"
      ]
     },
     "execution_count": 14,
     "metadata": {},
     "output_type": "execute_result"
    }
   ],
   "source": [
    "cumulativeData = ordersAggregated.merge(visitorsAggregated, left_on=['date', 'group'], right_on=['date', 'group'])\n",
    "cumulativeData.columns = ['date', 'group', 'orders', 'buyers', 'revenue', 'visitors']\n",
    "\n",
    "# посчитаем конверсию сайта (из посещения в покупку)\n",
    "cumulativeData['conversion'] = cumulativeData['orders']/cumulativeData['visitors']\n",
    "\n",
    "# отделяем данные по группе A\n",
    "cumulativeDataA = cumulativeData.query('group == \"A\"')\n",
    "\n",
    "# отделяем данные по группе B\n",
    "cumulativeDataB = cumulativeData.query('group == \"B\"')\n",
    "\n",
    "cumulativeData.head()"
   ]
  },
  {
   "cell_type": "markdown",
   "metadata": {},
   "source": [
    "Таблица готова. Можно строить нужные графики и делать выводы."
   ]
  },
  {
   "cell_type": "markdown",
   "metadata": {},
   "source": [
    "### 2.1 Куммулятивная выручка по группам <a id=\"Шаг_21\"></a>\n",
    "[К оглавлению](#оглавление)<br>"
   ]
  },
  {
   "cell_type": "code",
   "execution_count": 15,
   "metadata": {},
   "outputs": [
    {
     "data": {
      "text/html": [
       "<div>\n",
       "<style scoped>\n",
       "    .dataframe tbody tr th:only-of-type {\n",
       "        vertical-align: middle;\n",
       "    }\n",
       "\n",
       "    .dataframe tbody tr th {\n",
       "        vertical-align: top;\n",
       "    }\n",
       "\n",
       "    .dataframe thead th {\n",
       "        text-align: right;\n",
       "    }\n",
       "</style>\n",
       "<table border=\"1\" class=\"dataframe\">\n",
       "  <thead>\n",
       "    <tr style=\"text-align: right;\">\n",
       "      <th></th>\n",
       "      <th>date</th>\n",
       "      <th>revenue</th>\n",
       "      <th>orders</th>\n",
       "    </tr>\n",
       "  </thead>\n",
       "  <tbody>\n",
       "    <tr>\n",
       "      <th>0</th>\n",
       "      <td>2019-08-01</td>\n",
       "      <td>126097</td>\n",
       "      <td>21</td>\n",
       "    </tr>\n",
       "    <tr>\n",
       "      <th>2</th>\n",
       "      <td>2019-08-02</td>\n",
       "      <td>174270</td>\n",
       "      <td>37</td>\n",
       "    </tr>\n",
       "    <tr>\n",
       "      <th>4</th>\n",
       "      <td>2019-08-03</td>\n",
       "      <td>286743</td>\n",
       "      <td>61</td>\n",
       "    </tr>\n",
       "    <tr>\n",
       "      <th>6</th>\n",
       "      <td>2019-08-04</td>\n",
       "      <td>357458</td>\n",
       "      <td>76</td>\n",
       "    </tr>\n",
       "    <tr>\n",
       "      <th>8</th>\n",
       "      <td>2019-08-05</td>\n",
       "      <td>451546</td>\n",
       "      <td>97</td>\n",
       "    </tr>\n",
       "  </tbody>\n",
       "</table>\n",
       "</div>"
      ],
      "text/plain": [
       "        date  revenue  orders\n",
       "0 2019-08-01   126097      21\n",
       "2 2019-08-02   174270      37\n",
       "4 2019-08-03   286743      61\n",
       "6 2019-08-04   357458      76\n",
       "8 2019-08-05   451546      97"
      ]
     },
     "execution_count": 15,
     "metadata": {},
     "output_type": "execute_result"
    }
   ],
   "source": [
    "# создаем датафрейм с кумулятивным количеством заказов и кумулятивной выручкой по дням в группе А\n",
    "cumulativeRevenueA = cumulativeData.query('group == \"A\"')[['date','revenue', 'orders']]\n",
    "\n",
    "# создаем датафрейм с кумулятивным количеством заказов и кумулятивной выручкой по дням в группе B\n",
    "cumulativeRevenueB = cumulativeData.query('group == \"B\"')[['date','revenue', 'orders']]\n",
    "\n",
    "cumulativeRevenueA.head()"
   ]
  },
  {
   "cell_type": "code",
   "execution_count": 16,
   "metadata": {},
   "outputs": [
    {
     "data": {
      "image/png": "[encoded data removed]",
      "text/plain": [
       "<Figure size 1152x288 with 1 Axes>"
      ]
     },
     "metadata": {},
     "output_type": "display_data"
    }
   ],
   "source": [
    "#визуализируем\n",
    "\n",
    "plt.figure(figsize=(16, 4))\n",
    "\n",
    "# Строим график выручки группы А\n",
    "plt.plot(cumulativeRevenueA['date'], cumulativeRevenueA['revenue'], label='A')\n",
    "\n",
    "# Строим график выручки группы B\n",
    "plt.plot(cumulativeRevenueB['date'], cumulativeRevenueB['revenue'], label='B')\n",
    "\n",
    "plt.legend()\n",
    "plt.title(\"\\n\" + 'Различие куммулятивной выручки в группах А и В' + \"\\n\")\n",
    "plt.ylabel(\"\\n\" + 'размер накопленной выручки' + \"\\n\")\n",
    "plt.xlabel(\"\\n\" + \"день\" + \"\\n\")\n",
    "plt.show()"
   ]
  },
  {
   "cell_type": "markdown",
   "metadata": {},
   "source": [
    "Куммулятивная выручка в группе В, чаще всего была больше, чем в группе А.\n",
    "\n",
    "Однако график группы В в одной точке сильно растет, что говорит о появлении дорогих заказов в середине августа. <br>\n",
    "Из-за этого в следующие две недели выручка была значительно выше."
   ]
  },
  {
   "cell_type": "markdown",
   "metadata": {},
   "source": [
    "### 2.2 Куммулятивный средний чек по группам <a id=\"Шаг_22\"></a>\n",
    "[К оглавлению](#оглавление)<br>"
   ]
  },
  {
   "cell_type": "code",
   "execution_count": 17,
   "metadata": {},
   "outputs": [
    {
     "data": {
      "image/png": "[encoded data removed]",
      "text/plain": [
       "<Figure size 1152x288 with 1 Axes>"
      ]
     },
     "metadata": {},
     "output_type": "display_data"
    }
   ],
   "source": [
    "plt.figure(figsize=(16, 4))\n",
    "\n",
    "plt.plot(cumulativeRevenueA['date'], cumulativeRevenueA['revenue']/cumulativeRevenueA['orders'], label='A')\n",
    "plt.plot(cumulativeRevenueB['date'], cumulativeRevenueB['revenue']/cumulativeRevenueB['orders'], label='B')\n",
    "\n",
    "plt.legend() \n",
    "plt.title(\"\\n\" + 'Различие среднего чека в группах А и В' + \"\\n\")\n",
    "plt.ylabel(\"\\n\" + 'размер среднего чека' + \"\\n\")\n",
    "plt.xlabel(\"\\n\" + \"день\" + \"\\n\")\n",
    "plt.show()"
   ]
  },
  {
   "cell_type": "markdown",
   "metadata": {},
   "source": [
    "Из-за дорогих заказов в середине августа средний чек в группе В стал значительно выше, чем в группе А. <br>\n",
    "Но затем размер среднего чека постепенно начал снижаться.\n",
    "\n",
    "Пока непонятно, каким будет различие средних чеков, когда график группы В стабилизируется."
   ]
  },
  {
   "cell_type": "markdown",
   "metadata": {},
   "source": [
    "#### 2.2.1 Относительное изменение кумулятивного среднего чека группы B к группе A"
   ]
  },
  {
   "cell_type": "code",
   "execution_count": 18,
   "metadata": {},
   "outputs": [
    {
     "data": {
      "image/png": "[encoded data removed]",
      "text/plain": [
       "<Figure size 1152x288 with 1 Axes>"
      ]
     },
     "metadata": {},
     "output_type": "display_data"
    }
   ],
   "source": [
    "# собираем данные о куммулятивной выручки в группах в одном датафрейме\n",
    "mergedCumulativeRevenue = cumulativeRevenueA.merge(cumulativeRevenueB,\n",
    "                                                   on='date',\n",
    "                                                   how='left',\n",
    "                                                   suffixes=['A', 'B'])\n",
    "\n",
    "\n",
    "# визуализируем относительную разицу средних чеко в группах\n",
    "\n",
    "# зададим размер графика\n",
    "plt.figure(figsize=(16, 4))\n",
    "\n",
    "# cтроим график отношения средних чеков\n",
    "plt.plot(mergedCumulativeRevenue['date'],\n",
    "         (mergedCumulativeRevenue['revenueB']/mergedCumulativeRevenue['ordersB'])\n",
    "         /(mergedCumulativeRevenue['revenueA']/mergedCumulativeRevenue['ordersA'])-1)\n",
    "\n",
    "# добавляем ось X\n",
    "plt.axhline(y=0, color='black', linestyle='--') \n",
    "\n",
    "# добавим описание графика\n",
    "plt.title(\"\\n\" + 'Относительная разница среднего чека группы В к группе А' + \"\\n\")\n",
    "plt.ylabel(\"\\n\" + 'различие в %' + \"\\n\")\n",
    "plt.xlabel(\"\\n\" + \"день\" + \"\\n\")\n",
    "plt.show()"
   ]
  },
  {
   "cell_type": "markdown",
   "metadata": {},
   "source": [
    "Относительная разница среднего чека была нестабильной на протяжении всего теста.\n",
    "\n",
    "Из-за дорогих заказов в середине августа она сильно выросла и потом начала постепенно снижаться.\n",
    "\n",
    "Пока график не стабилизировался делать выводы еще рано."
   ]
  },
  {
   "cell_type": "markdown",
   "metadata": {},
   "source": [
    "### 2.3 Куммулятивная конверсия по группам <a id=\"Шаг_23\"></a>\n",
    "[К оглавлению](#оглавление)<br>"
   ]
  },
  {
   "cell_type": "code",
   "execution_count": 19,
   "metadata": {},
   "outputs": [
    {
     "data": {
      "image/png": "[encoded data removed]",
      "text/plain": [
       "<Figure size 1152x288 with 1 Axes>"
      ]
     },
     "metadata": {},
     "output_type": "display_data"
    }
   ],
   "source": [
    "# зададим размер графика\n",
    "plt.figure(figsize=(16, 4))\n",
    "\n",
    "# строим графики\n",
    "plt.plot(cumulativeDataA['date'], cumulativeDataA['conversion'], label='A')\n",
    "plt.plot(cumulativeDataB['date'], cumulativeDataB['conversion'], label='B')\n",
    "plt.axis([\"2019-08-01\", '2019-08-31', 0.02, 0.04])\n",
    "\n",
    "# сопроводителя инфа к графику\n",
    "plt.legend()\n",
    "plt.title(\"\\n\" + 'Конверсия в группах А и В' + \"\\n\")\n",
    "plt.ylabel(\"\\n\" + 'конверсия %' + \"\\n\")\n",
    "plt.xlabel(\"\\n\" + \"день\" + \"\\n\")\n",
    "plt.show()"
   ]
  },
  {
   "cell_type": "markdown",
   "metadata": {},
   "source": [
    "Оба графика стабилизировались на вторую неделю августа.\n",
    "\n",
    "В группе В конверсия выше, чем в группе А."
   ]
  },
  {
   "cell_type": "markdown",
   "metadata": {},
   "source": [
    "#### 2.3.1 Относительное изменение кумулятивной конверсии группы B к группе A"
   ]
  },
  {
   "cell_type": "code",
   "execution_count": 20,
   "metadata": {},
   "outputs": [
    {
     "data": {
      "image/png": "[encoded data removed]",
      "text/plain": [
       "<Figure size 1152x288 with 1 Axes>"
      ]
     },
     "metadata": {},
     "output_type": "display_data"
    }
   ],
   "source": [
    "# соединим таблицы группы А и В, чтобы посчитать отношение конверсии группы В к группе А\n",
    "mergedCumulativeConversions = (cumulativeDataA[['date','conversion']]\n",
    "                               .merge(cumulativeDataB[['date','conversion']],\n",
    "                                      left_on='date',\n",
    "                                      right_on='date',\n",
    "                                      how='left',\n",
    "                                      suffixes=['A', 'B'])\n",
    "                              )\n",
    "# считаем отношение конверсии\n",
    "mergedCumulativeConversions['convs_relation'] = (mergedCumulativeConversions['conversionB']\n",
    "                                                 / mergedCumulativeConversions['conversionA']-1)\n",
    "\n",
    "# зададим размер графика\n",
    "plt.figure(figsize=(16, 4))\n",
    "\n",
    "# построим график\n",
    "plt.plot(mergedCumulativeConversions['date'], mergedCumulativeConversions['convs_relation'])\n",
    "plt.axis([\"2019-08-01\", '2019-08-31', -0.25, 0.25])\n",
    "plt.axhline(y=0, color='black', linestyle='--')\n",
    "\n",
    "# добавим инфы\n",
    "plt.title(\"\\n\" + 'Относительный прирост конверсии группы B относительно группы A' + \"\\n\")\n",
    "plt.ylabel(\"\\n\" + 'относительная разница в %' + \"\\n\")\n",
    "plt.xlabel(\"\\n\" + \"день\" + \"\\n\")\n",
    "plt.show()"
   ]
  },
  {
   "cell_type": "markdown",
   "metadata": {},
   "source": [
    "Здесь также видно, что с 9 августа относительная разница колебалась в промежутка от 1 до 2%."
   ]
  },
  {
   "cell_type": "markdown",
   "metadata": {},
   "source": [
    "### 2.4 Количество заказов по пользователям <a id=\"Шаг_24\"></a>\n",
    "[К оглавлению](#оглавление)<br>"
   ]
  },
  {
   "cell_type": "code",
   "execution_count": 21,
   "metadata": {},
   "outputs": [
    {
     "data": {
      "text/html": [
       "<div>\n",
       "<style scoped>\n",
       "    .dataframe tbody tr th:only-of-type {\n",
       "        vertical-align: middle;\n",
       "    }\n",
       "\n",
       "    .dataframe tbody tr th {\n",
       "        vertical-align: top;\n",
       "    }\n",
       "\n",
       "    .dataframe thead th {\n",
       "        text-align: right;\n",
       "    }\n",
       "</style>\n",
       "<table border=\"1\" class=\"dataframe\">\n",
       "  <thead>\n",
       "    <tr style=\"text-align: right;\">\n",
       "      <th></th>\n",
       "      <th>userId</th>\n",
       "      <th>orders</th>\n",
       "    </tr>\n",
       "  </thead>\n",
       "  <tbody>\n",
       "    <tr>\n",
       "      <th>960</th>\n",
       "      <td>4256040402</td>\n",
       "      <td>11</td>\n",
       "    </tr>\n",
       "    <tr>\n",
       "      <th>561</th>\n",
       "      <td>2458001652</td>\n",
       "      <td>11</td>\n",
       "    </tr>\n",
       "    <tr>\n",
       "      <th>540</th>\n",
       "      <td>2378935119</td>\n",
       "      <td>9</td>\n",
       "    </tr>\n",
       "    <tr>\n",
       "      <th>462</th>\n",
       "      <td>2038680547</td>\n",
       "      <td>8</td>\n",
       "    </tr>\n",
       "    <tr>\n",
       "      <th>846</th>\n",
       "      <td>3717692402</td>\n",
       "      <td>5</td>\n",
       "    </tr>\n",
       "  </tbody>\n",
       "</table>\n",
       "</div>"
      ],
      "text/plain": [
       "         userId  orders\n",
       "960  4256040402      11\n",
       "561  2458001652      11\n",
       "540  2378935119       9\n",
       "462  2038680547       8\n",
       "846  3717692402       5"
      ]
     },
     "execution_count": 21,
     "metadata": {},
     "output_type": "execute_result"
    }
   ],
   "source": [
    "# сгруппируем таблицу orders по пользователям и найдем кол-во заказов на каждого пользователя\n",
    "ordersByUsers = orders.groupby('visitorId', as_index=False).agg({'transactionId': 'nunique'})\n",
    "\n",
    "# переименуем столбцы\n",
    "ordersByUsers.columns = ['userId','orders']\n",
    "\n",
    "ordersByUsers.sort_values(by='orders',ascending=False).head()"
   ]
  },
  {
   "cell_type": "code",
   "execution_count": 22,
   "metadata": {},
   "outputs": [
    {
     "data": {
      "image/png": "[encoded data removed]",
      "text/plain": [
       "<Figure size 576x396 with 1 Axes>"
      ]
     },
     "metadata": {},
     "output_type": "display_data"
    },
    {
     "name": "stdout",
     "output_type": "stream",
     "text": [
      "\n",
      "95% пользователей совершают не более 1.0 заказов\n",
      "\n",
      "99% пользователей совершают не более 4.0 заказов\n"
     ]
    }
   ],
   "source": [
    "# построим график\n",
    "\n",
    "# для оси Х создадим переменную - серию из чисел от 0 до количества наблюдений в ordersByUsers\n",
    "x_values = pd.Series(range(0,len(ordersByUsers)))\n",
    "\n",
    "# визуализируем кол-во заказов по пользователям на точечном графике\n",
    "plt.scatter(x_values, ordersByUsers['orders'])\n",
    "\n",
    "plt.title(\"\\n\" + 'Число заказов на одного пользователя' + \"\\n\")\n",
    "plt.ylabel(\"\\n\" + 'число заказов' + \"\\n\")\n",
    "plt.show()\n",
    "\n",
    "# 95 и 99 перцентили (метод квантилей работает также, как и перцентилей)\n",
    "print(\"\\n\" + '95% пользователей совершают не более', round(ordersByUsers.orders.quantile(.95)), 'заказов')\n",
    "print(\"\\n\" + '99% пользователей совершают не более', round(ordersByUsers.orders.quantile(.99)), 'заказов')"
   ]
  },
  {
   "cell_type": "markdown",
   "metadata": {},
   "source": [
    "За верхнюю границу будем считать 4 заказа на человека.\n",
    "\n",
    "Столько заказов совершают 99% всех пользователей."
   ]
  },
  {
   "cell_type": "markdown",
   "metadata": {},
   "source": [
    "### 2.5 Стоимость заказов <a id=\"Шаг_25\"></a>\n",
    "[К оглавлению](#оглавление)<br>"
   ]
  },
  {
   "cell_type": "code",
   "execution_count": 23,
   "metadata": {
    "scrolled": false
   },
   "outputs": [
    {
     "data": {
      "image/png": "[encoded data removed]",
      "text/plain": [
       "<Figure size 576x396 with 1 Axes>"
      ]
     },
     "metadata": {},
     "output_type": "display_data"
    },
    {
     "name": "stdout",
     "output_type": "stream",
     "text": [
      "\n",
      "Не более 95% заказов стоят дороже, чем 27831.0\n",
      "\n",
      "Не более 99% заказов стоят дороже, чем 57152.0\n"
     ]
    }
   ],
   "source": [
    "x_values = pd.Series(range(0,len(orders['revenue'])))\n",
    "\n",
    "plt.scatter(x_values, orders['revenue'])\n",
    "\n",
    "plt.title(\"\\n\" + 'Распределение стоимостей заказов' + \"\\n\")\n",
    "plt.ylabel(\"\\n\" + 'стоимость заказа' + \"\\n\")\n",
    "plt.show()\n",
    "\n",
    "# 95 и 99 перцентили (метод квантилей работает также, как и перцентилей)\n",
    "print(\"\\n\" + 'Не более 95% заказов стоят дороже, чем', round(orders.revenue.quantile(.95)))\n",
    "print(\"\\n\" + 'Не более 99% заказов стоят дороже, чем', round(orders.revenue.quantile(.99)))"
   ]
  },
  {
   "cell_type": "markdown",
   "metadata": {},
   "source": [
    "Разница между процентилями слишком большая: 4% совершают заказы до 58 тысяч.\n",
    "\n",
    "За верхнюю границу установим значение в 30 000."
   ]
  },
  {
   "cell_type": "markdown",
   "metadata": {},
   "source": [
    "### 2.6 Различие конверсии в группах <a id=\"Шаг_26\"></a>\n",
    "[К оглавлению](#оглавление)<br>"
   ]
  },
  {
   "cell_type": "markdown",
   "metadata": {},
   "source": [
    "Для начала нам понадобится очень большая таблица, в которой для каждой группы будет указано:\n",
    "1. кол-во заказов за день\n",
    "2. выручка за день\n",
    "3. куммулятивное кол-во заказов на день\n",
    "4. куммулятивная выручка на день\n",
    "5. кол-во посетителей из группы в день\n",
    "6. куммулятивное кол-во посетителей из группы на день"
   ]
  },
  {
   "cell_type": "code",
   "execution_count": 24,
   "metadata": {},
   "outputs": [
    {
     "data": {
      "text/html": [
       "<div>\n",
       "<style scoped>\n",
       "    .dataframe tbody tr th:only-of-type {\n",
       "        vertical-align: middle;\n",
       "    }\n",
       "\n",
       "    .dataframe tbody tr th {\n",
       "        vertical-align: top;\n",
       "    }\n",
       "\n",
       "    .dataframe thead th {\n",
       "        text-align: right;\n",
       "    }\n",
       "</style>\n",
       "<table border=\"1\" class=\"dataframe\">\n",
       "  <thead>\n",
       "    <tr style=\"text-align: right;\">\n",
       "      <th></th>\n",
       "      <th>date</th>\n",
       "      <th>visitorsPerDateA</th>\n",
       "    </tr>\n",
       "  </thead>\n",
       "  <tbody>\n",
       "    <tr>\n",
       "      <th>0</th>\n",
       "      <td>2019-08-01</td>\n",
       "      <td>719</td>\n",
       "    </tr>\n",
       "    <tr>\n",
       "      <th>1</th>\n",
       "      <td>2019-08-02</td>\n",
       "      <td>619</td>\n",
       "    </tr>\n",
       "    <tr>\n",
       "      <th>2</th>\n",
       "      <td>2019-08-03</td>\n",
       "      <td>507</td>\n",
       "    </tr>\n",
       "    <tr>\n",
       "      <th>3</th>\n",
       "      <td>2019-08-04</td>\n",
       "      <td>717</td>\n",
       "    </tr>\n",
       "    <tr>\n",
       "      <th>4</th>\n",
       "      <td>2019-08-05</td>\n",
       "      <td>756</td>\n",
       "    </tr>\n",
       "  </tbody>\n",
       "</table>\n",
       "</div>"
      ],
      "text/plain": [
       "        date  visitorsPerDateA\n",
       "0 2019-08-01               719\n",
       "1 2019-08-02               619\n",
       "2 2019-08-03               507\n",
       "3 2019-08-04               717\n",
       "4 2019-08-05               756"
      ]
     },
     "execution_count": 24,
     "metadata": {},
     "output_type": "execute_result"
    }
   ],
   "source": [
    "# найдем кол-во заказов в день в группе А\n",
    "visitorsADaily = visitors.query('group == \"A\"')[['date', 'visitors']]\n",
    "visitorsADaily.columns = ['date', 'visitorsPerDateA']\n",
    "visitorsADaily.head()"
   ]
  },
  {
   "cell_type": "code",
   "execution_count": 25,
   "metadata": {},
   "outputs": [
    {
     "data": {
      "text/html": [
       "<div>\n",
       "<style scoped>\n",
       "    .dataframe tbody tr th:only-of-type {\n",
       "        vertical-align: middle;\n",
       "    }\n",
       "\n",
       "    .dataframe tbody tr th {\n",
       "        vertical-align: top;\n",
       "    }\n",
       "\n",
       "    .dataframe thead th {\n",
       "        text-align: right;\n",
       "    }\n",
       "</style>\n",
       "<table border=\"1\" class=\"dataframe\">\n",
       "  <thead>\n",
       "    <tr style=\"text-align: right;\">\n",
       "      <th></th>\n",
       "      <th>date</th>\n",
       "      <th>visitorsCummulativeA</th>\n",
       "    </tr>\n",
       "  </thead>\n",
       "  <tbody>\n",
       "    <tr>\n",
       "      <th>0</th>\n",
       "      <td>2019-08-01</td>\n",
       "      <td>719</td>\n",
       "    </tr>\n",
       "    <tr>\n",
       "      <th>1</th>\n",
       "      <td>2019-08-02</td>\n",
       "      <td>1338</td>\n",
       "    </tr>\n",
       "    <tr>\n",
       "      <th>2</th>\n",
       "      <td>2019-08-03</td>\n",
       "      <td>1845</td>\n",
       "    </tr>\n",
       "    <tr>\n",
       "      <th>3</th>\n",
       "      <td>2019-08-04</td>\n",
       "      <td>2562</td>\n",
       "    </tr>\n",
       "    <tr>\n",
       "      <th>4</th>\n",
       "      <td>2019-08-05</td>\n",
       "      <td>3318</td>\n",
       "    </tr>\n",
       "  </tbody>\n",
       "</table>\n",
       "</div>"
      ],
      "text/plain": [
       "        date  visitorsCummulativeA\n",
       "0 2019-08-01                   719\n",
       "1 2019-08-02                  1338\n",
       "2 2019-08-03                  1845\n",
       "3 2019-08-04                  2562\n",
       "4 2019-08-05                  3318"
      ]
     },
     "execution_count": 25,
     "metadata": {},
     "output_type": "execute_result"
    }
   ],
   "source": [
    "# найдем коммулятивное кол-во посетителей на каждый день в группе А\n",
    "visitorsACummulative = (visitorsADaily\n",
    "                        .apply(lambda x: visitorsADaily[visitorsADaily['date'] <= x['date']]\n",
    "                               .agg({'date' : 'max',\n",
    "                                     'visitorsPerDateA':'sum'}),\n",
    "                               axis=1)\n",
    "                       )\n",
    "                        \n",
    "visitorsACummulative.columns = ['date', 'visitorsCummulativeA']\n",
    "\n",
    "visitorsACummulative.head()"
   ]
  },
  {
   "cell_type": "code",
   "execution_count": 26,
   "metadata": {},
   "outputs": [],
   "source": [
    "# то же самое повторим для группы В\n",
    "\n",
    "visitorsBDaily = visitors.query('group == \"B\"')[['date', 'visitors']]\n",
    "visitorsBDaily.columns = ['date', 'visitorsPerDateB']\n",
    "\n",
    "visitorsBCummulative = (visitorsBDaily\n",
    "                        .apply(lambda x: visitorsBDaily[visitorsBDaily['date'] <= x['date']]\n",
    "                               .agg({'date' : 'max',\n",
    "                                     'visitorsPerDateB':'sum'}),\n",
    "                               axis=1)\n",
    "                       )\n",
    "                        \n",
    "visitorsBCummulative.columns = ['date', 'visitorsBCummulative']"
   ]
  },
  {
   "cell_type": "code",
   "execution_count": 27,
   "metadata": {},
   "outputs": [],
   "source": [
    "# то же самое сделаем для заказов в обоих группах:\n",
    "# найдем кол-во заказов за каждый день и куммулятивное кол-во на каждый день\n",
    "\n",
    "# для группы А\n",
    "\n",
    "# кол-во заказов в день\n",
    "ordersADaily = (orders\n",
    "                .query('group == \"A\"')[['date', 'transactionId', 'visitorId', 'revenue']]\n",
    "                .groupby('date', as_index=False)\n",
    "                .agg({'transactionId' : pd.Series.nunique,\n",
    "                      'revenue' : 'sum'})\n",
    "               )\n",
    "ordersADaily.columns = ['date', 'ordersPerDateA', 'revenuePerDateA']\n",
    "\n",
    "# куммулятивное кол-во заказов на день\n",
    "ordersACummulative = (ordersADaily\n",
    "                      .apply(lambda x: ordersADaily[ordersADaily['date'] <= x['date']]\n",
    "                             .agg({'date' : 'max',\n",
    "                                   'ordersPerDateA' : 'sum',\n",
    "                                   'revenuePerDateA' : 'sum'}),\n",
    "                             axis=1)\n",
    "                      .sort_values(by=['date'])\n",
    "                     )\n",
    "ordersACummulative.columns = ['date', 'ordersCummulativeA', 'revenueCummulativeA']\n",
    "\n",
    "# для группы В\n",
    "\n",
    "# кол-во заказов в день\n",
    "ordersBDaily = (orders\n",
    "                .query('group == \"B\"')[['date', 'transactionId', 'visitorId', 'revenue']]\n",
    "                .groupby('date', as_index=False)\n",
    "                .agg({'transactionId' : pd.Series.nunique,\n",
    "                      'revenue' : 'sum'})\n",
    "               )\n",
    "ordersBDaily.columns = ['date', 'ordersPerDateB', 'revenuePerDateB']\n",
    "\n",
    "# куммулятивное кол-во заказов на день\n",
    "ordersBCummulative = (ordersBDaily\n",
    "                      .apply(lambda x: ordersBDaily[ordersBDaily['date'] <= x['date']]\n",
    "                             .agg({'date' : 'max',\n",
    "                                   'ordersPerDateB' : 'sum',\n",
    "                                   'revenuePerDateB' : 'sum'}),\n",
    "                             axis=1)\n",
    "                      .sort_values(by=['date'])\n",
    "                     )\n",
    "ordersBCummulative.columns = ['date', 'ordersCummulativeB', 'revenueCummulativeB']"
   ]
  },
  {
   "cell_type": "code",
   "execution_count": 28,
   "metadata": {},
   "outputs": [
    {
     "data": {
      "text/html": [
       "<div>\n",
       "<style scoped>\n",
       "    .dataframe tbody tr th:only-of-type {\n",
       "        vertical-align: middle;\n",
       "    }\n",
       "\n",
       "    .dataframe tbody tr th {\n",
       "        vertical-align: top;\n",
       "    }\n",
       "\n",
       "    .dataframe thead th {\n",
       "        text-align: right;\n",
       "    }\n",
       "</style>\n",
       "<table border=\"1\" class=\"dataframe\">\n",
       "  <thead>\n",
       "    <tr style=\"text-align: right;\">\n",
       "      <th></th>\n",
       "      <th>date</th>\n",
       "      <th>ordersPerDateA</th>\n",
       "      <th>revenuePerDateA</th>\n",
       "      <th>ordersPerDateB</th>\n",
       "      <th>revenuePerDateB</th>\n",
       "      <th>ordersCummulativeA</th>\n",
       "      <th>revenueCummulativeA</th>\n",
       "      <th>ordersCummulativeB</th>\n",
       "      <th>revenueCummulativeB</th>\n",
       "      <th>visitorsPerDateA</th>\n",
       "      <th>visitorsPerDateB</th>\n",
       "      <th>visitorsCummulativeA</th>\n",
       "      <th>visitorsBCummulative</th>\n",
       "    </tr>\n",
       "  </thead>\n",
       "  <tbody>\n",
       "    <tr>\n",
       "      <th>0</th>\n",
       "      <td>2019-08-01</td>\n",
       "      <td>21</td>\n",
       "      <td>126097</td>\n",
       "      <td>19</td>\n",
       "      <td>82717</td>\n",
       "      <td>21</td>\n",
       "      <td>126097</td>\n",
       "      <td>19</td>\n",
       "      <td>82717</td>\n",
       "      <td>719</td>\n",
       "      <td>713</td>\n",
       "      <td>719</td>\n",
       "      <td>713</td>\n",
       "    </tr>\n",
       "    <tr>\n",
       "      <th>1</th>\n",
       "      <td>2019-08-02</td>\n",
       "      <td>16</td>\n",
       "      <td>48173</td>\n",
       "      <td>21</td>\n",
       "      <td>157161</td>\n",
       "      <td>37</td>\n",
       "      <td>174270</td>\n",
       "      <td>40</td>\n",
       "      <td>239878</td>\n",
       "      <td>619</td>\n",
       "      <td>581</td>\n",
       "      <td>1338</td>\n",
       "      <td>1294</td>\n",
       "    </tr>\n",
       "    <tr>\n",
       "      <th>2</th>\n",
       "      <td>2019-08-03</td>\n",
       "      <td>24</td>\n",
       "      <td>112473</td>\n",
       "      <td>16</td>\n",
       "      <td>114248</td>\n",
       "      <td>61</td>\n",
       "      <td>286743</td>\n",
       "      <td>56</td>\n",
       "      <td>354126</td>\n",
       "      <td>507</td>\n",
       "      <td>509</td>\n",
       "      <td>1845</td>\n",
       "      <td>1803</td>\n",
       "    </tr>\n",
       "    <tr>\n",
       "      <th>3</th>\n",
       "      <td>2019-08-04</td>\n",
       "      <td>15</td>\n",
       "      <td>70715</td>\n",
       "      <td>14</td>\n",
       "      <td>87320</td>\n",
       "      <td>76</td>\n",
       "      <td>357458</td>\n",
       "      <td>70</td>\n",
       "      <td>441446</td>\n",
       "      <td>717</td>\n",
       "      <td>770</td>\n",
       "      <td>2562</td>\n",
       "      <td>2573</td>\n",
       "    </tr>\n",
       "    <tr>\n",
       "      <th>4</th>\n",
       "      <td>2019-08-05</td>\n",
       "      <td>21</td>\n",
       "      <td>94088</td>\n",
       "      <td>22</td>\n",
       "      <td>92328</td>\n",
       "      <td>97</td>\n",
       "      <td>451546</td>\n",
       "      <td>92</td>\n",
       "      <td>533774</td>\n",
       "      <td>756</td>\n",
       "      <td>707</td>\n",
       "      <td>3318</td>\n",
       "      <td>3280</td>\n",
       "    </tr>\n",
       "  </tbody>\n",
       "</table>\n",
       "</div>"
      ],
      "text/plain": [
       "        date  ordersPerDateA  revenuePerDateA  ordersPerDateB  \\\n",
       "0 2019-08-01              21           126097              19   \n",
       "1 2019-08-02              16            48173              21   \n",
       "2 2019-08-03              24           112473              16   \n",
       "3 2019-08-04              15            70715              14   \n",
       "4 2019-08-05              21            94088              22   \n",
       "\n",
       "   revenuePerDateB  ordersCummulativeA  revenueCummulativeA  \\\n",
       "0            82717                  21               126097   \n",
       "1           157161                  37               174270   \n",
       "2           114248                  61               286743   \n",
       "3            87320                  76               357458   \n",
       "4            92328                  97               451546   \n",
       "\n",
       "   ordersCummulativeB  revenueCummulativeB  visitorsPerDateA  \\\n",
       "0                  19                82717               719   \n",
       "1                  40               239878               619   \n",
       "2                  56               354126               507   \n",
       "3                  70               441446               717   \n",
       "4                  92               533774               756   \n",
       "\n",
       "   visitorsPerDateB  visitorsCummulativeA  visitorsBCummulative  \n",
       "0               713                   719                   713  \n",
       "1               581                  1338                  1294  \n",
       "2               509                  1845                  1803  \n",
       "3               770                  2562                  2573  \n",
       "4               707                  3318                  3280  "
      ]
     },
     "execution_count": 28,
     "metadata": {},
     "output_type": "execute_result"
    }
   ],
   "source": [
    "# соеденим все в одну большую таблицу\n",
    "data = ordersADaily.merge(ordersBDaily, left_on='date', right_on='date', how='left')\\\n",
    "    .merge(ordersACummulative, left_on='date', right_on='date', how='left')\\\n",
    "    .merge(ordersBCummulative, left_on='date', right_on='date', how='left')\\\n",
    "    .merge(visitorsADaily, left_on='date', right_on='date', how='left')\\\n",
    "    .merge(visitorsBDaily, left_on='date', right_on='date', how='left')\\\n",
    "    .merge(visitorsACummulative, left_on='date', right_on='date', how='left')\\\n",
    "    .merge(visitorsBCummulative, left_on='date', right_on='date', how='left')\n",
    "\n",
    "data.head()"
   ]
  },
  {
   "cell_type": "markdown",
   "metadata": {},
   "source": [
    "#### 2.6.1 Различие конверсии по \"сырым\" данным"
   ]
  },
  {
   "cell_type": "markdown",
   "metadata": {},
   "source": [
    "Cоздадим переменные ordersByUsersA и ordersByUsersB со столбцами ['userId', 'orders']. <br>\n",
    "В них для пользователей, которые заказывали хотя бы 1 раз, укажем число совершённых заказов."
   ]
  },
  {
   "cell_type": "code",
   "execution_count": 29,
   "metadata": {},
   "outputs": [
    {
     "data": {
      "text/html": [
       "<div>\n",
       "<style scoped>\n",
       "    .dataframe tbody tr th:only-of-type {\n",
       "        vertical-align: middle;\n",
       "    }\n",
       "\n",
       "    .dataframe tbody tr th {\n",
       "        vertical-align: top;\n",
       "    }\n",
       "\n",
       "    .dataframe thead th {\n",
       "        text-align: right;\n",
       "    }\n",
       "</style>\n",
       "<table border=\"1\" class=\"dataframe\">\n",
       "  <thead>\n",
       "    <tr style=\"text-align: right;\">\n",
       "      <th></th>\n",
       "      <th>visitorId</th>\n",
       "      <th>orders</th>\n",
       "    </tr>\n",
       "  </thead>\n",
       "  <tbody>\n",
       "    <tr>\n",
       "      <th>0</th>\n",
       "      <td>11685486</td>\n",
       "      <td>1</td>\n",
       "    </tr>\n",
       "    <tr>\n",
       "      <th>1</th>\n",
       "      <td>54447517</td>\n",
       "      <td>1</td>\n",
       "    </tr>\n",
       "    <tr>\n",
       "      <th>2</th>\n",
       "      <td>66685450</td>\n",
       "      <td>1</td>\n",
       "    </tr>\n",
       "    <tr>\n",
       "      <th>3</th>\n",
       "      <td>78758296</td>\n",
       "      <td>1</td>\n",
       "    </tr>\n",
       "    <tr>\n",
       "      <th>4</th>\n",
       "      <td>85103373</td>\n",
       "      <td>1</td>\n",
       "    </tr>\n",
       "  </tbody>\n",
       "</table>\n",
       "</div>"
      ],
      "text/plain": [
       "   visitorId  orders\n",
       "0   11685486       1\n",
       "1   54447517       1\n",
       "2   66685450       1\n",
       "3   78758296       1\n",
       "4   85103373       1"
      ]
     },
     "execution_count": 29,
     "metadata": {},
     "output_type": "execute_result"
    }
   ],
   "source": [
    "# для группы А\n",
    "ordersByUsersA = (orders\n",
    "                  .query('group == \"A\"')\n",
    "                  .groupby('visitorId', as_index=False)\n",
    "                  .agg({'transactionId' : 'nunique'})\n",
    "                 )\n",
    "\n",
    "ordersByUsersA.columns = ['visitorId', 'orders']\n",
    "\n",
    "\n",
    "# для группы В\n",
    "ordersByUsersB = (orders\n",
    "                  .query('group == \"B\"')\n",
    "                  .groupby('visitorId', as_index=False)\n",
    "                  .agg({'transactionId' : 'nunique'})\n",
    "                 )\n",
    "\n",
    "ordersByUsersB.columns = ['visitorId', 'orders'] \n",
    "\n",
    "ordersByUsersA.head()"
   ]
  },
  {
   "cell_type": "markdown",
   "metadata": {},
   "source": [
    "Объявим переменные sampleA и sampleB, в которых пользователям из разных групп будет соответствовать количество заказов. <br>\n",
    "Тем, кто ничего не заказал, будут соответствовать нули. Это нужно, чтобы подготовить выборки к проверке критерием Манна-Уитни."
   ]
  },
  {
   "cell_type": "code",
   "execution_count": 30,
   "metadata": {},
   "outputs": [],
   "source": [
    "# получим список с кол-вом заказов на каждого пользователя\n",
    "# и добавим к нему список заказов, для пользователей, которые не делали заказ (в нем будут нули)\n",
    "sampleA = (pd.concat([ordersByUsersA['orders'],  \n",
    "                      pd.Series(0,\n",
    "                                index=np.arange(data['visitorsPerDateA'].sum() - len(ordersByUsersA['orders'])),\n",
    "                                name='orders')],\n",
    "                     axis=0)\n",
    "          )\n",
    "\n",
    "\n",
    "# то же самое для группы В\n",
    "sampleB = (pd.concat([ordersByUsersB['orders'],\n",
    "                      pd.Series(0,\n",
    "                                index=np.arange(data['visitorsPerDateB'].sum() - len(ordersByUsersB['orders'])),\n",
    "                                name='orders')],\n",
    "                     axis=0)\n",
    "          )"
   ]
  },
  {
   "cell_type": "markdown",
   "metadata": {},
   "source": [
    "SampleA и SampleB представляют собой список, в котором каждый элемент это число заказов для всех посетителей сайта (в том числе и ноль).\n",
    "\n",
    "Получается, что кол-во элементов списка — это кол-во посетителей, а сумма всех элементов — это кол-во заказов.\n",
    "\n",
    "Поэтому, чтобы получить конверсию в группе нужно просто применить метод mean() к семплу."
   ]
  },
  {
   "cell_type": "markdown",
   "metadata": {},
   "source": [
    "##### Проведем статистический тест\n",
    "\n",
    "**Нулевая гипотеза (H0):** конверсии в группах не различаются\n",
    "\n",
    "**Альтернативная гипотеза (H1):** конверсии различаются\n",
    "\n",
    "**Уровень значимости:** 5%"
   ]
  },
  {
   "cell_type": "code",
   "execution_count": 31,
   "metadata": {},
   "outputs": [
    {
     "name": "stdout",
     "output_type": "stream",
     "text": [
      "\n",
      "Конверсия группы В отличается от конверсии группы А на: 0.144\n",
      "\n",
      "Вероятность получить такое различие при отсутствии разницы (истинности H0) составляет: 0.00771\n"
     ]
    }
   ],
   "source": [
    "print(\n",
    "    \"\\n\" + 'Конверсия группы В отличается от конверсии группы А на:',\n",
    "      \"{0:.3f}\".format(\n",
    "                      (data['ordersPerDateB'].sum()/data['visitorsPerDateB'].sum())\n",
    "                      / (data['ordersPerDateA'].sum()/data['visitorsPerDateA'].sum())-1)\n",
    "     )\n",
    "\n",
    "print(\"\\n\" + 'Вероятность получить такое различие при отсутствии разницы (истинности H0) составляет:',\n",
    "      \"{0:.5f}\".format(st.mannwhitneyu(sampleA, sampleB)[1]))"
   ]
  },
  {
   "cell_type": "markdown",
   "metadata": {},
   "source": [
    "Следовательно, получить такое различие при равентстве конверсий в группах А и В, крайне маловероятно (0,77%).\n",
    "Получить разницу в 14,4% случайно практически невозможно.\n",
    "\n",
    "Значит, конверсия в группе В, выше чем в группе А. Данные в разных группах действительно различаются и эта разница статистически значима."
   ]
  },
  {
   "cell_type": "code",
   "execution_count": 32,
   "metadata": {},
   "outputs": [],
   "source": [
    "# Сделаем срез с очищенными данными\n",
    "\n",
    "usersWithManyOrders = pd.concat([ordersByUsersA.query('orders > 4')['visitorId'],\n",
    "                                 ordersByUsersB.query('orders > 4')['visitorId']],\n",
    "                                axis = 0)\n",
    "\n",
    "usersWithExpensiveOrders = orders.query('revenue > 30000')['visitorId']\n",
    "abnormalUsers = (pd.concat([usersWithManyOrders, usersWithExpensiveOrders], axis = 0)\n",
    "                 .drop_duplicates()\n",
    "                 .sort_values()\n",
    "                )"
   ]
  },
  {
   "cell_type": "code",
   "execution_count": 33,
   "metadata": {},
   "outputs": [],
   "source": [
    "# создадим новые семплы по очищенным данным\n",
    "# в семплы попадут только те пользователи, которые совершили не более 4 заказов и стоимость заказов была не выше 30 тысяч\n",
    "\n",
    "sampleAFiltered = (pd.concat([ordersByUsersA\n",
    "                              [np.logical_not(ordersByUsersA['visitorId'].isin(abnormalUsers))]['orders'],\n",
    "                              pd.Series(0, index=np.arange(data['visitorsPerDateA'].sum() - len(ordersByUsersA['orders'])),\n",
    "                                        name='orders')],\n",
    "                             axis=0)\n",
    "                  )\n",
    "\n",
    "sampleBFiltered = (pd.concat([ordersByUsersB\n",
    "                              [np.logical_not(ordersByUsersB['visitorId'].isin(abnormalUsers))]['orders']\n",
    "                              ,pd.Series(0, index=np.arange(data['visitorsPerDateB'].sum() - len(ordersByUsersB['orders']))\n",
    "                                         ,name='orders')],\n",
    "                             axis=0) \n",
    "                  )"
   ]
  },
  {
   "cell_type": "markdown",
   "metadata": {},
   "source": [
    "##### Проверим значимость различий по очищенным данным\n",
    "\n",
    "**Нулевая гипотеза (H0):** конверсии в группах не различаются\n",
    "\n",
    "**Альтернативная гипотеза (H1):** конверсии различаются\n",
    "\n",
    "**Уровень значимости:** 5%"
   ]
  },
  {
   "cell_type": "code",
   "execution_count": 34,
   "metadata": {},
   "outputs": [
    {
     "name": "stdout",
     "output_type": "stream",
     "text": [
      "\n",
      "Конверсия группы В отличается от конверсии группы А на: 0.145\n",
      "\n",
      "Вероятность получить такое различие при отсутствии разницы (истинности H0) составляет: 0.00979\n"
     ]
    }
   ],
   "source": [
    "print(\n",
    "    \"\\n\" + 'Конверсия группы В отличается от конверсии группы А на:',\n",
    "      \"{0:.3f}\".format(sampleBFiltered.mean()/sampleAFiltered.mean()-1)\n",
    "     )\n",
    "     \n",
    "\n",
    "print(\"\\n\" + 'Вероятность получить такое различие при отсутствии разницы (истинности H0) составляет:',\n",
    "          \"{0:.5f}\".format(st.mannwhitneyu(sampleAFiltered, sampleBFiltered)[1])\n",
    "     )"
   ]
  },
  {
   "cell_type": "markdown",
   "metadata": {},
   "source": [
    "В очищенных данных конверсия в группе В, выше чем в группе А, уже на 14,5%.\n",
    "\n",
    "Вероятность получить такой результат случайно все также крайне мала — 0.98% <br>\n",
    "Это значительно меньше, чем уровень значимости 5%. <br>\n",
    "\n",
    "Смело можно утверждать, что конверсия в группе В действительно выше, чем в группе А. <br>\n",
    "Каким бы ни было тестируемое изменение, оно положительно влияет на конверсию."
   ]
  },
  {
   "cell_type": "markdown",
   "metadata": {},
   "source": [
    "### 2.7 Различия среднего чека в группах <a id=\"Шаг_27\"></a>\n",
    "[К оглавлению](#оглавление)<br>"
   ]
  },
  {
   "cell_type": "markdown",
   "metadata": {},
   "source": [
    "#### 2.7.1 Различие среднего чека по \"сырым\" данным"
   ]
  },
  {
   "cell_type": "markdown",
   "metadata": {},
   "source": [
    "**Нулевая гипотеза (H0):** средний чек в группах не различается\n",
    "\n",
    "**Альтернативная гипотеза (H1):** размер среднего чека в группах различается\n",
    "\n",
    "**Уровень значимости:** 5%"
   ]
  },
  {
   "cell_type": "code",
   "execution_count": 35,
   "metadata": {
    "scrolled": true
   },
   "outputs": [
    {
     "name": "stdout",
     "output_type": "stream",
     "text": [
      "\n",
      "Относительное различие между средним чеком в группе В и в группе А: 0.353\n",
      "\n",
      "Вероятность получить такое различие при отсутствии разницы (истинности H0): 0.260\n"
     ]
    }
   ],
   "source": [
    "print(\"\\n\" + 'Относительное различие между средним чеком в группе В и в группе А:',\n",
    "      \"{0:.3f}\".format(orders.query('group == \"B\"')['revenue'].mean() / orders.query('group == \"A\"')['revenue'].mean()-1))\n",
    "\n",
    "print(\"\\n\" + 'Вероятность получить такое различие при отсутствии разницы (истинности H0):',\n",
    "      \"{0:.3f}\".format(st.mannwhitneyu(orders.query('group == \"A\"')['revenue'], orders.query('group == \"B\"')['revenue'])[1]))"
   ]
  },
  {
   "cell_type": "markdown",
   "metadata": {},
   "source": [
    "Средний чек в группе В оказался выше на 35% процентов.\n",
    "\n",
    "Однако такое различие мы могли получить случайно: p-value оказался гораздо выше, чем 5%. \n",
    "\n",
    "Вероятность получить такое различие при истинности нулевой гипотезы составляет 26%.\n",
    "\n",
    "Отклонить нулевую гипотезу нельзя: мы не знаем, действительно ли есть разница между размерами среднего чека в разных группах."
   ]
  },
  {
   "cell_type": "markdown",
   "metadata": {},
   "source": [
    "Посмотрим, какой будет результат на очищенных данных."
   ]
  },
  {
   "cell_type": "markdown",
   "metadata": {},
   "source": [
    "#### 2.7.2 Различие среднего чека по \"очищенным\" данным"
   ]
  },
  {
   "cell_type": "markdown",
   "metadata": {},
   "source": [
    "**Нулевая гипотеза (H0):** средний чек в группах не различается\n",
    "\n",
    "**Альтернативная гипотеза (H1):** размер среднего чека в группах различается\n",
    "\n",
    "**Уровень значимости:** 5%"
   ]
  },
  {
   "cell_type": "code",
   "execution_count": 36,
   "metadata": {},
   "outputs": [
    {
     "name": "stdout",
     "output_type": "stream",
     "text": [
      "\n",
      "Относительное различие между средним чеком в группе В и в группе А: -0.002\n",
      "\n",
      "Вероятность получить такое различие при отсутствии разницы (истинности H0): 0.436\n"
     ]
    }
   ],
   "source": [
    "orders.head()\n",
    "\n",
    "print(\"\\n\" + 'Относительное различие между средним чеком в группе В и в группе А:',\n",
    "      \"{0:.3f}\".format(orders.query('(group == \"B\") and ~(visitorId in @abnormalUsers)')['revenue'].mean()\n",
    "                       / orders.query('(group == \"A\") and ~(visitorId in @abnormalUsers)')['revenue'].mean()-1)\n",
    "     )\n",
    "\n",
    "print(\"\\n\" + 'Вероятность получить такое различие при отсутствии разницы (истинности H0):',\n",
    "      \"{0:.3f}\".format(st.mannwhitneyu(orders.query('(group == \"A\") and ~(visitorId in @abnormalUsers)')['revenue'],\n",
    "                                       orders.query('(group == \"B\") and ~(visitorId in @abnormalUsers)')['revenue'])[1]))"
   ]
  },
  {
   "cell_type": "markdown",
   "metadata": {},
   "source": [
    "На очищенных данных оказалось, что средний чек в группе В незначительно, чем в группе А (почти не отличается).\n",
    "<br> Такое различие можно получить с вероятностью почти в 50%. \n",
    "<br> В таком случае мы не можем отклонить нулевую гипотезу о том, что средние чеки в разных группах не различаются."
   ]
  },
  {
   "cell_type": "markdown",
   "metadata": {},
   "source": [
    "#### Выводы\n",
    "1. Конверсия в группе В больше и это различие статистически значимо.\n",
    "2. Нельзя утверждать, что размер среднего чека различается в разных группах: слишком высока вероятность получить различия случайно.\n",
    "\n",
    "***"
   ]
  },
  {
   "cell_type": "markdown",
   "metadata": {},
   "source": [
    "## Шаг 3. Принимаем решение по результатам A/B-теста <a id=\"Шаг_3\"></a>\n",
    "[К оглавлению](#оглавление)<br>\n",
    "\n",
    "Чтобы принять решение еще раз посмотрим на графики и перечислим все результаты анализа."
   ]
  },
  {
   "cell_type": "code",
   "execution_count": 37,
   "metadata": {},
   "outputs": [
    {
     "data": {
      "image/png": "[encoded data removed]",
      "text/plain": [
       "<Figure size 1152x144 with 1 Axes>"
      ]
     },
     "metadata": {},
     "output_type": "display_data"
    },
    {
     "data": {
      "image/png": "[encoded data removed]",
      "text/plain": [
       "<Figure size 1152x144 with 1 Axes>"
      ]
     },
     "metadata": {},
     "output_type": "display_data"
    }
   ],
   "source": [
    "# зададим размер графика\n",
    "plt.figure(figsize=(16, 2))\n",
    "\n",
    "# cтроим график отношения средних чеков\n",
    "plt.plot(mergedCumulativeRevenue['date'],\n",
    "         (mergedCumulativeRevenue['revenueB']/mergedCumulativeRevenue['ordersB'])/\n",
    "         (mergedCumulativeRevenue['revenueA']/mergedCumulativeRevenue['ordersA'])-1\n",
    "        )\n",
    "\n",
    "# добавляем ось X\n",
    "plt.axhline(y=0, color='black', linestyle='--') \n",
    "\n",
    "plt.title('Относительная разница среднего чека группы В к группе А')\n",
    "plt.ylabel(\"\\n\" + 'различие в %' + \"\\n\")\n",
    "plt.xlabel(\"день\")\n",
    "plt.show()\n",
    "\n",
    "\n",
    "# зададим размер графика\n",
    "plt.figure(figsize=(16, 2))\n",
    "\n",
    "# построим график\n",
    "plt.plot(mergedCumulativeConversions['date'], mergedCumulativeConversions['convs_relation'])\n",
    "plt.axis([\"2019-08-01\", '2019-08-31', -0.25, 0.25])\n",
    "plt.axhline(y=0, color='black', linestyle='--')\n",
    "\n",
    "# добавим инфы\n",
    "plt.title('Относительный прирост конверсии группы B относительно группы A')\n",
    "plt.ylabel(\"\\n\" + 'относительная разница в %' + \"\\n\")\n",
    "plt.xlabel(\"день\")\n",
    "plt.show()"
   ]
  },
  {
   "cell_type": "markdown",
   "metadata": {},
   "source": [
    "Имеющиеся факты:\n",
    "+ Есть статистически значимое различие конверсий в разных группах: в группе В конверсия выше на 13-14%\n",
    "+ По графику различия конверсии между группами видно, что конверсия группы B лучше, чем группы A, и она доходила даже до 20%\n",
    "\n",
    "+ Нет статистически значимого различия по среднему чеку между группами ни по «сырым», ни по очищенным данным\n",
    "+ На графике различия среднего чека видны сильные колебания и постепенное снижение уровня различия в конце теста"
   ]
  },
  {
   "cell_type": "markdown",
   "metadata": {},
   "source": [
    "Посмотрим на куммулятивную выручку в группах после очистки данных, чтобы убедиться, чтобы изменения в конверсии достаточно для увеличения выручки в группе В."
   ]
  },
  {
   "cell_type": "code",
   "execution_count": 38,
   "metadata": {},
   "outputs": [],
   "source": [
    "# сделаем срез нужных таблиц по адекватным данным: кол-во заказов меньше четырех и стоимость заказов меньше 30 тысяч\n",
    "\n",
    "ordersAggregated_cleaned = (datesGroups\n",
    "                     # Получим строки таблицы orders, дата которых меньше или равна дате элемента из datesGroups,\n",
    "                     #а группа теста равна группе из datesGroups\n",
    "                     .apply(lambda x: orders.query('visitorId not in @abnormalUsers')[np.logical_and(orders['date'] <= x['date'], orders['group'] == x['group'])]\n",
    "                            # посчитаем нужные данные по полученному срезу\n",
    "                            .agg({'date' : 'max',\n",
    "                                  'group' : 'max',\n",
    "                                  'transactionId' : pd.Series.nunique,\n",
    "                                  'visitorId' : pd.Series.nunique,\n",
    "                                  'revenue' : 'sum'}),\n",
    "                            axis=1) # применим лямбда-функцию к каждой строке датафрейма\n",
    "                     .sort_values(by=['date','group']) # отсортируем таблицу\n",
    "                    )\n",
    "\n",
    "cumulativeData_cleaned = ordersAggregated_cleaned.merge(visitorsAggregated, left_on=['date', 'group'], right_on=['date', 'group'])\n",
    "#cumulativeData.columns = ['date', 'group', 'orders', 'buyers', 'revenue', 'visitors']\n",
    "\n",
    "# посчитаем конверсию сайта (из посещения в покупку)\n",
    "cumulativeData_cleaned['conversion'] = cumulativeData_cleaned['transactionId']/cumulativeData_cleaned['visitorId']\n",
    "\n",
    "# создаем датафрейм с кумулятивным количеством заказов и кумулятивной выручкой по дням в группе А\n",
    "cumulativeRevenueA_cleaned = cumulativeData_cleaned.query('group == \"A\"')[['date','revenue', 'transactionId']]\n",
    "\n",
    "# создаем датафрейм с кумулятивным количеством заказов и кумулятивной выручкой по дням в группе B\n",
    "cumulativeRevenueB_cleaned = cumulativeData_cleaned.query('group == \"B\"')[['date','revenue', 'transactionId']]"
   ]
  },
  {
   "cell_type": "code",
   "execution_count": 39,
   "metadata": {
    "scrolled": true
   },
   "outputs": [
    {
     "data": {
      "image/png": "[encoded data removed]",
      "text/plain": [
       "<Figure size 1152x288 with 1 Axes>"
      ]
     },
     "metadata": {},
     "output_type": "display_data"
    }
   ],
   "source": [
    "#визуализируем\n",
    "\n",
    "plt.figure(figsize=(16, 4))\n",
    "\n",
    "# Строим график выручки группы А\n",
    "plt.plot(cumulativeRevenueA_cleaned['date'], cumulativeRevenueA_cleaned['revenue'], label='A')\n",
    "\n",
    "# Строим график выручки группы B\n",
    "plt.plot(cumulativeRevenueB_cleaned['date'], cumulativeRevenueB_cleaned['revenue'], label='B')\n",
    "\n",
    "plt.legend()\n",
    "plt.title(\"\\n\" + 'Различие куммулятивной выручки в группах А и В' + \"\\n\")\n",
    "plt.ylabel(\"\\n\" + 'размер накопленной выручки' + \"\\n\")\n",
    "plt.xlabel(\"\\n\" + \"день\" + \"\\n\")\n",
    "plt.show()"
   ]
  },
  {
   "cell_type": "markdown",
   "metadata": {},
   "source": [
    "На графике видно, что с момента, когда конверсия в группе В стала выше (после 5 августа), куммулятивная выручка в этой группе стала выше, чем в группе А, и стабильно оставалось такой на протяжении всего теста.\n",
    "\n",
    "Значит, увеличение конверсии повлияло на кол-во заказов и, следовательно, на выручку."
   ]
  },
  {
   "cell_type": "markdown",
   "metadata": {},
   "source": [
    "### Вывод: что делать с А/В-тестом? <a id=\"Шаг_31\"></a>\n",
    "[К оглавлению](#оглавление)<br>\n",
    "\n",
    "Выручка зависит от кол-ва покупателей и среднего чека. <br>\n",
    "Кол-во покупателей зависит от кол-ва посетителей и конверсии в заказ.\n",
    "\n",
    "В тесте мы не увидели статистически значимой разницы между средним чеком в группах А и В. <br>\n",
    "Однако мы зафиксировали значимую разницу в конверсиях между группами: в группе В конверсия выше.\n",
    "\n",
    "Это значит, что при одинаковых средних чеках группа В приносит больше выручки, чем группа А, за счет большего кол-ва покупателей (пользователей сделавших заказ).\n",
    "\n",
    "Следовательно, тестируемое изменение поможет интернет-магазину увеличить выручку.\n",
    "\n",
    "А/В-тест следует остановить и зафиксировать победу группы В."
   ]
  },
  {
   "cell_type": "markdown",
   "metadata": {},
   "source": [
    "### Какие гипотезы стоит еще протестировать? <a id=\"Шаг_32\"></a>\n",
    "[К оглавлению](#оглавление)<br>\n",
    "\n",
    "При приоритизации гипотез следует использовать метод RICE, так как он учитывает охват пользователей, которые заметят изменения. <br>\n",
    "По оценке метода следует проверить гипотезы с индексами 7, 2, 0 и 6. \n",
    "\n",
    "Метод ICE также предлагает проверить 8 гипотезу, но у неё слишком узкий охват. <br>\n",
    "Возможно, следует точнее оценить эту гипотезу и принять решение о её проверке."
   ]
  },
  {
   "cell_type": "markdown",
   "metadata": {},
   "source": [
    "### На что еще обратить внимание? <a id=\"Шаг_33\"></a>\n",
    "[К оглавлению](#оглавление)<br>\n",
    "\n",
    "99% заказов в интернет-магазине стоят до 59 тысяч рублей. <br>\n",
    "Однако в  выгрузке попадались заказы от 60 до 1,2 млн рублей. <br>\n",
    "Стоит разобраться: технические ли это ошибки, или действительно кто-то совершал заказы дороже 60 тысяч."
   ]
  }
 ],
 "metadata": {
  "kernelspec": {
   "display_name": "Python 3",
   "language": "python",
   "name": "python3"
  },
  "language_info": {
   "codemirror_mode": {
    "name": "ipython",
    "version": 3
   },
   "file_extension": ".py",
   "mimetype": "text/x-python",
   "name": "python",
   "nbconvert_exporter": "python",
   "pygments_lexer": "ipython3",
   "version": "3.7.6"
  }
 },
 "nbformat": 4,
 "nbformat_minor": 2
}
