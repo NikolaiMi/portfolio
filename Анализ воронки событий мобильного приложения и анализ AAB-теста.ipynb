{
 "cells": [
  {
   "cell_type": "markdown",
   "metadata": {},
   "source": [
    "# Анализ воронки событий мобильного приложения и анализ A/A/B-теста"
   ]
  },
  {
   "cell_type": "markdown",
   "metadata": {},
   "source": [
    "## Оглавление <a id=\"оглавление\"></a>\n",
    "\n",
    "1. [Шаг 1. Изучение и предобработка данных](#Шаг_1)\n",
    "1. [Шаг 2. Анализ воронки событий](#Шаг_2)\n",
    "1. [Шаг 3. А/А/В-тест и анализ результатов](#Шаг_3)\n",
    "1. [Шаг 4. Выводы по результатам теста и анализу воронки событий](#Шаг_4)"
   ]
  },
  {
   "cell_type": "markdown",
   "metadata": {},
   "source": [
    "## Описание проекта <a id=\"описание\"></a>"
   ]
  },
  {
   "cell_type": "markdown",
   "metadata": {},
   "source": [
    "**Заказчик:** Стартап, который продает продукты питания.\n",
    "\n",
    "**Продукт:** Мобильное приложение для заказов продуктов питания\n",
    "<br>\n",
    "\n",
    "**Цели:**\n",
    "1. Определить точки оптимизации пути пользователей до покупки\n",
    "2. Принять решение о смене шрифтов в приложении (есть предположение, что пользователям новые шрифты будут мешать)\n",
    "<br>\n",
    "\n",
    "<br>\n",
    "\n",
    "**Задачи**:\n",
    "1. Изучить пользователей. Rак доходят до покупки? Cколько пользователей доходит? Сколько пользователей \"отваливаются\" на разных этапах воронки? Где отваливаются?\n",
    "2. Изучить результаты A/A/B-эксперимента: влияет ли шрифт на проходимость воронки?\n",
    "<br>\n",
    "\n",
    "<br>\n",
    "\n",
    "**Данные:** логи мобильного приложения с действиями пользователей (каждая запись — событие). <br>\n",
    "+ EventName — название события\n",
    "+ DeviceIDHash — уникальный идентификатор пользователя\n",
    "+ EventTimestamp — время события\n",
    "+ ExpId — номер эксперимента: 246 и 247 — контрольные группы, а 248 — экспериментальная.\n",
    "<br>\n",
    "\n",
    "<br>\n",
    "\n",
    "**Важные замечания:** <br>\n",
    "Технически в логи новых дней по некоторым пользователям могут «доезжать» события из прошлого — это может «перекашивать данные». <br>\n",
    "Нужно, определить период с полными и актуальными данными."
   ]
  },
  {
   "cell_type": "markdown",
   "metadata": {},
   "source": [
    "## Шаг 1. Изучение и предобработка данных <a id=\"Шаг_1\"></a>\n",
    "[К оглавлению](#оглавление)<br>\n",
    "[К выводам по шагу](#conclusion1)"
   ]
  },
  {
   "cell_type": "code",
   "execution_count": 1,
   "metadata": {},
   "outputs": [],
   "source": [
    "# импортируем нужные библиотеки\n",
    "import pandas as pd\n",
    "import matplotlib.pyplot as plt\n",
    "import numpy as np\n",
    "from scipy import stats as st\n",
    "import math as mt\n",
    "import datetime as dt\n",
    "import plotly.express as px\n",
    "from plotly import graph_objects as go \n",
    "\n",
    "plt.style.use('seaborn') \n",
    "\n",
    "pd.options.display.float_format = '{: .2f}'.format\n",
    "\n",
    "import warnings\n",
    "warnings.filterwarnings('ignore')"
   ]
  },
  {
   "cell_type": "code",
   "execution_count": 2,
   "metadata": {
    "scrolled": true
   },
   "outputs": [
    {
     "name": "stdout",
     "output_type": "stream",
     "text": [
      "<class 'pandas.core.frame.DataFrame'>\n",
      "RangeIndex: 244126 entries, 0 to 244125\n",
      "Data columns (total 4 columns):\n",
      "EventName         244126 non-null object\n",
      "DeviceIDHash      244126 non-null int64\n",
      "EventTimestamp    244126 non-null int64\n",
      "ExpId             244126 non-null int64\n",
      "dtypes: int64(3), object(1)\n",
      "memory usage: 7.5+ MB\n"
     ]
    },
    {
     "data": {
      "text/html": [
       "<div>\n",
       "<style scoped>\n",
       "    .dataframe tbody tr th:only-of-type {\n",
       "        vertical-align: middle;\n",
       "    }\n",
       "\n",
       "    .dataframe tbody tr th {\n",
       "        vertical-align: top;\n",
       "    }\n",
       "\n",
       "    .dataframe thead th {\n",
       "        text-align: right;\n",
       "    }\n",
       "</style>\n",
       "<table border=\"1\" class=\"dataframe\">\n",
       "  <thead>\n",
       "    <tr style=\"text-align: right;\">\n",
       "      <th></th>\n",
       "      <th>EventName</th>\n",
       "      <th>DeviceIDHash</th>\n",
       "      <th>EventTimestamp</th>\n",
       "      <th>ExpId</th>\n",
       "    </tr>\n",
       "  </thead>\n",
       "  <tbody>\n",
       "    <tr>\n",
       "      <td>0</td>\n",
       "      <td>MainScreenAppear</td>\n",
       "      <td>4575588528974610257</td>\n",
       "      <td>1564029816</td>\n",
       "      <td>246</td>\n",
       "    </tr>\n",
       "    <tr>\n",
       "      <td>1</td>\n",
       "      <td>MainScreenAppear</td>\n",
       "      <td>7416695313311560658</td>\n",
       "      <td>1564053102</td>\n",
       "      <td>246</td>\n",
       "    </tr>\n",
       "    <tr>\n",
       "      <td>2</td>\n",
       "      <td>PaymentScreenSuccessful</td>\n",
       "      <td>3518123091307005509</td>\n",
       "      <td>1564054127</td>\n",
       "      <td>248</td>\n",
       "    </tr>\n",
       "    <tr>\n",
       "      <td>3</td>\n",
       "      <td>CartScreenAppear</td>\n",
       "      <td>3518123091307005509</td>\n",
       "      <td>1564054127</td>\n",
       "      <td>248</td>\n",
       "    </tr>\n",
       "    <tr>\n",
       "      <td>4</td>\n",
       "      <td>PaymentScreenSuccessful</td>\n",
       "      <td>6217807653094995999</td>\n",
       "      <td>1564055322</td>\n",
       "      <td>248</td>\n",
       "    </tr>\n",
       "  </tbody>\n",
       "</table>\n",
       "</div>"
      ],
      "text/plain": [
       "                 EventName         DeviceIDHash  EventTimestamp  ExpId\n",
       "0         MainScreenAppear  4575588528974610257      1564029816    246\n",
       "1         MainScreenAppear  7416695313311560658      1564053102    246\n",
       "2  PaymentScreenSuccessful  3518123091307005509      1564054127    248\n",
       "3         CartScreenAppear  3518123091307005509      1564054127    248\n",
       "4  PaymentScreenSuccessful  6217807653094995999      1564055322    248"
      ]
     },
     "execution_count": 2,
     "metadata": {},
     "output_type": "execute_result"
    }
   ],
   "source": [
    "# изучаем данные\n",
    "\n",
    "df = pd.read_csv('/datasets/logs_exp.csv', sep = '\\t')\n",
    "\n",
    "df.info()\n",
    "df.head()"
   ]
  },
  {
   "cell_type": "markdown",
   "metadata": {},
   "source": [
    "Столбец EventTimestamp содержит время в формате unixtime - это число секунд с 1970-01-01. <br>\n",
    "Нужно перевести его в \"нормальный\"\n",
    "\n",
    "Также отдельно добавим столбец с датой события и изменим названия столбцов на более удобные."
   ]
  },
  {
   "cell_type": "code",
   "execution_count": 3,
   "metadata": {
    "scrolled": true
   },
   "outputs": [
    {
     "name": "stdout",
     "output_type": "stream",
     "text": [
      "<class 'pandas.core.frame.DataFrame'>\n",
      "RangeIndex: 244126 entries, 0 to 244125\n",
      "Data columns (total 5 columns):\n",
      "event        244126 non-null object\n",
      "userid       244126 non-null int64\n",
      "date_time    244126 non-null datetime64[ns]\n",
      "testgroup    244126 non-null int64\n",
      "date         244126 non-null datetime64[ns]\n",
      "dtypes: datetime64[ns](2), int64(2), object(1)\n",
      "memory usage: 9.3+ MB\n"
     ]
    }
   ],
   "source": [
    "# приведем дату события к нормальному виду: с датой и временем\n",
    "df['EventTimestamp'] = pd.to_datetime(df['EventTimestamp'], unit='s').rename(columns = {'EventTimestamp': 'date_time'})\n",
    "\n",
    "# создадим столбец с датой события\n",
    "df['date'] = pd.to_datetime(df['EventTimestamp'].astype('datetime64[D]'))\n",
    "\n",
    "# переименуем столбцы\n",
    "df = df.rename(columns = {'EventTimestamp': 'date_time', 'EventName': 'event', 'DeviceIDHash': 'userid', 'ExpId': 'testgroup'})\n",
    "\n",
    "# проверим, что получилось\n",
    "df.head()\n",
    "df.info()"
   ]
  },
  {
   "cell_type": "markdown",
   "metadata": {},
   "source": [
    "Новые столбцы создались правильно и в нужномт типе данных.\n",
    "\n",
    "Дале проверим, есть ли пропуски и дубликаты."
   ]
  },
  {
   "cell_type": "code",
   "execution_count": 4,
   "metadata": {
    "scrolled": true
   },
   "outputs": [
    {
     "name": "stdout",
     "output_type": "stream",
     "text": [
      "\n",
      "Количество пропусков в таблице:\n"
     ]
    },
    {
     "data": {
      "text/plain": [
       "event        0\n",
       "userid       0\n",
       "date_time    0\n",
       "testgroup    0\n",
       "date         0\n",
       "dtype: int64"
      ]
     },
     "execution_count": 4,
     "metadata": {},
     "output_type": "execute_result"
    }
   ],
   "source": [
    "print('\\n' + 'Количество пропусков в таблице:')\n",
    "df.isna().sum()"
   ]
  },
  {
   "cell_type": "markdown",
   "metadata": {},
   "source": [
    "В таблице нет пропусков ни в одной колонке."
   ]
  },
  {
   "cell_type": "code",
   "execution_count": 5,
   "metadata": {
    "scrolled": false
   },
   "outputs": [
    {
     "name": "stdout",
     "output_type": "stream",
     "text": [
      "\n",
      "Количество дубликатов в таблице: 413\n",
      "\n",
      "Доля дубликатов от всех данных: 0.00169\n"
     ]
    }
   ],
   "source": [
    "print('\\n' + 'Количество дубликатов в таблице:', df.duplicated().sum())\n",
    "print('\\n' + 'Доля дубликатов от всех данных:', round(df.duplicated().sum() / len(df), 5))"
   ]
  },
  {
   "cell_type": "markdown",
   "metadata": {},
   "source": [
    "В таблице есть полные дубликаты и они составляют очень малую долю от всех данных.\n",
    "\n",
    "Удалим их."
   ]
  },
  {
   "cell_type": "code",
   "execution_count": 6,
   "metadata": {},
   "outputs": [
    {
     "name": "stdout",
     "output_type": "stream",
     "text": [
      "\n",
      "Количество дубликатов в таблице: 0\n"
     ]
    }
   ],
   "source": [
    "df = df.drop_duplicates()\n",
    "print('\\n' + 'Количество дубликатов в таблице:', df.duplicated().sum())"
   ]
  },
  {
   "cell_type": "markdown",
   "metadata": {},
   "source": [
    "Дубликатов в таблице не осталось."
   ]
  },
  {
   "cell_type": "markdown",
   "metadata": {},
   "source": [
    "Проверим, нет ли пересечения по пользователям между группами."
   ]
  },
  {
   "cell_type": "code",
   "execution_count": 7,
   "metadata": {
    "scrolled": false
   },
   "outputs": [
    {
     "data": {
      "text/plain": [
       "userid       0\n",
       "testgroup    0\n",
       "dtype: int64"
      ]
     },
     "execution_count": 7,
     "metadata": {},
     "output_type": "execute_result"
    }
   ],
   "source": [
    "# для каждого пользователя посчитаем кол-во уникальных групп, в которые он попал\n",
    "# соберем список всех пользователей, которые есть сразу в двух группах\n",
    "\n",
    "both_group_users = df.groupby('userid').agg({'testgroup': 'nunique'}).query('testgroup > 1').reset_index()\n",
    "\n",
    "both_group_users.count()"
   ]
  },
  {
   "cell_type": "markdown",
   "metadata": {},
   "source": [
    "Группы не пересекаются."
   ]
  },
  {
   "cell_type": "markdown",
   "metadata": {},
   "source": [
    "**Изучим сколько в логах событий и пользователей и сколько событий приходится на одного пользователя.**\n",
    "\n",
    "Сколько всего событий в логе?\n",
    "\n",
    "Сколько всего пользователей в логе?\n",
    "\n",
    "Сколько в среднем событий приходится на пользователя?"
   ]
  },
  {
   "cell_type": "markdown",
   "metadata": {},
   "source": [
    "Посчитаем количество событий в логе."
   ]
  },
  {
   "cell_type": "code",
   "execution_count": 8,
   "metadata": {
    "scrolled": false
   },
   "outputs": [
    {
     "data": {
      "text/html": [
       "<div>\n",
       "<style scoped>\n",
       "    .dataframe tbody tr th:only-of-type {\n",
       "        vertical-align: middle;\n",
       "    }\n",
       "\n",
       "    .dataframe tbody tr th {\n",
       "        vertical-align: top;\n",
       "    }\n",
       "\n",
       "    .dataframe thead th {\n",
       "        text-align: right;\n",
       "    }\n",
       "</style>\n",
       "<table border=\"1\" class=\"dataframe\">\n",
       "  <thead>\n",
       "    <tr style=\"text-align: right;\">\n",
       "      <th></th>\n",
       "      <th>event</th>\n",
       "      <th>qnt</th>\n",
       "    </tr>\n",
       "  </thead>\n",
       "  <tbody>\n",
       "    <tr>\n",
       "      <td>0</td>\n",
       "      <td>MainScreenAppear</td>\n",
       "      <td>119101</td>\n",
       "    </tr>\n",
       "    <tr>\n",
       "      <td>1</td>\n",
       "      <td>OffersScreenAppear</td>\n",
       "      <td>46808</td>\n",
       "    </tr>\n",
       "    <tr>\n",
       "      <td>2</td>\n",
       "      <td>CartScreenAppear</td>\n",
       "      <td>42668</td>\n",
       "    </tr>\n",
       "    <tr>\n",
       "      <td>3</td>\n",
       "      <td>PaymentScreenSuccessful</td>\n",
       "      <td>34118</td>\n",
       "    </tr>\n",
       "    <tr>\n",
       "      <td>4</td>\n",
       "      <td>Tutorial</td>\n",
       "      <td>1018</td>\n",
       "    </tr>\n",
       "  </tbody>\n",
       "</table>\n",
       "</div>"
      ],
      "text/plain": [
       "                     event     qnt\n",
       "0         MainScreenAppear  119101\n",
       "1       OffersScreenAppear   46808\n",
       "2         CartScreenAppear   42668\n",
       "3  PaymentScreenSuccessful   34118\n",
       "4                 Tutorial    1018"
      ]
     },
     "execution_count": 8,
     "metadata": {},
     "output_type": "execute_result"
    }
   ],
   "source": [
    "events = df.event.value_counts().reset_index()\n",
    "events = events.rename(columns = {'index': 'event', 'event': 'qnt'})\n",
    "events"
   ]
  },
  {
   "cell_type": "markdown",
   "metadata": {},
   "source": [
    "Всего в логах 5 разных событий о появлении разных экранов приложения:\n",
    "1. Главный экран (MainScreenAppear)\n",
    "2. Экран с товаром (MainScreenAppear)\n",
    "3. Экран корзины (CartScreenAppear)\n",
    "4. Экран успешной оплаты (PaymentScreenSuccessful)\n",
    "5. Экран с обучением (Tutorial) — на этот экран переходят реже всего"
   ]
  },
  {
   "cell_type": "code",
   "execution_count": 9,
   "metadata": {},
   "outputs": [
    {
     "name": "stdout",
     "output_type": "stream",
     "text": [
      "\n",
      "Общее количество событий в логах: 243713\n"
     ]
    }
   ],
   "source": [
    "event_num = df.event.value_counts().sum()\n",
    "print('\\n' + 'Общее количество событий в логах:', event_num)"
   ]
  },
  {
   "cell_type": "markdown",
   "metadata": {},
   "source": [
    "Посчитаем кол-во уникальных пользователей в логах."
   ]
  },
  {
   "cell_type": "code",
   "execution_count": 10,
   "metadata": {},
   "outputs": [
    {
     "name": "stdout",
     "output_type": "stream",
     "text": [
      "\n",
      "Количество уникальных пользователей в логах: 7551\n"
     ]
    }
   ],
   "source": [
    "user_num = df.userid.nunique()\n",
    "print('\\n' + 'Количество уникальных пользователей в логах:', user_num)"
   ]
  },
  {
   "cell_type": "code",
   "execution_count": 11,
   "metadata": {
    "scrolled": false
   },
   "outputs": [
    {
     "name": "stdout",
     "output_type": "stream",
     "text": [
      "\n",
      "Среднее кол-во событий на пользователя: 32.3\n",
      "\n",
      "Медианное кол-во событий на пользователя: 20\n"
     ]
    },
    {
     "data": {
      "image/png": "[encoded data removed]",
      "text/plain": [
       "<Figure size 576x288 with 1 Axes>"
      ]
     },
     "metadata": {},
     "output_type": "display_data"
    }
   ],
   "source": [
    "print('\\n' + 'Среднее кол-во событий на пользователя:', round(event_num / user_num, 1))\n",
    "\n",
    "print('\\n' + 'Медианное кол-во событий на пользователя:', round(df.groupby('userid').agg({'event': 'count'}).median()[0]))\n",
    "\n",
    "df.groupby('userid').agg({'event': 'count'}).hist(bins = 50, figsize=(8, 4), range = (0, 400))\n",
    "plt.title('\\n' + 'распределение кол-ва событий по пользователям за 7 дней' + '\\n')\n",
    "plt.xlabel('\\n' + 'кол-во событий' + '\\n')\n",
    "plt.show()"
   ]
  },
  {
   "cell_type": "markdown",
   "metadata": {},
   "source": [
    "Медиана меньше, чем среднее значение.\n",
    "\n",
    "Данные скошены вправо: есть длинные хвост из пользователей, которые очень часто пользуются приложением и генерирует множество событий в логах.\n",
    "\n",
    "Основная доля пользователей совершает до 50 действий за неделю."
   ]
  },
  {
   "cell_type": "code",
   "execution_count": 12,
   "metadata": {},
   "outputs": [
    {
     "name": "stdout",
     "output_type": "stream",
     "text": [
      "\n",
      "Среднее кол-во открытых главных экранов: 15.77\n",
      "\n",
      "Среднее кол-во открытых экранов с товарами: 6.2\n",
      "\n",
      "Среднее кол-во открытых корзин на пользователя: 5.65\n",
      "\n",
      "Среднее кол-во оплат (заказов) на пользователя: 4.52\n",
      "\n",
      "Среднее кол-во переходов в обучение: 0.13\n"
     ]
    }
   ],
   "source": [
    "# посмотрим, сколько событий каждого вида в среднем совершают пользователи\n",
    "\n",
    "print('\\n' + 'Среднее кол-во открытых главных экранов:',\n",
    "      round(events.query('event == \"MainScreenAppear\"').qnt[0] / user_num, 2))\n",
    "\n",
    "print('\\n' + 'Среднее кол-во открытых экранов с товарами:',\n",
    "      round(events.query('event == \"OffersScreenAppear\"').qnt[1] / user_num, 2))\n",
    "\n",
    "print('\\n' + 'Среднее кол-во открытых корзин на пользователя:',\n",
    "      round(events.query('event == \"CartScreenAppear\"').qnt[2] / user_num, 2))\n",
    "\n",
    "print('\\n' + 'Среднее кол-во оплат (заказов) на пользователя:',\n",
    "      round(events.query('event == \"PaymentScreenSuccessful\"').qnt[3] / user_num, 2))\n",
    "\n",
    "print('\\n' + 'Среднее кол-во переходов в обучение:',\n",
    "      round(events.query('event == \"Tutorial\"').qnt[4] / user_num, 2))"
   ]
  },
  {
   "cell_type": "markdown",
   "metadata": {},
   "source": [
    "В среднем за неделю пользователи заходят в приложение около 15 раз.\n",
    "\n",
    "Однако просматривают товары в 2,5 раза реже. <br>\n",
    "Конверсия из открытия приложения в просмотр товара низкая.\n",
    "\n",
    "Стоит изучить поведение пользователей, которые открывают главный экран и больше ничего не делают, и попытаться выяснить, почему они так себя ведут: им не интересно? не могут найти то, что нужно? и т.д."
   ]
  },
  {
   "cell_type": "markdown",
   "metadata": {},
   "source": [
    "**Проверим актуальность и полноту данных.**\n",
    "\n",
    "Данными за какой период вы располагаете? Найдите максимальную и минимальную дату.\n",
    "\n",
    "Постройте гистограмму по дате и времени. Можно ли быть уверенным, что у вас одинаково полные данные за весь период?\n",
    "\n",
    "Технически в логи новых дней по некоторым пользователям могут «доезжать» события из прошлого — это может «перекашивать данные». Определите, с какого момента данные полные и отбросьте более старые. Данными за какой период времени вы располагаете на самом деле?"
   ]
  },
  {
   "cell_type": "code",
   "execution_count": 13,
   "metadata": {},
   "outputs": [
    {
     "data": {
      "text/plain": [
       "count                  243713\n",
       "unique                     14\n",
       "top       2019-08-01 00:00:00\n",
       "freq                    36141\n",
       "first     2019-07-25 00:00:00\n",
       "last      2019-08-07 00:00:00\n",
       "Name: date, dtype: object"
      ]
     },
     "execution_count": 13,
     "metadata": {},
     "output_type": "execute_result"
    }
   ],
   "source": [
    "df.date.describe()"
   ]
  },
  {
   "cell_type": "markdown",
   "metadata": {},
   "source": [
    "Данные за период с 25 июля 2019 по 7 августа 2019."
   ]
  },
  {
   "cell_type": "code",
   "execution_count": 14,
   "metadata": {
    "scrolled": false
   },
   "outputs": [
    {
     "data": {
      "image/png": "[encoded data removed]",
      "text/plain": [
       "<Figure size 1152x360 with 1 Axes>"
      ]
     },
     "metadata": {},
     "output_type": "display_data"
    }
   ],
   "source": [
    "plt.figure(figsize=(16, 5))\n",
    "df.date_time.hist(bins = 25)\n",
    "plt.xlabel('\\n' + 'дата')\n",
    "plt.ylabel('кол-во записей' + '\\n')\n",
    "plt.title('\\n' + 'Распределение кол-ва логов по дням' + '\\n')\n",
    "plt.show()"
   ]
  },
  {
   "cell_type": "markdown",
   "metadata": {},
   "source": [
    "По распределению кол-ва записей в логах по дням видно, что большая часть записей находится в периоде между 1 и 7 августа.\n",
    "\n",
    "Посмотрим на это распределение поближе."
   ]
  },
  {
   "cell_type": "code",
   "execution_count": 15,
   "metadata": {
    "scrolled": false
   },
   "outputs": [
    {
     "data": {
      "image/png": "[encoded data removed]",
      "text/plain": [
       "<Figure size 1152x360 with 1 Axes>"
      ]
     },
     "metadata": {},
     "output_type": "display_data"
    }
   ],
   "source": [
    "plt.figure(figsize=(16, 5))\n",
    "df.date_time.hist(bins = 25, range = ('2019-08-01 00:00:00', '2019-08-07 23:59:59'))\n",
    "\n",
    "plt.xlabel('\\n' + 'дата')\n",
    "plt.ylabel('кол-во записей' + '\\n')\n",
    "plt.title('\\n' + 'Распределение кол-ва логов по дням' + '\\n')\n",
    "plt.show()"
   ]
  },
  {
   "cell_type": "markdown",
   "metadata": {},
   "source": [
    "Распределение выглядит адекватно. Провалы в кол-ве записей \"ритмичны\": скорее всего это снижение кол-ва посещений приложения в выходные.\n",
    "\n",
    "Проверим, какую долю от всех данные составляют записи июля и обновим датафрейм."
   ]
  },
  {
   "cell_type": "code",
   "execution_count": 16,
   "metadata": {
    "scrolled": true
   },
   "outputs": [
    {
     "name": "stdout",
     "output_type": "stream",
     "text": [
      "\n",
      "Всего записей в датафрейме: 243713\n",
      "Доля устаревших записей: 0.01\n",
      "Всего удалим записей: 2826\n",
      "Кол-во оставшихся записей: 240887 \n",
      "\n",
      "\n",
      "Всего пользователей в датафрейме 7551\n",
      "Доля удаляемых пользователей: 0.0023\n",
      "Всего удалим пользователей: 17\n",
      "Кол-во оставшихся пользователей: 7534 \n",
      "\n"
     ]
    }
   ],
   "source": [
    "print('\\n' + 'Всего записей в датафрейме:', len(df))\n",
    "print('Доля устаревших записей:', round(len(df.query('date < \"2019-08-01\"')) / len(df), 2))\n",
    "print('Всего удалим записей:', len(df.query('date < \"2019-08-01\"')))\n",
    "print('Кол-во оставшихся записей:', len(df) - len(df.query('date < \"2019-08-01\"')), '\\n')\n",
    "\n",
    "\n",
    "\n",
    "print('\\n' + 'Всего пользователей в датафрейме', df.userid.nunique())\n",
    "print('Доля удаляемых пользователей:', round((df.userid.nunique() - df.query('date > \"2019-07-31\"').userid.nunique()) / df.userid.nunique(), 4))\n",
    "print('Всего удалим пользователей:', df.userid.nunique() - df.query('date > \"2019-07-31\"').userid.nunique())\n",
    "print('Кол-во оставшихся пользователей:', df.query('date > \"2019-07-31\"').userid.nunique(), '\\n')"
   ]
  },
  {
   "cell_type": "markdown",
   "metadata": {},
   "source": [
    "Доля устаревших записей совсем небольшая.\n",
    "\n",
    "Обновим датафрейм."
   ]
  },
  {
   "cell_type": "code",
   "execution_count": 17,
   "metadata": {},
   "outputs": [
    {
     "data": {
      "image/png": "[encoded data removed]",
      "text/plain": [
       "<Figure size 1152x360 with 1 Axes>"
      ]
     },
     "metadata": {},
     "output_type": "display_data"
    }
   ],
   "source": [
    "df = df.query('date > \"2019-07-31\"')\n",
    "\n",
    "plt.figure(figsize=(16, 5))\n",
    "df.date_time.hist(bins = 25, range = ('2019-08-01 00:00:00', '2019-08-07 23:59:59'))\n",
    "\n",
    "plt.xlabel('\\n' + 'дата')\n",
    "plt.ylabel('кол-во записей' + '\\n')\n",
    "plt.title('\\n' + 'Распределение кол-ва логов по дням' + '\\n')\n",
    "plt.show()"
   ]
  },
  {
   "cell_type": "markdown",
   "metadata": {},
   "source": [
    "Проверим, сколько пользователей в каждой группе осталось."
   ]
  },
  {
   "cell_type": "code",
   "execution_count": 18,
   "metadata": {
    "scrolled": true
   },
   "outputs": [
    {
     "data": {
      "text/html": [
       "<div>\n",
       "<style scoped>\n",
       "    .dataframe tbody tr th:only-of-type {\n",
       "        vertical-align: middle;\n",
       "    }\n",
       "\n",
       "    .dataframe tbody tr th {\n",
       "        vertical-align: top;\n",
       "    }\n",
       "\n",
       "    .dataframe thead th {\n",
       "        text-align: right;\n",
       "    }\n",
       "</style>\n",
       "<table border=\"1\" class=\"dataframe\">\n",
       "  <thead>\n",
       "    <tr style=\"text-align: right;\">\n",
       "      <th></th>\n",
       "      <th>userid</th>\n",
       "    </tr>\n",
       "    <tr>\n",
       "      <th>testgroup</th>\n",
       "      <th></th>\n",
       "    </tr>\n",
       "  </thead>\n",
       "  <tbody>\n",
       "    <tr>\n",
       "      <td>246</td>\n",
       "      <td>2484</td>\n",
       "    </tr>\n",
       "    <tr>\n",
       "      <td>247</td>\n",
       "      <td>2513</td>\n",
       "    </tr>\n",
       "    <tr>\n",
       "      <td>248</td>\n",
       "      <td>2537</td>\n",
       "    </tr>\n",
       "  </tbody>\n",
       "</table>\n",
       "</div>"
      ],
      "text/plain": [
       "           userid\n",
       "testgroup        \n",
       "246          2484\n",
       "247          2513\n",
       "248          2537"
      ]
     },
     "execution_count": 18,
     "metadata": {},
     "output_type": "execute_result"
    }
   ],
   "source": [
    "df.groupby('testgroup').agg({'userid': 'nunique'})"
   ]
  },
  {
   "cell_type": "markdown",
   "metadata": {},
   "source": [
    "Пользователи распределены между группами примерно в равных пропорциях и такого распределения будет достаточно для A/A/B-теста."
   ]
  },
  {
   "cell_type": "markdown",
   "metadata": {},
   "source": [
    "### Результаты предобработки <a id=\"conclusion1\"></a>\n",
    "\n",
    "1. Создали столбцы с датой и временем события (вместе и дата отдельно)\n",
    "2. Заменили названия столбоц на более удобные\n",
    "3. Проверили, есть ли пропуски: их не оказалось\n",
    "4. Удалили полные дубликаты\n",
    "5. Столбцы с датами привели к нужному типу данных\n",
    "6. Проверили тестовые группы на пересечение по пользователям: пересечений нет\n",
    "7. Определили кол-во событий в логах: 5 уникальных событий о посещении ключевых экранов приложения\n",
    "8. Определили кол-во событий на пользователя: средний пользователей совершает 32 действия (за две недели)\n",
    "9. Очистили датафрейм от устаревших данных и за актуальный период взяли первую неделю августа\n",
    "10. Удостоверились, что после очистки распределение пользователей по группам осталось достаточным для проведения теста\n",
    "\n",
    "***"
   ]
  },
  {
   "cell_type": "markdown",
   "metadata": {},
   "source": [
    "## Шаг 2. Анализ воронки событий <a id=\"Шаг_2\"></a>\n",
    "[К оглавлению](#оглавление)<br>\n",
    "[К выводам по шагу](#conclusion2)\n",
    "\n",
    "+ Определим последовательность событий в воронке\n",
    "+ Изучим конверсию из события в событие\n",
    "+ Узнаем, какая доля пользователей успешно доходит до оплаты заказа"
   ]
  },
  {
   "cell_type": "markdown",
   "metadata": {},
   "source": [
    "Посмотрим, сколько событий осталось в очищенных логах, как часто они встречаются и сколько пользователей их совершали.\n",
    "\n",
    "Также от общего числа пользователей найдем долю совершивших каждое из действий."
   ]
  },
  {
   "cell_type": "code",
   "execution_count": 19,
   "metadata": {
    "scrolled": false
   },
   "outputs": [
    {
     "data": {
      "text/html": [
       "<div>\n",
       "<style scoped>\n",
       "    .dataframe tbody tr th:only-of-type {\n",
       "        vertical-align: middle;\n",
       "    }\n",
       "\n",
       "    .dataframe tbody tr th {\n",
       "        vertical-align: top;\n",
       "    }\n",
       "\n",
       "    .dataframe thead th {\n",
       "        text-align: right;\n",
       "    }\n",
       "</style>\n",
       "<table border=\"1\" class=\"dataframe\">\n",
       "  <thead>\n",
       "    <tr style=\"text-align: right;\">\n",
       "      <th></th>\n",
       "      <th>users_performed</th>\n",
       "      <th>count</th>\n",
       "      <th>users_share_of_total</th>\n",
       "    </tr>\n",
       "    <tr>\n",
       "      <th>event</th>\n",
       "      <th></th>\n",
       "      <th></th>\n",
       "      <th></th>\n",
       "    </tr>\n",
       "  </thead>\n",
       "  <tbody>\n",
       "    <tr>\n",
       "      <td>MainScreenAppear</td>\n",
       "      <td>7419</td>\n",
       "      <td>117328</td>\n",
       "      <td>0.98</td>\n",
       "    </tr>\n",
       "    <tr>\n",
       "      <td>OffersScreenAppear</td>\n",
       "      <td>4593</td>\n",
       "      <td>46333</td>\n",
       "      <td>0.61</td>\n",
       "    </tr>\n",
       "    <tr>\n",
       "      <td>CartScreenAppear</td>\n",
       "      <td>3734</td>\n",
       "      <td>42303</td>\n",
       "      <td>0.50</td>\n",
       "    </tr>\n",
       "    <tr>\n",
       "      <td>PaymentScreenSuccessful</td>\n",
       "      <td>3539</td>\n",
       "      <td>33918</td>\n",
       "      <td>0.47</td>\n",
       "    </tr>\n",
       "    <tr>\n",
       "      <td>Tutorial</td>\n",
       "      <td>840</td>\n",
       "      <td>1005</td>\n",
       "      <td>0.11</td>\n",
       "    </tr>\n",
       "  </tbody>\n",
       "</table>\n",
       "</div>"
      ],
      "text/plain": [
       "                         users_performed   count  users_share_of_total\n",
       "event                                                                 \n",
       "MainScreenAppear                    7419  117328                  0.98\n",
       "OffersScreenAppear                  4593   46333                  0.61\n",
       "CartScreenAppear                    3734   42303                  0.50\n",
       "PaymentScreenSuccessful             3539   33918                  0.47\n",
       "Tutorial                             840    1005                  0.11"
      ]
     },
     "execution_count": 19,
     "metadata": {},
     "output_type": "execute_result"
    }
   ],
   "source": [
    "# найдем кол-во всех событий и кол-во уникальных пользователей, которые их совершили\n",
    "events_count = (df\n",
    "                    .groupby('event')\n",
    "                    .agg(users_performed = ('userid', 'nunique'),count = ('userid', 'count'))\n",
    "                .sort_values('count', ascending = False)\n",
    "               )\n",
    "\n",
    "# посчитаем долю пользователей совершивших каждое событие\n",
    "events_count['users_share_of_total'] = events_count.users_performed / df.userid.nunique()\n",
    "\n",
    "\n",
    "events_count"
   ]
  },
  {
   "cell_type": "markdown",
   "metadata": {},
   "source": [
    "Только 98,5% пользователей посещают главный экран, хотя его нельзя пропустить при открытии приложения.<br>\n",
    "Скорее всего такое значение возникло из-за удалений устаревших данных.\n",
    "\n",
    "Часть оставшихся пользователей в очищенном датасете проходили первый этап воронки еще в июле, но мы их удалили и в августе не у всех пользователей первый этап оказался пройденным."
   ]
  },
  {
   "cell_type": "markdown",
   "metadata": {},
   "source": [
    "61% всех пользователей действительно интересуются товарами в приложении (переходят на страницу товара).\n",
    "\n",
    "Только около половины всех пользователей что-то заказывают. Остальные 43% пользователей за неделю еще ничего не покупали.\n",
    "\n",
    "Нормально это или нет — зависит от того, как часто, пользователи, которые покупают, делают заказы (ведь цикл покупки может быть дольше недели).\n",
    "\n",
    "Можно это проверить. <br>\n",
    "Мы знаем, что у нас есть данные за неделю. Посмотрим, сколько заказов в среднем делают пользователи за неделю."
   ]
  },
  {
   "cell_type": "code",
   "execution_count": 20,
   "metadata": {
    "scrolled": true
   },
   "outputs": [
    {
     "name": "stdout",
     "output_type": "stream",
     "text": [
      "\n",
      "Количество покупок в неделю у половины пользователей: 4.0\n"
     ]
    }
   ],
   "source": [
    "print(\n",
    "        '\\n' + 'Количество покупок в неделю у половины пользователей:',\n",
    "df.query('event == \"PaymentScreenSuccessful\"').groupby('userid').agg({'event': 'count'}).median()[0]\n",
    "    )"
   ]
  },
  {
   "cell_type": "markdown",
   "metadata": {},
   "source": [
    "Половина пользователей совершает больше 1 покупки в неделю.\n",
    "\n",
    "Значит цикл покупки точно короче 7 дней.\n",
    "\n",
    "Следовательно, мы имеем низкую долю платящих пользователей в нашем датасете не из-за этого.\n",
    "\n",
    "Половина пользователей действительно не хочет совершать заказы."
   ]
  },
  {
   "cell_type": "markdown",
   "metadata": {},
   "source": [
    "Обучение (Tutorial) — необязательный этап приложения, его проходит всего 11% всех пользователей. <br>\n",
    "Поэтому этот этап можно исключить из воронки.\n",
    "\n",
    "Остальные события складываются в логичную последовательность:\n",
    "1. пользователь попадает на главный экран приложения\n",
    "2. затем переходит на страницу товара\n",
    "3. кладет товар в корзину\n",
    "4. оплачивает заказ\n",
    "\n",
    "При этом пользователь может класть несколько разных товаров в корзину и переходить между корзиной и карточкой товара несколько раз (класть товар в корзину, смотреть корзину, снова возвращаться к карточке товара и снова в корзину). <br>\n",
    "\n",
    "Поэтому для анализа пользователей лучше использовать простую воронку, а не воронку с последовательностью."
   ]
  },
  {
   "cell_type": "markdown",
   "metadata": {},
   "source": [
    "Посмотрим на эту воронку."
   ]
  },
  {
   "cell_type": "code",
   "execution_count": 91,
   "metadata": {
    "scrolled": false
   },
   "outputs": [
    {
     "data": {
      "application/vnd.plotly.v1+json": {
       "config": {
        "plotlyServerURL": "https://plot.ly"
       },
       "data": [
        {
         "hovertemplate": "от всех пользователей: %{percentInitial} <br> от прошлого шага: %{percentPrevious}",
         "textinfo": "value+percent previous",
         "type": "funnel",
         "x": [
          7534,
          7419,
          4593,
          3734,
          3539
         ],
         "y": [
          "Всего пользователей  ",
          "Просмотр главного экрана  ",
          "Просмотр страницы товара  ",
          "Переход в корзину (оформление заказа)  ",
          "Успешная оплата  "
         ]
        }
       ],
       "layout": {
        "template": {
         "data": {
          "bar": [
           {
            "error_x": {
             "color": "#2a3f5f"
            },
            "error_y": {
             "color": "#2a3f5f"
            },
            "marker": {
             "line": {
              "color": "#E5ECF6",
              "width": 0.5
             }
            },
            "type": "bar"
           }
          ],
          "barpolar": [
           {
            "marker": {
             "line": {
              "color": "#E5ECF6",
              "width": 0.5
             }
            },
            "type": "barpolar"
           }
          ],
          "carpet": [
           {
            "aaxis": {
             "endlinecolor": "#2a3f5f",
             "gridcolor": "white",
             "linecolor": "white",
             "minorgridcolor": "white",
             "startlinecolor": "#2a3f5f"
            },
            "baxis": {
             "endlinecolor": "#2a3f5f",
             "gridcolor": "white",
             "linecolor": "white",
             "minorgridcolor": "white",
             "startlinecolor": "#2a3f5f"
            },
            "type": "carpet"
           }
          ],
          "choropleth": [
           {
            "colorbar": {
             "outlinewidth": 0,
             "ticks": ""
            },
            "type": "choropleth"
           }
          ],
          "contour": [
           {
            "colorbar": {
             "outlinewidth": 0,
             "ticks": ""
            },
            "colorscale": [
             [
              0,
              "#0d0887"
             ],
             [
              0.1111111111111111,
              "#46039f"
             ],
             [
              0.2222222222222222,
              "#7201a8"
             ],
             [
              0.3333333333333333,
              "#9c179e"
             ],
             [
              0.4444444444444444,
              "#bd3786"
             ],
             [
              0.5555555555555556,
              "#d8576b"
             ],
             [
              0.6666666666666666,
              "#ed7953"
             ],
             [
              0.7777777777777778,
              "#fb9f3a"
             ],
             [
              0.8888888888888888,
              "#fdca26"
             ],
             [
              1,
              "#f0f921"
             ]
            ],
            "type": "contour"
           }
          ],
          "contourcarpet": [
           {
            "colorbar": {
             "outlinewidth": 0,
             "ticks": ""
            },
            "type": "contourcarpet"
           }
          ],
          "heatmap": [
           {
            "colorbar": {
             "outlinewidth": 0,
             "ticks": ""
            },
            "colorscale": [
             [
              0,
              "#0d0887"
             ],
             [
              0.1111111111111111,
              "#46039f"
             ],
             [
              0.2222222222222222,
              "#7201a8"
             ],
             [
              0.3333333333333333,
              "#9c179e"
             ],
             [
              0.4444444444444444,
              "#bd3786"
             ],
             [
              0.5555555555555556,
              "#d8576b"
             ],
             [
              0.6666666666666666,
              "#ed7953"
             ],
             [
              0.7777777777777778,
              "#fb9f3a"
             ],
             [
              0.8888888888888888,
              "#fdca26"
             ],
             [
              1,
              "#f0f921"
             ]
            ],
            "type": "heatmap"
           }
          ],
          "heatmapgl": [
           {
            "colorbar": {
             "outlinewidth": 0,
             "ticks": ""
            },
            "colorscale": [
             [
              0,
              "#0d0887"
             ],
             [
              0.1111111111111111,
              "#46039f"
             ],
             [
              0.2222222222222222,
              "#7201a8"
             ],
             [
              0.3333333333333333,
              "#9c179e"
             ],
             [
              0.4444444444444444,
              "#bd3786"
             ],
             [
              0.5555555555555556,
              "#d8576b"
             ],
             [
              0.6666666666666666,
              "#ed7953"
             ],
             [
              0.7777777777777778,
              "#fb9f3a"
             ],
             [
              0.8888888888888888,
              "#fdca26"
             ],
             [
              1,
              "#f0f921"
             ]
            ],
            "type": "heatmapgl"
           }
          ],
          "histogram": [
           {
            "marker": {
             "colorbar": {
              "outlinewidth": 0,
              "ticks": ""
             }
            },
            "type": "histogram"
           }
          ],
          "histogram2d": [
           {
            "colorbar": {
             "outlinewidth": 0,
             "ticks": ""
            },
            "colorscale": [
             [
              0,
              "#0d0887"
             ],
             [
              0.1111111111111111,
              "#46039f"
             ],
             [
              0.2222222222222222,
              "#7201a8"
             ],
             [
              0.3333333333333333,
              "#9c179e"
             ],
             [
              0.4444444444444444,
              "#bd3786"
             ],
             [
              0.5555555555555556,
              "#d8576b"
             ],
             [
              0.6666666666666666,
              "#ed7953"
             ],
             [
              0.7777777777777778,
              "#fb9f3a"
             ],
             [
              0.8888888888888888,
              "#fdca26"
             ],
             [
              1,
              "#f0f921"
             ]
            ],
            "type": "histogram2d"
           }
          ],
          "histogram2dcontour": [
           {
            "colorbar": {
             "outlinewidth": 0,
             "ticks": ""
            },
            "colorscale": [
             [
              0,
              "#0d0887"
             ],
             [
              0.1111111111111111,
              "#46039f"
             ],
             [
              0.2222222222222222,
              "#7201a8"
             ],
             [
              0.3333333333333333,
              "#9c179e"
             ],
             [
              0.4444444444444444,
              "#bd3786"
             ],
             [
              0.5555555555555556,
              "#d8576b"
             ],
             [
              0.6666666666666666,
              "#ed7953"
             ],
             [
              0.7777777777777778,
              "#fb9f3a"
             ],
             [
              0.8888888888888888,
              "#fdca26"
             ],
             [
              1,
              "#f0f921"
             ]
            ],
            "type": "histogram2dcontour"
           }
          ],
          "mesh3d": [
           {
            "colorbar": {
             "outlinewidth": 0,
             "ticks": ""
            },
            "type": "mesh3d"
           }
          ],
          "parcoords": [
           {
            "line": {
             "colorbar": {
              "outlinewidth": 0,
              "ticks": ""
             }
            },
            "type": "parcoords"
           }
          ],
          "scatter": [
           {
            "marker": {
             "colorbar": {
              "outlinewidth": 0,
              "ticks": ""
             }
            },
            "type": "scatter"
           }
          ],
          "scatter3d": [
           {
            "line": {
             "colorbar": {
              "outlinewidth": 0,
              "ticks": ""
             }
            },
            "marker": {
             "colorbar": {
              "outlinewidth": 0,
              "ticks": ""
             }
            },
            "type": "scatter3d"
           }
          ],
          "scattercarpet": [
           {
            "marker": {
             "colorbar": {
              "outlinewidth": 0,
              "ticks": ""
             }
            },
            "type": "scattercarpet"
           }
          ],
          "scattergeo": [
           {
            "marker": {
             "colorbar": {
              "outlinewidth": 0,
              "ticks": ""
             }
            },
            "type": "scattergeo"
           }
          ],
          "scattergl": [
           {
            "marker": {
             "colorbar": {
              "outlinewidth": 0,
              "ticks": ""
             }
            },
            "type": "scattergl"
           }
          ],
          "scattermapbox": [
           {
            "marker": {
             "colorbar": {
              "outlinewidth": 0,
              "ticks": ""
             }
            },
            "type": "scattermapbox"
           }
          ],
          "scatterpolar": [
           {
            "marker": {
             "colorbar": {
              "outlinewidth": 0,
              "ticks": ""
             }
            },
            "type": "scatterpolar"
           }
          ],
          "scatterpolargl": [
           {
            "marker": {
             "colorbar": {
              "outlinewidth": 0,
              "ticks": ""
             }
            },
            "type": "scatterpolargl"
           }
          ],
          "scatterternary": [
           {
            "marker": {
             "colorbar": {
              "outlinewidth": 0,
              "ticks": ""
             }
            },
            "type": "scatterternary"
           }
          ],
          "surface": [
           {
            "colorbar": {
             "outlinewidth": 0,
             "ticks": ""
            },
            "colorscale": [
             [
              0,
              "#0d0887"
             ],
             [
              0.1111111111111111,
              "#46039f"
             ],
             [
              0.2222222222222222,
              "#7201a8"
             ],
             [
              0.3333333333333333,
              "#9c179e"
             ],
             [
              0.4444444444444444,
              "#bd3786"
             ],
             [
              0.5555555555555556,
              "#d8576b"
             ],
             [
              0.6666666666666666,
              "#ed7953"
             ],
             [
              0.7777777777777778,
              "#fb9f3a"
             ],
             [
              0.8888888888888888,
              "#fdca26"
             ],
             [
              1,
              "#f0f921"
             ]
            ],
            "type": "surface"
           }
          ],
          "table": [
           {
            "cells": {
             "fill": {
              "color": "#EBF0F8"
             },
             "line": {
              "color": "white"
             }
            },
            "header": {
             "fill": {
              "color": "#C8D4E3"
             },
             "line": {
              "color": "white"
             }
            },
            "type": "table"
           }
          ]
         },
         "layout": {
          "annotationdefaults": {
           "arrowcolor": "#2a3f5f",
           "arrowhead": 0,
           "arrowwidth": 1
          },
          "colorscale": {
           "diverging": [
            [
             0,
             "#8e0152"
            ],
            [
             0.1,
             "#c51b7d"
            ],
            [
             0.2,
             "#de77ae"
            ],
            [
             0.3,
             "#f1b6da"
            ],
            [
             0.4,
             "#fde0ef"
            ],
            [
             0.5,
             "#f7f7f7"
            ],
            [
             0.6,
             "#e6f5d0"
            ],
            [
             0.7,
             "#b8e186"
            ],
            [
             0.8,
             "#7fbc41"
            ],
            [
             0.9,
             "#4d9221"
            ],
            [
             1,
             "#276419"
            ]
           ],
           "sequential": [
            [
             0,
             "#0d0887"
            ],
            [
             0.1111111111111111,
             "#46039f"
            ],
            [
             0.2222222222222222,
             "#7201a8"
            ],
            [
             0.3333333333333333,
             "#9c179e"
            ],
            [
             0.4444444444444444,
             "#bd3786"
            ],
            [
             0.5555555555555556,
             "#d8576b"
            ],
            [
             0.6666666666666666,
             "#ed7953"
            ],
            [
             0.7777777777777778,
             "#fb9f3a"
            ],
            [
             0.8888888888888888,
             "#fdca26"
            ],
            [
             1,
             "#f0f921"
            ]
           ],
           "sequentialminus": [
            [
             0,
             "#0d0887"
            ],
            [
             0.1111111111111111,
             "#46039f"
            ],
            [
             0.2222222222222222,
             "#7201a8"
            ],
            [
             0.3333333333333333,
             "#9c179e"
            ],
            [
             0.4444444444444444,
             "#bd3786"
            ],
            [
             0.5555555555555556,
             "#d8576b"
            ],
            [
             0.6666666666666666,
             "#ed7953"
            ],
            [
             0.7777777777777778,
             "#fb9f3a"
            ],
            [
             0.8888888888888888,
             "#fdca26"
            ],
            [
             1,
             "#f0f921"
            ]
           ]
          },
          "colorway": [
           "#636efa",
           "#EF553B",
           "#00cc96",
           "#ab63fa",
           "#FFA15A",
           "#19d3f3",
           "#FF6692",
           "#B6E880",
           "#FF97FF",
           "#FECB52"
          ],
          "font": {
           "color": "#2a3f5f"
          },
          "geo": {
           "bgcolor": "white",
           "lakecolor": "white",
           "landcolor": "#E5ECF6",
           "showlakes": true,
           "showland": true,
           "subunitcolor": "white"
          },
          "hoverlabel": {
           "align": "left"
          },
          "hovermode": "closest",
          "mapbox": {
           "style": "light"
          },
          "paper_bgcolor": "white",
          "plot_bgcolor": "#E5ECF6",
          "polar": {
           "angularaxis": {
            "gridcolor": "white",
            "linecolor": "white",
            "ticks": ""
           },
           "bgcolor": "#E5ECF6",
           "radialaxis": {
            "gridcolor": "white",
            "linecolor": "white",
            "ticks": ""
           }
          },
          "scene": {
           "xaxis": {
            "backgroundcolor": "#E5ECF6",
            "gridcolor": "white",
            "gridwidth": 2,
            "linecolor": "white",
            "showbackground": true,
            "ticks": "",
            "zerolinecolor": "white"
           },
           "yaxis": {
            "backgroundcolor": "#E5ECF6",
            "gridcolor": "white",
            "gridwidth": 2,
            "linecolor": "white",
            "showbackground": true,
            "ticks": "",
            "zerolinecolor": "white"
           },
           "zaxis": {
            "backgroundcolor": "#E5ECF6",
            "gridcolor": "white",
            "gridwidth": 2,
            "linecolor": "white",
            "showbackground": true,
            "ticks": "",
            "zerolinecolor": "white"
           }
          },
          "shapedefaults": {
           "line": {
            "color": "#2a3f5f"
           }
          },
          "ternary": {
           "aaxis": {
            "gridcolor": "white",
            "linecolor": "white",
            "ticks": ""
           },
           "baxis": {
            "gridcolor": "white",
            "linecolor": "white",
            "ticks": ""
           },
           "bgcolor": "#E5ECF6",
           "caxis": {
            "gridcolor": "white",
            "linecolor": "white",
            "ticks": ""
           }
          },
          "title": {
           "x": 0.05
          },
          "xaxis": {
           "automargin": true,
           "gridcolor": "white",
           "linecolor": "white",
           "ticks": "",
           "zerolinecolor": "white",
           "zerolinewidth": 2
          },
          "yaxis": {
           "automargin": true,
           "gridcolor": "white",
           "linecolor": "white",
           "ticks": "",
           "zerolinecolor": "white",
           "zerolinewidth": 2
          }
         }
        },
        "title": {
         "text": "\nПереходы пользователей между разными экранами приложения (проценты — доля от предыдущего шага)"
        }
       }
      },
      "text/html": [
       "<div>\n",
       "        \n",
       "        \n",
       "            <div id=\"ec42436f-39f9-46b7-aced-549cd3ed08de\" class=\"plotly-graph-div\" style=\"height:525px; width:100%;\"></div>\n",
       "            <script type=\"text/javascript\">\n",
       "                require([\"plotly\"], function(Plotly) {\n",
       "                    window.PLOTLYENV=window.PLOTLYENV || {};\n",
       "                    \n",
       "                if (document.getElementById(\"ec42436f-39f9-46b7-aced-549cd3ed08de\")) {\n",
       "                    Plotly.newPlot(\n",
       "                        'ec42436f-39f9-46b7-aced-549cd3ed08de',\n",
       "                        [{\"hovertemplate\": \"\\u043e\\u0442 \\u0432\\u0441\\u0435\\u0445 \\u043f\\u043e\\u043b\\u044c\\u0437\\u043e\\u0432\\u0430\\u0442\\u0435\\u043b\\u0435\\u0439: %{percentInitial} <br> \\u043e\\u0442 \\u043f\\u0440\\u043e\\u0448\\u043b\\u043e\\u0433\\u043e \\u0448\\u0430\\u0433\\u0430: %{percentPrevious}\", \"textinfo\": \"value+percent previous\", \"type\": \"funnel\", \"x\": [7534, 7419, 4593, 3734, 3539], \"y\": [\"\\u0412\\u0441\\u0435\\u0433\\u043e \\u043f\\u043e\\u043b\\u044c\\u0437\\u043e\\u0432\\u0430\\u0442\\u0435\\u043b\\u0435\\u0439  \", \"\\u041f\\u0440\\u043e\\u0441\\u043c\\u043e\\u0442\\u0440 \\u0433\\u043b\\u0430\\u0432\\u043d\\u043e\\u0433\\u043e \\u044d\\u043a\\u0440\\u0430\\u043d\\u0430  \", \"\\u041f\\u0440\\u043e\\u0441\\u043c\\u043e\\u0442\\u0440 \\u0441\\u0442\\u0440\\u0430\\u043d\\u0438\\u0446\\u044b \\u0442\\u043e\\u0432\\u0430\\u0440\\u0430  \", \"\\u041f\\u0435\\u0440\\u0435\\u0445\\u043e\\u0434 \\u0432 \\u043a\\u043e\\u0440\\u0437\\u0438\\u043d\\u0443 (\\u043e\\u0444\\u043e\\u0440\\u043c\\u043b\\u0435\\u043d\\u0438\\u0435 \\u0437\\u0430\\u043a\\u0430\\u0437\\u0430)  \", \"\\u0423\\u0441\\u043f\\u0435\\u0448\\u043d\\u0430\\u044f \\u043e\\u043f\\u043b\\u0430\\u0442\\u0430  \"]}],\n",
       "                        {\"template\": {\"data\": {\"bar\": [{\"error_x\": {\"color\": \"#2a3f5f\"}, \"error_y\": {\"color\": \"#2a3f5f\"}, \"marker\": {\"line\": {\"color\": \"#E5ECF6\", \"width\": 0.5}}, \"type\": \"bar\"}], \"barpolar\": [{\"marker\": {\"line\": {\"color\": \"#E5ECF6\", \"width\": 0.5}}, \"type\": \"barpolar\"}], \"carpet\": [{\"aaxis\": {\"endlinecolor\": \"#2a3f5f\", \"gridcolor\": \"white\", \"linecolor\": \"white\", \"minorgridcolor\": \"white\", \"startlinecolor\": \"#2a3f5f\"}, \"baxis\": {\"endlinecolor\": \"#2a3f5f\", \"gridcolor\": \"white\", \"linecolor\": \"white\", \"minorgridcolor\": \"white\", \"startlinecolor\": \"#2a3f5f\"}, \"type\": \"carpet\"}], \"choropleth\": [{\"colorbar\": {\"outlinewidth\": 0, \"ticks\": \"\"}, \"type\": \"choropleth\"}], \"contour\": [{\"colorbar\": {\"outlinewidth\": 0, \"ticks\": \"\"}, \"colorscale\": [[0.0, \"#0d0887\"], [0.1111111111111111, \"#46039f\"], [0.2222222222222222, \"#7201a8\"], [0.3333333333333333, \"#9c179e\"], [0.4444444444444444, \"#bd3786\"], [0.5555555555555556, \"#d8576b\"], [0.6666666666666666, \"#ed7953\"], [0.7777777777777778, \"#fb9f3a\"], [0.8888888888888888, \"#fdca26\"], [1.0, \"#f0f921\"]], \"type\": \"contour\"}], \"contourcarpet\": [{\"colorbar\": {\"outlinewidth\": 0, \"ticks\": \"\"}, \"type\": \"contourcarpet\"}], \"heatmap\": [{\"colorbar\": {\"outlinewidth\": 0, \"ticks\": \"\"}, \"colorscale\": [[0.0, \"#0d0887\"], [0.1111111111111111, \"#46039f\"], [0.2222222222222222, \"#7201a8\"], [0.3333333333333333, \"#9c179e\"], [0.4444444444444444, \"#bd3786\"], [0.5555555555555556, \"#d8576b\"], [0.6666666666666666, \"#ed7953\"], [0.7777777777777778, \"#fb9f3a\"], [0.8888888888888888, \"#fdca26\"], [1.0, \"#f0f921\"]], \"type\": \"heatmap\"}], \"heatmapgl\": [{\"colorbar\": {\"outlinewidth\": 0, \"ticks\": \"\"}, \"colorscale\": [[0.0, \"#0d0887\"], [0.1111111111111111, \"#46039f\"], [0.2222222222222222, \"#7201a8\"], [0.3333333333333333, \"#9c179e\"], [0.4444444444444444, \"#bd3786\"], [0.5555555555555556, \"#d8576b\"], [0.6666666666666666, \"#ed7953\"], [0.7777777777777778, \"#fb9f3a\"], [0.8888888888888888, \"#fdca26\"], [1.0, \"#f0f921\"]], \"type\": \"heatmapgl\"}], \"histogram\": [{\"marker\": {\"colorbar\": {\"outlinewidth\": 0, \"ticks\": \"\"}}, \"type\": \"histogram\"}], \"histogram2d\": [{\"colorbar\": {\"outlinewidth\": 0, \"ticks\": \"\"}, \"colorscale\": [[0.0, \"#0d0887\"], [0.1111111111111111, \"#46039f\"], [0.2222222222222222, \"#7201a8\"], [0.3333333333333333, \"#9c179e\"], [0.4444444444444444, \"#bd3786\"], [0.5555555555555556, \"#d8576b\"], [0.6666666666666666, \"#ed7953\"], [0.7777777777777778, \"#fb9f3a\"], [0.8888888888888888, \"#fdca26\"], [1.0, \"#f0f921\"]], \"type\": \"histogram2d\"}], \"histogram2dcontour\": [{\"colorbar\": {\"outlinewidth\": 0, \"ticks\": \"\"}, \"colorscale\": [[0.0, \"#0d0887\"], [0.1111111111111111, \"#46039f\"], [0.2222222222222222, \"#7201a8\"], [0.3333333333333333, \"#9c179e\"], [0.4444444444444444, \"#bd3786\"], [0.5555555555555556, \"#d8576b\"], [0.6666666666666666, \"#ed7953\"], [0.7777777777777778, \"#fb9f3a\"], [0.8888888888888888, \"#fdca26\"], [1.0, \"#f0f921\"]], \"type\": \"histogram2dcontour\"}], \"mesh3d\": [{\"colorbar\": {\"outlinewidth\": 0, \"ticks\": \"\"}, \"type\": \"mesh3d\"}], \"parcoords\": [{\"line\": {\"colorbar\": {\"outlinewidth\": 0, \"ticks\": \"\"}}, \"type\": \"parcoords\"}], \"scatter\": [{\"marker\": {\"colorbar\": {\"outlinewidth\": 0, \"ticks\": \"\"}}, \"type\": \"scatter\"}], \"scatter3d\": [{\"line\": {\"colorbar\": {\"outlinewidth\": 0, \"ticks\": \"\"}}, \"marker\": {\"colorbar\": {\"outlinewidth\": 0, \"ticks\": \"\"}}, \"type\": \"scatter3d\"}], \"scattercarpet\": [{\"marker\": {\"colorbar\": {\"outlinewidth\": 0, \"ticks\": \"\"}}, \"type\": \"scattercarpet\"}], \"scattergeo\": [{\"marker\": {\"colorbar\": {\"outlinewidth\": 0, \"ticks\": \"\"}}, \"type\": \"scattergeo\"}], \"scattergl\": [{\"marker\": {\"colorbar\": {\"outlinewidth\": 0, \"ticks\": \"\"}}, \"type\": \"scattergl\"}], \"scattermapbox\": [{\"marker\": {\"colorbar\": {\"outlinewidth\": 0, \"ticks\": \"\"}}, \"type\": \"scattermapbox\"}], \"scatterpolar\": [{\"marker\": {\"colorbar\": {\"outlinewidth\": 0, \"ticks\": \"\"}}, \"type\": \"scatterpolar\"}], \"scatterpolargl\": [{\"marker\": {\"colorbar\": {\"outlinewidth\": 0, \"ticks\": \"\"}}, \"type\": \"scatterpolargl\"}], \"scatterternary\": [{\"marker\": {\"colorbar\": {\"outlinewidth\": 0, \"ticks\": \"\"}}, \"type\": \"scatterternary\"}], \"surface\": [{\"colorbar\": {\"outlinewidth\": 0, \"ticks\": \"\"}, \"colorscale\": [[0.0, \"#0d0887\"], [0.1111111111111111, \"#46039f\"], [0.2222222222222222, \"#7201a8\"], [0.3333333333333333, \"#9c179e\"], [0.4444444444444444, \"#bd3786\"], [0.5555555555555556, \"#d8576b\"], [0.6666666666666666, \"#ed7953\"], [0.7777777777777778, \"#fb9f3a\"], [0.8888888888888888, \"#fdca26\"], [1.0, \"#f0f921\"]], \"type\": \"surface\"}], \"table\": [{\"cells\": {\"fill\": {\"color\": \"#EBF0F8\"}, \"line\": {\"color\": \"white\"}}, \"header\": {\"fill\": {\"color\": \"#C8D4E3\"}, \"line\": {\"color\": \"white\"}}, \"type\": \"table\"}]}, \"layout\": {\"annotationdefaults\": {\"arrowcolor\": \"#2a3f5f\", \"arrowhead\": 0, \"arrowwidth\": 1}, \"colorscale\": {\"diverging\": [[0, \"#8e0152\"], [0.1, \"#c51b7d\"], [0.2, \"#de77ae\"], [0.3, \"#f1b6da\"], [0.4, \"#fde0ef\"], [0.5, \"#f7f7f7\"], [0.6, \"#e6f5d0\"], [0.7, \"#b8e186\"], [0.8, \"#7fbc41\"], [0.9, \"#4d9221\"], [1, \"#276419\"]], \"sequential\": [[0.0, \"#0d0887\"], [0.1111111111111111, \"#46039f\"], [0.2222222222222222, \"#7201a8\"], [0.3333333333333333, \"#9c179e\"], [0.4444444444444444, \"#bd3786\"], [0.5555555555555556, \"#d8576b\"], [0.6666666666666666, \"#ed7953\"], [0.7777777777777778, \"#fb9f3a\"], [0.8888888888888888, \"#fdca26\"], [1.0, \"#f0f921\"]], \"sequentialminus\": [[0.0, \"#0d0887\"], [0.1111111111111111, \"#46039f\"], [0.2222222222222222, \"#7201a8\"], [0.3333333333333333, \"#9c179e\"], [0.4444444444444444, \"#bd3786\"], [0.5555555555555556, \"#d8576b\"], [0.6666666666666666, \"#ed7953\"], [0.7777777777777778, \"#fb9f3a\"], [0.8888888888888888, \"#fdca26\"], [1.0, \"#f0f921\"]]}, \"colorway\": [\"#636efa\", \"#EF553B\", \"#00cc96\", \"#ab63fa\", \"#FFA15A\", \"#19d3f3\", \"#FF6692\", \"#B6E880\", \"#FF97FF\", \"#FECB52\"], \"font\": {\"color\": \"#2a3f5f\"}, \"geo\": {\"bgcolor\": \"white\", \"lakecolor\": \"white\", \"landcolor\": \"#E5ECF6\", \"showlakes\": true, \"showland\": true, \"subunitcolor\": \"white\"}, \"hoverlabel\": {\"align\": \"left\"}, \"hovermode\": \"closest\", \"mapbox\": {\"style\": \"light\"}, \"paper_bgcolor\": \"white\", \"plot_bgcolor\": \"#E5ECF6\", \"polar\": {\"angularaxis\": {\"gridcolor\": \"white\", \"linecolor\": \"white\", \"ticks\": \"\"}, \"bgcolor\": \"#E5ECF6\", \"radialaxis\": {\"gridcolor\": \"white\", \"linecolor\": \"white\", \"ticks\": \"\"}}, \"scene\": {\"xaxis\": {\"backgroundcolor\": \"#E5ECF6\", \"gridcolor\": \"white\", \"gridwidth\": 2, \"linecolor\": \"white\", \"showbackground\": true, \"ticks\": \"\", \"zerolinecolor\": \"white\"}, \"yaxis\": {\"backgroundcolor\": \"#E5ECF6\", \"gridcolor\": \"white\", \"gridwidth\": 2, \"linecolor\": \"white\", \"showbackground\": true, \"ticks\": \"\", \"zerolinecolor\": \"white\"}, \"zaxis\": {\"backgroundcolor\": \"#E5ECF6\", \"gridcolor\": \"white\", \"gridwidth\": 2, \"linecolor\": \"white\", \"showbackground\": true, \"ticks\": \"\", \"zerolinecolor\": \"white\"}}, \"shapedefaults\": {\"line\": {\"color\": \"#2a3f5f\"}}, \"ternary\": {\"aaxis\": {\"gridcolor\": \"white\", \"linecolor\": \"white\", \"ticks\": \"\"}, \"baxis\": {\"gridcolor\": \"white\", \"linecolor\": \"white\", \"ticks\": \"\"}, \"bgcolor\": \"#E5ECF6\", \"caxis\": {\"gridcolor\": \"white\", \"linecolor\": \"white\", \"ticks\": \"\"}}, \"title\": {\"x\": 0.05}, \"xaxis\": {\"automargin\": true, \"gridcolor\": \"white\", \"linecolor\": \"white\", \"ticks\": \"\", \"zerolinecolor\": \"white\", \"zerolinewidth\": 2}, \"yaxis\": {\"automargin\": true, \"gridcolor\": \"white\", \"linecolor\": \"white\", \"ticks\": \"\", \"zerolinecolor\": \"white\", \"zerolinewidth\": 2}}}, \"title\": {\"text\": \"\\n\\u041f\\u0435\\u0440\\u0435\\u0445\\u043e\\u0434\\u044b \\u043f\\u043e\\u043b\\u044c\\u0437\\u043e\\u0432\\u0430\\u0442\\u0435\\u043b\\u0435\\u0439 \\u043c\\u0435\\u0436\\u0434\\u0443 \\u0440\\u0430\\u0437\\u043d\\u044b\\u043c\\u0438 \\u044d\\u043a\\u0440\\u0430\\u043d\\u0430\\u043c\\u0438 \\u043f\\u0440\\u0438\\u043b\\u043e\\u0436\\u0435\\u043d\\u0438\\u044f (\\u043f\\u0440\\u043e\\u0446\\u0435\\u043d\\u0442\\u044b \\u2014 \\u0434\\u043e\\u043b\\u044f \\u043e\\u0442 \\u043f\\u0440\\u0435\\u0434\\u044b\\u0434\\u0443\\u0449\\u0435\\u0433\\u043e \\u0448\\u0430\\u0433\\u0430)\"}},\n",
       "                        {\"responsive\": true}\n",
       "                    ).then(function(){\n",
       "                            \n",
       "var gd = document.getElementById('ec42436f-39f9-46b7-aced-549cd3ed08de');\n",
       "var x = new MutationObserver(function (mutations, observer) {{\n",
       "        var display = window.getComputedStyle(gd).display;\n",
       "        if (!display || display === 'none') {{\n",
       "            console.log([gd, 'removed!']);\n",
       "            Plotly.purge(gd);\n",
       "            observer.disconnect();\n",
       "        }}\n",
       "}});\n",
       "\n",
       "// Listen for the removal of the full notebook cells\n",
       "var notebookContainer = gd.closest('#notebook-container');\n",
       "if (notebookContainer) {{\n",
       "    x.observe(notebookContainer, {childList: true});\n",
       "}}\n",
       "\n",
       "// Listen for the clearing of the current output cell\n",
       "var outputEl = gd.closest('.output');\n",
       "if (outputEl) {{\n",
       "    x.observe(outputEl, {childList: true});\n",
       "}}\n",
       "\n",
       "                        })\n",
       "                };\n",
       "                });\n",
       "            </script>\n",
       "        </div>"
      ]
     },
     "metadata": {},
     "output_type": "display_data"
    },
    {
     "data": {
      "application/vnd.plotly.v1+json": {
       "config": {
        "plotlyServerURL": "https://plot.ly"
       },
       "data": [
        {
         "hovertemplate": "от всех пользователей: %{percentInitial} <br> от прошлого шага: %{percentPrevious}",
         "name": "A (246)",
         "textinfo": "value+percent previous",
         "type": "funnel",
         "x": [
          2484,
          2450,
          1542,
          1266,
          1200
         ],
         "y": [
          "Всего пользователей  ",
          "Просмотр главного экрана  ",
          "Просмотр страницы товара  ",
          "Переход в корзину (оформление заказа)  ",
          "Успешная оплата  "
         ]
        },
        {
         "hovertemplate": "от всех пользователей: %{percentInitial} <br> от прошлого шага: %{percentPrevious}",
         "name": "A (247)",
         "textinfo": "value+percent previous",
         "type": "funnel",
         "x": [
          2513,
          2476,
          1520,
          1238,
          1158
         ],
         "y": [
          "Всего пользователей  ",
          "Просмотр главного экрана  ",
          "Просмотр страницы товара  ",
          "Переход в корзину (оформление заказа)  ",
          "Успешная оплата  "
         ]
        },
        {
         "hovertemplate": "от всех пользователей: %{percentInitial} <br> от прошлого шага: %{percentPrevious}",
         "name": "В (248)",
         "textinfo": "value+percent previous",
         "type": "funnel",
         "x": [
          2537,
          2493,
          1531,
          1230,
          1181
         ],
         "y": [
          "Всего пользователей  ",
          "Просмотр главного экрана  ",
          "Просмотр страницы товара  ",
          "Переход в корзину (оформление заказа)  ",
          "Успешная оплата  "
         ]
        }
       ],
       "layout": {
        "template": {
         "data": {
          "bar": [
           {
            "error_x": {
             "color": "#2a3f5f"
            },
            "error_y": {
             "color": "#2a3f5f"
            },
            "marker": {
             "line": {
              "color": "#E5ECF6",
              "width": 0.5
             }
            },
            "type": "bar"
           }
          ],
          "barpolar": [
           {
            "marker": {
             "line": {
              "color": "#E5ECF6",
              "width": 0.5
             }
            },
            "type": "barpolar"
           }
          ],
          "carpet": [
           {
            "aaxis": {
             "endlinecolor": "#2a3f5f",
             "gridcolor": "white",
             "linecolor": "white",
             "minorgridcolor": "white",
             "startlinecolor": "#2a3f5f"
            },
            "baxis": {
             "endlinecolor": "#2a3f5f",
             "gridcolor": "white",
             "linecolor": "white",
             "minorgridcolor": "white",
             "startlinecolor": "#2a3f5f"
            },
            "type": "carpet"
           }
          ],
          "choropleth": [
           {
            "colorbar": {
             "outlinewidth": 0,
             "ticks": ""
            },
            "type": "choropleth"
           }
          ],
          "contour": [
           {
            "colorbar": {
             "outlinewidth": 0,
             "ticks": ""
            },
            "colorscale": [
             [
              0,
              "#0d0887"
             ],
             [
              0.1111111111111111,
              "#46039f"
             ],
             [
              0.2222222222222222,
              "#7201a8"
             ],
             [
              0.3333333333333333,
              "#9c179e"
             ],
             [
              0.4444444444444444,
              "#bd3786"
             ],
             [
              0.5555555555555556,
              "#d8576b"
             ],
             [
              0.6666666666666666,
              "#ed7953"
             ],
             [
              0.7777777777777778,
              "#fb9f3a"
             ],
             [
              0.8888888888888888,
              "#fdca26"
             ],
             [
              1,
              "#f0f921"
             ]
            ],
            "type": "contour"
           }
          ],
          "contourcarpet": [
           {
            "colorbar": {
             "outlinewidth": 0,
             "ticks": ""
            },
            "type": "contourcarpet"
           }
          ],
          "heatmap": [
           {
            "colorbar": {
             "outlinewidth": 0,
             "ticks": ""
            },
            "colorscale": [
             [
              0,
              "#0d0887"
             ],
             [
              0.1111111111111111,
              "#46039f"
             ],
             [
              0.2222222222222222,
              "#7201a8"
             ],
             [
              0.3333333333333333,
              "#9c179e"
             ],
             [
              0.4444444444444444,
              "#bd3786"
             ],
             [
              0.5555555555555556,
              "#d8576b"
             ],
             [
              0.6666666666666666,
              "#ed7953"
             ],
             [
              0.7777777777777778,
              "#fb9f3a"
             ],
             [
              0.8888888888888888,
              "#fdca26"
             ],
             [
              1,
              "#f0f921"
             ]
            ],
            "type": "heatmap"
           }
          ],
          "heatmapgl": [
           {
            "colorbar": {
             "outlinewidth": 0,
             "ticks": ""
            },
            "colorscale": [
             [
              0,
              "#0d0887"
             ],
             [
              0.1111111111111111,
              "#46039f"
             ],
             [
              0.2222222222222222,
              "#7201a8"
             ],
             [
              0.3333333333333333,
              "#9c179e"
             ],
             [
              0.4444444444444444,
              "#bd3786"
             ],
             [
              0.5555555555555556,
              "#d8576b"
             ],
             [
              0.6666666666666666,
              "#ed7953"
             ],
             [
              0.7777777777777778,
              "#fb9f3a"
             ],
             [
              0.8888888888888888,
              "#fdca26"
             ],
             [
              1,
              "#f0f921"
             ]
            ],
            "type": "heatmapgl"
           }
          ],
          "histogram": [
           {
            "marker": {
             "colorbar": {
              "outlinewidth": 0,
              "ticks": ""
             }
            },
            "type": "histogram"
           }
          ],
          "histogram2d": [
           {
            "colorbar": {
             "outlinewidth": 0,
             "ticks": ""
            },
            "colorscale": [
             [
              0,
              "#0d0887"
             ],
             [
              0.1111111111111111,
              "#46039f"
             ],
             [
              0.2222222222222222,
              "#7201a8"
             ],
             [
              0.3333333333333333,
              "#9c179e"
             ],
             [
              0.4444444444444444,
              "#bd3786"
             ],
             [
              0.5555555555555556,
              "#d8576b"
             ],
             [
              0.6666666666666666,
              "#ed7953"
             ],
             [
              0.7777777777777778,
              "#fb9f3a"
             ],
             [
              0.8888888888888888,
              "#fdca26"
             ],
             [
              1,
              "#f0f921"
             ]
            ],
            "type": "histogram2d"
           }
          ],
          "histogram2dcontour": [
           {
            "colorbar": {
             "outlinewidth": 0,
             "ticks": ""
            },
            "colorscale": [
             [
              0,
              "#0d0887"
             ],
             [
              0.1111111111111111,
              "#46039f"
             ],
             [
              0.2222222222222222,
              "#7201a8"
             ],
             [
              0.3333333333333333,
              "#9c179e"
             ],
             [
              0.4444444444444444,
              "#bd3786"
             ],
             [
              0.5555555555555556,
              "#d8576b"
             ],
             [
              0.6666666666666666,
              "#ed7953"
             ],
             [
              0.7777777777777778,
              "#fb9f3a"
             ],
             [
              0.8888888888888888,
              "#fdca26"
             ],
             [
              1,
              "#f0f921"
             ]
            ],
            "type": "histogram2dcontour"
           }
          ],
          "mesh3d": [
           {
            "colorbar": {
             "outlinewidth": 0,
             "ticks": ""
            },
            "type": "mesh3d"
           }
          ],
          "parcoords": [
           {
            "line": {
             "colorbar": {
              "outlinewidth": 0,
              "ticks": ""
             }
            },
            "type": "parcoords"
           }
          ],
          "scatter": [
           {
            "marker": {
             "colorbar": {
              "outlinewidth": 0,
              "ticks": ""
             }
            },
            "type": "scatter"
           }
          ],
          "scatter3d": [
           {
            "line": {
             "colorbar": {
              "outlinewidth": 0,
              "ticks": ""
             }
            },
            "marker": {
             "colorbar": {
              "outlinewidth": 0,
              "ticks": ""
             }
            },
            "type": "scatter3d"
           }
          ],
          "scattercarpet": [
           {
            "marker": {
             "colorbar": {
              "outlinewidth": 0,
              "ticks": ""
             }
            },
            "type": "scattercarpet"
           }
          ],
          "scattergeo": [
           {
            "marker": {
             "colorbar": {
              "outlinewidth": 0,
              "ticks": ""
             }
            },
            "type": "scattergeo"
           }
          ],
          "scattergl": [
           {
            "marker": {
             "colorbar": {
              "outlinewidth": 0,
              "ticks": ""
             }
            },
            "type": "scattergl"
           }
          ],
          "scattermapbox": [
           {
            "marker": {
             "colorbar": {
              "outlinewidth": 0,
              "ticks": ""
             }
            },
            "type": "scattermapbox"
           }
          ],
          "scatterpolar": [
           {
            "marker": {
             "colorbar": {
              "outlinewidth": 0,
              "ticks": ""
             }
            },
            "type": "scatterpolar"
           }
          ],
          "scatterpolargl": [
           {
            "marker": {
             "colorbar": {
              "outlinewidth": 0,
              "ticks": ""
             }
            },
            "type": "scatterpolargl"
           }
          ],
          "scatterternary": [
           {
            "marker": {
             "colorbar": {
              "outlinewidth": 0,
              "ticks": ""
             }
            },
            "type": "scatterternary"
           }
          ],
          "surface": [
           {
            "colorbar": {
             "outlinewidth": 0,
             "ticks": ""
            },
            "colorscale": [
             [
              0,
              "#0d0887"
             ],
             [
              0.1111111111111111,
              "#46039f"
             ],
             [
              0.2222222222222222,
              "#7201a8"
             ],
             [
              0.3333333333333333,
              "#9c179e"
             ],
             [
              0.4444444444444444,
              "#bd3786"
             ],
             [
              0.5555555555555556,
              "#d8576b"
             ],
             [
              0.6666666666666666,
              "#ed7953"
             ],
             [
              0.7777777777777778,
              "#fb9f3a"
             ],
             [
              0.8888888888888888,
              "#fdca26"
             ],
             [
              1,
              "#f0f921"
             ]
            ],
            "type": "surface"
           }
          ],
          "table": [
           {
            "cells": {
             "fill": {
              "color": "#EBF0F8"
             },
             "line": {
              "color": "white"
             }
            },
            "header": {
             "fill": {
              "color": "#C8D4E3"
             },
             "line": {
              "color": "white"
             }
            },
            "type": "table"
           }
          ]
         },
         "layout": {
          "annotationdefaults": {
           "arrowcolor": "#2a3f5f",
           "arrowhead": 0,
           "arrowwidth": 1
          },
          "colorscale": {
           "diverging": [
            [
             0,
             "#8e0152"
            ],
            [
             0.1,
             "#c51b7d"
            ],
            [
             0.2,
             "#de77ae"
            ],
            [
             0.3,
             "#f1b6da"
            ],
            [
             0.4,
             "#fde0ef"
            ],
            [
             0.5,
             "#f7f7f7"
            ],
            [
             0.6,
             "#e6f5d0"
            ],
            [
             0.7,
             "#b8e186"
            ],
            [
             0.8,
             "#7fbc41"
            ],
            [
             0.9,
             "#4d9221"
            ],
            [
             1,
             "#276419"
            ]
           ],
           "sequential": [
            [
             0,
             "#0d0887"
            ],
            [
             0.1111111111111111,
             "#46039f"
            ],
            [
             0.2222222222222222,
             "#7201a8"
            ],
            [
             0.3333333333333333,
             "#9c179e"
            ],
            [
             0.4444444444444444,
             "#bd3786"
            ],
            [
             0.5555555555555556,
             "#d8576b"
            ],
            [
             0.6666666666666666,
             "#ed7953"
            ],
            [
             0.7777777777777778,
             "#fb9f3a"
            ],
            [
             0.8888888888888888,
             "#fdca26"
            ],
            [
             1,
             "#f0f921"
            ]
           ],
           "sequentialminus": [
            [
             0,
             "#0d0887"
            ],
            [
             0.1111111111111111,
             "#46039f"
            ],
            [
             0.2222222222222222,
             "#7201a8"
            ],
            [
             0.3333333333333333,
             "#9c179e"
            ],
            [
             0.4444444444444444,
             "#bd3786"
            ],
            [
             0.5555555555555556,
             "#d8576b"
            ],
            [
             0.6666666666666666,
             "#ed7953"
            ],
            [
             0.7777777777777778,
             "#fb9f3a"
            ],
            [
             0.8888888888888888,
             "#fdca26"
            ],
            [
             1,
             "#f0f921"
            ]
           ]
          },
          "colorway": [
           "#636efa",
           "#EF553B",
           "#00cc96",
           "#ab63fa",
           "#FFA15A",
           "#19d3f3",
           "#FF6692",
           "#B6E880",
           "#FF97FF",
           "#FECB52"
          ],
          "font": {
           "color": "#2a3f5f"
          },
          "geo": {
           "bgcolor": "white",
           "lakecolor": "white",
           "landcolor": "#E5ECF6",
           "showlakes": true,
           "showland": true,
           "subunitcolor": "white"
          },
          "hoverlabel": {
           "align": "left"
          },
          "hovermode": "closest",
          "mapbox": {
           "style": "light"
          },
          "paper_bgcolor": "white",
          "plot_bgcolor": "#E5ECF6",
          "polar": {
           "angularaxis": {
            "gridcolor": "white",
            "linecolor": "white",
            "ticks": ""
           },
           "bgcolor": "#E5ECF6",
           "radialaxis": {
            "gridcolor": "white",
            "linecolor": "white",
            "ticks": ""
           }
          },
          "scene": {
           "xaxis": {
            "backgroundcolor": "#E5ECF6",
            "gridcolor": "white",
            "gridwidth": 2,
            "linecolor": "white",
            "showbackground": true,
            "ticks": "",
            "zerolinecolor": "white"
           },
           "yaxis": {
            "backgroundcolor": "#E5ECF6",
            "gridcolor": "white",
            "gridwidth": 2,
            "linecolor": "white",
            "showbackground": true,
            "ticks": "",
            "zerolinecolor": "white"
           },
           "zaxis": {
            "backgroundcolor": "#E5ECF6",
            "gridcolor": "white",
            "gridwidth": 2,
            "linecolor": "white",
            "showbackground": true,
            "ticks": "",
            "zerolinecolor": "white"
           }
          },
          "shapedefaults": {
           "line": {
            "color": "#2a3f5f"
           }
          },
          "ternary": {
           "aaxis": {
            "gridcolor": "white",
            "linecolor": "white",
            "ticks": ""
           },
           "baxis": {
            "gridcolor": "white",
            "linecolor": "white",
            "ticks": ""
           },
           "bgcolor": "#E5ECF6",
           "caxis": {
            "gridcolor": "white",
            "linecolor": "white",
            "ticks": ""
           }
          },
          "title": {
           "x": 0.05
          },
          "xaxis": {
           "automargin": true,
           "gridcolor": "white",
           "linecolor": "white",
           "ticks": "",
           "zerolinecolor": "white",
           "zerolinewidth": 2
          },
          "yaxis": {
           "automargin": true,
           "gridcolor": "white",
           "linecolor": "white",
           "ticks": "",
           "zerolinecolor": "white",
           "zerolinewidth": 2
          }
         }
        },
        "title": {
         "text": "\nПереходы пользователей между разными экранами приложения (разбивка по группам)"
        }
       }
      },
      "text/html": [
       "<div>\n",
       "        \n",
       "        \n",
       "            <div id=\"6551d1e7-3476-456c-bc4d-521dfc8b8bb3\" class=\"plotly-graph-div\" style=\"height:525px; width:100%;\"></div>\n",
       "            <script type=\"text/javascript\">\n",
       "                require([\"plotly\"], function(Plotly) {\n",
       "                    window.PLOTLYENV=window.PLOTLYENV || {};\n",
       "                    \n",
       "                if (document.getElementById(\"6551d1e7-3476-456c-bc4d-521dfc8b8bb3\")) {\n",
       "                    Plotly.newPlot(\n",
       "                        '6551d1e7-3476-456c-bc4d-521dfc8b8bb3',\n",
       "                        [{\"hovertemplate\": \"\\u043e\\u0442 \\u0432\\u0441\\u0435\\u0445 \\u043f\\u043e\\u043b\\u044c\\u0437\\u043e\\u0432\\u0430\\u0442\\u0435\\u043b\\u0435\\u0439: %{percentInitial} <br> \\u043e\\u0442 \\u043f\\u0440\\u043e\\u0448\\u043b\\u043e\\u0433\\u043e \\u0448\\u0430\\u0433\\u0430: %{percentPrevious}\", \"name\": \"A (246)\", \"textinfo\": \"value+percent previous\", \"type\": \"funnel\", \"x\": [2484, 2450, 1542, 1266, 1200], \"y\": [\"\\u0412\\u0441\\u0435\\u0433\\u043e \\u043f\\u043e\\u043b\\u044c\\u0437\\u043e\\u0432\\u0430\\u0442\\u0435\\u043b\\u0435\\u0439  \", \"\\u041f\\u0440\\u043e\\u0441\\u043c\\u043e\\u0442\\u0440 \\u0433\\u043b\\u0430\\u0432\\u043d\\u043e\\u0433\\u043e \\u044d\\u043a\\u0440\\u0430\\u043d\\u0430  \", \"\\u041f\\u0440\\u043e\\u0441\\u043c\\u043e\\u0442\\u0440 \\u0441\\u0442\\u0440\\u0430\\u043d\\u0438\\u0446\\u044b \\u0442\\u043e\\u0432\\u0430\\u0440\\u0430  \", \"\\u041f\\u0435\\u0440\\u0435\\u0445\\u043e\\u0434 \\u0432 \\u043a\\u043e\\u0440\\u0437\\u0438\\u043d\\u0443 (\\u043e\\u0444\\u043e\\u0440\\u043c\\u043b\\u0435\\u043d\\u0438\\u0435 \\u0437\\u0430\\u043a\\u0430\\u0437\\u0430)  \", \"\\u0423\\u0441\\u043f\\u0435\\u0448\\u043d\\u0430\\u044f \\u043e\\u043f\\u043b\\u0430\\u0442\\u0430  \"]}, {\"hovertemplate\": \"\\u043e\\u0442 \\u0432\\u0441\\u0435\\u0445 \\u043f\\u043e\\u043b\\u044c\\u0437\\u043e\\u0432\\u0430\\u0442\\u0435\\u043b\\u0435\\u0439: %{percentInitial} <br> \\u043e\\u0442 \\u043f\\u0440\\u043e\\u0448\\u043b\\u043e\\u0433\\u043e \\u0448\\u0430\\u0433\\u0430: %{percentPrevious}\", \"name\": \"A (247)\", \"textinfo\": \"value+percent previous\", \"type\": \"funnel\", \"x\": [2513, 2476, 1520, 1238, 1158], \"y\": [\"\\u0412\\u0441\\u0435\\u0433\\u043e \\u043f\\u043e\\u043b\\u044c\\u0437\\u043e\\u0432\\u0430\\u0442\\u0435\\u043b\\u0435\\u0439  \", \"\\u041f\\u0440\\u043e\\u0441\\u043c\\u043e\\u0442\\u0440 \\u0433\\u043b\\u0430\\u0432\\u043d\\u043e\\u0433\\u043e \\u044d\\u043a\\u0440\\u0430\\u043d\\u0430  \", \"\\u041f\\u0440\\u043e\\u0441\\u043c\\u043e\\u0442\\u0440 \\u0441\\u0442\\u0440\\u0430\\u043d\\u0438\\u0446\\u044b \\u0442\\u043e\\u0432\\u0430\\u0440\\u0430  \", \"\\u041f\\u0435\\u0440\\u0435\\u0445\\u043e\\u0434 \\u0432 \\u043a\\u043e\\u0440\\u0437\\u0438\\u043d\\u0443 (\\u043e\\u0444\\u043e\\u0440\\u043c\\u043b\\u0435\\u043d\\u0438\\u0435 \\u0437\\u0430\\u043a\\u0430\\u0437\\u0430)  \", \"\\u0423\\u0441\\u043f\\u0435\\u0448\\u043d\\u0430\\u044f \\u043e\\u043f\\u043b\\u0430\\u0442\\u0430  \"]}, {\"hovertemplate\": \"\\u043e\\u0442 \\u0432\\u0441\\u0435\\u0445 \\u043f\\u043e\\u043b\\u044c\\u0437\\u043e\\u0432\\u0430\\u0442\\u0435\\u043b\\u0435\\u0439: %{percentInitial} <br> \\u043e\\u0442 \\u043f\\u0440\\u043e\\u0448\\u043b\\u043e\\u0433\\u043e \\u0448\\u0430\\u0433\\u0430: %{percentPrevious}\", \"name\": \"\\u0412 (248)\", \"textinfo\": \"value+percent previous\", \"type\": \"funnel\", \"x\": [2537, 2493, 1531, 1230, 1181], \"y\": [\"\\u0412\\u0441\\u0435\\u0433\\u043e \\u043f\\u043e\\u043b\\u044c\\u0437\\u043e\\u0432\\u0430\\u0442\\u0435\\u043b\\u0435\\u0439  \", \"\\u041f\\u0440\\u043e\\u0441\\u043c\\u043e\\u0442\\u0440 \\u0433\\u043b\\u0430\\u0432\\u043d\\u043e\\u0433\\u043e \\u044d\\u043a\\u0440\\u0430\\u043d\\u0430  \", \"\\u041f\\u0440\\u043e\\u0441\\u043c\\u043e\\u0442\\u0440 \\u0441\\u0442\\u0440\\u0430\\u043d\\u0438\\u0446\\u044b \\u0442\\u043e\\u0432\\u0430\\u0440\\u0430  \", \"\\u041f\\u0435\\u0440\\u0435\\u0445\\u043e\\u0434 \\u0432 \\u043a\\u043e\\u0440\\u0437\\u0438\\u043d\\u0443 (\\u043e\\u0444\\u043e\\u0440\\u043c\\u043b\\u0435\\u043d\\u0438\\u0435 \\u0437\\u0430\\u043a\\u0430\\u0437\\u0430)  \", \"\\u0423\\u0441\\u043f\\u0435\\u0448\\u043d\\u0430\\u044f \\u043e\\u043f\\u043b\\u0430\\u0442\\u0430  \"]}],\n",
       "                        {\"template\": {\"data\": {\"bar\": [{\"error_x\": {\"color\": \"#2a3f5f\"}, \"error_y\": {\"color\": \"#2a3f5f\"}, \"marker\": {\"line\": {\"color\": \"#E5ECF6\", \"width\": 0.5}}, \"type\": \"bar\"}], \"barpolar\": [{\"marker\": {\"line\": {\"color\": \"#E5ECF6\", \"width\": 0.5}}, \"type\": \"barpolar\"}], \"carpet\": [{\"aaxis\": {\"endlinecolor\": \"#2a3f5f\", \"gridcolor\": \"white\", \"linecolor\": \"white\", \"minorgridcolor\": \"white\", \"startlinecolor\": \"#2a3f5f\"}, \"baxis\": {\"endlinecolor\": \"#2a3f5f\", \"gridcolor\": \"white\", \"linecolor\": \"white\", \"minorgridcolor\": \"white\", \"startlinecolor\": \"#2a3f5f\"}, \"type\": \"carpet\"}], \"choropleth\": [{\"colorbar\": {\"outlinewidth\": 0, \"ticks\": \"\"}, \"type\": \"choropleth\"}], \"contour\": [{\"colorbar\": {\"outlinewidth\": 0, \"ticks\": \"\"}, \"colorscale\": [[0.0, \"#0d0887\"], [0.1111111111111111, \"#46039f\"], [0.2222222222222222, \"#7201a8\"], [0.3333333333333333, \"#9c179e\"], [0.4444444444444444, \"#bd3786\"], [0.5555555555555556, \"#d8576b\"], [0.6666666666666666, \"#ed7953\"], [0.7777777777777778, \"#fb9f3a\"], [0.8888888888888888, \"#fdca26\"], [1.0, \"#f0f921\"]], \"type\": \"contour\"}], \"contourcarpet\": [{\"colorbar\": {\"outlinewidth\": 0, \"ticks\": \"\"}, \"type\": \"contourcarpet\"}], \"heatmap\": [{\"colorbar\": {\"outlinewidth\": 0, \"ticks\": \"\"}, \"colorscale\": [[0.0, \"#0d0887\"], [0.1111111111111111, \"#46039f\"], [0.2222222222222222, \"#7201a8\"], [0.3333333333333333, \"#9c179e\"], [0.4444444444444444, \"#bd3786\"], [0.5555555555555556, \"#d8576b\"], [0.6666666666666666, \"#ed7953\"], [0.7777777777777778, \"#fb9f3a\"], [0.8888888888888888, \"#fdca26\"], [1.0, \"#f0f921\"]], \"type\": \"heatmap\"}], \"heatmapgl\": [{\"colorbar\": {\"outlinewidth\": 0, \"ticks\": \"\"}, \"colorscale\": [[0.0, \"#0d0887\"], [0.1111111111111111, \"#46039f\"], [0.2222222222222222, \"#7201a8\"], [0.3333333333333333, \"#9c179e\"], [0.4444444444444444, \"#bd3786\"], [0.5555555555555556, \"#d8576b\"], [0.6666666666666666, \"#ed7953\"], [0.7777777777777778, \"#fb9f3a\"], [0.8888888888888888, \"#fdca26\"], [1.0, \"#f0f921\"]], \"type\": \"heatmapgl\"}], \"histogram\": [{\"marker\": {\"colorbar\": {\"outlinewidth\": 0, \"ticks\": \"\"}}, \"type\": \"histogram\"}], \"histogram2d\": [{\"colorbar\": {\"outlinewidth\": 0, \"ticks\": \"\"}, \"colorscale\": [[0.0, \"#0d0887\"], [0.1111111111111111, \"#46039f\"], [0.2222222222222222, \"#7201a8\"], [0.3333333333333333, \"#9c179e\"], [0.4444444444444444, \"#bd3786\"], [0.5555555555555556, \"#d8576b\"], [0.6666666666666666, \"#ed7953\"], [0.7777777777777778, \"#fb9f3a\"], [0.8888888888888888, \"#fdca26\"], [1.0, \"#f0f921\"]], \"type\": \"histogram2d\"}], \"histogram2dcontour\": [{\"colorbar\": {\"outlinewidth\": 0, \"ticks\": \"\"}, \"colorscale\": [[0.0, \"#0d0887\"], [0.1111111111111111, \"#46039f\"], [0.2222222222222222, \"#7201a8\"], [0.3333333333333333, \"#9c179e\"], [0.4444444444444444, \"#bd3786\"], [0.5555555555555556, \"#d8576b\"], [0.6666666666666666, \"#ed7953\"], [0.7777777777777778, \"#fb9f3a\"], [0.8888888888888888, \"#fdca26\"], [1.0, \"#f0f921\"]], \"type\": \"histogram2dcontour\"}], \"mesh3d\": [{\"colorbar\": {\"outlinewidth\": 0, \"ticks\": \"\"}, \"type\": \"mesh3d\"}], \"parcoords\": [{\"line\": {\"colorbar\": {\"outlinewidth\": 0, \"ticks\": \"\"}}, \"type\": \"parcoords\"}], \"scatter\": [{\"marker\": {\"colorbar\": {\"outlinewidth\": 0, \"ticks\": \"\"}}, \"type\": \"scatter\"}], \"scatter3d\": [{\"line\": {\"colorbar\": {\"outlinewidth\": 0, \"ticks\": \"\"}}, \"marker\": {\"colorbar\": {\"outlinewidth\": 0, \"ticks\": \"\"}}, \"type\": \"scatter3d\"}], \"scattercarpet\": [{\"marker\": {\"colorbar\": {\"outlinewidth\": 0, \"ticks\": \"\"}}, \"type\": \"scattercarpet\"}], \"scattergeo\": [{\"marker\": {\"colorbar\": {\"outlinewidth\": 0, \"ticks\": \"\"}}, \"type\": \"scattergeo\"}], \"scattergl\": [{\"marker\": {\"colorbar\": {\"outlinewidth\": 0, \"ticks\": \"\"}}, \"type\": \"scattergl\"}], \"scattermapbox\": [{\"marker\": {\"colorbar\": {\"outlinewidth\": 0, \"ticks\": \"\"}}, \"type\": \"scattermapbox\"}], \"scatterpolar\": [{\"marker\": {\"colorbar\": {\"outlinewidth\": 0, \"ticks\": \"\"}}, \"type\": \"scatterpolar\"}], \"scatterpolargl\": [{\"marker\": {\"colorbar\": {\"outlinewidth\": 0, \"ticks\": \"\"}}, \"type\": \"scatterpolargl\"}], \"scatterternary\": [{\"marker\": {\"colorbar\": {\"outlinewidth\": 0, \"ticks\": \"\"}}, \"type\": \"scatterternary\"}], \"surface\": [{\"colorbar\": {\"outlinewidth\": 0, \"ticks\": \"\"}, \"colorscale\": [[0.0, \"#0d0887\"], [0.1111111111111111, \"#46039f\"], [0.2222222222222222, \"#7201a8\"], [0.3333333333333333, \"#9c179e\"], [0.4444444444444444, \"#bd3786\"], [0.5555555555555556, \"#d8576b\"], [0.6666666666666666, \"#ed7953\"], [0.7777777777777778, \"#fb9f3a\"], [0.8888888888888888, \"#fdca26\"], [1.0, \"#f0f921\"]], \"type\": \"surface\"}], \"table\": [{\"cells\": {\"fill\": {\"color\": \"#EBF0F8\"}, \"line\": {\"color\": \"white\"}}, \"header\": {\"fill\": {\"color\": \"#C8D4E3\"}, \"line\": {\"color\": \"white\"}}, \"type\": \"table\"}]}, \"layout\": {\"annotationdefaults\": {\"arrowcolor\": \"#2a3f5f\", \"arrowhead\": 0, \"arrowwidth\": 1}, \"colorscale\": {\"diverging\": [[0, \"#8e0152\"], [0.1, \"#c51b7d\"], [0.2, \"#de77ae\"], [0.3, \"#f1b6da\"], [0.4, \"#fde0ef\"], [0.5, \"#f7f7f7\"], [0.6, \"#e6f5d0\"], [0.7, \"#b8e186\"], [0.8, \"#7fbc41\"], [0.9, \"#4d9221\"], [1, \"#276419\"]], \"sequential\": [[0.0, \"#0d0887\"], [0.1111111111111111, \"#46039f\"], [0.2222222222222222, \"#7201a8\"], [0.3333333333333333, \"#9c179e\"], [0.4444444444444444, \"#bd3786\"], [0.5555555555555556, \"#d8576b\"], [0.6666666666666666, \"#ed7953\"], [0.7777777777777778, \"#fb9f3a\"], [0.8888888888888888, \"#fdca26\"], [1.0, \"#f0f921\"]], \"sequentialminus\": [[0.0, \"#0d0887\"], [0.1111111111111111, \"#46039f\"], [0.2222222222222222, \"#7201a8\"], [0.3333333333333333, \"#9c179e\"], [0.4444444444444444, \"#bd3786\"], [0.5555555555555556, \"#d8576b\"], [0.6666666666666666, \"#ed7953\"], [0.7777777777777778, \"#fb9f3a\"], [0.8888888888888888, \"#fdca26\"], [1.0, \"#f0f921\"]]}, \"colorway\": [\"#636efa\", \"#EF553B\", \"#00cc96\", \"#ab63fa\", \"#FFA15A\", \"#19d3f3\", \"#FF6692\", \"#B6E880\", \"#FF97FF\", \"#FECB52\"], \"font\": {\"color\": \"#2a3f5f\"}, \"geo\": {\"bgcolor\": \"white\", \"lakecolor\": \"white\", \"landcolor\": \"#E5ECF6\", \"showlakes\": true, \"showland\": true, \"subunitcolor\": \"white\"}, \"hoverlabel\": {\"align\": \"left\"}, \"hovermode\": \"closest\", \"mapbox\": {\"style\": \"light\"}, \"paper_bgcolor\": \"white\", \"plot_bgcolor\": \"#E5ECF6\", \"polar\": {\"angularaxis\": {\"gridcolor\": \"white\", \"linecolor\": \"white\", \"ticks\": \"\"}, \"bgcolor\": \"#E5ECF6\", \"radialaxis\": {\"gridcolor\": \"white\", \"linecolor\": \"white\", \"ticks\": \"\"}}, \"scene\": {\"xaxis\": {\"backgroundcolor\": \"#E5ECF6\", \"gridcolor\": \"white\", \"gridwidth\": 2, \"linecolor\": \"white\", \"showbackground\": true, \"ticks\": \"\", \"zerolinecolor\": \"white\"}, \"yaxis\": {\"backgroundcolor\": \"#E5ECF6\", \"gridcolor\": \"white\", \"gridwidth\": 2, \"linecolor\": \"white\", \"showbackground\": true, \"ticks\": \"\", \"zerolinecolor\": \"white\"}, \"zaxis\": {\"backgroundcolor\": \"#E5ECF6\", \"gridcolor\": \"white\", \"gridwidth\": 2, \"linecolor\": \"white\", \"showbackground\": true, \"ticks\": \"\", \"zerolinecolor\": \"white\"}}, \"shapedefaults\": {\"line\": {\"color\": \"#2a3f5f\"}}, \"ternary\": {\"aaxis\": {\"gridcolor\": \"white\", \"linecolor\": \"white\", \"ticks\": \"\"}, \"baxis\": {\"gridcolor\": \"white\", \"linecolor\": \"white\", \"ticks\": \"\"}, \"bgcolor\": \"#E5ECF6\", \"caxis\": {\"gridcolor\": \"white\", \"linecolor\": \"white\", \"ticks\": \"\"}}, \"title\": {\"x\": 0.05}, \"xaxis\": {\"automargin\": true, \"gridcolor\": \"white\", \"linecolor\": \"white\", \"ticks\": \"\", \"zerolinecolor\": \"white\", \"zerolinewidth\": 2}, \"yaxis\": {\"automargin\": true, \"gridcolor\": \"white\", \"linecolor\": \"white\", \"ticks\": \"\", \"zerolinecolor\": \"white\", \"zerolinewidth\": 2}}}, \"title\": {\"text\": \"\\n\\u041f\\u0435\\u0440\\u0435\\u0445\\u043e\\u0434\\u044b \\u043f\\u043e\\u043b\\u044c\\u0437\\u043e\\u0432\\u0430\\u0442\\u0435\\u043b\\u0435\\u0439 \\u043c\\u0435\\u0436\\u0434\\u0443 \\u0440\\u0430\\u0437\\u043d\\u044b\\u043c\\u0438 \\u044d\\u043a\\u0440\\u0430\\u043d\\u0430\\u043c\\u0438 \\u043f\\u0440\\u0438\\u043b\\u043e\\u0436\\u0435\\u043d\\u0438\\u044f (\\u0440\\u0430\\u0437\\u0431\\u0438\\u0432\\u043a\\u0430 \\u043f\\u043e \\u0433\\u0440\\u0443\\u043f\\u043f\\u0430\\u043c)\"}},\n",
       "                        {\"responsive\": true}\n",
       "                    ).then(function(){\n",
       "                            \n",
       "var gd = document.getElementById('6551d1e7-3476-456c-bc4d-521dfc8b8bb3');\n",
       "var x = new MutationObserver(function (mutations, observer) {{\n",
       "        var display = window.getComputedStyle(gd).display;\n",
       "        if (!display || display === 'none') {{\n",
       "            console.log([gd, 'removed!']);\n",
       "            Plotly.purge(gd);\n",
       "            observer.disconnect();\n",
       "        }}\n",
       "}});\n",
       "\n",
       "// Listen for the removal of the full notebook cells\n",
       "var notebookContainer = gd.closest('#notebook-container');\n",
       "if (notebookContainer) {{\n",
       "    x.observe(notebookContainer, {childList: true});\n",
       "}}\n",
       "\n",
       "// Listen for the clearing of the current output cell\n",
       "var outputEl = gd.closest('.output');\n",
       "if (outputEl) {{\n",
       "    x.observe(outputEl, {childList: true});\n",
       "}}\n",
       "\n",
       "                        })\n",
       "                };\n",
       "                });\n",
       "            </script>\n",
       "        </div>"
      ]
     },
     "metadata": {},
     "output_type": "display_data"
    }
   ],
   "source": [
    "# визуализируем  общую воронку\n",
    "fig = go.Figure(go.Funnel(\n",
    "    \n",
    "    y = [\n",
    "         \"Всего пользователей  \",\n",
    "         \"Просмотр главного экрана  \",\n",
    "         \"Просмотр страницы товара  \",\n",
    "         \"Переход в корзину (оформление заказа)  \",\n",
    "         \"Успешная оплата  \"\n",
    "        ],\n",
    "    \n",
    "    x = [\n",
    "         df.userid.nunique(),\n",
    "         events_count.users_performed.MainScreenAppear,\n",
    "         events_count.users_performed.OffersScreenAppear,\n",
    "         events_count.users_performed.CartScreenAppear,\n",
    "         events_count.users_performed.PaymentScreenSuccessful\n",
    "        ],\n",
    "    \n",
    "    textinfo = \"value+percent previous\"\n",
    "                        )\n",
    "               )\n",
    "\n",
    "fig.update_layout(title = '\\n' + 'Переходы пользователей между разными экранами приложения (проценты — доля от предыдущего шага)')\n",
    "\n",
    "fig.update_traces(hovertemplate='от всех пользователей: %{percentInitial} <br> от прошлого шага: %{percentPrevious}')\n",
    "\n",
    "fig.show()\n",
    "\n",
    "\n",
    "\n",
    "\n",
    "# визуализируем воронку в разбивке по группам\n",
    "\n",
    "# создадим таблицу, где для каждой группы посчитаем кол-во каждого события\n",
    "\n",
    "events_by_group = (df\n",
    "                    .groupby(['testgroup', 'event'])\n",
    "                    .agg(users_performed = ('userid', 'nunique'))\n",
    "                    ).query('event != \"Tutorial\"').sort_values(['testgroup', 'users_performed'], ascending = False).reset_index()\n",
    "\n",
    "fig = go.Figure()\n",
    "\n",
    "fig.add_trace(go.Funnel(\n",
    "    \n",
    "    name = 'A (246)',\n",
    "    \n",
    "    y = [\n",
    "         \"Всего пользователей  \",\n",
    "         \"Просмотр главного экрана  \",\n",
    "         \"Просмотр страницы товара  \",\n",
    "         \"Переход в корзину (оформление заказа)  \",\n",
    "         \"Успешная оплата  \"\n",
    "        ],\n",
    "    \n",
    "    x = [\n",
    "         df.query('testgroup == 246').userid.nunique(),\n",
    "         int(events_by_group.query('testgroup == 246')['users_performed'][8]),\n",
    "         int(events_by_group.query('testgroup == 246')['users_performed'][9]),\n",
    "         int(events_by_group.query('testgroup == 246')['users_performed'][10]),\n",
    "         int(events_by_group.query('testgroup == 246')['users_performed'][11])\n",
    "        ],\n",
    "    \n",
    "    textinfo = \"value+percent previous\")\n",
    "             )\n",
    "\n",
    "fig.add_trace(go.Funnel(\n",
    "    \n",
    "    name = 'A (247)',\n",
    "    \n",
    "    y = [\n",
    "         \"Всего пользователей  \",\n",
    "         \"Просмотр главного экрана  \",\n",
    "         \"Просмотр страницы товара  \",\n",
    "         \"Переход в корзину (оформление заказа)  \",\n",
    "         \"Успешная оплата  \"\n",
    "        ],\n",
    "    \n",
    "    x = [\n",
    "         df.query('testgroup == 247').userid.nunique(),\n",
    "         int(events_by_group.query('testgroup == 247')['users_performed'][4]),\n",
    "         int(events_by_group.query('testgroup == 247')['users_performed'][5]),\n",
    "         int(events_by_group.query('testgroup == 247')['users_performed'][6]),\n",
    "         int(events_by_group.query('testgroup == 247')['users_performed'][7])\n",
    "        ],\n",
    "    \n",
    "    textinfo = \"value+percent previous\")\n",
    "             )\n",
    "\n",
    "fig.add_trace(go.Funnel(\n",
    "    \n",
    "    name = 'В (248)',\n",
    "    \n",
    "    y = [\n",
    "         \"Всего пользователей  \",\n",
    "         \"Просмотр главного экрана  \",\n",
    "         \"Просмотр страницы товара  \",\n",
    "         \"Переход в корзину (оформление заказа)  \",\n",
    "         \"Успешная оплата  \"\n",
    "        ],\n",
    "    \n",
    "    x = [\n",
    "         df.query('testgroup == 248').userid.nunique(),\n",
    "         int(events_by_group.query('testgroup == 248')['users_performed'][0]),\n",
    "         int(events_by_group.query('testgroup == 248')['users_performed'][1]),\n",
    "         int(events_by_group.query('testgroup == 248')['users_performed'][2]),\n",
    "         int(events_by_group.query('testgroup == 248')['users_performed'][3])\n",
    "        ],\n",
    "    \n",
    "    textinfo = \"value+percent previous\")\n",
    "             )\n",
    "\n",
    "fig.update_layout(title = '\\n' + 'Переходы пользователей между разными экранами приложения (разбивка по группам)')\n",
    "fig.update_traces(hovertemplate='от всех пользователей: %{percentInitial} <br> от прошлого шага: %{percentPrevious}')\n",
    "\n",
    "fig.show()"
   ]
  },
  {
   "cell_type": "markdown",
   "metadata": {},
   "source": [
    "Уже по самой воронки видно, что различия между долями в разных группах небольшие.\n",
    "\n",
    "Тем не менее проведем статистические тесты для более точной оценки."
   ]
  },
  {
   "cell_type": "markdown",
   "metadata": {},
   "source": [
    "### Выводы <a id=\"conclusion2\"></a>\n",
    "[В начало шага](#Шаг_2)\n",
    "\n",
    "Больше всего пользователей приложение теряеть еще на главном экране: всего 62% пользователь переходят с главного экрана в карточку товара.\n",
    "\n",
    "Также около 19% пользователей мы теряем на этапе корзины: только 81% пользователей после просмотра товара переходят в корзину.<br> По какой-то причине они не хотят покупать просмотренный товар. <br>\n",
    "\n",
    "Нужно дополнительно исследовать вопрос, что может мешать пользователям совершать покупки, ведь из тех, кто положил товар в корзину, оплачивают заказ 95% пользователей. Те, кто положил товар в корзину, уверены, что хотят купить его.\n",
    "\n",
    "Из-за потери пользовтелей на главном экране и на карточке товара только половина пользователей проходят путь от главного экрана от успешной оплаты и это не связано с циклом покупок. <br>\n",
    "\n",
    "Если уменьшить потери на первых двух этапах воронки, доля покупателей естественно вырастет.\n",
    "\n",
    "***"
   ]
  },
  {
   "cell_type": "markdown",
   "metadata": {},
   "source": [
    "## Шаг 3. Анализ результатов A/A/B-теста <a id=\"Шаг_3\"></a>\n",
    "[К оглавлению](#оглавление)<br>\n",
    "[К общим выводам](#Шаг_4)\n",
    "\n",
    "\n",
    "+ Проверим корректность разбиения пользователей на группы (А против А)\n",
    "+ Сравним экспериментальную группу с каждой из контрольных групп (А1 против В и А2 против В)\n",
    "+ Сравним экспериментальную группу с объединенной контрольной группой (А+А против В)\n",
    "+ Напишем выводу по результатам теста"
   ]
  },
  {
   "cell_type": "markdown",
   "metadata": {},
   "source": [
    "**Для проверки гипотез будем проводить Z-тест.** <br>\n",
    "\n",
    "Вот его формула:\n",
    "\n",
    "<img src=\"https://pictures.s3.yandex.net/resources/Screenshot_2019-09-30_at_21.06.40_1569866809.png\">\n",
    "\n",
    "\n",
    "Z-критерий показывает, насколько стандартных отклонений значение доли (p2) во второй выборке (n2) отклонилась от значения доли (p1) в первой выборке (n1), при условии, что долю первой выборки считаем равной 0, а стандартное отклонение - 1.\n",
    "\n",
    "Если p2 отклонилась от p1 более, чем на 2 стандартных отклонения (при 5% уровне значимости) и тест показывает p-value менее 0.05 — различия в долях между двух выборок статистически значимы."
   ]
  },
  {
   "cell_type": "markdown",
   "metadata": {},
   "source": [
    "**Так как мы будем проводить множествено попарных сравнений на одном датасете, следует скорректировать уровень значимости alpha.** <br>"
   ]
  },
  {
   "cell_type": "code",
   "execution_count": 23,
   "metadata": {},
   "outputs": [
    {
     "name": "stdout",
     "output_type": "stream",
     "text": [
      "\n",
      "Вероятность допустить ошибку I рода хотя бы раз при 16 попарных сравнениях и уровне значимости в 5% равна: 56 процентов \n",
      "\n"
     ]
    }
   ],
   "source": [
    "print(\n",
    "      '\\n' +\n",
    "      'Вероятность допустить ошибку I рода хотя бы раз при 16 попарных сравнениях и уровне значимости в 5% равна:',\n",
    "      round( (1-(1-0.05)**16) * 100),'процентов',\n",
    "      '\\n'\n",
    "     )"
   ]
  },
  {
   "cell_type": "markdown",
   "metadata": {},
   "source": [
    "Чтобы избежать этого, примерим простую поправку Бонферрони: разделим уровень значимости на кол-во попарных сравнений.\n",
    "\n",
    "Кол-во попарных сравнений найдем исходя из условией задачи:\n",
    "1. Сравнить разницу в долях четырех событий между группами 246 и 247\n",
    "2. Сравнить разницу в долях четырех событий между группами 246 и 248\n",
    "3. Сравнить разницу в долях четырех событий между группами 247 и 248\n",
    "4. Сравнить разницу в долях четырех событий между объединенными группами 246 и 247 и группой 248\n",
    "\n",
    "В каждой задаче 4 попарных сравнения, всего их 16. \n",
    "\n",
    "Уровень значимости разделим на 16 во всех тестах, чтобы избежать ошибки.\n",
    "\n",
    "Напишем функцию для того, чтобы быстро провести эти сравнения."
   ]
  },
  {
   "cell_type": "code",
   "execution_count": 24,
   "metadata": {},
   "outputs": [],
   "source": [
    "# на вход подаем три группы сравнения, событие для сравнения, уровень значимости и кол-во попарных сравнений\n",
    "\n",
    "def find_share_difference(group1, group2, group3, event, alpha, bonferroni):\n",
    "\n",
    "# функция будет проверять разницу в двух группах, но в аргументах функции оставим место для трех\n",
    "# для случая, когда нам нужно будет сравнить группу В с объединенной группой А, мы укажем везде разные группы\n",
    "# для случая, когда нужно будет сравнивать только одну группу А с другой группой А, в group1 и group2 укажем одну группу\n",
    "    \n",
    "    # находим кол-во пользователей совершивших то или иное событие в каждой группе\n",
    "    events_by_group = (df\n",
    "                    .groupby(['testgroup', 'event'])\n",
    "                    .agg(users_performed = ('userid', 'nunique'),count = ('userid', 'count'))\n",
    "                    .reset_index()\n",
    "                       ).query('event != \"Tutorial\"')\n",
    "    \n",
    "    # считаем кол-во пользователей в каждой группе\n",
    "    total_users = df.groupby('testgroup').agg({'userid': 'nunique'})\n",
    "    \n",
    "\n",
    "    # зададим уровень альфа деленный на кол-во проводимых тестов\n",
    "    alpha = alpha / bonferroni # критический уровень статистической значимости\n",
    "\n",
    "    #\n",
    "    successes = np.array(\n",
    "                         [ # считаем кол-во пользователей выполнивших нужное действие в первой группе\n",
    "                           events_by_group.query('(testgroup == {} or testgroup == {}) & event == \"{}\"'.format(group1, group2, event)).users_performed.sum(),\n",
    "                           \n",
    "                           # считаем кол-во пользователей выполнивших нужное действие во второй группе\n",
    "                           events_by_group.query('testgroup == {} & event == \"{}\"'.format(group3, event)).users_performed.sum()\n",
    "                         ]\n",
    "                        )\n",
    "\n",
    "    trials = np.array(\n",
    "                          [\n",
    "                           # считаем общее кол-во пользователей в первой группе\n",
    "                           total_users.query('testgroup == {} or testgroup == {}'.format(group1, group2)).userid.sum(),\n",
    "                           # считаем кол-во пользователей во второй группе\n",
    "                           total_users.query('testgroup == {}'.format(group3)).userid.sum()\n",
    "                          ]\n",
    "                        )\n",
    "\n",
    "# доля успехов в первой группе\n",
    "    p1 = successes[0]/trials[0]\n",
    "\n",
    "# доля успехов во второй группе\n",
    "    p2 = successes[1]/trials[1]\n",
    "\n",
    "# доля успехов в комбинированном датасете\n",
    "    p_combined = (successes[0] + successes[1]) / (trials[0] + trials[1])\n",
    "\n",
    "# разница долей\n",
    "    difference = p1 - p2 \n",
    "\n",
    "# считаем статистику в ст.отклонениях стандартного нормального распределения\n",
    "    z_value = difference / mt.sqrt(p_combined * (1 - p_combined) * (1/trials[0] + 1/trials[1]))\n",
    "\n",
    "# задаем стандартное нормальное распределение (среднее 0, ст.отклонение 1)\n",
    "    distr = st.norm(0, 1) \n",
    "\n",
    "    # рассчитываем p-value: вероятность получить имеющееся отличие (умножаем на два, потому что тест двусторонний)\n",
    "    p_value = (1 - distr.cdf(abs(z_value))) * 2\n",
    "    \n",
    "    \n",
    "    # Выводим результаты тесста на экран\n",
    "    \n",
    "    print('\\n' + '{}: проверка доли события в группах {} и {}'.format(event, group1, group3))\n",
    "    \n",
    "    print('\\n' + 'p-значение: ', p_value)\n",
    "\n",
    "    if (p_value < alpha):\n",
    "        print(\"ВЫВОД: Отвергаем нулевую гипотезу: между долями есть статистически значимая разница\")\n",
    "    else:\n",
    "        print(\"ВЫВОД: Нельзя отвергать нулевую гипотезу, так как разница статистически не значима\")\n",
    "    print('_________________________________________________________' + '\\n')"
   ]
  },
  {
   "cell_type": "markdown",
   "metadata": {},
   "source": [
    "Чтобы проверить корректность расчётов и правильность деления пользователей на группы, посмотрим, есть ли статистическая разница между двумя контрольными группами 246 и 247.\n",
    "\n",
    "Проверим, какая доля события \"увидел главный экран\" в каждой из этих групп. <br>\n",
    "Если пользователи правильно разделены на группы, то доли должны быть примерно одинаковыми и разница не будет статистически значима."
   ]
  },
  {
   "cell_type": "markdown",
   "metadata": {},
   "source": [
    "**Сформулируем гипотезы, которые будем проверять с помощью функции z-теста**\n",
    "\n",
    "**Нулевая гипотеза (H0):** доли пользователей, совершивших событие event_name, в двух группах не различаются\n",
    "\n",
    "**Альтернативная гипотеза (H1):** доли пользователей, совершивших событие event_name, различаются в двух группах"
   ]
  },
  {
   "cell_type": "code",
   "execution_count": 25,
   "metadata": {
    "scrolled": false
   },
   "outputs": [
    {
     "name": "stdout",
     "output_type": "stream",
     "text": [
      "\n",
      "MainScreenAppear: проверка доли события в группах 246 и 247\n",
      "\n",
      "p-значение:  0.7570597232046099\n",
      "ВЫВОД: Нельзя отвергать нулевую гипотезу, так как разница статистически не значима\n",
      "_________________________________________________________\n",
      "\n"
     ]
    }
   ],
   "source": [
    "find_share_difference(246, 246, 247, 'MainScreenAppear', 0.05, 16)"
   ]
  },
  {
   "cell_type": "markdown",
   "metadata": {},
   "source": [
    "**Доля пользователей выполнивших событие MainScreenAppear не различаются в обоих контрольных группах.**\n",
    "\n",
    "Посмотрим, как различаются доли пользователей, выполнивших все остальные события в этих группах."
   ]
  },
  {
   "cell_type": "code",
   "execution_count": 26,
   "metadata": {
    "scrolled": false
   },
   "outputs": [
    {
     "name": "stdout",
     "output_type": "stream",
     "text": [
      "\n",
      "CartScreenAppear: проверка доли события в группах 246 и 247\n",
      "\n",
      "p-значение:  0.22883372237997213\n",
      "ВЫВОД: Нельзя отвергать нулевую гипотезу, так как разница статистически не значима\n",
      "_________________________________________________________\n",
      "\n",
      "\n",
      "MainScreenAppear: проверка доли события в группах 246 и 247\n",
      "\n",
      "p-значение:  0.7570597232046099\n",
      "ВЫВОД: Нельзя отвергать нулевую гипотезу, так как разница статистически не значима\n",
      "_________________________________________________________\n",
      "\n",
      "\n",
      "OffersScreenAppear: проверка доли события в группах 246 и 247\n",
      "\n",
      "p-значение:  0.2480954578522181\n",
      "ВЫВОД: Нельзя отвергать нулевую гипотезу, так как разница статистически не значима\n",
      "_________________________________________________________\n",
      "\n",
      "\n",
      "PaymentScreenSuccessful: проверка доли события в группах 246 и 247\n",
      "\n",
      "p-значение:  0.11456679313141849\n",
      "ВЫВОД: Нельзя отвергать нулевую гипотезу, так как разница статистически не значима\n",
      "_________________________________________________________\n",
      "\n"
     ]
    }
   ],
   "source": [
    "for event in events_by_group.event.unique():\n",
    "    find_share_difference(246, 246, 247, event, 0.05, 16)"
   ]
  },
  {
   "cell_type": "markdown",
   "metadata": {},
   "source": [
    "**Доли пользователей, выполнивших все остальные события, в двух контрольных группах не различаются.**\n",
    "\n",
    "Значит группы сформированы правильно.\n",
    "\n",
    "Теперь проверим, как отличаются контрольные группы от экспериментальной группы В."
   ]
  },
  {
   "cell_type": "markdown",
   "metadata": {},
   "source": [
    "**Сравним группы 246 и 248.**"
   ]
  },
  {
   "cell_type": "code",
   "execution_count": 27,
   "metadata": {
    "scrolled": false
   },
   "outputs": [
    {
     "name": "stdout",
     "output_type": "stream",
     "text": [
      "\n",
      "CartScreenAppear: проверка доли события в группах 246 и 248\n",
      "\n",
      "p-значение:  0.07842923237520116\n",
      "ВЫВОД: Нельзя отвергать нулевую гипотезу, так как разница статистически не значима\n",
      "_________________________________________________________\n",
      "\n",
      "\n",
      "MainScreenAppear: проверка доли события в группах 246 и 248\n",
      "\n",
      "p-значение:  0.2949721933554552\n",
      "ВЫВОД: Нельзя отвергать нулевую гипотезу, так как разница статистически не значима\n",
      "_________________________________________________________\n",
      "\n",
      "\n",
      "OffersScreenAppear: проверка доли события в группах 246 и 248\n",
      "\n",
      "p-значение:  0.20836205402738917\n",
      "ВЫВОД: Нельзя отвергать нулевую гипотезу, так как разница статистически не значима\n",
      "_________________________________________________________\n",
      "\n",
      "\n",
      "PaymentScreenSuccessful: проверка доли события в группах 246 и 248\n",
      "\n",
      "p-значение:  0.2122553275697796\n",
      "ВЫВОД: Нельзя отвергать нулевую гипотезу, так как разница статистически не значима\n",
      "_________________________________________________________\n",
      "\n"
     ]
    }
   ],
   "source": [
    "for event in events_by_group.event.unique():\n",
    "    find_share_difference(246, 246, 248, event, 0.05, 16)"
   ]
  },
  {
   "cell_type": "markdown",
   "metadata": {},
   "source": [
    "**Различий нет.**\n",
    "\n",
    "Значит, различий не будет и с другой контрольной группой. <br>\n",
    "Проверим."
   ]
  },
  {
   "cell_type": "code",
   "execution_count": 28,
   "metadata": {
    "scrolled": false
   },
   "outputs": [
    {
     "name": "stdout",
     "output_type": "stream",
     "text": [
      "\n",
      "CartScreenAppear: проверка доли события в группах 247 и 248\n",
      "\n",
      "p-значение:  0.5786197879539783\n",
      "ВЫВОД: Нельзя отвергать нулевую гипотезу, так как разница статистически не значима\n",
      "_________________________________________________________\n",
      "\n",
      "\n",
      "MainScreenAppear: проверка доли события в группах 247 и 248\n",
      "\n",
      "p-значение:  0.4587053616621515\n",
      "ВЫВОД: Нельзя отвергать нулевую гипотезу, так как разница статистически не значима\n",
      "_________________________________________________________\n",
      "\n",
      "\n",
      "OffersScreenAppear: проверка доли события в группах 247 и 248\n",
      "\n",
      "p-значение:  0.9197817830592261\n",
      "ВЫВОД: Нельзя отвергать нулевую гипотезу, так как разница статистически не значима\n",
      "_________________________________________________________\n",
      "\n",
      "\n",
      "PaymentScreenSuccessful: проверка доли события в группах 247 и 248\n",
      "\n",
      "p-значение:  0.7373415053803964\n",
      "ВЫВОД: Нельзя отвергать нулевую гипотезу, так как разница статистически не значима\n",
      "_________________________________________________________\n",
      "\n"
     ]
    }
   ],
   "source": [
    "for event in events_by_group.event.unique():\n",
    "    find_share_difference(247, 247, 248, event, 0.05, 16)"
   ]
  },
  {
   "cell_type": "markdown",
   "metadata": {},
   "source": [
    "**Как и ожидалось, различий так же нет.**\n",
    "\n",
    "Для контроля проверим, есть ли различия между объединенной контрольной группой и группой В."
   ]
  },
  {
   "cell_type": "code",
   "execution_count": 29,
   "metadata": {
    "scrolled": false
   },
   "outputs": [
    {
     "name": "stdout",
     "output_type": "stream",
     "text": [
      "\n",
      "CartScreenAppear: проверка доли события в группах 246 и 248\n",
      "\n",
      "p-значение:  0.18175875284404386\n",
      "ВЫВОД: Нельзя отвергать нулевую гипотезу, так как разница статистически не значима\n",
      "_________________________________________________________\n",
      "\n",
      "\n",
      "MainScreenAppear: проверка доли события в группах 246 и 248\n",
      "\n",
      "p-значение:  0.29424526837179577\n",
      "ВЫВОД: Нельзя отвергать нулевую гипотезу, так как разница статистически не значима\n",
      "_________________________________________________________\n",
      "\n",
      "\n",
      "OffersScreenAppear: проверка доли события в группах 246 и 248\n",
      "\n",
      "p-значение:  0.43425549655188256\n",
      "ВЫВОД: Нельзя отвергать нулевую гипотезу, так как разница статистически не значима\n",
      "_________________________________________________________\n",
      "\n",
      "\n",
      "PaymentScreenSuccessful: проверка доли события в группах 246 и 248\n",
      "\n",
      "p-значение:  0.6004294282308704\n",
      "ВЫВОД: Нельзя отвергать нулевую гипотезу, так как разница статистически не значима\n",
      "_________________________________________________________\n",
      "\n"
     ]
    }
   ],
   "source": [
    "for event in events_by_group.event.unique():\n",
    "    find_share_difference(246, 247, 248, event, 0.05, 16)"
   ]
  },
  {
   "cell_type": "markdown",
   "metadata": {},
   "source": [
    "**Статистически значимых различий нет ни по одному из событий в каждой группе.**\n",
    "\n",
    "Значит, смена шрифта не повлияла на поведение пользователей в группе В. <br>\n",
    "\n",
    "Они ведут себя так же, как пользователи контрольных групп, а значит новые шрифты им не мешают и не помогают."
   ]
  },
  {
   "cell_type": "markdown",
   "metadata": {},
   "source": [
    "## Шаг 4. Общие выводы и рекомендации <a id=\"Шаг_4\"></a>\n",
    "[К оглавлению](#оглавление)<br>"
   ]
  },
  {
   "cell_type": "markdown",
   "metadata": {},
   "source": [
    "### Выводы и рекомендации по воронке\n",
    "В основном пользователи теряются еще на главном экране: только 62% пользователей переходят на карточку товара с главного экрана. <br>\n",
    "Из тех, кто перешел на карточку товара, только 81% переходят в корзину (возможно они даже кладут товары в корзину, но почему-то потом не переходят в неё). <br>\n",
    "Однако большинство (95%) из тех, кто сделал это, оплачивают заказ.\n",
    "\n",
    "Переход на карточку товара и переход в корзину — два этапа воронки, которые следует изучать дополнительно, чтобы найти сформулировать гипотезы оптимизации этих шагов.\n",
    "\n",
    "<br>\n",
    "\n",
    "### Выводы по результатам А/А/В-теста\n",
    "Пользователи правильно разделены на группы для теста: один пользователь есть только в одной группе и значимых различий между двумя контрольными группами нет.\n",
    "\n",
    "В экспериментальной группе тоже нет значимых различий от контрольных групп: доля пользователей, совершивших то или иное событие, практически такая же, как в контрольных группах. <br>\n",
    "\n",
    "Это значит, что внедрение новых шрифтов не влияет на проходимость воронки \"от главного экрана в заказ\". <br>\n",
    "Можно смело заменять шрифты в приложении. Они не помешают пользователям, но и не принесут ощутимой пользы (кроме, возможно, эстетической).\n",
    "\n",
    "С точки зрения воронки никакой шрифт не лучше. Возможно, следует замерить другие метрики, на которые может повлиять шрифт."
   ]
  }
 ],
 "metadata": {
  "kernelspec": {
   "display_name": "Python 3",
   "language": "python",
   "name": "python3"
  },
  "language_info": {
   "codemirror_mode": {
    "name": "ipython",
    "version": 3
   },
   "file_extension": ".py",
   "mimetype": "text/x-python",
   "name": "python",
   "nbconvert_exporter": "python",
   "pygments_lexer": "ipython3",
   "version": "3.7.6"
  }
 },
 "nbformat": 4,
 "nbformat_minor": 2
}
