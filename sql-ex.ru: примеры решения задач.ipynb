{
  "nbformat": 4,
  "nbformat_minor": 0,
  "metadata": {
    "colab": {
      "name": "Решение задач с сайта sql-ex.ru",
      "provenance": [],
      "collapsed_sections": [
        "q6FFd6UyW7G9"
      ],
      "include_colab_link": true
    },
    "kernelspec": {
      "name": "python3",
      "display_name": "Python 3"
    }
  },
  "cells": [
    {
      "cell_type": "markdown",
      "metadata": {
        "id": "view-in-github",
        "colab_type": "text"
      },
      "source": [
        "<a href=\"https://colab.research.google.com/github/NikolaiMi/portfolio/blob/master/%D0%A0%D0%B5%D1%88%D0%B5%D0%BD%D0%B8%D0%B5_%D0%B7%D0%B0%D0%B4%D0%B0%D1%87_%D1%81_%D1%81%D0%B0%D0%B9%D1%82%D0%B0_sql_ex_ru.ipynb\" target=\"_parent\"><img src=\"https://colab.research.google.com/assets/colab-badge.svg\" alt=\"Open In Colab\"/></a>"
      ]
    },
    {
      "cell_type": "markdown",
      "metadata": {
        "id": "o8xSifcgWaAD"
      },
      "source": [
        "# 30+ задач с сайта sql-ex.ru\n",
        "Привет!\n",
        "\n",
        "Идею для этого блокнота предложил куратор курса аналитики данных Глеб Михайлов.\n",
        "\n",
        "Здесь я покажу, как решал задачи на самом популярном сайте про SQL.\n",
        "\n",
        "Постепенно я буду пополнять блокнот новыми задачами.\n",
        "\n",
        "Чтобы не казалось, что все это простая копипаста (ну а вдруг), я буду сопровождать каждое решение своими комментариями, в которых покажу, как рассуждал при решении."
      ]
    },
    {
      "cell_type": "markdown",
      "metadata": {
        "id": "q6FFd6UyW7G9"
      },
      "source": [
        "## Создаем базу с данными sql-ex\n",
        "\n",
        "Тут ничего интересного, поэтому раздел специально свернут."
      ]
    },
    {
      "cell_type": "markdown",
      "metadata": {
        "id": "1yx_pU6eXEmn"
      },
      "source": [
        "Этот скрипт можно скачать у них на https://sql-ex.ru/db_script_download.php. Это конкретно https://sql-ex.ru/download/sql-ex-pg.sql, все таблицы одним скриптом для postgres."
      ]
    },
    {
      "cell_type": "code",
      "metadata": {
        "id": "a65W1P8YVkZ_"
      },
      "source": [
        "sql = '''drop table if exists pass_in_trip;\n",
        "drop table if exists trip;\n",
        "drop table if exists passenger;\n",
        "drop table if exists company;\n",
        "\n",
        "--\n",
        "CREATE TABLE Company (\n",
        "\tID_comp int NOT NULL ,\n",
        "\tname char (10) NOT NULL \n",
        ")\n",
        ";\n",
        "\n",
        "CREATE TABLE Pass_in_trip (\n",
        "\ttrip_no int NOT NULL ,\n",
        "\tdate timestamp NOT NULL ,\n",
        "\tID_psg int NOT NULL ,\n",
        "\tplace char (10) NOT NULL \n",
        ")\n",
        ";\n",
        "\n",
        "CREATE TABLE Passenger (\n",
        "\tID_psg int NOT NULL ,\n",
        "\tname char (20) NOT NULL \n",
        ")\n",
        ";\n",
        "\n",
        "CREATE TABLE Trip (\n",
        "\ttrip_no int NOT NULL ,\n",
        "\tID_comp int NOT NULL ,\n",
        "\tplane char (10) NOT NULL ,\n",
        "\ttown_from char (25) NOT NULL ,\n",
        "\ttown_to char (25) NOT NULL ,\n",
        "\ttime_out timestamp NOT NULL ,\n",
        "\ttime_in timestamp NOT NULL \n",
        ")\n",
        ";\n",
        "\n",
        "                                                                                                                                                                                                                                                                 \n",
        "----Company------------------------------------------------------------------------------------------------------------------------------------------------------------------------------------------------------------------------------------------------------------ \n",
        "insert into Company values(1,'Don_avia  ');\n",
        "insert into Company values(2,'Aeroflot  ');\n",
        "insert into Company values(3,'Dale_avia ');\n",
        "insert into Company values(4,'air_France');\n",
        "insert into Company values(5,'British_AW');\n",
        "\n",
        "\n",
        "                                                                                                                                                                                                                                                                 \n",
        "----Passenger------------------------------------------------------------------------------------------------------------------------------------------------------------------------------------------------------------------------------------------------------------ \n",
        "insert into Passenger values(1,'Bruce Willis        ');\n",
        "insert into Passenger values(2,'George Clooney      ');\n",
        "insert into Passenger values(3,'Kevin Costner       ');\n",
        "insert into Passenger values(4,'Donald Sutherland   ');\n",
        "insert into Passenger values(5,'Jennifer Lopez      ');\n",
        "insert into Passenger values(6,'Ray Liotta          ');\n",
        "insert into Passenger values(7,'Samuel L. Jackson   ');\n",
        "insert into Passenger values(8,'Nikole Kidman       ');\n",
        "insert into Passenger values(9,'Alan Rickman        ');\n",
        "insert into Passenger values(10,'Kurt Russell        ');\n",
        "insert into Passenger values(11,'Harrison Ford       ');\n",
        "insert into Passenger values(12,'Russell Crowe       ');\n",
        "insert into Passenger values(13,'Steve Martin        ');\n",
        "insert into Passenger values(14,'Michael Caine       ');\n",
        "insert into Passenger values(15,'Angelina Jolie      ');\n",
        "insert into Passenger values(16,'Mel Gibson          ');\n",
        "insert into Passenger values(17,'Michael Douglas     ');\n",
        "insert into Passenger values(18,'John Travolta       ');\n",
        "insert into Passenger values(19,'Sylvester Stallone  ');\n",
        "insert into Passenger values(20,'Tommy Lee Jones     ');\n",
        "insert into Passenger values(21,'Catherine Zeta-Jones');\n",
        "insert into Passenger values(22,'Antonio Banderas    ');\n",
        "insert into Passenger values(23,'Kim Basinger        ');\n",
        "insert into Passenger values(24,'Sam Neill           ');\n",
        "insert into Passenger values(25,'Gary Oldman         ');\n",
        "insert into Passenger values(26,'Clint Eastwood      ');\n",
        "insert into Passenger values(27,'Brad Pitt           ');\n",
        "insert into Passenger values(28,'Johnny Depp         ');\n",
        "insert into Passenger values(29,'Pierce Brosnan      ');\n",
        "insert into Passenger values(30,'Sean Connery        ');\n",
        "insert into Passenger values(31,'Bruce Willis        ');\n",
        "insert into Passenger values(37,'Mullah Omar         ');\n",
        "\n",
        "\n",
        "\n",
        "                                                                                                                                                                                                                                                                 \n",
        "----Trip------------------------------------------------------------------------------------------------------------------------------------------------------------------------------------------------------------------------------------------------------------ \n",
        "insert into Trip values(1100,4,'Boeing    ','Rostov                   ','Paris                    ','19000101 14:30:00.000','19000101 17:50:00.000');\n",
        "insert into Trip values(1101,4,'Boeing    ','Paris                    ','Rostov                   ','19000101 08:12:00.000','19000101 11:45:00.000');\n",
        "insert into Trip values(1123,3,'TU-154    ','Rostov                   ','Vladivostok              ','19000101 16:20:00.000','19000101 03:40:00.000');\n",
        "insert into Trip values(1124,3,'TU-154    ','Vladivostok              ','Rostov                   ','19000101 09:00:00.000','19000101 19:50:00.000');\n",
        "insert into Trip values(1145,2,'IL-86     ','Moscow                   ','Rostov                   ','19000101 09:35:00.000','19000101 11:23:00.000');\n",
        "insert into Trip values(1146,2,'IL-86     ','Rostov                   ','Moscow                   ','19000101 17:55:00.000','19000101 20:01:00.000');\n",
        "insert into Trip values(1181,1,'TU-134    ','Rostov                   ','Moscow                   ','19000101 06:12:00.000','19000101 08:01:00.000');\n",
        "insert into Trip values(1182,1,'TU-134    ','Moscow                   ','Rostov                   ','19000101 12:35:00.000','19000101 14:30:00.000');\n",
        "insert into Trip values(1187,1,'TU-134    ','Rostov                   ','Moscow                   ','19000101 15:42:00.000','19000101 17:39:00.000');\n",
        "insert into Trip values(1188,1,'TU-134    ','Moscow                   ','Rostov                   ','19000101 22:50:00.000','19000101 00:48:00.000');\n",
        "insert into Trip values(1195,1,'TU-154    ','Rostov                   ','Moscow                   ','19000101 23:30:00.000','19000101 01:11:00.000');\n",
        "insert into Trip values(1196,1,'TU-154    ','Moscow                   ','Rostov                   ','19000101 04:00:00.000','19000101 05:45:00.000');\n",
        "insert into Trip values(7771,5,'Boeing    ','London                   ','Singapore                ','19000101 01:00:00.000','19000101 11:00:00.000');\n",
        "insert into Trip values(7772,5,'Boeing    ','Singapore                ','London                   ','19000101 12:00:00.000','19000101 02:00:00.000');\n",
        "insert into Trip values(7773,5,'Boeing    ','London                   ','Singapore                ','19000101 03:00:00.000','19000101 13:00:00.000');\n",
        "insert into Trip values(7774,5,'Boeing    ','Singapore                ','London                   ','19000101 14:00:00.000','19000101 06:00:00.000');\n",
        "insert into Trip values(7775,5,'Boeing    ','London                   ','Singapore                ','19000101 09:00:00.000','19000101 20:00:00.000');\n",
        "insert into Trip values(7776,5,'Boeing    ','Singapore                ','London                   ','19000101 18:00:00.000','19000101 08:00:00.000');\n",
        "insert into Trip values(7777,5,'Boeing    ','London                   ','Singapore                ','19000101 18:00:00.000','19000101 06:00:00.000');\n",
        "insert into Trip values(7778,5,'Boeing    ','Singapore                ','London                   ','19000101 22:00:00.000','19000101 12:00:00.000');\n",
        "insert into Trip values(8881,5,'Boeing    ','London                   ','Paris                    ','19000101 03:00:00.000','19000101 04:00:00.000');\n",
        "insert into Trip values(8882,5,'Boeing    ','Paris                    ','London                   ','19000101 22:00:00.000','19000101 23:00:00.000');\n",
        "\n",
        "\n",
        "\n",
        "                                                                                                                                                                                                                                                                 \n",
        "----Pass_in_trip------------------------------------------------------------------------------------------------------------------------------------------------------------------------------------------------------------------------------------------------------------ \n",
        "insert into Pass_in_trip values(1100,'20030429 00:00:00.000',1,'1a        ');\n",
        "insert into Pass_in_trip values(1123,'20030405 00:00:00.000',3,'2a        ');\n",
        "insert into Pass_in_trip values(1123,'20030408 00:00:00.000',1,'4c        ');\n",
        "insert into Pass_in_trip values(1123,'20030408 00:00:00.000',6,'4b        ');\n",
        "insert into Pass_in_trip values(1124,'20030402 00:00:00.000',2,'2d        ');\n",
        "insert into Pass_in_trip values(1145,'20030405 00:00:00.000',3,'2c        ');\n",
        "insert into Pass_in_trip values(1181,'20030401 00:00:00.000',1,'1a        ');\n",
        "insert into Pass_in_trip values(1181,'20030401 00:00:00.000',6,'1b        ');\n",
        "insert into Pass_in_trip values(1181,'20030401 00:00:00.000',8,'3c        ');\n",
        "insert into Pass_in_trip values(1181,'20030413 00:00:00.000',5,'1b        ');\n",
        "insert into Pass_in_trip values(1182,'20030413 00:00:00.000',5,'4b        ');\n",
        "insert into Pass_in_trip values(1187,'20030414 00:00:00.000',8,'3a        ');\n",
        "insert into Pass_in_trip values(1188,'20030401 00:00:00.000',8,'3a        ');\n",
        "insert into Pass_in_trip values(1182,'20030413 00:00:00.000',9,'6d        ');\n",
        "insert into Pass_in_trip values(1145,'20030425 00:00:00.000',5,'1d        ');\n",
        "insert into Pass_in_trip values(1187,'20030414 00:00:00.000',10,'3d        ');\n",
        "insert into Pass_in_trip values(8882,'20051106 00:00:00.000',37,'1a        ') ;\n",
        "insert into Pass_in_trip values(7771,'20051107 00:00:00.000',37,'1c        ') ;\n",
        "insert into Pass_in_trip values(7772,'20051107 00:00:00.000',37,'1a        ') ;\n",
        "insert into Pass_in_trip values(8881,'20051108 00:00:00.000',37,'1d        ') ;\n",
        "insert into Pass_in_trip values(7778,'20051105 00:00:00.000',10,'2a        ') ;\n",
        "insert into Pass_in_trip values(7772,'20051129 00:00:00.000',10,'3a        ');\n",
        "insert into Pass_in_trip values(7771,'20051104 00:00:00.000',11,'4a        ');\n",
        "insert into Pass_in_trip values(7771,'20051107 00:00:00.000',11,'1b        ');\n",
        "insert into Pass_in_trip values(7771,'20051109 00:00:00.000',11,'5a        ');\n",
        "insert into Pass_in_trip values(7772,'20051107 00:00:00.000',12,'1d        ');\n",
        "insert into Pass_in_trip values(7773,'20051107 00:00:00.000',13,'2d        ');\n",
        "insert into Pass_in_trip values(7772,'20051129 00:00:00.000',13,'1b        ');\n",
        "insert into Pass_in_trip values(8882,'20051113 00:00:00.000',14,'3d        ');\n",
        "insert into Pass_in_trip values(7771,'20051114 00:00:00.000',14,'4d        ');\n",
        "insert into Pass_in_trip values(7771,'20051116 00:00:00.000',14,'5d        ');\n",
        "insert into Pass_in_trip values(7772,'20051129 00:00:00.000',14,'1c        ');\n",
        "\n",
        "drop table if exists Laptop;\n",
        "drop table if exists PC;\n",
        "drop table if exists Printer;\n",
        "drop table if exists Product;\n",
        "\n",
        "CREATE TABLE Laptop (\n",
        "\tcode int NOT NULL ,\n",
        "\tmodel varchar (50) NOT NULL ,\n",
        "\tspeed smallint NOT NULL ,\n",
        "\tram smallint NOT NULL ,\n",
        "\thd real NOT NULL ,\n",
        "\tprice decimal(12,2) NULL ,\n",
        "\tscreen smallint NOT NULL \n",
        ") \n",
        ";\n",
        "\n",
        "CREATE TABLE PC (\n",
        "\tcode int NOT NULL ,\n",
        "\tmodel varchar (50) NOT NULL ,\n",
        "\tspeed smallint NOT NULL ,\n",
        "\tram smallint NOT NULL ,\n",
        "\thd real NOT NULL ,\n",
        "\tcd varchar (10) NOT NULL ,\n",
        "\tprice decimal(12,2) NULL \n",
        ") \n",
        ";\n",
        "\n",
        "CREATE TABLE Product (\n",
        "\tmaker varchar (10) NOT NULL ,\n",
        "\tmodel varchar (50) NOT NULL ,\n",
        "\ttype varchar (50) NOT NULL \n",
        ") \n",
        ";\n",
        "\n",
        "CREATE TABLE Printer (\n",
        "\tcode int NOT NULL ,\n",
        "\tmodel varchar (50) NOT NULL ,\n",
        "\tcolor char (1) NOT NULL ,\n",
        "\ttype varchar (10) NOT NULL ,\n",
        "\tprice decimal(12,2) NULL \n",
        ") \n",
        ";\n",
        "\n",
        "----Product------------------------------------------------------------------------------------------------------------------------------------------------------------------------------------------------------------------------------------------------------------ \n",
        "insert into Product values('B','1121','PC');\n",
        "insert into Product values('A','1232','PC');\n",
        "insert into Product values('A','1233','PC');\n",
        "insert into Product values('E','1260','PC');\n",
        "insert into Product values('A','1276','Printer');\n",
        "insert into Product values('D','1288','Printer');\n",
        "insert into Product values('A','1298','Laptop');\n",
        "insert into Product values('C','1321','Laptop');\n",
        "insert into Product values('A','1401','Printer');\n",
        "insert into Product values('A','1408','Printer');\n",
        "insert into Product values('D','1433','Printer');\n",
        "insert into Product values('E','1434','Printer');\n",
        "insert into Product values('B','1750','Laptop');\n",
        "insert into Product values('A','1752','Laptop');\n",
        "insert into Product values('E','2113','PC');\n",
        "insert into Product values('E','2112','PC');\n",
        "                                                                                                                                                                                                                                                                 \n",
        "----PC------------------------------------------------------------------------------------------------------------------------------------------------------------------------------------------------------------------------------------------------------------ \n",
        "insert into PC values(1,'1232',500,64,5,'12x','600');\n",
        "insert into PC values(2,'1121',750,128,14,'40x','850');\n",
        "insert into PC values(3,'1233',500,64,5,'12x','600');\n",
        "insert into PC values(4,'1121',600,128,14,'40x','850');\n",
        "insert into PC values(5,'1121',600,128,8,'40x','850');\n",
        "insert into PC values(6,'1233',750,128,20,'50x','950');\n",
        "insert into PC values(7,'1232',500,32,10,'12x','400');\n",
        "insert into PC values(8,'1232',450,64,8,'24x','350');\n",
        "insert into PC values(9,'1232',450,32,10,'24x','350');\n",
        "insert into PC values(10,'1260',500,32,10,'12x','350');\n",
        "insert into PC values(11,'1233',900,128,40,'40x','980');\n",
        "insert into PC values(12,'1233',800,128,20,'50x','970');\n",
        "\n",
        "                                                                                                                                                                                                                                                                 \n",
        "----Laptop------------------------------------------------------------------------------------------------------------------------------------------------------------------------------------------------------------------------------------------------------------ \n",
        "insert into Laptop values(1,'1298',350,32,4,'700',11);\n",
        "insert into Laptop values(2,'1321',500,64,8,'970',12);\n",
        "insert into Laptop values(3,'1750',750,128,12,'1200',14);\n",
        "insert into Laptop values(4,'1298',600,64,10,'1050',15);\n",
        "insert into Laptop values(5,'1752',750,128,10,'1150',14);\n",
        "insert into Laptop values(6,'1298',450,64,10,'950',12);\n",
        "\n",
        "                                                                                                                                                                                                                                                                 \n",
        "----Printer------------------------------------------------------------------------------------------------------------------------------------------------------------------------------------------------------------------------------------------------------------ \n",
        "insert into Printer values(1,'1276','n','Laser','400');\n",
        "insert into Printer values(2,'1433','y','Jet','270');\n",
        "insert into Printer values(3,'1434','y','Jet','290');\n",
        "insert into Printer values(4,'1401','n','Matrix','150');\n",
        "insert into Printer values(5,'1408','n','Matrix','270');\n",
        "insert into Printer values(6,'1288','n','Laser','400');\n",
        "\n",
        "-- select * from income\n",
        "drop table if exists Income;\n",
        "drop table if exists Outcome;\n",
        "drop table if exists Outcome_o;\n",
        "drop table if exists Income_o;\n",
        "\n",
        "CREATE TABLE Income (\n",
        "\tcode int NOT NULL ,\n",
        "\tpoint smallint NOT NULL ,\n",
        "\tdate timestamp NOT NULL ,\n",
        "\tinc decimal(12,2) NOT NULL \n",
        ") \n",
        ";\n",
        "\n",
        "CREATE TABLE Outcome (\n",
        "\tcode int NOT NULL ,\n",
        "\tpoint smallint NOT NULL ,\n",
        "\tdate timestamp NOT NULL ,\n",
        "\tout decimal(12,2) NOT NULL \n",
        ") \n",
        ";\n",
        "\n",
        "CREATE TABLE Income_o (\n",
        "\tpoint smallint NOT NULL ,\n",
        "\tdate timestamp NOT NULL ,\n",
        "\tinc decimal(12,2) NOT NULL \n",
        ") \n",
        ";\n",
        "\n",
        "CREATE TABLE Outcome_o (\n",
        "\tpoint smallint NOT NULL ,\n",
        "\tdate timestamp NOT NULL ,\n",
        "\tout decimal(12,2) NOT NULL \n",
        ") \n",
        ";\n",
        "                                                                                                                                                                                                                                                                 \n",
        "----Income------------------------------------------------------------------------------------------------------------------------------------------------------------------------------------------------------------------------------------------------------------ \n",
        "insert into Income values(1,1,'20010322 00:00:00.000','15000.00');\n",
        "insert into Income values(2,1,'20010323 00:00:00.000','15000.00');\n",
        "insert into Income values(3,1,'20010324 00:00:00.000','3600.00');\n",
        "insert into Income values(4,2,'20010322 00:00:00.000','10000.00');\n",
        "insert into Income values(5,2,'20010324 00:00:00.000','1500.00');\n",
        "insert into Income values(6,1,'20010413 00:00:00.000','5000.00');\n",
        "insert into Income values(7,1,'20010511 00:00:00.000','4500.00');\n",
        "insert into Income values(8,1,'20010322 00:00:00.000','15000.00');\n",
        "insert into Income values(9,2,'20010324 00:00:00.000','1500.00');\n",
        "insert into Income values(10,1,'20010413 00:00:00.000','5000.00');\n",
        "insert into Income values(11,1,'20010324 00:00:00.000','3400.00');\n",
        "insert into Income values(12,3,'20010913 00:00:00.000','1350.00');\n",
        "insert into Income values(13,3,'20010913 00:00:00.000','1750.00');\n",
        "\n",
        "                                                                                                                                                                                                                                                                 \n",
        "---------Outcome-----------------\n",
        "insert into Outcome values(1,1,'20010314 00:00:00.000','15348.00');\n",
        "insert into Outcome values(2,1,'20010324 00:00:00.000','3663.00');\n",
        "insert into Outcome values(3,1,'20010326 00:00:00.000','1221.00');\n",
        "insert into Outcome values(4,1,'20010328 00:00:00.000','2075.00');\n",
        "insert into Outcome values(5,1,'20010329 00:00:00.000','2004.00');\n",
        "insert into Outcome values(6,1,'20010411 00:00:00.000','3195.04');\n",
        "insert into Outcome values(7,1,'20010413 00:00:00.000','4490.00');\n",
        "insert into Outcome values(8,1,'20010427 00:00:00.000','3110.00');\n",
        "insert into Outcome values(9,1,'20010511 00:00:00.000','2530.00');\n",
        "insert into Outcome values(10,2,'20010322 00:00:00.000','1440.00');\n",
        "insert into Outcome values(11,2,'20010329 00:00:00.000','7848.00');\n",
        "insert into Outcome values(12,2,'20010402 00:00:00.000','2040.00');\n",
        "insert into Outcome values(13,1,'20010324 00:00:00.000','3500.00');\n",
        "insert into Outcome values(14,2,'20010322 00:00:00.000','1440.00');\n",
        "insert into Outcome values(15,1,'20010329 00:00:00.000','2006.00');\n",
        "insert into Outcome values(16,3,'20010913 00:00:00.000','1200.00');\n",
        "insert into Outcome values(17,3,'20010913 00:00:00.000','1500.00');\n",
        "insert into Outcome values(18,3,'20010914 00:00:00.000','1150.00');\n",
        "\n",
        "                                                                                                                                                                                                                                                                 \n",
        "--------Income_o --------------\n",
        "insert into Income_o values(1,'20010322 00:00:00.000','15000.00');\n",
        "insert into Income_o values(1,'20010323 00:00:00.000','15000.00');\n",
        "insert into Income_o values(1,'20010324 00:00:00.000','3400.00');\n",
        "insert into Income_o values(1,'20010413 00:00:00.000','5000.00');\n",
        "insert into Income_o values(1,'20010511 00:00:00.000','4500.00');\n",
        "insert into Income_o values(2,'20010322 00:00:00.000','10000.00');\n",
        "insert into Income_o values(2,'20010324 00:00:00.000','1500.00');\n",
        "insert into Income_o values(3,'20010913 00:00:00.000','11500.00');\n",
        "insert into Income_o values(3,'20011002 00:00:00.000','18000.00');\n",
        "\n",
        "\n",
        "                                                                                                                                                                                                                                                                 \n",
        "---------Outcome_o -----------\n",
        "insert into Outcome_o values(1,'20010314 00:00:00.000','15348');\n",
        "insert into Outcome_o values(1,'20010324 00:00:00.000','3663');\n",
        "insert into Outcome_o values(1,'20010326 00:00:00.000','1221');\n",
        "insert into Outcome_o values(1,'20010328 00:00:00.000','2075');\n",
        "insert into Outcome_o values(1,'20010329 00:00:00.000','2004');\n",
        "insert into Outcome_o values(1,'20010411 00:00:00.000','3195.04');\n",
        "insert into Outcome_o values(1,'20010413 00:00:00.000','4490');\n",
        "insert into Outcome_o values(1,'20010427 00:00:00.000','3110');\n",
        "insert into Outcome_o values(1,'20010511 00:00:00.000','2530');\n",
        "insert into Outcome_o values(2,'20010322 00:00:00.000','1440');\n",
        "insert into Outcome_o values(2,'20010329 00:00:00.000','7848');\n",
        "insert into Outcome_o values(2,'20010402 00:00:00.000','2040');\n",
        "insert into Outcome_o values(3,'20010913 00:00:00.000','1500');\n",
        "insert into Outcome_o values(3,'20010914 00:00:00.000','2300');\n",
        "insert into Outcome_o values(3,'20020916 00:00:00.000','2150');\n",
        "\n",
        "\n",
        "drop table if exists utb;\n",
        "drop table if exists utq;\n",
        "drop table if exists utv;\n",
        "--\n",
        "CREATE TABLE utB (\n",
        "\tB_DATETIME timestamp NOT NULL ,\n",
        "\tB_Q_ID int NOT NULL ,\n",
        "\tB_V_ID int NOT NULL ,\n",
        "\tB_VOL smallint NULL \n",
        ") \n",
        ";\n",
        "\n",
        "CREATE TABLE utQ (\n",
        "\tQ_ID int NOT NULL ,\n",
        "\tQ_NAME varchar (35) NOT NULL \n",
        ") \n",
        ";\n",
        "\n",
        "CREATE TABLE utV (\n",
        "\tV_ID int NOT NULL ,\n",
        "\tV_NAME varchar (35) NOT NULL ,\n",
        "\tV_COLOR char (1) NOT NULL \n",
        ") \n",
        ";\n",
        "\n",
        "                                                                                                                                                                                                                                                                \n",
        "----utQ------------------------------------------------------------------------------------------------------------------------------------------------------------------------------------------------------------------------------------------------------------ \n",
        "insert into utQ values(1,'Square # 01');\n",
        "insert into utQ values(2,'Square # 02');\n",
        "insert into utQ values(3,'Square # 03');\n",
        "insert into utQ values(4,'Square # 04');\n",
        "insert into utQ values(5,'Square # 05');\n",
        "insert into utQ values(6,'Square # 06');\n",
        "insert into utQ values(7,'Square # 07');\n",
        "insert into utQ values(8,'Square # 08');\n",
        "insert into utQ values(9,'Square # 09');\n",
        "insert into utQ values(10,'Square # 10');\n",
        "insert into utQ values(11,'Square # 11');\n",
        "insert into utQ values(12,'Square # 12');\n",
        "insert into utQ values(13,'Square # 13');\n",
        "insert into utQ values(14,'Square # 14');\n",
        "insert into utQ values(15,'Square # 15');\n",
        "insert into utQ values(16,'Square # 16');\n",
        "insert into utQ values(17,'Square # 17');\n",
        "insert into utQ values(18,'Square # 18');\n",
        "insert into utQ values(19,'Square # 19');\n",
        "insert into utQ values(20,'Square # 20');\n",
        "insert into utQ values(21,'Square # 21');\n",
        "insert into utQ values(22,'Square # 22');\n",
        "insert into utQ values(23,'Square # 23');\n",
        "insert into utQ values(25,'Square # 25');\n",
        "\n",
        "\n",
        "\n",
        "                                                                                                                                                                                                                                                                 \n",
        "----utV------------------------------------------------------------------------------------------------------------------------------------------------------------------------------------------------------------------------------------------------------------ \n",
        "insert into utV values(1,'Balloon # 01','R');\n",
        "insert into utV values(2,'Balloon # 02','R');\n",
        "insert into utV values(3,'Balloon # 03','R');\n",
        "insert into utV values(4,'Balloon # 04','G');\n",
        "insert into utV values(5,'Balloon # 05','G');\n",
        "insert into utV values(6,'Balloon # 06','G');\n",
        "insert into utV values(7,'Balloon # 07','B');\n",
        "insert into utV values(8,'Balloon # 08','B');\n",
        "insert into utV values(9,'Balloon # 09','B');\n",
        "insert into utV values(10,'Balloon # 10','R');\n",
        "insert into utV values(11,'Balloon # 11','R');\n",
        "insert into utV values(12,'Balloon # 12','R');\n",
        "insert into utV values(13,'Balloon # 13','G');\n",
        "insert into utV values(14,'Balloon # 14','G');\n",
        "insert into utV values(15,'Balloon # 15','B');\n",
        "insert into utV values(16,'Balloon # 16','B');\n",
        "insert into utV values(17,'Balloon # 17','R');\n",
        "insert into utV values(18,'Balloon # 18','G');\n",
        "insert into utV values(19,'Balloon # 19','B');\n",
        "insert into utV values(20,'Balloon # 20','R');\n",
        "insert into utV values(21,'Balloon # 21','G');\n",
        "insert into utV values(22,'Balloon # 22','B');\n",
        "insert into utV values(23,'Balloon # 23','R');\n",
        "insert into utV values(24,'Balloon # 24','G');\n",
        "insert into utV values(25,'Balloon # 25','B');\n",
        "insert into utV values(26,'Balloon # 26','B');\n",
        "insert into utV values(27,'Balloon # 27','R');\n",
        "insert into utV values(28,'Balloon # 28','G');\n",
        "insert into utV values(29,'Balloon # 29','R');\n",
        "insert into utV values(30,'Balloon # 30','G');\n",
        "insert into utV values(31,'Balloon # 31','R');\n",
        "insert into utV values(32,'Balloon # 32','G');\n",
        "insert into utV values(33,'Balloon # 33','B');\n",
        "insert into utV values(34,'Balloon # 34','R');\n",
        "insert into utV values(35,'Balloon # 35','G');\n",
        "insert into utV values(36,'Balloon # 36','B');\n",
        "insert into utV values(37,'Balloon # 37','R');\n",
        "insert into utV values(38,'Balloon # 38','G');\n",
        "insert into utV values(39,'Balloon # 39','B');\n",
        "insert into utV values(40,'Balloon # 40','R');\n",
        "insert into utV values(41,'Balloon # 41','R');\n",
        "insert into utV values(42,'Balloon # 42','G');\n",
        "insert into utV values(43,'Balloon # 43','B');\n",
        "insert into utV values(44,'Balloon # 44','R');\n",
        "insert into utV values(45,'Balloon # 45','G');\n",
        "insert into utV values(46,'Balloon # 46','B');\n",
        "insert into utV values(47,'Balloon # 47','B');\n",
        "insert into utV values(48,'Balloon # 48','G');\n",
        "insert into utV values(49,'Balloon # 49','R');\n",
        "insert into utV values(50,'Balloon # 50','G');\n",
        "insert into utV values(51,'Balloon # 51','B');\n",
        "insert into utV values(52,'Balloon # 52','R');\n",
        "insert into utV values(53,'Balloon # 53','G');\n",
        "insert into utV values(54,'Balloon # 54','B');\n",
        "\n",
        "                                                                                                                                                                                                                                                                 \n",
        "----utB------------------------------------------------------------------------------------------------------------------------------------------------------------------------------------------------------------------------------------------------------------ \n",
        "insert into utB values('20030101 01:12:01.000',1,1,155);\n",
        "insert into utB values('20030623 01:12:02.000',1,1,100);\n",
        "insert into utB values('20030101 01:12:03.000',2,2,255);\n",
        "insert into utB values('20030101 01:12:04.000',3,3,255);\n",
        "insert into utB values('20030101 01:12:05.000',1,4,255);\n",
        "insert into utB values('20030101 01:12:06.000',2,5,255);\n",
        "insert into utB values('20030101 01:12:07.000',3,6,255);\n",
        "insert into utB values('20030101 01:12:08.000',1,7,255);\n",
        "insert into utB values('20030101 01:12:09.000',2,8,255);\n",
        "insert into utB values('20030101 01:12:10.000',3,9,255);\n",
        "insert into utB values('20030101 01:12:11.000',4,10,50);\n",
        "insert into utB values('20030101 01:12:12.000',5,11,100);\n",
        "insert into utB values('20030101 01:12:13.000',5,12,155);\n",
        "insert into utB values('20030101 01:12:14.000',5,13,155);\n",
        "insert into utB values('20030101 01:12:15.000',5,14,100);\n",
        "insert into utB values('20030101 01:12:16.000',5,15,50);\n",
        "insert into utB values('20030101 01:12:17.000',5,16,205);\n",
        "insert into utB values('20030101 01:12:18.000',6,10,155);\n",
        "insert into utB values('20030101 01:12:19.000',6,17,100);\n",
        "insert into utB values('20030101 01:12:20.000',6,18,255);\n",
        "insert into utB values('20030101 01:12:21.000',6,19,255);\n",
        "insert into utB values('20030101 01:12:22.000',7,17,155);\n",
        "insert into utB values('20030101 01:12:23.000',7,20,100);\n",
        "insert into utB values('20030101 01:12:24.000',7,21,255);\n",
        "insert into utB values('20030101 01:12:25.000',7,22,255);\n",
        "insert into utB values('20030101 01:12:26.000',8,10,50);\n",
        "insert into utB values('20030101 01:12:27.000',9,23,255);\n",
        "insert into utB values('20030101 01:12:28.000',9,24,255);\n",
        "insert into utB values('20030101 01:12:29.000',9,25,100);\n",
        "insert into utB values('20030101 01:12:30.000',9,26,155);\n",
        "insert into utB values('20030101 01:12:31.000',10,25,155);\n",
        "insert into utB values('20030101 01:12:31.000',10,26,100);\n",
        "insert into utB values('20030101 01:12:33.000',10,27,10);\n",
        "insert into utB values('20030101 01:12:34.000',10,28,10);\n",
        "insert into utB values('20030101 01:12:35.000',10,29,245);\n",
        "insert into utB values('20030101 01:12:36.000',10,30,245);\n",
        "insert into utB values('20030101 01:12:37.000',11,31,100);\n",
        "insert into utB values('20030101 01:12:38.000',11,32,100);\n",
        "insert into utB values('20030101 01:12:39.000',11,33,100);\n",
        "insert into utB values('20030101 01:12:40.000',11,34,155);\n",
        "insert into utB values('20030101 01:12:41.000',11,35,155);\n",
        "insert into utB values('20030101 01:12:42.000',11,36,155);\n",
        "insert into utB values('20030101 01:12:43.000',12,31,155);\n",
        "insert into utB values('20030101 01:12:44.000',12,32,155);\n",
        "insert into utB values('20030101 01:12:45.000',12,33,155);\n",
        "insert into utB values('20030101 01:12:46.000',12,34,100);\n",
        "insert into utB values('20030101 01:12:47.000',12,35,100);\n",
        "insert into utB values('20030101 01:12:48.000',12,36,100);\n",
        "insert into utB values('20030101 01:13:01.000',4,37,20);\n",
        "insert into utB values('20030101 01:13:02.000',8,38,20);\n",
        "insert into utB values('20030101 01:13:03.000',13,39,123);\n",
        "insert into utB values('20030101 01:13:04.000',14,39,111);\n",
        "insert into utB values('20030101 01:13:05.000',14,40,50);\n",
        "insert into utB values('20030101 01:13:06.000',15,41,50);\n",
        "insert into utB values('20030101 01:13:07.000',15,41,50);\n",
        "insert into utB values('20030101 01:13:08.000',15,42,50);\n",
        "insert into utB values('20030101 01:13:09.000',15,42,50);\n",
        "insert into utB values('20030101 01:13:10.000',16,42,50);\n",
        "insert into utB values('20030101 01:13:11.000',16,42,50);\n",
        "insert into utB values('20030101 01:13:12.000',16,43,50);\n",
        "insert into utB values('20030101 01:13:13.000',16,43,50);\n",
        "insert into utB values('20030101 01:13:14.000',16,47,50);\n",
        "insert into utB values('20030101 01:13:15.000',17,44,10);\n",
        "insert into utB values('20030101 01:13:16.000',17,44,10);\n",
        "insert into utB values('20030101 01:13:17.000',17,45,10);\n",
        "insert into utB values('20030101 01:13:18.000',17,45,10);\n",
        "insert into utB values('20030201 01:13:19.000',18,45,10);\n",
        "insert into utB values('20030301 01:13:20.000',18,45,10);\n",
        "insert into utB values('20030401 01:13:21.000',18,46,10);\n",
        "insert into utB values('20030501 01:13:22.000',18,46,10);\n",
        "insert into utB values('20030611 01:13:23.000',19,44,10);\n",
        "insert into utB values('20030101 01:13:24.000',19,44,10);\n",
        "insert into utB values('20030101 01:13:25.000',19,45,10);\n",
        "insert into utB values('20030101 01:13:26.000',19,45,10);\n",
        "insert into utB values('20030201 01:13:27.000',20,45,10);\n",
        "insert into utB values('20030301 01:13:28.000',20,45,10);\n",
        "insert into utB values('20030401 01:13:29.000',20,46,10);\n",
        "insert into utB values('20030501 01:13:30.000',20,46,10);\n",
        "insert into utB values('20030201 01:13:31.000',21,49,50);\n",
        "insert into utB values('20030202 01:13:32.000',21,49,50);\n",
        "insert into utB values('20030203 01:13:33.000',21,50,50);\n",
        "insert into utB values('20030204 01:13:34.000',21,50,50);\n",
        "insert into utB values('20030205 01:13:35.000',21,48,1);\n",
        "insert into utB values('20000101 01:13:36.000',22,50,50);\n",
        "insert into utB values('20010101 01:13:37.000',22,50,50);\n",
        "insert into utB values('20020101 01:13:38.000',22,51,50);\n",
        "insert into utB values('20020601 01:13:39.000',22,51,50);\n",
        "insert into utB values('20030101 01:13:05.000',4,37,185);\n",
        "\n",
        "drop table if exists outcomes;\n",
        "drop table if exists ships;\n",
        "drop table if exists classes;\n",
        "drop table if exists battles;\n",
        "\n",
        "CREATE TABLE Battles (\n",
        "\tname varchar (20) NOT NULL ,\n",
        "\tdate timestamp NOT NULL \n",
        ") \n",
        ";\n",
        "\n",
        "CREATE TABLE Classes (\n",
        "\tclass varchar (50) NOT NULL ,\n",
        "\ttype varchar (2) NOT NULL ,\n",
        "\tcountry varchar (20) NOT NULL ,\n",
        "\tnumGuns smallint NULL ,\n",
        "\tbore real NULL ,\n",
        "\tdisplacement int NULL \n",
        ") \n",
        ";\n",
        "\n",
        "CREATE TABLE Ships (\n",
        "\tname varchar (50) NOT NULL ,\n",
        "\tclass varchar (50) NOT NULL ,\n",
        "\tlaunched smallint NULL \n",
        ") \n",
        ";\n",
        "\n",
        "CREATE TABLE Outcomes (\n",
        "\tship varchar (50) NOT NULL ,\n",
        "\tbattle varchar (20) NOT NULL ,\n",
        "\tresult varchar (10) NOT NULL \n",
        ") \n",
        ";\n",
        "\n",
        "                                                                                                                                                                                                                                                               \n",
        "----Classes------------------------------------------------------------------------------------------------------------------------------------------------------------------------------------------------------------------------------------------------------------ \n",
        "insert into Classes values('Bismarck','bb','Germany',8,15,42000);\n",
        "insert into Classes values('Iowa','bb','USA',9,16,46000);\n",
        "insert into Classes values('Kongo','bc','Japan',8,14,32000);\n",
        "insert into Classes values('North Carolina','bb','USA',12,16,37000);\n",
        "insert into Classes values('Renown','bc','Gt.Britain',6,15,32000);\n",
        "insert into Classes values('Revenge','bb','Gt.Britain',8,15,29000);\n",
        "insert into Classes values('Tennessee','bb','USA',12,14,32000);\n",
        "insert into Classes values('Yamato','bb','Japan',9,18,65000);\n",
        "\n",
        "\n",
        "\n",
        "                                                                                                                                                                                                                                                                 \n",
        "----Battles------------------------------------------------------------------------------------------------------------------------------------------------------------------------------------------------------------------------------------------------------------ \n",
        "insert into Battles values('Guadalcanal','19421115 00:00:00.000');\n",
        "insert into Battles values('North Atlantic','19410525 00:00:00.000');\n",
        "insert into Battles values('North Cape','19431226 00:00:00.000');\n",
        "insert into Battles values('Surigao Strait','19441025 00:00:00.000');\n",
        "insert into battles values ('#Cuba62a'   , '19621020');\n",
        "insert into battles values ('#Cuba62b'   , '19621025');\n",
        "\n",
        "\n",
        "\n",
        "                                                                                                                                                                                                                                                                 \n",
        "----Ships------------------------------------------------------------------------------------------------------------------------------------------------------------------------------------------------------------------------------------------------------------ \n",
        "insert into Ships values('California','Tennessee',1921);\n",
        "insert into Ships values('Haruna','Kongo',1916);\n",
        "insert into Ships values('Hiei','Kongo',1914);\n",
        "insert into Ships values('Iowa','Iowa',1943);\n",
        "insert into Ships values('Kirishima','Kongo',1915);\n",
        "insert into Ships values('Kongo','Kongo',1913);\n",
        "insert into Ships values('Missouri','Iowa',1944);\n",
        "insert into Ships values('Musashi','Yamato',1942);\n",
        "insert into Ships values('New Jersey','Iowa',1943);\n",
        "insert into Ships values('North Carolina','North Carolina',1941);\n",
        "insert into Ships values('Ramillies','Revenge',1917);\n",
        "insert into Ships values('Renown','Renown',1916);\n",
        "insert into Ships values('Repulse','Renown',1916);\n",
        "insert into Ships values('Resolution','Renown',1916);\n",
        "insert into Ships values('Revenge','Revenge',1916);\n",
        "insert into Ships values('Royal Oak','Revenge',1916);\n",
        "insert into Ships values('Royal Sovereign','Revenge',1916);\n",
        "insert into Ships values('Tennessee','Tennessee',1920);\n",
        "insert into Ships values('Washington','North Carolina',1941);\n",
        "insert into Ships values('Wisconsin','Iowa',1944);\n",
        "insert into Ships values('Yamato','Yamato',1941);\n",
        "insert into Ships values('South Dakota','North Carolina',1941) ;\n",
        "\n",
        "\n",
        "\n",
        "\n",
        "                                                                                                                                                                                                                                                                 \n",
        "----Outcomes------------------------------------------------------------------------------------------------------------------------------------------------------------------------------------------------------------------------------------------------------------ \n",
        "insert into Outcomes values('Bismarck','North Atlantic','sunk');\n",
        "insert into Outcomes values('California','Surigao Strait','OK');\n",
        "insert into Outcomes values('Duke of York','North Cape','OK');\n",
        "insert into Outcomes values('Fuso','Surigao Strait','sunk');\n",
        "insert into Outcomes values('Hood','North Atlantic','sunk');\n",
        "insert into Outcomes values('King George V','North Atlantic','OK');\n",
        "insert into Outcomes values('Kirishima','Guadalcanal','sunk');\n",
        "insert into Outcomes values('Prince of Wales','North Atlantic','damaged');\n",
        "insert into Outcomes values('Rodney','North Atlantic','OK');\n",
        "insert into Outcomes values('Schamhorst','North Cape','sunk');\n",
        "insert into Outcomes values('South Dakota','Guadalcanal','damaged');\n",
        "insert into Outcomes values('Tennessee','Surigao Strait','OK');\n",
        "insert into Outcomes values('Washington','Guadalcanal','OK');\n",
        "insert into Outcomes values('West Virginia','Surigao Strait','OK');\n",
        "insert into Outcomes values('Yamashiro','Surigao Strait','sunk');\n",
        "insert into Outcomes values('California','Guadalcanal','damaged');'''"
      ],
      "execution_count": null,
      "outputs": []
    },
    {
      "cell_type": "code",
      "metadata": {
        "id": "g2M_B2iFW-Wt"
      },
      "source": [
        "import sqlite3"
      ],
      "execution_count": null,
      "outputs": []
    },
    {
      "cell_type": "code",
      "metadata": {
        "id": "FmksPrQQXqcc"
      },
      "source": [
        "conn = sqlite3.connect('db')"
      ],
      "execution_count": null,
      "outputs": []
    },
    {
      "cell_type": "code",
      "metadata": {
        "id": "TnjQqDiyXvYH"
      },
      "source": [
        "cur = conn.cursor()"
      ],
      "execution_count": null,
      "outputs": []
    },
    {
      "cell_type": "code",
      "metadata": {
        "id": "5iYc7XCOXy0p",
        "outputId": "734e8384-c065-45ac-ef40-91fff184a5e3",
        "colab": {
          "base_uri": "https://localhost:8080/"
        }
      },
      "source": [
        "cur.executescript(sql)"
      ],
      "execution_count": null,
      "outputs": [
        {
          "output_type": "execute_result",
          "data": {
            "text/plain": [
              "<sqlite3.Cursor at 0x7f96bb402ce0>"
            ]
          },
          "metadata": {
            "tags": []
          },
          "execution_count": 6
        }
      ]
    },
    {
      "cell_type": "markdown",
      "metadata": {
        "id": "NnajuWiuX1aV"
      },
      "source": [
        "## Решение задач"
      ]
    },
    {
      "cell_type": "code",
      "metadata": {
        "id": "MtqnPunqY90G"
      },
      "source": [
        "# импортируем Pandas для работы с датафреймами\n",
        "import pandas as pd"
      ],
      "execution_count": null,
      "outputs": []
    },
    {
      "cell_type": "code",
      "metadata": {
        "id": "DNSKUct6ZAyX"
      },
      "source": [
        "# создадим функцию, которая будет передавать результат sql-запроса в Pandas-Dataframe\n",
        "\n",
        "def select(sql):\n",
        "  return pd.read_sql(sql,conn)"
      ],
      "execution_count": null,
      "outputs": []
    },
    {
      "cell_type": "markdown",
      "metadata": {
        "id": "JQ8-kiX2X9oN"
      },
      "source": [
        "###  Базы данных\n",
        "на sql-ex.ru есть несколько баз данных.\n",
        "\n",
        "По ссылке можно ознакомиться со всеми базами: https://sql-ex.ru/help/select13.php#db_1\n",
        "\n",
        "Под спойлером можно ознакомиться с подробным описанием таблиц"
      ]
    },
    {
      "cell_type": "markdown",
      "metadata": {
        "id": "M2tXdFXydOTf"
      },
      "source": [
        "#### База данных \"Компьютерная фирма\"\n",
        "Схема БД состоит из четырех таблиц:\n",
        "1. **Product** (maker, model, type)\n",
        "2. **PC** (code, model, speed, ram, hd, cd, price)\n",
        "3. **Laptop** (code, model, speed, ram, hd, price, screen)\n",
        "4. **Printer** (code, model, color, type, price)\n",
        "\n",
        "Схема: https://sql-ex.ru/help/select13.php#db_1\n",
        "\n",
        "Таблица Product представляет производителя (maker), номер модели (model) и тип ('PC' - ПК, 'Laptop' - ПК-блокнот или 'Printer' - принтер). Предполагается, что номера моделей в таблице Product уникальны для всех производителей и типов продуктов. В таблице PC для каждого ПК, однозначно определяемого уникальным кодом – code, указаны модель – model (внешний ключ к таблице Product), скорость - speed (процессора в мегагерцах), объем памяти - ram (в мегабайтах), размер диска - hd (в гигабайтах), скорость считывающего устройства - cd (например, '4x') и цена - price. Таблица Laptop аналогична таблице РС за исключением того, что вместо скорости CD содержит размер экрана -screen (в дюймах). В таблице Printer для каждой модели принтера указывается, является ли он цветным - color ('y', если цветной), тип принтера - type (лазерный – 'Laser', струйный – 'Jet' или матричный – 'Matrix') и цена - price."
      ]
    },
    {
      "cell_type": "markdown",
      "metadata": {
        "id": "SAV6pVXFf3z5"
      },
      "source": [
        "#### База данных \"Фирма вторсырья\"\n",
        "Схема БД состоит из четырех таблиц:\n",
        "1. **Income_o** (point, date, inc)\n",
        "2. **Outcome_o** (point, date, out)\n",
        "3. **Income** (code, point, date, inc)\n",
        "4. **Outcome** (code, point, date, out)\n",
        "\n",
        "Схема: https://sql-ex.ru/help/select13.php#db_2\n",
        "\n",
        "Фирма имеет несколько пунктов приема вторсырья. Каждый пункт получает деньги для их выдачи сдатчикам вторсырья. Сведения о получении денег на пунктах приема записываются в таблицу:\n",
        "Income_o(point, date, inc)\n",
        "\n",
        "Первичным ключом является (point, date).\n",
        "\n",
        "При этом в столбец date записывается только дата (без времени), т.е. прием денег (inc) на каждом пункте производится не чаще одного раза в день. Сведения о выдаче денег сдатчикам вторсырья записываются в таблицу:\n",
        "Outcome_o(point, date, out)\n",
        "В этой таблице также первичный ключ (point, date) гарантирует отчетность каждого пункта о выданных деньгах (out) не чаще одного раза в день.\n",
        "\n",
        "В случае, когда приход и расход денег может фиксироваться несколько раз в день, используется другая схема с таблицами, имеющими первичный ключ code:\n",
        "Income(code, point, date, inc)\n",
        "Outcome(code, point, date, out)\n",
        "Здесь также значения столбца date не содержат времени."
      ]
    },
    {
      "cell_type": "markdown",
      "metadata": {
        "id": "OZrhAZnShafI"
      },
      "source": [
        "#### База данных \"Корабли\"\n",
        "Схема БД состоит из четырех таблиц:\n",
        "1. **Classes** (class, type, country, numGuns, bore, displacement)\n",
        "2. **Ships** (name, class, launched)\n",
        "3. **Battles** (name, date)\n",
        "4. **Outcomes** (ship, battle, result)\n",
        "\n",
        "Схема: https://sql-ex.ru/help/select13.php#db_3\n",
        "\n",
        "Корабли в «классах» построены по одному и тому же проекту, и классу присваивается либо имя первого корабля, построенного по данному проекту, либо названию класса дается имя проекта, которое не совпадает ни с одним из кораблей в БД. Корабль, давший название классу, называется головным.\n",
        "\n",
        "Отношение Classes содержит имя класса, тип (bb для боевого (линейного) корабля или bc для боевого крейсера), страну, в которой построен корабль, число главных орудий, калибр орудий (диаметр ствола орудия в дюймах) и водоизмещение ( вес в тоннах). В отношении Ships записаны название корабля, имя его класса и год спуска на воду. В отношение Battles включены название и дата битвы, в которой участвовали корабли, а в отношении Outcomes – результат участия данного корабля в битве (потоплен-sunk, поврежден - damaged или невредим - OK).\n",
        "\n",
        "Замечания. 1) В отношение Outcomes могут входить корабли, отсутствующие в отношении Ships. 2) Потопленный корабль в последующих битвах участия не принимает."
      ]
    },
    {
      "cell_type": "markdown",
      "metadata": {
        "id": "3hFOSBbOYlK7"
      },
      "source": [
        "### Задача № 1\n",
        "https://sql-ex.ru/learn_exercises.php?LN=1\n",
        "\n",
        "Найдите номер модели, скорость и размер жесткого диска для всех ПК стоимостью менее 500 дол. Вывести: model, speed и hd."
      ]
    },
    {
      "cell_type": "code",
      "metadata": {
        "id": "t1MPjEubaISI",
        "outputId": "1a479189-b22c-4f23-feb9-c6b9ff3020ef",
        "colab": {
          "base_uri": "https://localhost:8080/",
          "height": 195
        }
      },
      "source": [
        "# Сначала посмотрим на саму таблицу с ПК\n",
        "\n",
        "sql = '''select * from pc limit 5'''\n",
        "select(sql)"
      ],
      "execution_count": null,
      "outputs": [
        {
          "output_type": "execute_result",
          "data": {
            "text/html": [
              "<div>\n",
              "<style scoped>\n",
              "    .dataframe tbody tr th:only-of-type {\n",
              "        vertical-align: middle;\n",
              "    }\n",
              "\n",
              "    .dataframe tbody tr th {\n",
              "        vertical-align: top;\n",
              "    }\n",
              "\n",
              "    .dataframe thead th {\n",
              "        text-align: right;\n",
              "    }\n",
              "</style>\n",
              "<table border=\"1\" class=\"dataframe\">\n",
              "  <thead>\n",
              "    <tr style=\"text-align: right;\">\n",
              "      <th></th>\n",
              "      <th>code</th>\n",
              "      <th>model</th>\n",
              "      <th>speed</th>\n",
              "      <th>ram</th>\n",
              "      <th>hd</th>\n",
              "      <th>cd</th>\n",
              "      <th>price</th>\n",
              "    </tr>\n",
              "  </thead>\n",
              "  <tbody>\n",
              "    <tr>\n",
              "      <th>0</th>\n",
              "      <td>1</td>\n",
              "      <td>1232</td>\n",
              "      <td>500</td>\n",
              "      <td>64</td>\n",
              "      <td>5.0</td>\n",
              "      <td>12x</td>\n",
              "      <td>600</td>\n",
              "    </tr>\n",
              "    <tr>\n",
              "      <th>1</th>\n",
              "      <td>2</td>\n",
              "      <td>1121</td>\n",
              "      <td>750</td>\n",
              "      <td>128</td>\n",
              "      <td>14.0</td>\n",
              "      <td>40x</td>\n",
              "      <td>850</td>\n",
              "    </tr>\n",
              "    <tr>\n",
              "      <th>2</th>\n",
              "      <td>3</td>\n",
              "      <td>1233</td>\n",
              "      <td>500</td>\n",
              "      <td>64</td>\n",
              "      <td>5.0</td>\n",
              "      <td>12x</td>\n",
              "      <td>600</td>\n",
              "    </tr>\n",
              "    <tr>\n",
              "      <th>3</th>\n",
              "      <td>4</td>\n",
              "      <td>1121</td>\n",
              "      <td>600</td>\n",
              "      <td>128</td>\n",
              "      <td>14.0</td>\n",
              "      <td>40x</td>\n",
              "      <td>850</td>\n",
              "    </tr>\n",
              "    <tr>\n",
              "      <th>4</th>\n",
              "      <td>5</td>\n",
              "      <td>1121</td>\n",
              "      <td>600</td>\n",
              "      <td>128</td>\n",
              "      <td>8.0</td>\n",
              "      <td>40x</td>\n",
              "      <td>850</td>\n",
              "    </tr>\n",
              "  </tbody>\n",
              "</table>\n",
              "</div>"
            ],
            "text/plain": [
              "   code model  speed  ram    hd   cd  price\n",
              "0     1  1232    500   64   5.0  12x    600\n",
              "1     2  1121    750  128  14.0  40x    850\n",
              "2     3  1233    500   64   5.0  12x    600\n",
              "3     4  1121    600  128  14.0  40x    850\n",
              "4     5  1121    600  128   8.0  40x    850"
            ]
          },
          "metadata": {
            "tags": []
          },
          "execution_count": 13
        }
      ]
    },
    {
      "cell_type": "code",
      "metadata": {
        "id": "rpIxFIYtYV3i",
        "outputId": "171abf4a-164e-47da-e405-4860c4608a52",
        "colab": {
          "base_uri": "https://localhost:8080/",
          "height": 166
        }
      },
      "source": [
        "# Напишем сам запрос\n",
        "\n",
        "sql = '''\n",
        "select model, speed, hd -- выбираем номер модели, скорость и объем жесткого диска\n",
        "from pc\n",
        "where price < 500 --фильтруем таблицу по цене менее 500$\n",
        "'''\n",
        "\n",
        "select(sql)"
      ],
      "execution_count": null,
      "outputs": [
        {
          "output_type": "execute_result",
          "data": {
            "text/html": [
              "<div>\n",
              "<style scoped>\n",
              "    .dataframe tbody tr th:only-of-type {\n",
              "        vertical-align: middle;\n",
              "    }\n",
              "\n",
              "    .dataframe tbody tr th {\n",
              "        vertical-align: top;\n",
              "    }\n",
              "\n",
              "    .dataframe thead th {\n",
              "        text-align: right;\n",
              "    }\n",
              "</style>\n",
              "<table border=\"1\" class=\"dataframe\">\n",
              "  <thead>\n",
              "    <tr style=\"text-align: right;\">\n",
              "      <th></th>\n",
              "      <th>model</th>\n",
              "      <th>speed</th>\n",
              "      <th>hd</th>\n",
              "    </tr>\n",
              "  </thead>\n",
              "  <tbody>\n",
              "    <tr>\n",
              "      <th>0</th>\n",
              "      <td>1232</td>\n",
              "      <td>500</td>\n",
              "      <td>10.0</td>\n",
              "    </tr>\n",
              "    <tr>\n",
              "      <th>1</th>\n",
              "      <td>1232</td>\n",
              "      <td>450</td>\n",
              "      <td>8.0</td>\n",
              "    </tr>\n",
              "    <tr>\n",
              "      <th>2</th>\n",
              "      <td>1232</td>\n",
              "      <td>450</td>\n",
              "      <td>10.0</td>\n",
              "    </tr>\n",
              "    <tr>\n",
              "      <th>3</th>\n",
              "      <td>1260</td>\n",
              "      <td>500</td>\n",
              "      <td>10.0</td>\n",
              "    </tr>\n",
              "  </tbody>\n",
              "</table>\n",
              "</div>"
            ],
            "text/plain": [
              "  model  speed    hd\n",
              "0  1232    500  10.0\n",
              "1  1232    450   8.0\n",
              "2  1232    450  10.0\n",
              "3  1260    500  10.0"
            ]
          },
          "metadata": {
            "tags": []
          },
          "execution_count": 14
        }
      ]
    },
    {
      "cell_type": "markdown",
      "metadata": {
        "id": "ZK6IWFI3jXes"
      },
      "source": [
        "***\n",
        "### Задача № 2\n",
        "https://sql-ex.ru/learn_exercises.php?LN=2\n",
        "\n",
        "Найдите производителей принтеров. Вывести: maker"
      ]
    },
    {
      "cell_type": "code",
      "metadata": {
        "id": "YuYxsSKcjXev",
        "outputId": "99e9d266-a947-4638-8329-7a7890d07501",
        "colab": {
          "base_uri": "https://localhost:8080/",
          "height": 195
        }
      },
      "source": [
        "# Сначала посмотрим на саму таблицу\n",
        "\n",
        "sql = '''select * from product limit 5'''\n",
        "select(sql)"
      ],
      "execution_count": null,
      "outputs": [
        {
          "output_type": "execute_result",
          "data": {
            "text/html": [
              "<div>\n",
              "<style scoped>\n",
              "    .dataframe tbody tr th:only-of-type {\n",
              "        vertical-align: middle;\n",
              "    }\n",
              "\n",
              "    .dataframe tbody tr th {\n",
              "        vertical-align: top;\n",
              "    }\n",
              "\n",
              "    .dataframe thead th {\n",
              "        text-align: right;\n",
              "    }\n",
              "</style>\n",
              "<table border=\"1\" class=\"dataframe\">\n",
              "  <thead>\n",
              "    <tr style=\"text-align: right;\">\n",
              "      <th></th>\n",
              "      <th>maker</th>\n",
              "      <th>model</th>\n",
              "      <th>type</th>\n",
              "    </tr>\n",
              "  </thead>\n",
              "  <tbody>\n",
              "    <tr>\n",
              "      <th>0</th>\n",
              "      <td>B</td>\n",
              "      <td>1121</td>\n",
              "      <td>PC</td>\n",
              "    </tr>\n",
              "    <tr>\n",
              "      <th>1</th>\n",
              "      <td>A</td>\n",
              "      <td>1232</td>\n",
              "      <td>PC</td>\n",
              "    </tr>\n",
              "    <tr>\n",
              "      <th>2</th>\n",
              "      <td>A</td>\n",
              "      <td>1233</td>\n",
              "      <td>PC</td>\n",
              "    </tr>\n",
              "    <tr>\n",
              "      <th>3</th>\n",
              "      <td>E</td>\n",
              "      <td>1260</td>\n",
              "      <td>PC</td>\n",
              "    </tr>\n",
              "    <tr>\n",
              "      <th>4</th>\n",
              "      <td>A</td>\n",
              "      <td>1276</td>\n",
              "      <td>Printer</td>\n",
              "    </tr>\n",
              "  </tbody>\n",
              "</table>\n",
              "</div>"
            ],
            "text/plain": [
              "  maker model     type\n",
              "0     B  1121       PC\n",
              "1     A  1232       PC\n",
              "2     A  1233       PC\n",
              "3     E  1260       PC\n",
              "4     A  1276  Printer"
            ]
          },
          "metadata": {
            "tags": []
          },
          "execution_count": 15
        }
      ]
    },
    {
      "cell_type": "code",
      "metadata": {
        "id": "Z_LRaAyXjXe7",
        "outputId": "1401b076-ed03-4d86-f377-3d5b802947b5",
        "colab": {
          "base_uri": "https://localhost:8080/",
          "height": 136
        }
      },
      "source": [
        "# Напишем сам запрос\n",
        "\n",
        "sql = '''\n",
        "SELECT DISTINCT maker -- чтобы производители не дублировались, используем дистинкт\n",
        "FROM Product  \n",
        "WHERE type = 'Printer' -- берем только те записи из таблицы, где тип \"принтер\"\n",
        "'''\n",
        "\n",
        "select(sql)"
      ],
      "execution_count": null,
      "outputs": [
        {
          "output_type": "execute_result",
          "data": {
            "text/html": [
              "<div>\n",
              "<style scoped>\n",
              "    .dataframe tbody tr th:only-of-type {\n",
              "        vertical-align: middle;\n",
              "    }\n",
              "\n",
              "    .dataframe tbody tr th {\n",
              "        vertical-align: top;\n",
              "    }\n",
              "\n",
              "    .dataframe thead th {\n",
              "        text-align: right;\n",
              "    }\n",
              "</style>\n",
              "<table border=\"1\" class=\"dataframe\">\n",
              "  <thead>\n",
              "    <tr style=\"text-align: right;\">\n",
              "      <th></th>\n",
              "      <th>maker</th>\n",
              "    </tr>\n",
              "  </thead>\n",
              "  <tbody>\n",
              "    <tr>\n",
              "      <th>0</th>\n",
              "      <td>A</td>\n",
              "    </tr>\n",
              "    <tr>\n",
              "      <th>1</th>\n",
              "      <td>D</td>\n",
              "    </tr>\n",
              "    <tr>\n",
              "      <th>2</th>\n",
              "      <td>E</td>\n",
              "    </tr>\n",
              "  </tbody>\n",
              "</table>\n",
              "</div>"
            ],
            "text/plain": [
              "  maker\n",
              "0     A\n",
              "1     D\n",
              "2     E"
            ]
          },
          "metadata": {
            "tags": []
          },
          "execution_count": 16
        }
      ]
    },
    {
      "cell_type": "markdown",
      "metadata": {
        "id": "FNms47W0jYFN"
      },
      "source": [
        "***\n",
        "### Задача № 3\n",
        "https://sql-ex.ru/learn_exercises.php?LN=3\n",
        "\n",
        "Найдите номер модели, объем памяти и размеры экранов ПК-блокнотов, цена которых превышает 1000 дол."
      ]
    },
    {
      "cell_type": "code",
      "metadata": {
        "id": "qqKxDLbHjYFR",
        "outputId": "d5edf802-9f6f-4cf4-aa32-1fa9053acb1c",
        "colab": {
          "base_uri": "https://localhost:8080/",
          "height": 195
        }
      },
      "source": [
        "# Сначала посмотрим на саму таблицу\n",
        "\n",
        "sql = '''select * from laptop limit 5'''\n",
        "select(sql)"
      ],
      "execution_count": null,
      "outputs": [
        {
          "output_type": "execute_result",
          "data": {
            "text/html": [
              "<div>\n",
              "<style scoped>\n",
              "    .dataframe tbody tr th:only-of-type {\n",
              "        vertical-align: middle;\n",
              "    }\n",
              "\n",
              "    .dataframe tbody tr th {\n",
              "        vertical-align: top;\n",
              "    }\n",
              "\n",
              "    .dataframe thead th {\n",
              "        text-align: right;\n",
              "    }\n",
              "</style>\n",
              "<table border=\"1\" class=\"dataframe\">\n",
              "  <thead>\n",
              "    <tr style=\"text-align: right;\">\n",
              "      <th></th>\n",
              "      <th>code</th>\n",
              "      <th>model</th>\n",
              "      <th>speed</th>\n",
              "      <th>ram</th>\n",
              "      <th>hd</th>\n",
              "      <th>price</th>\n",
              "      <th>screen</th>\n",
              "    </tr>\n",
              "  </thead>\n",
              "  <tbody>\n",
              "    <tr>\n",
              "      <th>0</th>\n",
              "      <td>1</td>\n",
              "      <td>1298</td>\n",
              "      <td>350</td>\n",
              "      <td>32</td>\n",
              "      <td>4.0</td>\n",
              "      <td>700</td>\n",
              "      <td>11</td>\n",
              "    </tr>\n",
              "    <tr>\n",
              "      <th>1</th>\n",
              "      <td>2</td>\n",
              "      <td>1321</td>\n",
              "      <td>500</td>\n",
              "      <td>64</td>\n",
              "      <td>8.0</td>\n",
              "      <td>970</td>\n",
              "      <td>12</td>\n",
              "    </tr>\n",
              "    <tr>\n",
              "      <th>2</th>\n",
              "      <td>3</td>\n",
              "      <td>1750</td>\n",
              "      <td>750</td>\n",
              "      <td>128</td>\n",
              "      <td>12.0</td>\n",
              "      <td>1200</td>\n",
              "      <td>14</td>\n",
              "    </tr>\n",
              "    <tr>\n",
              "      <th>3</th>\n",
              "      <td>4</td>\n",
              "      <td>1298</td>\n",
              "      <td>600</td>\n",
              "      <td>64</td>\n",
              "      <td>10.0</td>\n",
              "      <td>1050</td>\n",
              "      <td>15</td>\n",
              "    </tr>\n",
              "    <tr>\n",
              "      <th>4</th>\n",
              "      <td>5</td>\n",
              "      <td>1752</td>\n",
              "      <td>750</td>\n",
              "      <td>128</td>\n",
              "      <td>10.0</td>\n",
              "      <td>1150</td>\n",
              "      <td>14</td>\n",
              "    </tr>\n",
              "  </tbody>\n",
              "</table>\n",
              "</div>"
            ],
            "text/plain": [
              "   code model  speed  ram    hd  price  screen\n",
              "0     1  1298    350   32   4.0    700      11\n",
              "1     2  1321    500   64   8.0    970      12\n",
              "2     3  1750    750  128  12.0   1200      14\n",
              "3     4  1298    600   64  10.0   1050      15\n",
              "4     5  1752    750  128  10.0   1150      14"
            ]
          },
          "metadata": {
            "tags": []
          },
          "execution_count": 17
        }
      ]
    },
    {
      "cell_type": "code",
      "metadata": {
        "id": "i7hOdNpOjYFa",
        "outputId": "8fe32705-3ed8-4b9a-acec-b9d3f69cec13",
        "colab": {
          "base_uri": "https://localhost:8080/",
          "height": 136
        }
      },
      "source": [
        "# Напишем сам запрос\n",
        "\n",
        "sql = '''\n",
        "select model, ram, screen -- выбираем нужные характеристики\n",
        "from laptop\n",
        "where price > 1000 -- фильтруем таблицу по стоимости больше 1000$\n",
        "\n",
        "'''\n",
        "\n",
        "select(sql)"
      ],
      "execution_count": null,
      "outputs": [
        {
          "output_type": "execute_result",
          "data": {
            "text/html": [
              "<div>\n",
              "<style scoped>\n",
              "    .dataframe tbody tr th:only-of-type {\n",
              "        vertical-align: middle;\n",
              "    }\n",
              "\n",
              "    .dataframe tbody tr th {\n",
              "        vertical-align: top;\n",
              "    }\n",
              "\n",
              "    .dataframe thead th {\n",
              "        text-align: right;\n",
              "    }\n",
              "</style>\n",
              "<table border=\"1\" class=\"dataframe\">\n",
              "  <thead>\n",
              "    <tr style=\"text-align: right;\">\n",
              "      <th></th>\n",
              "      <th>model</th>\n",
              "      <th>ram</th>\n",
              "      <th>screen</th>\n",
              "    </tr>\n",
              "  </thead>\n",
              "  <tbody>\n",
              "    <tr>\n",
              "      <th>0</th>\n",
              "      <td>1750</td>\n",
              "      <td>128</td>\n",
              "      <td>14</td>\n",
              "    </tr>\n",
              "    <tr>\n",
              "      <th>1</th>\n",
              "      <td>1298</td>\n",
              "      <td>64</td>\n",
              "      <td>15</td>\n",
              "    </tr>\n",
              "    <tr>\n",
              "      <th>2</th>\n",
              "      <td>1752</td>\n",
              "      <td>128</td>\n",
              "      <td>14</td>\n",
              "    </tr>\n",
              "  </tbody>\n",
              "</table>\n",
              "</div>"
            ],
            "text/plain": [
              "  model  ram  screen\n",
              "0  1750  128      14\n",
              "1  1298   64      15\n",
              "2  1752  128      14"
            ]
          },
          "metadata": {
            "tags": []
          },
          "execution_count": 18
        }
      ]
    },
    {
      "cell_type": "markdown",
      "metadata": {
        "id": "2rd_LyAYjYaD"
      },
      "source": [
        "***\n",
        "### Задача № 4\n",
        "https://sql-ex.ru/learn_exercises.php?LN=4\n",
        "\n",
        "Найдите все записи таблицы Printer для цветных принтеров."
      ]
    },
    {
      "cell_type": "code",
      "metadata": {
        "id": "PqJaeworjYaG",
        "outputId": "bc43cf7d-f93b-46c4-eaac-0146bb6d7f12",
        "colab": {
          "base_uri": "https://localhost:8080/",
          "height": 195
        }
      },
      "source": [
        "# Сначала посмотрим на саму таблицу\n",
        "\n",
        "sql = '''select * from printer limit 5'''\n",
        "select(sql)"
      ],
      "execution_count": null,
      "outputs": [
        {
          "output_type": "execute_result",
          "data": {
            "text/html": [
              "<div>\n",
              "<style scoped>\n",
              "    .dataframe tbody tr th:only-of-type {\n",
              "        vertical-align: middle;\n",
              "    }\n",
              "\n",
              "    .dataframe tbody tr th {\n",
              "        vertical-align: top;\n",
              "    }\n",
              "\n",
              "    .dataframe thead th {\n",
              "        text-align: right;\n",
              "    }\n",
              "</style>\n",
              "<table border=\"1\" class=\"dataframe\">\n",
              "  <thead>\n",
              "    <tr style=\"text-align: right;\">\n",
              "      <th></th>\n",
              "      <th>code</th>\n",
              "      <th>model</th>\n",
              "      <th>color</th>\n",
              "      <th>type</th>\n",
              "      <th>price</th>\n",
              "    </tr>\n",
              "  </thead>\n",
              "  <tbody>\n",
              "    <tr>\n",
              "      <th>0</th>\n",
              "      <td>1</td>\n",
              "      <td>1276</td>\n",
              "      <td>n</td>\n",
              "      <td>Laser</td>\n",
              "      <td>400</td>\n",
              "    </tr>\n",
              "    <tr>\n",
              "      <th>1</th>\n",
              "      <td>2</td>\n",
              "      <td>1433</td>\n",
              "      <td>y</td>\n",
              "      <td>Jet</td>\n",
              "      <td>270</td>\n",
              "    </tr>\n",
              "    <tr>\n",
              "      <th>2</th>\n",
              "      <td>3</td>\n",
              "      <td>1434</td>\n",
              "      <td>y</td>\n",
              "      <td>Jet</td>\n",
              "      <td>290</td>\n",
              "    </tr>\n",
              "    <tr>\n",
              "      <th>3</th>\n",
              "      <td>4</td>\n",
              "      <td>1401</td>\n",
              "      <td>n</td>\n",
              "      <td>Matrix</td>\n",
              "      <td>150</td>\n",
              "    </tr>\n",
              "    <tr>\n",
              "      <th>4</th>\n",
              "      <td>5</td>\n",
              "      <td>1408</td>\n",
              "      <td>n</td>\n",
              "      <td>Matrix</td>\n",
              "      <td>270</td>\n",
              "    </tr>\n",
              "  </tbody>\n",
              "</table>\n",
              "</div>"
            ],
            "text/plain": [
              "   code model color    type  price\n",
              "0     1  1276     n   Laser    400\n",
              "1     2  1433     y     Jet    270\n",
              "2     3  1434     y     Jet    290\n",
              "3     4  1401     n  Matrix    150\n",
              "4     5  1408     n  Matrix    270"
            ]
          },
          "metadata": {
            "tags": []
          },
          "execution_count": 19
        }
      ]
    },
    {
      "cell_type": "code",
      "metadata": {
        "id": "jaxxCBHdjYaS",
        "outputId": "a366c4ef-c5dd-4fb9-a26c-bed709517c0c",
        "colab": {
          "base_uri": "https://localhost:8080/",
          "height": 106
        }
      },
      "source": [
        "# Напишем сам запрос\n",
        "\n",
        "sql = '''\n",
        "select *\n",
        "from printer\n",
        "where color = 'y' -- фильтруем таблицу по цветным принтерам\n",
        "'''\n",
        "\n",
        "select(sql)"
      ],
      "execution_count": null,
      "outputs": [
        {
          "output_type": "execute_result",
          "data": {
            "text/html": [
              "<div>\n",
              "<style scoped>\n",
              "    .dataframe tbody tr th:only-of-type {\n",
              "        vertical-align: middle;\n",
              "    }\n",
              "\n",
              "    .dataframe tbody tr th {\n",
              "        vertical-align: top;\n",
              "    }\n",
              "\n",
              "    .dataframe thead th {\n",
              "        text-align: right;\n",
              "    }\n",
              "</style>\n",
              "<table border=\"1\" class=\"dataframe\">\n",
              "  <thead>\n",
              "    <tr style=\"text-align: right;\">\n",
              "      <th></th>\n",
              "      <th>code</th>\n",
              "      <th>model</th>\n",
              "      <th>color</th>\n",
              "      <th>type</th>\n",
              "      <th>price</th>\n",
              "    </tr>\n",
              "  </thead>\n",
              "  <tbody>\n",
              "    <tr>\n",
              "      <th>0</th>\n",
              "      <td>2</td>\n",
              "      <td>1433</td>\n",
              "      <td>y</td>\n",
              "      <td>Jet</td>\n",
              "      <td>270</td>\n",
              "    </tr>\n",
              "    <tr>\n",
              "      <th>1</th>\n",
              "      <td>3</td>\n",
              "      <td>1434</td>\n",
              "      <td>y</td>\n",
              "      <td>Jet</td>\n",
              "      <td>290</td>\n",
              "    </tr>\n",
              "  </tbody>\n",
              "</table>\n",
              "</div>"
            ],
            "text/plain": [
              "   code model color type  price\n",
              "0     2  1433     y  Jet    270\n",
              "1     3  1434     y  Jet    290"
            ]
          },
          "metadata": {
            "tags": []
          },
          "execution_count": 20
        }
      ]
    },
    {
      "cell_type": "markdown",
      "metadata": {
        "id": "27Zx6DGajYrU"
      },
      "source": [
        "***\n",
        "### Задача № 5\n",
        "https://sql-ex.ru/learn_exercises.php?LN=5\n",
        "\n",
        "Найдите номер модели, скорость и размер жесткого диска ПК, имеющих 12x или 24x CD и цену менее 600 дол."
      ]
    },
    {
      "cell_type": "code",
      "metadata": {
        "id": "TBfu_HE4jYrV",
        "outputId": "53046a7c-1adf-406a-b7f8-3004ce6ed7c3",
        "colab": {
          "base_uri": "https://localhost:8080/",
          "height": 195
        }
      },
      "source": [
        "# Сначала посмотрим на саму таблицу\n",
        "\n",
        "sql = '''select * from pc limit 5'''\n",
        "select(sql)"
      ],
      "execution_count": null,
      "outputs": [
        {
          "output_type": "execute_result",
          "data": {
            "text/html": [
              "<div>\n",
              "<style scoped>\n",
              "    .dataframe tbody tr th:only-of-type {\n",
              "        vertical-align: middle;\n",
              "    }\n",
              "\n",
              "    .dataframe tbody tr th {\n",
              "        vertical-align: top;\n",
              "    }\n",
              "\n",
              "    .dataframe thead th {\n",
              "        text-align: right;\n",
              "    }\n",
              "</style>\n",
              "<table border=\"1\" class=\"dataframe\">\n",
              "  <thead>\n",
              "    <tr style=\"text-align: right;\">\n",
              "      <th></th>\n",
              "      <th>code</th>\n",
              "      <th>model</th>\n",
              "      <th>speed</th>\n",
              "      <th>ram</th>\n",
              "      <th>hd</th>\n",
              "      <th>cd</th>\n",
              "      <th>price</th>\n",
              "    </tr>\n",
              "  </thead>\n",
              "  <tbody>\n",
              "    <tr>\n",
              "      <th>0</th>\n",
              "      <td>1</td>\n",
              "      <td>1232</td>\n",
              "      <td>500</td>\n",
              "      <td>64</td>\n",
              "      <td>5.0</td>\n",
              "      <td>12x</td>\n",
              "      <td>600</td>\n",
              "    </tr>\n",
              "    <tr>\n",
              "      <th>1</th>\n",
              "      <td>2</td>\n",
              "      <td>1121</td>\n",
              "      <td>750</td>\n",
              "      <td>128</td>\n",
              "      <td>14.0</td>\n",
              "      <td>40x</td>\n",
              "      <td>850</td>\n",
              "    </tr>\n",
              "    <tr>\n",
              "      <th>2</th>\n",
              "      <td>3</td>\n",
              "      <td>1233</td>\n",
              "      <td>500</td>\n",
              "      <td>64</td>\n",
              "      <td>5.0</td>\n",
              "      <td>12x</td>\n",
              "      <td>600</td>\n",
              "    </tr>\n",
              "    <tr>\n",
              "      <th>3</th>\n",
              "      <td>4</td>\n",
              "      <td>1121</td>\n",
              "      <td>600</td>\n",
              "      <td>128</td>\n",
              "      <td>14.0</td>\n",
              "      <td>40x</td>\n",
              "      <td>850</td>\n",
              "    </tr>\n",
              "    <tr>\n",
              "      <th>4</th>\n",
              "      <td>5</td>\n",
              "      <td>1121</td>\n",
              "      <td>600</td>\n",
              "      <td>128</td>\n",
              "      <td>8.0</td>\n",
              "      <td>40x</td>\n",
              "      <td>850</td>\n",
              "    </tr>\n",
              "  </tbody>\n",
              "</table>\n",
              "</div>"
            ],
            "text/plain": [
              "   code model  speed  ram    hd   cd  price\n",
              "0     1  1232    500   64   5.0  12x    600\n",
              "1     2  1121    750  128  14.0  40x    850\n",
              "2     3  1233    500   64   5.0  12x    600\n",
              "3     4  1121    600  128  14.0  40x    850\n",
              "4     5  1121    600  128   8.0  40x    850"
            ]
          },
          "metadata": {
            "tags": []
          },
          "execution_count": 21
        }
      ]
    },
    {
      "cell_type": "code",
      "metadata": {
        "id": "RD_oPIwRjYrX",
        "outputId": "1e8c4cb5-0c94-4e1f-bca3-b8b951cf089d",
        "colab": {
          "base_uri": "https://localhost:8080/",
          "height": 166
        }
      },
      "source": [
        "# Напишем сам запрос\n",
        "\n",
        "sql = '''\n",
        "select model, speed, hd -- выбираем нужные характеристики\n",
        "from pc\n",
        "where price < 600 -- фильтруем таблицу по цене менее 600$\n",
        "and cd in ('12x', '24x') -- и выбираем только те записи, в которых скорость cd 12х или 24х (\"что-то из\")\n",
        "'''\n",
        "\n",
        "select(sql)"
      ],
      "execution_count": null,
      "outputs": [
        {
          "output_type": "execute_result",
          "data": {
            "text/html": [
              "<div>\n",
              "<style scoped>\n",
              "    .dataframe tbody tr th:only-of-type {\n",
              "        vertical-align: middle;\n",
              "    }\n",
              "\n",
              "    .dataframe tbody tr th {\n",
              "        vertical-align: top;\n",
              "    }\n",
              "\n",
              "    .dataframe thead th {\n",
              "        text-align: right;\n",
              "    }\n",
              "</style>\n",
              "<table border=\"1\" class=\"dataframe\">\n",
              "  <thead>\n",
              "    <tr style=\"text-align: right;\">\n",
              "      <th></th>\n",
              "      <th>model</th>\n",
              "      <th>speed</th>\n",
              "      <th>hd</th>\n",
              "    </tr>\n",
              "  </thead>\n",
              "  <tbody>\n",
              "    <tr>\n",
              "      <th>0</th>\n",
              "      <td>1232</td>\n",
              "      <td>500</td>\n",
              "      <td>10.0</td>\n",
              "    </tr>\n",
              "    <tr>\n",
              "      <th>1</th>\n",
              "      <td>1232</td>\n",
              "      <td>450</td>\n",
              "      <td>8.0</td>\n",
              "    </tr>\n",
              "    <tr>\n",
              "      <th>2</th>\n",
              "      <td>1232</td>\n",
              "      <td>450</td>\n",
              "      <td>10.0</td>\n",
              "    </tr>\n",
              "    <tr>\n",
              "      <th>3</th>\n",
              "      <td>1260</td>\n",
              "      <td>500</td>\n",
              "      <td>10.0</td>\n",
              "    </tr>\n",
              "  </tbody>\n",
              "</table>\n",
              "</div>"
            ],
            "text/plain": [
              "  model  speed    hd\n",
              "0  1232    500  10.0\n",
              "1  1232    450   8.0\n",
              "2  1232    450  10.0\n",
              "3  1260    500  10.0"
            ]
          },
          "metadata": {
            "tags": []
          },
          "execution_count": 22
        }
      ]
    },
    {
      "cell_type": "markdown",
      "metadata": {
        "id": "OX-QAOPOjTGW"
      },
      "source": [
        "***\n",
        "### Задача № 6\n",
        "https://sql-ex.ru/learn_exercises.php?LN=6\n",
        "\n",
        "Для каждого производителя, выпускающего ПК-блокноты c объёмом жесткого диска не менее 10 Гбайт, найти скорости таких ПК-блокнотов. Вывод: производитель, скорость."
      ]
    },
    {
      "cell_type": "code",
      "metadata": {
        "id": "6A9pZ0x8jTGd",
        "outputId": "6b3e0598-32bf-4cc2-aa21-699d61e8a6b9",
        "colab": {
          "base_uri": "https://localhost:8080/",
          "height": 195
        }
      },
      "source": [
        "# Сначала посмотрим на саму таблицу с ПК\n",
        "\n",
        "sql = '''select * from pc limit 5'''\n",
        "select(sql)"
      ],
      "execution_count": null,
      "outputs": [
        {
          "output_type": "execute_result",
          "data": {
            "text/html": [
              "<div>\n",
              "<style scoped>\n",
              "    .dataframe tbody tr th:only-of-type {\n",
              "        vertical-align: middle;\n",
              "    }\n",
              "\n",
              "    .dataframe tbody tr th {\n",
              "        vertical-align: top;\n",
              "    }\n",
              "\n",
              "    .dataframe thead th {\n",
              "        text-align: right;\n",
              "    }\n",
              "</style>\n",
              "<table border=\"1\" class=\"dataframe\">\n",
              "  <thead>\n",
              "    <tr style=\"text-align: right;\">\n",
              "      <th></th>\n",
              "      <th>code</th>\n",
              "      <th>model</th>\n",
              "      <th>speed</th>\n",
              "      <th>ram</th>\n",
              "      <th>hd</th>\n",
              "      <th>cd</th>\n",
              "      <th>price</th>\n",
              "    </tr>\n",
              "  </thead>\n",
              "  <tbody>\n",
              "    <tr>\n",
              "      <th>0</th>\n",
              "      <td>1</td>\n",
              "      <td>1232</td>\n",
              "      <td>500</td>\n",
              "      <td>64</td>\n",
              "      <td>5.0</td>\n",
              "      <td>12x</td>\n",
              "      <td>600</td>\n",
              "    </tr>\n",
              "    <tr>\n",
              "      <th>1</th>\n",
              "      <td>2</td>\n",
              "      <td>1121</td>\n",
              "      <td>750</td>\n",
              "      <td>128</td>\n",
              "      <td>14.0</td>\n",
              "      <td>40x</td>\n",
              "      <td>850</td>\n",
              "    </tr>\n",
              "    <tr>\n",
              "      <th>2</th>\n",
              "      <td>3</td>\n",
              "      <td>1233</td>\n",
              "      <td>500</td>\n",
              "      <td>64</td>\n",
              "      <td>5.0</td>\n",
              "      <td>12x</td>\n",
              "      <td>600</td>\n",
              "    </tr>\n",
              "    <tr>\n",
              "      <th>3</th>\n",
              "      <td>4</td>\n",
              "      <td>1121</td>\n",
              "      <td>600</td>\n",
              "      <td>128</td>\n",
              "      <td>14.0</td>\n",
              "      <td>40x</td>\n",
              "      <td>850</td>\n",
              "    </tr>\n",
              "    <tr>\n",
              "      <th>4</th>\n",
              "      <td>5</td>\n",
              "      <td>1121</td>\n",
              "      <td>600</td>\n",
              "      <td>128</td>\n",
              "      <td>8.0</td>\n",
              "      <td>40x</td>\n",
              "      <td>850</td>\n",
              "    </tr>\n",
              "  </tbody>\n",
              "</table>\n",
              "</div>"
            ],
            "text/plain": [
              "   code model  speed  ram    hd   cd  price\n",
              "0     1  1232    500   64   5.0  12x    600\n",
              "1     2  1121    750  128  14.0  40x    850\n",
              "2     3  1233    500   64   5.0  12x    600\n",
              "3     4  1121    600  128  14.0  40x    850\n",
              "4     5  1121    600  128   8.0  40x    850"
            ]
          },
          "metadata": {
            "tags": []
          },
          "execution_count": 23
        }
      ]
    },
    {
      "cell_type": "code",
      "metadata": {
        "id": "9j8vgxdljTGr",
        "outputId": "b594d8b0-32db-478e-e74e-4d75ef6e6c85",
        "colab": {
          "base_uri": "https://localhost:8080/",
          "height": 166
        }
      },
      "source": [
        "# Напишем сам запрос\n",
        "\n",
        "sql = '''\n",
        "\n",
        "-- 3. для каждого производителя найдем скорость всех произведенных им лэптопов с объемом hd не менее 10ГБ\n",
        "select distinct maker, speed\n",
        "\n",
        "-- 1. соединим таблицы laptop и product, чтобы можно было отфильтровать производителя по скорости произведенных им лэптопов\n",
        "from laptop l join product p on l.model = p.model\n",
        "\n",
        "-- 2. фильтруем полученную таблицу по объему hd не менее 10ГБ\n",
        "where l.hd >= 10\n",
        "\n",
        "-- 4. отсортируем по скорости процессора по возрастанию\n",
        "order by speed\n",
        "'''\n",
        "\n",
        "select(sql)"
      ],
      "execution_count": null,
      "outputs": [
        {
          "output_type": "execute_result",
          "data": {
            "text/html": [
              "<div>\n",
              "<style scoped>\n",
              "    .dataframe tbody tr th:only-of-type {\n",
              "        vertical-align: middle;\n",
              "    }\n",
              "\n",
              "    .dataframe tbody tr th {\n",
              "        vertical-align: top;\n",
              "    }\n",
              "\n",
              "    .dataframe thead th {\n",
              "        text-align: right;\n",
              "    }\n",
              "</style>\n",
              "<table border=\"1\" class=\"dataframe\">\n",
              "  <thead>\n",
              "    <tr style=\"text-align: right;\">\n",
              "      <th></th>\n",
              "      <th>maker</th>\n",
              "      <th>speed</th>\n",
              "    </tr>\n",
              "  </thead>\n",
              "  <tbody>\n",
              "    <tr>\n",
              "      <th>0</th>\n",
              "      <td>A</td>\n",
              "      <td>450</td>\n",
              "    </tr>\n",
              "    <tr>\n",
              "      <th>1</th>\n",
              "      <td>A</td>\n",
              "      <td>600</td>\n",
              "    </tr>\n",
              "    <tr>\n",
              "      <th>2</th>\n",
              "      <td>B</td>\n",
              "      <td>750</td>\n",
              "    </tr>\n",
              "    <tr>\n",
              "      <th>3</th>\n",
              "      <td>A</td>\n",
              "      <td>750</td>\n",
              "    </tr>\n",
              "  </tbody>\n",
              "</table>\n",
              "</div>"
            ],
            "text/plain": [
              "  maker  speed\n",
              "0     A    450\n",
              "1     A    600\n",
              "2     B    750\n",
              "3     A    750"
            ]
          },
          "metadata": {
            "tags": []
          },
          "execution_count": 24
        }
      ]
    },
    {
      "cell_type": "markdown",
      "metadata": {
        "id": "0hMH0PAkOO4n"
      },
      "source": [
        "***\n",
        "### Задача № 7\n",
        "https://sql-ex.ru/learn_exercises.php?LN=7\n",
        "\n",
        "Найдите номера моделей и цены всех имеющихся в продаже продуктов (любого типа) производителя B."
      ]
    },
    {
      "cell_type": "markdown",
      "metadata": {
        "id": "SUrdKLzKPUuI"
      },
      "source": [
        "Решим задачу в 3 шага:\n",
        "1. Соберем общую таблицу со списком всех моделей всех продуктов и стоимостью каждой модели\n",
        "2. Добавим к таблице информацию о производителях каждой модели\n",
        "3. Выберем только те модели и цены, которые относятся к производителю B."
      ]
    },
    {
      "cell_type": "code",
      "metadata": {
        "id": "Q0-sh31TPIS-",
        "outputId": "78cbbc02-b31e-469a-8ef4-998f6c787fea",
        "colab": {
          "base_uri": "https://localhost:8080/",
          "height": 669
        }
      },
      "source": [
        "# Собираем общую таблицу\n",
        "\n",
        "# Из таблиц pc, laptop & printer собираем номера всех моделей и их цены\n",
        "# И затем присоединяем строки снизу друг к другу для получения общего списка\n",
        "\n",
        "sql = '''\n",
        "SELECT model, price \n",
        "FROM PC \n",
        "\n",
        "UNION\n",
        "\n",
        "SELECT model, price \n",
        "FROM Laptop\n",
        "\n",
        "UNION\n",
        "\n",
        "SELECT model, price \n",
        "FROM Printer\n",
        "'''\n",
        "\n",
        "select(sql)"
      ],
      "execution_count": null,
      "outputs": [
        {
          "output_type": "execute_result",
          "data": {
            "text/html": [
              "<div>\n",
              "<style scoped>\n",
              "    .dataframe tbody tr th:only-of-type {\n",
              "        vertical-align: middle;\n",
              "    }\n",
              "\n",
              "    .dataframe tbody tr th {\n",
              "        vertical-align: top;\n",
              "    }\n",
              "\n",
              "    .dataframe thead th {\n",
              "        text-align: right;\n",
              "    }\n",
              "</style>\n",
              "<table border=\"1\" class=\"dataframe\">\n",
              "  <thead>\n",
              "    <tr style=\"text-align: right;\">\n",
              "      <th></th>\n",
              "      <th>model</th>\n",
              "      <th>price</th>\n",
              "    </tr>\n",
              "  </thead>\n",
              "  <tbody>\n",
              "    <tr>\n",
              "      <th>0</th>\n",
              "      <td>1121</td>\n",
              "      <td>850</td>\n",
              "    </tr>\n",
              "    <tr>\n",
              "      <th>1</th>\n",
              "      <td>1232</td>\n",
              "      <td>350</td>\n",
              "    </tr>\n",
              "    <tr>\n",
              "      <th>2</th>\n",
              "      <td>1232</td>\n",
              "      <td>400</td>\n",
              "    </tr>\n",
              "    <tr>\n",
              "      <th>3</th>\n",
              "      <td>1232</td>\n",
              "      <td>600</td>\n",
              "    </tr>\n",
              "    <tr>\n",
              "      <th>4</th>\n",
              "      <td>1233</td>\n",
              "      <td>600</td>\n",
              "    </tr>\n",
              "    <tr>\n",
              "      <th>5</th>\n",
              "      <td>1233</td>\n",
              "      <td>950</td>\n",
              "    </tr>\n",
              "    <tr>\n",
              "      <th>6</th>\n",
              "      <td>1233</td>\n",
              "      <td>970</td>\n",
              "    </tr>\n",
              "    <tr>\n",
              "      <th>7</th>\n",
              "      <td>1233</td>\n",
              "      <td>980</td>\n",
              "    </tr>\n",
              "    <tr>\n",
              "      <th>8</th>\n",
              "      <td>1260</td>\n",
              "      <td>350</td>\n",
              "    </tr>\n",
              "    <tr>\n",
              "      <th>9</th>\n",
              "      <td>1276</td>\n",
              "      <td>400</td>\n",
              "    </tr>\n",
              "    <tr>\n",
              "      <th>10</th>\n",
              "      <td>1288</td>\n",
              "      <td>400</td>\n",
              "    </tr>\n",
              "    <tr>\n",
              "      <th>11</th>\n",
              "      <td>1298</td>\n",
              "      <td>700</td>\n",
              "    </tr>\n",
              "    <tr>\n",
              "      <th>12</th>\n",
              "      <td>1298</td>\n",
              "      <td>950</td>\n",
              "    </tr>\n",
              "    <tr>\n",
              "      <th>13</th>\n",
              "      <td>1298</td>\n",
              "      <td>1050</td>\n",
              "    </tr>\n",
              "    <tr>\n",
              "      <th>14</th>\n",
              "      <td>1321</td>\n",
              "      <td>970</td>\n",
              "    </tr>\n",
              "    <tr>\n",
              "      <th>15</th>\n",
              "      <td>1401</td>\n",
              "      <td>150</td>\n",
              "    </tr>\n",
              "    <tr>\n",
              "      <th>16</th>\n",
              "      <td>1408</td>\n",
              "      <td>270</td>\n",
              "    </tr>\n",
              "    <tr>\n",
              "      <th>17</th>\n",
              "      <td>1433</td>\n",
              "      <td>270</td>\n",
              "    </tr>\n",
              "    <tr>\n",
              "      <th>18</th>\n",
              "      <td>1434</td>\n",
              "      <td>290</td>\n",
              "    </tr>\n",
              "    <tr>\n",
              "      <th>19</th>\n",
              "      <td>1750</td>\n",
              "      <td>1200</td>\n",
              "    </tr>\n",
              "    <tr>\n",
              "      <th>20</th>\n",
              "      <td>1752</td>\n",
              "      <td>1150</td>\n",
              "    </tr>\n",
              "  </tbody>\n",
              "</table>\n",
              "</div>"
            ],
            "text/plain": [
              "   model  price\n",
              "0   1121    850\n",
              "1   1232    350\n",
              "2   1232    400\n",
              "3   1232    600\n",
              "4   1233    600\n",
              "5   1233    950\n",
              "6   1233    970\n",
              "7   1233    980\n",
              "8   1260    350\n",
              "9   1276    400\n",
              "10  1288    400\n",
              "11  1298    700\n",
              "12  1298    950\n",
              "13  1298   1050\n",
              "14  1321    970\n",
              "15  1401    150\n",
              "16  1408    270\n",
              "17  1433    270\n",
              "18  1434    290\n",
              "19  1750   1200\n",
              "20  1752   1150"
            ]
          },
          "metadata": {
            "tags": []
          },
          "execution_count": 25
        }
      ]
    },
    {
      "cell_type": "code",
      "metadata": {
        "id": "dvPwQtKLOO4u",
        "outputId": "e2b31355-04f8-483e-d219-01fd9481e121",
        "colab": {
          "base_uri": "https://localhost:8080/",
          "height": 106
        }
      },
      "source": [
        "# выполним действия 2 и 3\n",
        "\n",
        "sql = '''\n",
        "\n",
        "-- 3. выберем все номера моделей и их цены из полученной таблицы\n",
        "SELECT a.model, price \n",
        "\n",
        "-- 1. Полученную на 1 шаге таблицу соединим с таблицей product по общему полю model\n",
        "FROM (SELECT model, price \n",
        " FROM PC \n",
        " UNION\n",
        " SELECT model, price \n",
        "  FROM Laptop\n",
        " UNION\n",
        " SELECT model, price \n",
        " FROM Printer\n",
        " ) AS a JOIN -- сохраняем результат UNION как таблицу a\n",
        " Product p ON a.model = p.model -- джойним эту таблицу к таблице product\n",
        " \n",
        "-- 2. Фильтруем полученную таблицу по производителю В\n",
        "WHERE p.maker = 'B'\n",
        "'''\n",
        "\n",
        "select(sql)"
      ],
      "execution_count": null,
      "outputs": [
        {
          "output_type": "execute_result",
          "data": {
            "text/html": [
              "<div>\n",
              "<style scoped>\n",
              "    .dataframe tbody tr th:only-of-type {\n",
              "        vertical-align: middle;\n",
              "    }\n",
              "\n",
              "    .dataframe tbody tr th {\n",
              "        vertical-align: top;\n",
              "    }\n",
              "\n",
              "    .dataframe thead th {\n",
              "        text-align: right;\n",
              "    }\n",
              "</style>\n",
              "<table border=\"1\" class=\"dataframe\">\n",
              "  <thead>\n",
              "    <tr style=\"text-align: right;\">\n",
              "      <th></th>\n",
              "      <th>model</th>\n",
              "      <th>price</th>\n",
              "    </tr>\n",
              "  </thead>\n",
              "  <tbody>\n",
              "    <tr>\n",
              "      <th>0</th>\n",
              "      <td>1121</td>\n",
              "      <td>850</td>\n",
              "    </tr>\n",
              "    <tr>\n",
              "      <th>1</th>\n",
              "      <td>1750</td>\n",
              "      <td>1200</td>\n",
              "    </tr>\n",
              "  </tbody>\n",
              "</table>\n",
              "</div>"
            ],
            "text/plain": [
              "  model  price\n",
              "0  1121    850\n",
              "1  1750   1200"
            ]
          },
          "metadata": {
            "tags": []
          },
          "execution_count": 26
        }
      ]
    },
    {
      "cell_type": "markdown",
      "metadata": {
        "id": "YtTP8Gt8SbqT"
      },
      "source": [
        "***\n",
        "### Задача № 8\n",
        "https://sql-ex.ru/learn_exercises.php?LN=8\n",
        "\n",
        "Найдите производителя, выпускающего ПК, но не ПК-блокноты (не лэптопы)."
      ]
    },
    {
      "cell_type": "code",
      "metadata": {
        "id": "3yNKJYPASbqv",
        "outputId": "74df0047-25a6-41cd-ed30-560c15f1b5ac",
        "colab": {
          "base_uri": "https://localhost:8080/",
          "height": 77
        }
      },
      "source": [
        "sql = '''\n",
        "select distinct maker -- 3. выберем уникальных производителей\n",
        "\n",
        "from product -- 1. возьмем таблицу с производителями\n",
        "\n",
        "where type='PC' -- 2.1 отфильтруем её по типу PC\n",
        "\n",
        "and maker not in   -- 2.2 отфильтруем по производителю, который не находится в списке ниже\n",
        "\n",
        "-- 2.3 список со всеми производителями, у которых среди продуктов встречаются лэптопы\n",
        "(select maker from product where type = 'Laptop')\n",
        "'''\n",
        "\n",
        "select(sql)"
      ],
      "execution_count": null,
      "outputs": [
        {
          "output_type": "execute_result",
          "data": {
            "text/html": [
              "<div>\n",
              "<style scoped>\n",
              "    .dataframe tbody tr th:only-of-type {\n",
              "        vertical-align: middle;\n",
              "    }\n",
              "\n",
              "    .dataframe tbody tr th {\n",
              "        vertical-align: top;\n",
              "    }\n",
              "\n",
              "    .dataframe thead th {\n",
              "        text-align: right;\n",
              "    }\n",
              "</style>\n",
              "<table border=\"1\" class=\"dataframe\">\n",
              "  <thead>\n",
              "    <tr style=\"text-align: right;\">\n",
              "      <th></th>\n",
              "      <th>maker</th>\n",
              "    </tr>\n",
              "  </thead>\n",
              "  <tbody>\n",
              "    <tr>\n",
              "      <th>0</th>\n",
              "      <td>E</td>\n",
              "    </tr>\n",
              "  </tbody>\n",
              "</table>\n",
              "</div>"
            ],
            "text/plain": [
              "  maker\n",
              "0     E"
            ]
          },
          "metadata": {
            "tags": []
          },
          "execution_count": 27
        }
      ]
    },
    {
      "cell_type": "markdown",
      "metadata": {
        "id": "WkASLvMdUOfl"
      },
      "source": [
        "***\n",
        "### Задача № 9\n",
        "https://sql-ex.ru/learn_exercises.php?LN=9\n",
        "\n",
        "Найдите производителей ПК с процессором не менее 450 Мгц. Вывести: Maker"
      ]
    },
    {
      "cell_type": "code",
      "metadata": {
        "id": "PugdvoZqUOf8",
        "outputId": "16290335-f807-4243-dcfc-c13999c582a3",
        "colab": {
          "base_uri": "https://localhost:8080/",
          "height": 136
        }
      },
      "source": [
        "sql = '''\n",
        "\n",
        "-- 3. выберем уникальных производителей из полученной таблицы\n",
        "SELECT distinct maker\n",
        "\n",
        "-- 1. соеденим таблицы product и pc по общему полю model\n",
        "FROM product pr join pc pc on pr.model = pc.model\n",
        "\n",
        "-- 2. оставим только те записи, у которых значение поля speed не меньше 450\n",
        "WHERE speed >= 450\n",
        "'''\n",
        "\n",
        "select(sql)"
      ],
      "execution_count": null,
      "outputs": [
        {
          "output_type": "execute_result",
          "data": {
            "text/html": [
              "<div>\n",
              "<style scoped>\n",
              "    .dataframe tbody tr th:only-of-type {\n",
              "        vertical-align: middle;\n",
              "    }\n",
              "\n",
              "    .dataframe tbody tr th {\n",
              "        vertical-align: top;\n",
              "    }\n",
              "\n",
              "    .dataframe thead th {\n",
              "        text-align: right;\n",
              "    }\n",
              "</style>\n",
              "<table border=\"1\" class=\"dataframe\">\n",
              "  <thead>\n",
              "    <tr style=\"text-align: right;\">\n",
              "      <th></th>\n",
              "      <th>maker</th>\n",
              "    </tr>\n",
              "  </thead>\n",
              "  <tbody>\n",
              "    <tr>\n",
              "      <th>0</th>\n",
              "      <td>A</td>\n",
              "    </tr>\n",
              "    <tr>\n",
              "      <th>1</th>\n",
              "      <td>B</td>\n",
              "    </tr>\n",
              "    <tr>\n",
              "      <th>2</th>\n",
              "      <td>E</td>\n",
              "    </tr>\n",
              "  </tbody>\n",
              "</table>\n",
              "</div>"
            ],
            "text/plain": [
              "  maker\n",
              "0     A\n",
              "1     B\n",
              "2     E"
            ]
          },
          "metadata": {
            "tags": []
          },
          "execution_count": 28
        }
      ]
    },
    {
      "cell_type": "markdown",
      "metadata": {
        "id": "dbvCpyshU4M1"
      },
      "source": [
        "***\n",
        "### Задача № 10\n",
        "https://sql-ex.ru/learn_exercises.php?LN=10\n",
        "\n",
        "Найдите модели принтеров, имеющих самую высокую цену. Вывести: model, price"
      ]
    },
    {
      "cell_type": "code",
      "metadata": {
        "id": "K9X_WgAQU4M9",
        "outputId": "72d114d3-8f2e-4339-faea-65dca99d5e16",
        "colab": {
          "base_uri": "https://localhost:8080/",
          "height": 106
        }
      },
      "source": [
        "sql = '''\n",
        "-- 3. из полученной таблицы выберем номера моделей и их цену\n",
        "SELECT model, price  \n",
        "\n",
        "-- 1. возьмем таблицу с принтерами\n",
        "FROM Printer  \n",
        "\n",
        "-- 2. отфильтруем таблицу с помощью подзапроса, который отдает цену самого дорого принтера\n",
        "WHERE price = (SELECT MAX(price) \n",
        "               FROM Printer\n",
        "               )\n",
        "'''\n",
        "\n",
        "select(sql)"
      ],
      "execution_count": null,
      "outputs": [
        {
          "output_type": "execute_result",
          "data": {
            "text/html": [
              "<div>\n",
              "<style scoped>\n",
              "    .dataframe tbody tr th:only-of-type {\n",
              "        vertical-align: middle;\n",
              "    }\n",
              "\n",
              "    .dataframe tbody tr th {\n",
              "        vertical-align: top;\n",
              "    }\n",
              "\n",
              "    .dataframe thead th {\n",
              "        text-align: right;\n",
              "    }\n",
              "</style>\n",
              "<table border=\"1\" class=\"dataframe\">\n",
              "  <thead>\n",
              "    <tr style=\"text-align: right;\">\n",
              "      <th></th>\n",
              "      <th>model</th>\n",
              "      <th>price</th>\n",
              "    </tr>\n",
              "  </thead>\n",
              "  <tbody>\n",
              "    <tr>\n",
              "      <th>0</th>\n",
              "      <td>1276</td>\n",
              "      <td>400</td>\n",
              "    </tr>\n",
              "    <tr>\n",
              "      <th>1</th>\n",
              "      <td>1288</td>\n",
              "      <td>400</td>\n",
              "    </tr>\n",
              "  </tbody>\n",
              "</table>\n",
              "</div>"
            ],
            "text/plain": [
              "  model  price\n",
              "0  1276    400\n",
              "1  1288    400"
            ]
          },
          "metadata": {
            "tags": []
          },
          "execution_count": 29
        }
      ]
    },
    {
      "cell_type": "markdown",
      "metadata": {
        "id": "f0Ub6KFVWevh"
      },
      "source": [
        "***\n",
        "### Задача № 11\n",
        "https://sql-ex.ru/learn_exercises.php?LN=11\n",
        "\n",
        "Найдите среднюю скорость ПК"
      ]
    },
    {
      "cell_type": "code",
      "metadata": {
        "id": "sUyxt2HSWevn",
        "outputId": "93bee110-adaa-413c-d340-c6ef6636666a",
        "colab": {
          "base_uri": "https://localhost:8080/",
          "height": 77
        }
      },
      "source": [
        "sql = '''\n",
        "select AVG(speed) as Avg_speed\n",
        "from pc\n",
        "'''\n",
        "\n",
        "select(sql)"
      ],
      "execution_count": null,
      "outputs": [
        {
          "output_type": "execute_result",
          "data": {
            "text/html": [
              "<div>\n",
              "<style scoped>\n",
              "    .dataframe tbody tr th:only-of-type {\n",
              "        vertical-align: middle;\n",
              "    }\n",
              "\n",
              "    .dataframe tbody tr th {\n",
              "        vertical-align: top;\n",
              "    }\n",
              "\n",
              "    .dataframe thead th {\n",
              "        text-align: right;\n",
              "    }\n",
              "</style>\n",
              "<table border=\"1\" class=\"dataframe\">\n",
              "  <thead>\n",
              "    <tr style=\"text-align: right;\">\n",
              "      <th></th>\n",
              "      <th>Avg_speed</th>\n",
              "    </tr>\n",
              "  </thead>\n",
              "  <tbody>\n",
              "    <tr>\n",
              "      <th>0</th>\n",
              "      <td>608.333333</td>\n",
              "    </tr>\n",
              "  </tbody>\n",
              "</table>\n",
              "</div>"
            ],
            "text/plain": [
              "    Avg_speed\n",
              "0  608.333333"
            ]
          },
          "metadata": {
            "tags": []
          },
          "execution_count": 30
        }
      ]
    },
    {
      "cell_type": "markdown",
      "metadata": {
        "id": "u9-bNh2SWe7A"
      },
      "source": [
        "***\n",
        "### Задача № 12\n",
        "https://sql-ex.ru/learn_exercises.php?LN=12\n",
        "\n",
        "Найдите среднюю скорость ПК-блокнотов, цена которых превышает 1000 дол."
      ]
    },
    {
      "cell_type": "code",
      "metadata": {
        "id": "fgwlv3FBWe7C",
        "outputId": "81b26ea0-0a85-49fc-ae4e-2822ff79e3ac",
        "colab": {
          "base_uri": "https://localhost:8080/",
          "height": 77
        }
      },
      "source": [
        "sql = '''\n",
        "SELECT AVG(speed)\n",
        "FROM laptop\n",
        "WHERE price > 1000\n",
        "'''\n",
        "\n",
        "select(sql)"
      ],
      "execution_count": null,
      "outputs": [
        {
          "output_type": "execute_result",
          "data": {
            "text/html": [
              "<div>\n",
              "<style scoped>\n",
              "    .dataframe tbody tr th:only-of-type {\n",
              "        vertical-align: middle;\n",
              "    }\n",
              "\n",
              "    .dataframe tbody tr th {\n",
              "        vertical-align: top;\n",
              "    }\n",
              "\n",
              "    .dataframe thead th {\n",
              "        text-align: right;\n",
              "    }\n",
              "</style>\n",
              "<table border=\"1\" class=\"dataframe\">\n",
              "  <thead>\n",
              "    <tr style=\"text-align: right;\">\n",
              "      <th></th>\n",
              "      <th>AVG(speed)</th>\n",
              "    </tr>\n",
              "  </thead>\n",
              "  <tbody>\n",
              "    <tr>\n",
              "      <th>0</th>\n",
              "      <td>700.0</td>\n",
              "    </tr>\n",
              "  </tbody>\n",
              "</table>\n",
              "</div>"
            ],
            "text/plain": [
              "   AVG(speed)\n",
              "0       700.0"
            ]
          },
          "metadata": {
            "tags": []
          },
          "execution_count": 31
        }
      ]
    },
    {
      "cell_type": "markdown",
      "metadata": {
        "id": "r0oOKnIzWfGD"
      },
      "source": [
        "***\n",
        "### Задача № 13\n",
        "https://sql-ex.ru/learn_exercises.php?LN=13\n",
        "\n",
        "Найдите среднюю скорость ПК, выпущенных производителем A."
      ]
    },
    {
      "cell_type": "code",
      "metadata": {
        "id": "3SWMoG8dWfGE",
        "outputId": "222d9bbb-70f3-48f5-8b27-f9312dc5a6c2",
        "colab": {
          "base_uri": "https://localhost:8080/",
          "height": 77
        }
      },
      "source": [
        "sql = '''\n",
        "-- 3. посчитаем среднюю скорость пк, произведенных А\n",
        "SELECT AVG(speed) as avg_speed\n",
        "\n",
        "-- 2. соеденим таблицу pc с таблицей product по общему полю model\n",
        "-- чтобы для каждого ПК был известен производитель\n",
        "FROM pc pc join product pr on pc.model = pr.model\n",
        "\n",
        "-- 3. отфильтруем таблицу по производителю А\n",
        "WHERE pr.maker = 'A'\n",
        "'''\n",
        "\n",
        "select(sql)"
      ],
      "execution_count": null,
      "outputs": [
        {
          "output_type": "execute_result",
          "data": {
            "text/html": [
              "<div>\n",
              "<style scoped>\n",
              "    .dataframe tbody tr th:only-of-type {\n",
              "        vertical-align: middle;\n",
              "    }\n",
              "\n",
              "    .dataframe tbody tr th {\n",
              "        vertical-align: top;\n",
              "    }\n",
              "\n",
              "    .dataframe thead th {\n",
              "        text-align: right;\n",
              "    }\n",
              "</style>\n",
              "<table border=\"1\" class=\"dataframe\">\n",
              "  <thead>\n",
              "    <tr style=\"text-align: right;\">\n",
              "      <th></th>\n",
              "      <th>avg_speed</th>\n",
              "    </tr>\n",
              "  </thead>\n",
              "  <tbody>\n",
              "    <tr>\n",
              "      <th>0</th>\n",
              "      <td>606.25</td>\n",
              "    </tr>\n",
              "  </tbody>\n",
              "</table>\n",
              "</div>"
            ],
            "text/plain": [
              "   avg_speed\n",
              "0     606.25"
            ]
          },
          "metadata": {
            "tags": []
          },
          "execution_count": 32
        }
      ]
    },
    {
      "cell_type": "markdown",
      "metadata": {
        "id": "VV6lTc6uWfrE"
      },
      "source": [
        "***\n",
        "### Задача № 14\n",
        "https://sql-ex.ru/learn_exercises.php?LN=14\n",
        "\n",
        "Найдите класс, имя и страну для кораблей из таблицы Ships, имеющих не менее 10 орудий."
      ]
    },
    {
      "cell_type": "code",
      "metadata": {
        "id": "mWSgphP8WfrF",
        "outputId": "d07eeb82-4730-4bdf-cab8-7641be246f34",
        "colab": {
          "base_uri": "https://localhost:8080/",
          "height": 195
        }
      },
      "source": [
        "sql = '''\n",
        "\n",
        "-- 3. выберем класс, имя и страну кораблей, соответствующих условиям задачи\n",
        "SELECT s.class, name, country\n",
        "\n",
        "-- 1. соеденим таблицу ships с таблицей classes по общему полю\n",
        "FROM ships s join classes c on s.class = c.class\n",
        "\n",
        "-- 2. отфильтруем таблицу по количеству орудий\n",
        "WHERE numGuns >= 10\n",
        "\n",
        "'''\n",
        "\n",
        "select(sql)"
      ],
      "execution_count": null,
      "outputs": [
        {
          "output_type": "execute_result",
          "data": {
            "text/html": [
              "<div>\n",
              "<style scoped>\n",
              "    .dataframe tbody tr th:only-of-type {\n",
              "        vertical-align: middle;\n",
              "    }\n",
              "\n",
              "    .dataframe tbody tr th {\n",
              "        vertical-align: top;\n",
              "    }\n",
              "\n",
              "    .dataframe thead th {\n",
              "        text-align: right;\n",
              "    }\n",
              "</style>\n",
              "<table border=\"1\" class=\"dataframe\">\n",
              "  <thead>\n",
              "    <tr style=\"text-align: right;\">\n",
              "      <th></th>\n",
              "      <th>class</th>\n",
              "      <th>name</th>\n",
              "      <th>country</th>\n",
              "    </tr>\n",
              "  </thead>\n",
              "  <tbody>\n",
              "    <tr>\n",
              "      <th>0</th>\n",
              "      <td>North Carolina</td>\n",
              "      <td>North Carolina</td>\n",
              "      <td>USA</td>\n",
              "    </tr>\n",
              "    <tr>\n",
              "      <th>1</th>\n",
              "      <td>North Carolina</td>\n",
              "      <td>South Dakota</td>\n",
              "      <td>USA</td>\n",
              "    </tr>\n",
              "    <tr>\n",
              "      <th>2</th>\n",
              "      <td>North Carolina</td>\n",
              "      <td>Washington</td>\n",
              "      <td>USA</td>\n",
              "    </tr>\n",
              "    <tr>\n",
              "      <th>3</th>\n",
              "      <td>Tennessee</td>\n",
              "      <td>California</td>\n",
              "      <td>USA</td>\n",
              "    </tr>\n",
              "    <tr>\n",
              "      <th>4</th>\n",
              "      <td>Tennessee</td>\n",
              "      <td>Tennessee</td>\n",
              "      <td>USA</td>\n",
              "    </tr>\n",
              "  </tbody>\n",
              "</table>\n",
              "</div>"
            ],
            "text/plain": [
              "            class            name country\n",
              "0  North Carolina  North Carolina     USA\n",
              "1  North Carolina    South Dakota     USA\n",
              "2  North Carolina      Washington     USA\n",
              "3       Tennessee      California     USA\n",
              "4       Tennessee       Tennessee     USA"
            ]
          },
          "metadata": {
            "tags": []
          },
          "execution_count": 33
        }
      ]
    },
    {
      "cell_type": "markdown",
      "metadata": {
        "id": "140fXoKeWfnj"
      },
      "source": [
        "***\n",
        "### Задача № 15\n",
        "https://sql-ex.ru/learn_exercises.php?LN=15\n",
        "\n",
        "Найдите размеры жестких дисков, совпадающих у двух и более PC. Вывести: HD"
      ]
    },
    {
      "cell_type": "code",
      "metadata": {
        "id": "AS9GNEPoWfnk",
        "outputId": "247097bc-06cb-47cc-a962-8a78dcb33827",
        "colab": {
          "base_uri": "https://localhost:8080/",
          "height": 195
        }
      },
      "source": [
        "sql = '''\n",
        "\n",
        "-- 2. из неё выбираем все hd\n",
        "SELECT hd\n",
        "\n",
        "-- 1. выбираем таблицу pc\n",
        "FROM pc\n",
        "\n",
        "-- 3. группируем все hd\n",
        "GROUP BY (hd)\n",
        "\n",
        "-- 4. оставляем только те hd (размеры жестких дисков), для которых можно насчитать от 2х моделей\n",
        "HAVING COUNT(model) >= 2\n",
        "'''\n",
        "\n",
        "select(sql)"
      ],
      "execution_count": null,
      "outputs": [
        {
          "output_type": "execute_result",
          "data": {
            "text/html": [
              "<div>\n",
              "<style scoped>\n",
              "    .dataframe tbody tr th:only-of-type {\n",
              "        vertical-align: middle;\n",
              "    }\n",
              "\n",
              "    .dataframe tbody tr th {\n",
              "        vertical-align: top;\n",
              "    }\n",
              "\n",
              "    .dataframe thead th {\n",
              "        text-align: right;\n",
              "    }\n",
              "</style>\n",
              "<table border=\"1\" class=\"dataframe\">\n",
              "  <thead>\n",
              "    <tr style=\"text-align: right;\">\n",
              "      <th></th>\n",
              "      <th>hd</th>\n",
              "    </tr>\n",
              "  </thead>\n",
              "  <tbody>\n",
              "    <tr>\n",
              "      <th>0</th>\n",
              "      <td>5.0</td>\n",
              "    </tr>\n",
              "    <tr>\n",
              "      <th>1</th>\n",
              "      <td>8.0</td>\n",
              "    </tr>\n",
              "    <tr>\n",
              "      <th>2</th>\n",
              "      <td>10.0</td>\n",
              "    </tr>\n",
              "    <tr>\n",
              "      <th>3</th>\n",
              "      <td>14.0</td>\n",
              "    </tr>\n",
              "    <tr>\n",
              "      <th>4</th>\n",
              "      <td>20.0</td>\n",
              "    </tr>\n",
              "  </tbody>\n",
              "</table>\n",
              "</div>"
            ],
            "text/plain": [
              "     hd\n",
              "0   5.0\n",
              "1   8.0\n",
              "2  10.0\n",
              "3  14.0\n",
              "4  20.0"
            ]
          },
          "metadata": {
            "tags": []
          },
          "execution_count": 34
        }
      ]
    },
    {
      "cell_type": "markdown",
      "metadata": {
        "id": "MXVGHy1eWfkX"
      },
      "source": [
        "***\n",
        "### Задача № 16\n",
        "https://sql-ex.ru/learn_exercises.php?LN=16\n",
        "\n",
        "Найдите пары моделей PC, имеющих одинаковые скорость и RAM. \n",
        "\n",
        "В результате каждая пара указывается только один раз, т.е. (i,j), но не (j,i).\n",
        "\n",
        "Порядок вывода: модель с большим номером, модель с меньшим номером, скорость и RAM."
      ]
    },
    {
      "cell_type": "markdown",
      "metadata": {
        "id": "3yatGiWgsMGT"
      },
      "source": [
        "Для решения этой задачи нам нужно сравнить записи в одной и той же таблице. <br>\n",
        "По сути чтобы иметь возможность это делать, нужно обращаться к двум разным таблицам с одним содержанием. <br>\n",
        "Для этого будем забирать записи из таблицы pc с названием \"а\" и названием \"b\".\n",
        "\n",
        "Вместе они выглядят вот так."
      ]
    },
    {
      "cell_type": "code",
      "metadata": {
        "id": "_uUn2R4wsqeE",
        "outputId": "e527496b-4427-4c29-c4c3-2bf33fec3c13",
        "colab": {
          "base_uri": "https://localhost:8080/",
          "height": 195
        }
      },
      "source": [
        "sql = '''\n",
        "SELECT *\n",
        "FROM pc a, pc b\n",
        "LIMIT 5\n",
        "'''\n",
        "\n",
        "select(sql)"
      ],
      "execution_count": null,
      "outputs": [
        {
          "output_type": "execute_result",
          "data": {
            "text/html": [
              "<div>\n",
              "<style scoped>\n",
              "    .dataframe tbody tr th:only-of-type {\n",
              "        vertical-align: middle;\n",
              "    }\n",
              "\n",
              "    .dataframe tbody tr th {\n",
              "        vertical-align: top;\n",
              "    }\n",
              "\n",
              "    .dataframe thead th {\n",
              "        text-align: right;\n",
              "    }\n",
              "</style>\n",
              "<table border=\"1\" class=\"dataframe\">\n",
              "  <thead>\n",
              "    <tr style=\"text-align: right;\">\n",
              "      <th></th>\n",
              "      <th>code</th>\n",
              "      <th>model</th>\n",
              "      <th>speed</th>\n",
              "      <th>ram</th>\n",
              "      <th>hd</th>\n",
              "      <th>cd</th>\n",
              "      <th>price</th>\n",
              "      <th>code</th>\n",
              "      <th>model</th>\n",
              "      <th>speed</th>\n",
              "      <th>ram</th>\n",
              "      <th>hd</th>\n",
              "      <th>cd</th>\n",
              "      <th>price</th>\n",
              "    </tr>\n",
              "  </thead>\n",
              "  <tbody>\n",
              "    <tr>\n",
              "      <th>0</th>\n",
              "      <td>1</td>\n",
              "      <td>1232</td>\n",
              "      <td>500</td>\n",
              "      <td>64</td>\n",
              "      <td>5.0</td>\n",
              "      <td>12x</td>\n",
              "      <td>600</td>\n",
              "      <td>1</td>\n",
              "      <td>1232</td>\n",
              "      <td>500</td>\n",
              "      <td>64</td>\n",
              "      <td>5.0</td>\n",
              "      <td>12x</td>\n",
              "      <td>600</td>\n",
              "    </tr>\n",
              "    <tr>\n",
              "      <th>1</th>\n",
              "      <td>1</td>\n",
              "      <td>1232</td>\n",
              "      <td>500</td>\n",
              "      <td>64</td>\n",
              "      <td>5.0</td>\n",
              "      <td>12x</td>\n",
              "      <td>600</td>\n",
              "      <td>2</td>\n",
              "      <td>1121</td>\n",
              "      <td>750</td>\n",
              "      <td>128</td>\n",
              "      <td>14.0</td>\n",
              "      <td>40x</td>\n",
              "      <td>850</td>\n",
              "    </tr>\n",
              "    <tr>\n",
              "      <th>2</th>\n",
              "      <td>1</td>\n",
              "      <td>1232</td>\n",
              "      <td>500</td>\n",
              "      <td>64</td>\n",
              "      <td>5.0</td>\n",
              "      <td>12x</td>\n",
              "      <td>600</td>\n",
              "      <td>3</td>\n",
              "      <td>1233</td>\n",
              "      <td>500</td>\n",
              "      <td>64</td>\n",
              "      <td>5.0</td>\n",
              "      <td>12x</td>\n",
              "      <td>600</td>\n",
              "    </tr>\n",
              "    <tr>\n",
              "      <th>3</th>\n",
              "      <td>1</td>\n",
              "      <td>1232</td>\n",
              "      <td>500</td>\n",
              "      <td>64</td>\n",
              "      <td>5.0</td>\n",
              "      <td>12x</td>\n",
              "      <td>600</td>\n",
              "      <td>4</td>\n",
              "      <td>1121</td>\n",
              "      <td>600</td>\n",
              "      <td>128</td>\n",
              "      <td>14.0</td>\n",
              "      <td>40x</td>\n",
              "      <td>850</td>\n",
              "    </tr>\n",
              "    <tr>\n",
              "      <th>4</th>\n",
              "      <td>1</td>\n",
              "      <td>1232</td>\n",
              "      <td>500</td>\n",
              "      <td>64</td>\n",
              "      <td>5.0</td>\n",
              "      <td>12x</td>\n",
              "      <td>600</td>\n",
              "      <td>5</td>\n",
              "      <td>1121</td>\n",
              "      <td>600</td>\n",
              "      <td>128</td>\n",
              "      <td>8.0</td>\n",
              "      <td>40x</td>\n",
              "      <td>850</td>\n",
              "    </tr>\n",
              "  </tbody>\n",
              "</table>\n",
              "</div>"
            ],
            "text/plain": [
              "   code  model  speed ram   hd   cd  ...  model  speed  ram    hd   cd  price\n",
              "0     1   1232    500  64  5.0  12x  ...   1232    500   64   5.0  12x    600\n",
              "1     1   1232    500  64  5.0  12x  ...   1121    750  128  14.0  40x    850\n",
              "2     1   1232    500  64  5.0  12x  ...   1233    500   64   5.0  12x    600\n",
              "3     1   1232    500  64  5.0  12x  ...   1121    600  128  14.0  40x    850\n",
              "4     1   1232    500  64  5.0  12x  ...   1121    600  128   8.0  40x    850\n",
              "\n",
              "[5 rows x 14 columns]"
            ]
          },
          "metadata": {
            "tags": []
          },
          "execution_count": 35
        }
      ]
    },
    {
      "cell_type": "markdown",
      "metadata": {
        "id": "yxTrF9eys4dD"
      },
      "source": [
        "При таком синтаксисе FROM для каждой строки из первой таблицы (а) мы подставляем значения второй таблицы (b). Так у нас появляется возможность сравнивать каждую запись в таблице с любой другой записью в таблице (это называется декартово произведение).\n",
        "\n",
        "Напишем полный запрос."
      ]
    },
    {
      "cell_type": "code",
      "metadata": {
        "id": "uwkLI4SSWfkX",
        "outputId": "553f38f1-fa4c-4eb1-9e24-07d060dfc5e0",
        "colab": {
          "base_uri": "https://localhost:8080/",
          "height": 136
        }
      },
      "source": [
        "sql = '''\n",
        "\n",
        "-- 3. Выберем уникальные номера моделей и укажем для них скорость и объем памяти\n",
        "SELECT DISTINCT a.model, b.model, a.speed, a.ram\n",
        "\n",
        "-- 1. укажем, что хотим собрать записи из 2х таблицу сразу\n",
        "FROM pc a, pc b\n",
        "\n",
        "-- 2. укажем, что хотим забирать только те строки, где совпадают значения:\n",
        "WHERE a.ram = b.ram\n",
        "AND a.speed = b.speed\n",
        "AND a.model > b.model\n",
        "'''\n",
        "\n",
        "select(sql)"
      ],
      "execution_count": null,
      "outputs": [
        {
          "output_type": "execute_result",
          "data": {
            "text/html": [
              "<div>\n",
              "<style scoped>\n",
              "    .dataframe tbody tr th:only-of-type {\n",
              "        vertical-align: middle;\n",
              "    }\n",
              "\n",
              "    .dataframe tbody tr th {\n",
              "        vertical-align: top;\n",
              "    }\n",
              "\n",
              "    .dataframe thead th {\n",
              "        text-align: right;\n",
              "    }\n",
              "</style>\n",
              "<table border=\"1\" class=\"dataframe\">\n",
              "  <thead>\n",
              "    <tr style=\"text-align: right;\">\n",
              "      <th></th>\n",
              "      <th>model</th>\n",
              "      <th>model</th>\n",
              "      <th>speed</th>\n",
              "      <th>ram</th>\n",
              "    </tr>\n",
              "  </thead>\n",
              "  <tbody>\n",
              "    <tr>\n",
              "      <th>0</th>\n",
              "      <td>1233</td>\n",
              "      <td>1232</td>\n",
              "      <td>500</td>\n",
              "      <td>64</td>\n",
              "    </tr>\n",
              "    <tr>\n",
              "      <th>1</th>\n",
              "      <td>1233</td>\n",
              "      <td>1121</td>\n",
              "      <td>750</td>\n",
              "      <td>128</td>\n",
              "    </tr>\n",
              "    <tr>\n",
              "      <th>2</th>\n",
              "      <td>1260</td>\n",
              "      <td>1232</td>\n",
              "      <td>500</td>\n",
              "      <td>32</td>\n",
              "    </tr>\n",
              "  </tbody>\n",
              "</table>\n",
              "</div>"
            ],
            "text/plain": [
              "  model model  speed  ram\n",
              "0  1233  1232    500   64\n",
              "1  1233  1121    750  128\n",
              "2  1260  1232    500   32"
            ]
          },
          "metadata": {
            "tags": []
          },
          "execution_count": 36
        }
      ]
    },
    {
      "cell_type": "markdown",
      "metadata": {
        "id": "dr5Rn3YnWfhh"
      },
      "source": [
        "***\n",
        "### Задача № 17\n",
        "https://sql-ex.ru/learn_exercises.php?LN=17\n",
        "\n",
        "Найдите модели ПК-блокнотов, скорость которых меньше скорости каждого из ПК.\n",
        "Вывести: type, model, speed"
      ]
    },
    {
      "cell_type": "code",
      "metadata": {
        "id": "Wqp0tHSYWfhi",
        "outputId": "7453bd1f-be71-495e-e2ab-3b43aacc6af4",
        "colab": {
          "base_uri": "https://localhost:8080/",
          "height": 77
        }
      },
      "source": [
        "sql = '''\n",
        "\n",
        "-- 3. забираем нужные строки\n",
        "SELECT  DISTINCT p.type, l.model, l.speed\n",
        "\n",
        "-- 1. ко всем записям таблицы laptop добавляем соответствующие им строки таблицы\n",
        "-- product (это нужно, чтобы забрать значения поля type для всех лэптопов)\n",
        "FROM laptop l left join product p on l.model = p.model\n",
        "\n",
        "-- 2. фильтруем таблицу по условию \"скорость меньше чем скорость всех ПК)\n",
        "-- для сравнения используем подзапрос, который дает список всех speed таблицы пк\n",
        "WHERE l.speed NOT IN (SELECT pc.speed FROM pc)\n",
        "\n",
        "'''\n",
        "\n",
        "select(sql)"
      ],
      "execution_count": null,
      "outputs": [
        {
          "output_type": "execute_result",
          "data": {
            "text/html": [
              "<div>\n",
              "<style scoped>\n",
              "    .dataframe tbody tr th:only-of-type {\n",
              "        vertical-align: middle;\n",
              "    }\n",
              "\n",
              "    .dataframe tbody tr th {\n",
              "        vertical-align: top;\n",
              "    }\n",
              "\n",
              "    .dataframe thead th {\n",
              "        text-align: right;\n",
              "    }\n",
              "</style>\n",
              "<table border=\"1\" class=\"dataframe\">\n",
              "  <thead>\n",
              "    <tr style=\"text-align: right;\">\n",
              "      <th></th>\n",
              "      <th>type</th>\n",
              "      <th>model</th>\n",
              "      <th>speed</th>\n",
              "    </tr>\n",
              "  </thead>\n",
              "  <tbody>\n",
              "    <tr>\n",
              "      <th>0</th>\n",
              "      <td>Laptop</td>\n",
              "      <td>1298</td>\n",
              "      <td>350</td>\n",
              "    </tr>\n",
              "  </tbody>\n",
              "</table>\n",
              "</div>"
            ],
            "text/plain": [
              "     type model  speed\n",
              "0  Laptop  1298    350"
            ]
          },
          "metadata": {
            "tags": []
          },
          "execution_count": 37
        }
      ]
    },
    {
      "cell_type": "markdown",
      "metadata": {
        "id": "Pdm2QfqTzT12"
      },
      "source": [
        "Выдача верная, но условие для фильрации неправильное.\n",
        "\n",
        "Правильное услови \"WHERE l.speed < ALL (SELECT ...)\". Но Collab почему-то не принимает его (скорее всего из-за другого SQL).\n",
        "\n",
        "Решение NOT IN неправильное, так как l.speed по такому условию может оказаться и выше, чем все значения списка."
      ]
    },
    {
      "cell_type": "markdown",
      "metadata": {
        "id": "scu3n8tvWfel"
      },
      "source": [
        "***\n",
        "### Задача № 18\n",
        "https://sql-ex.ru/learn_exercises.php?LN=18\n",
        "\n",
        "Найдите производителей самых дешевых цветных принтеров. Вывести: maker, price"
      ]
    },
    {
      "cell_type": "code",
      "metadata": {
        "id": "lnk-8Es8Wfel",
        "outputId": "98625f09-37bb-44c6-ea2a-6eefa92c156b",
        "colab": {
          "base_uri": "https://localhost:8080/",
          "height": 77
        }
      },
      "source": [
        "sql = '''\n",
        "\n",
        "-- 3. выберем уникальных производителей и цены их самых дешевых принтеров \n",
        "SELECT DISTINCT maker, price\n",
        "\n",
        "-- 1. соединяем таблицы printer & product по общему полю model, чтобы сопоставить производителей с их принтерами\n",
        "FROM printer JOIN product\n",
        "ON printer.model = product.model\n",
        "\n",
        "-- 2. фильтруем таблицу по условиям:\n",
        "-- 2.1 цветной принтер\n",
        "WHERE (color = 'y')\n",
        "\n",
        "-- 2.2 и цена равна минимальной цене в таблице printer отфильтрованной по цветным\n",
        "AND price = (\n",
        "            SELECT MIN(price)\n",
        "            FROM printer\n",
        "            WHERE color = 'y'\n",
        "            )\n",
        "\n",
        "'''\n",
        "\n",
        "select(sql)"
      ],
      "execution_count": null,
      "outputs": [
        {
          "output_type": "execute_result",
          "data": {
            "text/html": [
              "<div>\n",
              "<style scoped>\n",
              "    .dataframe tbody tr th:only-of-type {\n",
              "        vertical-align: middle;\n",
              "    }\n",
              "\n",
              "    .dataframe tbody tr th {\n",
              "        vertical-align: top;\n",
              "    }\n",
              "\n",
              "    .dataframe thead th {\n",
              "        text-align: right;\n",
              "    }\n",
              "</style>\n",
              "<table border=\"1\" class=\"dataframe\">\n",
              "  <thead>\n",
              "    <tr style=\"text-align: right;\">\n",
              "      <th></th>\n",
              "      <th>maker</th>\n",
              "      <th>price</th>\n",
              "    </tr>\n",
              "  </thead>\n",
              "  <tbody>\n",
              "    <tr>\n",
              "      <th>0</th>\n",
              "      <td>D</td>\n",
              "      <td>270</td>\n",
              "    </tr>\n",
              "  </tbody>\n",
              "</table>\n",
              "</div>"
            ],
            "text/plain": [
              "  maker  price\n",
              "0     D    270"
            ]
          },
          "metadata": {
            "tags": []
          },
          "execution_count": 38
        }
      ]
    },
    {
      "cell_type": "markdown",
      "metadata": {
        "id": "MLPL35P5Wfa_"
      },
      "source": [
        "***\n",
        "### Задача № 19\n",
        "https://sql-ex.ru/learn_exercises.php?LN=19\n",
        "\n",
        "Для каждого производителя, имеющего модели в таблице Laptop, найдите средний размер экрана выпускаемых им ПК-блокнотов.\n",
        "Вывести: maker, средний размер экрана."
      ]
    },
    {
      "cell_type": "code",
      "metadata": {
        "id": "7PzVhNv5WfbA",
        "outputId": "5252fce2-d9ac-420e-ef4c-c24227b0bbfb",
        "colab": {
          "base_uri": "https://localhost:8080/"
        }
      },
      "source": [
        "sql = '''\n",
        "\n",
        "-- 3.  выберем каждого производителя и посчитаем средний размер экрана у всех лэптов по каждому производителю\n",
        "SELECT maker, AVG(screen) as avg_screen\n",
        "\n",
        "-- 1. к таблице laptop добавим информацию о производителях\n",
        "FROM laptop l LEFT JOIN product p ON l.model = p.model\n",
        "\n",
        "-- 2. сгруппируем таблицу по производителям\n",
        "GROUP BY maker\n",
        "'''\n",
        "\n",
        "select(sql)"
      ],
      "execution_count": null,
      "outputs": [
        {
          "output_type": "execute_result",
          "data": {
            "text/html": [
              "<div>\n",
              "<style scoped>\n",
              "    .dataframe tbody tr th:only-of-type {\n",
              "        vertical-align: middle;\n",
              "    }\n",
              "\n",
              "    .dataframe tbody tr th {\n",
              "        vertical-align: top;\n",
              "    }\n",
              "\n",
              "    .dataframe thead th {\n",
              "        text-align: right;\n",
              "    }\n",
              "</style>\n",
              "<table border=\"1\" class=\"dataframe\">\n",
              "  <thead>\n",
              "    <tr style=\"text-align: right;\">\n",
              "      <th></th>\n",
              "      <th>maker</th>\n",
              "      <th>avg_screen</th>\n",
              "    </tr>\n",
              "  </thead>\n",
              "  <tbody>\n",
              "    <tr>\n",
              "      <th>0</th>\n",
              "      <td>A</td>\n",
              "      <td>13.0</td>\n",
              "    </tr>\n",
              "    <tr>\n",
              "      <th>1</th>\n",
              "      <td>B</td>\n",
              "      <td>14.0</td>\n",
              "    </tr>\n",
              "    <tr>\n",
              "      <th>2</th>\n",
              "      <td>C</td>\n",
              "      <td>12.0</td>\n",
              "    </tr>\n",
              "  </tbody>\n",
              "</table>\n",
              "</div>"
            ],
            "text/plain": [
              "  maker  avg_screen\n",
              "0     A        13.0\n",
              "1     B        14.0\n",
              "2     C        12.0"
            ]
          },
          "metadata": {
            "tags": []
          },
          "execution_count": 39
        }
      ]
    },
    {
      "cell_type": "markdown",
      "metadata": {
        "id": "R8jo7l_-WfYN"
      },
      "source": [
        "***\n",
        "### Задача № 20\n",
        "https://sql-ex.ru/learn_exercises.php?LN=20\n",
        "\n",
        "Найдите производителей, выпускающих по меньшей мере три различных модели ПК. Вывести: Maker, число моделей ПК."
      ]
    },
    {
      "cell_type": "code",
      "metadata": {
        "id": "wZlb86AFWfYO",
        "outputId": "3267934e-3ab9-4aff-c437-31077065b9d9",
        "colab": {
          "base_uri": "https://localhost:8080/"
        }
      },
      "source": [
        "sql = '''\n",
        "\n",
        "-- 5. выберем производителей и посчитаем кол-во произведенных каждым моделей\n",
        "SELECT maker, COUNT(model) as Count_Model\n",
        "\n",
        "-- 1. укажем таблицу\n",
        "FROM product\n",
        "\n",
        "-- 2. отфильтруем таблицу по условию тип = ПК\n",
        "WHERE type = 'PC'\n",
        "\n",
        "-- 3. сгруппируем данные по производителю\n",
        "GROUP BY maker\n",
        "\n",
        "-- 4. выберем только те записи, в которых у производителя насчитывается не менее 3х моделей\n",
        "HAVING COUNT(model) >= 3\n",
        "\n",
        "'''\n",
        "\n",
        "select(sql)"
      ],
      "execution_count": null,
      "outputs": [
        {
          "output_type": "execute_result",
          "data": {
            "text/html": [
              "<div>\n",
              "<style scoped>\n",
              "    .dataframe tbody tr th:only-of-type {\n",
              "        vertical-align: middle;\n",
              "    }\n",
              "\n",
              "    .dataframe tbody tr th {\n",
              "        vertical-align: top;\n",
              "    }\n",
              "\n",
              "    .dataframe thead th {\n",
              "        text-align: right;\n",
              "    }\n",
              "</style>\n",
              "<table border=\"1\" class=\"dataframe\">\n",
              "  <thead>\n",
              "    <tr style=\"text-align: right;\">\n",
              "      <th></th>\n",
              "      <th>maker</th>\n",
              "      <th>Count_Model</th>\n",
              "    </tr>\n",
              "  </thead>\n",
              "  <tbody>\n",
              "    <tr>\n",
              "      <th>0</th>\n",
              "      <td>E</td>\n",
              "      <td>3</td>\n",
              "    </tr>\n",
              "  </tbody>\n",
              "</table>\n",
              "</div>"
            ],
            "text/plain": [
              "  maker  Count_Model\n",
              "0     E            3"
            ]
          },
          "metadata": {
            "tags": []
          },
          "execution_count": 40
        }
      ]
    },
    {
      "cell_type": "markdown",
      "metadata": {
        "id": "25_pG0IyWfYT"
      },
      "source": [
        "***"
      ]
    },
    {
      "cell_type": "markdown",
      "metadata": {
        "id": "VQ0uasiOWfVe"
      },
      "source": [
        "***\n",
        "### Задача № 21\n",
        "https://sql-ex.ru/learn_exercises.php?LN=21\n",
        "\n",
        "Найдите максимальную цену ПК, выпускаемых каждым производителем, у которого есть модели в таблице PC.\n",
        "Вывести: maker, максимальная цена."
      ]
    },
    {
      "cell_type": "code",
      "metadata": {
        "id": "hH5x6dCjWfVf",
        "outputId": "406c138c-a6c1-4adc-b753-12e9b2ac9578",
        "colab": {
          "base_uri": "https://localhost:8080/",
          "height": 136
        }
      },
      "source": [
        "sql = '''\n",
        "\n",
        "-- 3. получим список производителей и максимальную цену ПК у каждого из них\n",
        "SELECT maker, MAX(price) as Max_price\n",
        "\n",
        "-- 1. ко всем записям таблице pc добавим информацию о производителе\n",
        "FROM pc left join product p on pc.model = p.model\n",
        "\n",
        "-- 2. сгруппируем записи по производителю\n",
        "GROUP BY maker\n",
        "'''\n",
        "\n",
        "select(sql)"
      ],
      "execution_count": null,
      "outputs": [
        {
          "output_type": "execute_result",
          "data": {
            "text/html": [
              "<div>\n",
              "<style scoped>\n",
              "    .dataframe tbody tr th:only-of-type {\n",
              "        vertical-align: middle;\n",
              "    }\n",
              "\n",
              "    .dataframe tbody tr th {\n",
              "        vertical-align: top;\n",
              "    }\n",
              "\n",
              "    .dataframe thead th {\n",
              "        text-align: right;\n",
              "    }\n",
              "</style>\n",
              "<table border=\"1\" class=\"dataframe\">\n",
              "  <thead>\n",
              "    <tr style=\"text-align: right;\">\n",
              "      <th></th>\n",
              "      <th>maker</th>\n",
              "      <th>Max_price</th>\n",
              "    </tr>\n",
              "  </thead>\n",
              "  <tbody>\n",
              "    <tr>\n",
              "      <th>0</th>\n",
              "      <td>A</td>\n",
              "      <td>980</td>\n",
              "    </tr>\n",
              "    <tr>\n",
              "      <th>1</th>\n",
              "      <td>B</td>\n",
              "      <td>850</td>\n",
              "    </tr>\n",
              "    <tr>\n",
              "      <th>2</th>\n",
              "      <td>E</td>\n",
              "      <td>350</td>\n",
              "    </tr>\n",
              "  </tbody>\n",
              "</table>\n",
              "</div>"
            ],
            "text/plain": [
              "  maker  Max_price\n",
              "0     A        980\n",
              "1     B        850\n",
              "2     E        350"
            ]
          },
          "metadata": {
            "tags": []
          },
          "execution_count": 41
        }
      ]
    },
    {
      "cell_type": "markdown",
      "metadata": {
        "id": "kNKH69mHWfSq"
      },
      "source": [
        "***\n",
        "### Задача № 22\n",
        "https://sql-ex.ru/learn_exercises.php?LN=22\n",
        "\n",
        "Для каждого значения скорости ПК, превышающего 600 МГц, определите среднюю цену ПК с такой же скоростью. Вывести: speed, средняя цена."
      ]
    },
    {
      "cell_type": "code",
      "metadata": {
        "id": "ndfShOJhWfSs",
        "outputId": "b502dc11-5d6c-4aaf-dbb4-36fc2f98dbd2",
        "colab": {
          "base_uri": "https://localhost:8080/"
        }
      },
      "source": [
        "sql = '''\n",
        "\n",
        "-- 4. найдем среднюю цену всех ПК со скоростью выше 600 МГц (на каждую скорость процессора)\n",
        "SELECT speed, AVG(price) as Avg_price\n",
        "\n",
        "-- 1. выберем таблицу ПК\n",
        "FROM pc\n",
        "\n",
        "-- 2. оставим только записи о тех ПК, у которых скорость больше 600\n",
        "WHERE speed > 600\n",
        "\n",
        "-- 3. сгруппируем оставшиеся записи по скорости\n",
        "GROUP BY speed\n",
        "\n",
        "'''\n",
        "\n",
        "select(sql)"
      ],
      "execution_count": null,
      "outputs": [
        {
          "output_type": "execute_result",
          "data": {
            "text/html": [
              "<div>\n",
              "<style scoped>\n",
              "    .dataframe tbody tr th:only-of-type {\n",
              "        vertical-align: middle;\n",
              "    }\n",
              "\n",
              "    .dataframe tbody tr th {\n",
              "        vertical-align: top;\n",
              "    }\n",
              "\n",
              "    .dataframe thead th {\n",
              "        text-align: right;\n",
              "    }\n",
              "</style>\n",
              "<table border=\"1\" class=\"dataframe\">\n",
              "  <thead>\n",
              "    <tr style=\"text-align: right;\">\n",
              "      <th></th>\n",
              "      <th>speed</th>\n",
              "      <th>Avg_price</th>\n",
              "    </tr>\n",
              "  </thead>\n",
              "  <tbody>\n",
              "    <tr>\n",
              "      <th>0</th>\n",
              "      <td>750</td>\n",
              "      <td>900.0</td>\n",
              "    </tr>\n",
              "    <tr>\n",
              "      <th>1</th>\n",
              "      <td>800</td>\n",
              "      <td>970.0</td>\n",
              "    </tr>\n",
              "    <tr>\n",
              "      <th>2</th>\n",
              "      <td>900</td>\n",
              "      <td>980.0</td>\n",
              "    </tr>\n",
              "  </tbody>\n",
              "</table>\n",
              "</div>"
            ],
            "text/plain": [
              "   speed  Avg_price\n",
              "0    750      900.0\n",
              "1    800      970.0\n",
              "2    900      980.0"
            ]
          },
          "metadata": {
            "tags": []
          },
          "execution_count": 42
        }
      ]
    },
    {
      "cell_type": "markdown",
      "metadata": {
        "id": "mR-Hnr_qWfSy"
      },
      "source": [
        "***"
      ]
    },
    {
      "cell_type": "markdown",
      "metadata": {
        "id": "9AmLjog4WfPT"
      },
      "source": [
        "***\n",
        "### Задача № 23\n",
        "https://sql-ex.ru/learn_exercises.php?LN=23\n",
        "\n",
        "Найдите производителей, которые производили бы как ПК\n",
        "со скоростью не менее 750 МГц, так и ПК-блокноты со скоростью не менее 750 МГц.\n",
        "Вывести: Maker"
      ]
    },
    {
      "cell_type": "code",
      "metadata": {
        "id": "sU1gymuLWfPU",
        "outputId": "beb24cd7-a332-42f0-df9c-154d6b7773c1",
        "colab": {
          "base_uri": "https://localhost:8080/",
          "height": 106
        }
      },
      "source": [
        "sql = '''\n",
        "-- 4. выберем оставшихся производителей\n",
        "SELECT DISTINCT maker\n",
        "\n",
        "-- 1. соединим таблицу с производителями с таблицей ПК\n",
        "FROM product p JOIN pc ON p.model=pc.model\n",
        "\n",
        "-- 2. отфильтруем таблицу по двум условиям:\n",
        "\n",
        "-- 2.1 скорость процессора выше 750 МГц\n",
        "WHERE speed >= 750\n",
        "\n",
        "-- 2.2. И производителей также находится в списке тех, кто производит лэптопы со скоростью процессора от 750 МГц\n",
        "AND maker IN\n",
        "\n",
        "-- 2.2.1 список получаем с помощью подзапроса, который отдает список производителей лэптопов по условию\n",
        "( SELECT maker\n",
        "FROM product p JOIN laptop l ON p.model=l.model\n",
        "WHERE speed>=750)\n",
        "\n",
        "'''\n",
        "\n",
        "select(sql)"
      ],
      "execution_count": null,
      "outputs": [
        {
          "output_type": "execute_result",
          "data": {
            "text/html": [
              "<div>\n",
              "<style scoped>\n",
              "    .dataframe tbody tr th:only-of-type {\n",
              "        vertical-align: middle;\n",
              "    }\n",
              "\n",
              "    .dataframe tbody tr th {\n",
              "        vertical-align: top;\n",
              "    }\n",
              "\n",
              "    .dataframe thead th {\n",
              "        text-align: right;\n",
              "    }\n",
              "</style>\n",
              "<table border=\"1\" class=\"dataframe\">\n",
              "  <thead>\n",
              "    <tr style=\"text-align: right;\">\n",
              "      <th></th>\n",
              "      <th>maker</th>\n",
              "    </tr>\n",
              "  </thead>\n",
              "  <tbody>\n",
              "    <tr>\n",
              "      <th>0</th>\n",
              "      <td>B</td>\n",
              "    </tr>\n",
              "    <tr>\n",
              "      <th>1</th>\n",
              "      <td>A</td>\n",
              "    </tr>\n",
              "  </tbody>\n",
              "</table>\n",
              "</div>"
            ],
            "text/plain": [
              "  maker\n",
              "0     B\n",
              "1     A"
            ]
          },
          "metadata": {
            "tags": []
          },
          "execution_count": 43
        }
      ]
    },
    {
      "cell_type": "markdown",
      "metadata": {
        "id": "C7gsZh9CWfMt"
      },
      "source": [
        "***\n",
        "### Задача № 24\n",
        "https://sql-ex.ru/learn_exercises.php?LN=24\n",
        "\n",
        "Перечислите номера моделей любых типов, имеющих самую высокую цену по всей имеющейся в базе данных продукции."
      ]
    },
    {
      "cell_type": "code",
      "metadata": {
        "id": "z0uy_crrWfMw",
        "outputId": "357a64fa-0e67-4a26-cf60-409bc88a1f03",
        "colab": {
          "base_uri": "https://localhost:8080/",
          "height": 77
        }
      },
      "source": [
        "sql = '''\n",
        "SELECT model\n",
        "\n",
        "-- 1. получим общий список всех моделей разных товаров и их цены\n",
        "FROM (\n",
        "      SELECT model, price\n",
        "      FROM pc\n",
        "      UNION\n",
        "      SELECT model, price\n",
        "      FROM Laptop\n",
        "      UNION\n",
        "      SELECT model, price\n",
        "      FROM Printer\n",
        "      ) t1\n",
        "\n",
        "-- 2. оставим только те строки списка, где цена соответствует максимальной цене в этом же списке \n",
        "WHERE price = (\n",
        "              SELECT MAX(price) -- выбираем максимальную цену\n",
        "              FROM (            -- из того же самого списка (только без моделей)\n",
        "                    SELECT price\n",
        "                    FROM pc\n",
        "                    UNION\n",
        "                    SELECT price\n",
        "                    FROM Laptop\n",
        "                    UNION\n",
        "                    SELECT price\n",
        "                    FROM Printer\n",
        "                    ) t2\n",
        "              )\n",
        "'''\n",
        "\n",
        "select(sql)"
      ],
      "execution_count": null,
      "outputs": [
        {
          "output_type": "execute_result",
          "data": {
            "text/html": [
              "<div>\n",
              "<style scoped>\n",
              "    .dataframe tbody tr th:only-of-type {\n",
              "        vertical-align: middle;\n",
              "    }\n",
              "\n",
              "    .dataframe tbody tr th {\n",
              "        vertical-align: top;\n",
              "    }\n",
              "\n",
              "    .dataframe thead th {\n",
              "        text-align: right;\n",
              "    }\n",
              "</style>\n",
              "<table border=\"1\" class=\"dataframe\">\n",
              "  <thead>\n",
              "    <tr style=\"text-align: right;\">\n",
              "      <th></th>\n",
              "      <th>model</th>\n",
              "    </tr>\n",
              "  </thead>\n",
              "  <tbody>\n",
              "    <tr>\n",
              "      <th>0</th>\n",
              "      <td>1750</td>\n",
              "    </tr>\n",
              "  </tbody>\n",
              "</table>\n",
              "</div>"
            ],
            "text/plain": [
              "  model\n",
              "0  1750"
            ]
          },
          "metadata": {
            "tags": []
          },
          "execution_count": 44
        }
      ]
    },
    {
      "cell_type": "markdown",
      "metadata": {
        "id": "nxBqewZGXEFW"
      },
      "source": [
        "***\n",
        "### Задача № 25\n",
        "https://sql-ex.ru/learn_exercises.php?LN=25\n",
        "\n",
        "Найдите производителей принтеров, которые производят ПК с наименьшим объемом RAM и с самым быстрым процессором среди всех ПК, имеющих наименьший объем RAM. Вывести: Maker"
      ]
    },
    {
      "cell_type": "code",
      "metadata": {
        "id": "PADY14XvXEFb",
        "outputId": "df0baaf9-94f8-47be-e37f-842704b85e9a",
        "colab": {
          "base_uri": "https://localhost:8080/",
          "height": 106
        }
      },
      "source": [
        "sql = '''\n",
        "\n",
        "-- 4. выбираем всех производителей из итоговой таблицы\n",
        "SELECT DISTINCT maker\n",
        "\n",
        "-- 1. выбираем таблицу с производителями\n",
        "FROM product\n",
        "\n",
        "-- 2. с помощью подзапросов выбираем нужных производителей по заданным условиям\n",
        "WHERE model IN (              \n",
        "                SELECT model  -- 2.1 выбираем модели ПК, в которых\n",
        "                FROM pc\n",
        "                WHERE ram = ( -- ram равна минимальной ram среди всех ПК\n",
        "                              SELECT MIN(ram)\n",
        "                              FROM pc\n",
        "                            )\n",
        "                AND speed = ( \n",
        "                              SELECT MAX(speed) -- 2.2 скорость равна\n",
        "                              FROM pc\n",
        "                              WHERE ram = (     -- минимальной скорости всех ПК\n",
        "                                            SELECT MIN(ram)\n",
        "                                            FROM pc\n",
        "                                          )\n",
        "                             )\n",
        "                  )\n",
        "\n",
        "-- 3. выбираем производителя, который также производит принтеры (находится среди производителей принтеров)\n",
        "AND maker IN (\n",
        "              SELECT maker\n",
        "              FROM product\n",
        "              WHERE type='Printer'\n",
        "              )\n",
        "\n",
        "'''\n",
        "\n",
        "select(sql)"
      ],
      "execution_count": null,
      "outputs": [
        {
          "output_type": "execute_result",
          "data": {
            "text/html": [
              "<div>\n",
              "<style scoped>\n",
              "    .dataframe tbody tr th:only-of-type {\n",
              "        vertical-align: middle;\n",
              "    }\n",
              "\n",
              "    .dataframe tbody tr th {\n",
              "        vertical-align: top;\n",
              "    }\n",
              "\n",
              "    .dataframe thead th {\n",
              "        text-align: right;\n",
              "    }\n",
              "</style>\n",
              "<table border=\"1\" class=\"dataframe\">\n",
              "  <thead>\n",
              "    <tr style=\"text-align: right;\">\n",
              "      <th></th>\n",
              "      <th>maker</th>\n",
              "    </tr>\n",
              "  </thead>\n",
              "  <tbody>\n",
              "    <tr>\n",
              "      <th>0</th>\n",
              "      <td>A</td>\n",
              "    </tr>\n",
              "    <tr>\n",
              "      <th>1</th>\n",
              "      <td>E</td>\n",
              "    </tr>\n",
              "  </tbody>\n",
              "</table>\n",
              "</div>"
            ],
            "text/plain": [
              "  maker\n",
              "0     A\n",
              "1     E"
            ]
          },
          "metadata": {
            "tags": []
          },
          "execution_count": 72
        }
      ]
    },
    {
      "cell_type": "markdown",
      "metadata": {
        "id": "2l5UY5YXXEQX"
      },
      "source": [
        "***\n",
        "### Задача № 26\n",
        "https://sql-ex.ru/learn_exercises.php?LN=26\n",
        "\n",
        "Найдите среднюю цену ПК и ПК-блокнотов, выпущенных производителем A (латинская буква). Вывести: одна общая средняя цена."
      ]
    },
    {
      "cell_type": "code",
      "metadata": {
        "id": "mfrp9xdyXEQY",
        "outputId": "101f0c39-990b-4ac9-c617-0dae9a89d304",
        "colab": {
          "base_uri": "https://localhost:8080/",
          "height": 77
        }
      },
      "source": [
        "sql = '''\n",
        "SELECT AVG(price) as AVG_price\n",
        "\n",
        "-- 1. формируем таблицу со всеми ценами лэптопов и ПК с помощью соединения двух подзапросов\n",
        "-- оставляем в ней model, чтобы по этому полю добавить производителя\n",
        "\n",
        "FROM (SELECT model, price -- тут собираем модели и цену всех ПК\n",
        "      FROM pc\n",
        "\n",
        "      UNION ALL -- соединяем таблицы, чтобы получилась одна таблица с двумя колонками\n",
        "\n",
        "      SELECT model, price -- тут собираем модели и цену всех лэптопов\n",
        "      FROM laptop) as t\n",
        "\n",
        "JOIN product p on t.model = p.model -- к полученной таблице добавляем информацию о производителе\n",
        "\n",
        "-- 2. фильтруем таблицу по производителю A\n",
        "WHERE maker = 'A'\n",
        "\n",
        "'''\n",
        "\n",
        "select(sql)"
      ],
      "execution_count": null,
      "outputs": [
        {
          "output_type": "execute_result",
          "data": {
            "text/html": [
              "<div>\n",
              "<style scoped>\n",
              "    .dataframe tbody tr th:only-of-type {\n",
              "        vertical-align: middle;\n",
              "    }\n",
              "\n",
              "    .dataframe tbody tr th {\n",
              "        vertical-align: top;\n",
              "    }\n",
              "\n",
              "    .dataframe thead th {\n",
              "        text-align: right;\n",
              "    }\n",
              "</style>\n",
              "<table border=\"1\" class=\"dataframe\">\n",
              "  <thead>\n",
              "    <tr style=\"text-align: right;\">\n",
              "      <th></th>\n",
              "      <th>AVG_price</th>\n",
              "    </tr>\n",
              "  </thead>\n",
              "  <tbody>\n",
              "    <tr>\n",
              "      <th>0</th>\n",
              "      <td>754.166667</td>\n",
              "    </tr>\n",
              "  </tbody>\n",
              "</table>\n",
              "</div>"
            ],
            "text/plain": [
              "    AVG_price\n",
              "0  754.166667"
            ]
          },
          "metadata": {
            "tags": []
          },
          "execution_count": 46
        }
      ]
    },
    {
      "cell_type": "markdown",
      "metadata": {
        "id": "8ANeck16XEcE"
      },
      "source": [
        "***\n",
        "### Задача № 27\n",
        "https://sql-ex.ru/learn_exercises.php?LN=27\n",
        "\n",
        "Найдите средний размер диска ПК каждого из тех производителей, которые выпускают и принтеры.\n",
        "\n",
        "Вывести: maker, средний размер HD."
      ]
    },
    {
      "cell_type": "code",
      "metadata": {
        "id": "VYTW_m1XXEcF",
        "outputId": "c26b4b58-ad2d-453a-c5b3-2de02a8fd6ba",
        "colab": {
          "base_uri": "https://localhost:8080/",
          "height": 106
        }
      },
      "source": [
        "sql = '''\n",
        "\n",
        "-- 4. выберем производителей и средний размер жесткого диска\n",
        "SELECT maker,\n",
        "       AVG(hd) as Avg_hd\n",
        "\n",
        "-- 1. к таблице ПК добавим информацию о производителеях\n",
        "FROM pc JOIN product on pc.model = product.model\n",
        "\n",
        "-- 2. Отфильтруем таблицу по производителям с помощью подзапроса\n",
        "-- Условие: производитель ПК находится среди производителей принтеров\n",
        "WHERE maker IN (\n",
        "                SELECT maker -- выберем производителей, которые производят принтеры\n",
        "                FROM product\n",
        "                WHERE type = 'Printer')\n",
        "\n",
        "-- 3. сгруппируем итоговую таблицу по производителям\n",
        "GROUP BY maker\n",
        "'''\n",
        "\n",
        "select(sql)"
      ],
      "execution_count": null,
      "outputs": [
        {
          "output_type": "execute_result",
          "data": {
            "text/html": [
              "<div>\n",
              "<style scoped>\n",
              "    .dataframe tbody tr th:only-of-type {\n",
              "        vertical-align: middle;\n",
              "    }\n",
              "\n",
              "    .dataframe tbody tr th {\n",
              "        vertical-align: top;\n",
              "    }\n",
              "\n",
              "    .dataframe thead th {\n",
              "        text-align: right;\n",
              "    }\n",
              "</style>\n",
              "<table border=\"1\" class=\"dataframe\">\n",
              "  <thead>\n",
              "    <tr style=\"text-align: right;\">\n",
              "      <th></th>\n",
              "      <th>maker</th>\n",
              "      <th>Avg_hd</th>\n",
              "    </tr>\n",
              "  </thead>\n",
              "  <tbody>\n",
              "    <tr>\n",
              "      <th>0</th>\n",
              "      <td>A</td>\n",
              "      <td>14.75</td>\n",
              "    </tr>\n",
              "    <tr>\n",
              "      <th>1</th>\n",
              "      <td>E</td>\n",
              "      <td>10.00</td>\n",
              "    </tr>\n",
              "  </tbody>\n",
              "</table>\n",
              "</div>"
            ],
            "text/plain": [
              "  maker  Avg_hd\n",
              "0     A   14.75\n",
              "1     E   10.00"
            ]
          },
          "metadata": {
            "tags": []
          },
          "execution_count": 64
        }
      ]
    },
    {
      "cell_type": "markdown",
      "metadata": {
        "id": "T-jiv5xxXElu"
      },
      "source": [
        "***\n",
        "### Задача № 28\n",
        "https://sql-ex.ru/learn_exercises.php?LN=28\n",
        "\n",
        "Используя таблицу Product, определить количество производителей, выпускающих по одной модели."
      ]
    },
    {
      "cell_type": "code",
      "metadata": {
        "id": "yelkDeuNXElv",
        "outputId": "e10e46db-1192-48a6-87cb-8ac543119269",
        "colab": {
          "base_uri": "https://localhost:8080/",
          "height": 77
        }
      },
      "source": [
        "sql = '''\n",
        "\n",
        "-- 3. считаем кол-во производителей в итоговой таблице\n",
        "SELECT COUNT(maker) as makers_number\n",
        "\n",
        "-- 1. возьмем таблицу с производителями\n",
        "FROM product\n",
        "\n",
        "-- 2. отфильтруем по условию \"производители, которые производят только одну модель)\n",
        "WHERE maker in\n",
        "(\n",
        "  SELECT maker FROM product -- выбираем всех производителей\n",
        "  GROUP BY maker\n",
        "  HAVING COUNT(model) = 1 -- фильтруем по условию \"кол-во моделей у производителя = 1\"\n",
        ")\n",
        "'''\n",
        "\n",
        "select(sql)"
      ],
      "execution_count": null,
      "outputs": [
        {
          "output_type": "execute_result",
          "data": {
            "text/html": [
              "<div>\n",
              "<style scoped>\n",
              "    .dataframe tbody tr th:only-of-type {\n",
              "        vertical-align: middle;\n",
              "    }\n",
              "\n",
              "    .dataframe tbody tr th {\n",
              "        vertical-align: top;\n",
              "    }\n",
              "\n",
              "    .dataframe thead th {\n",
              "        text-align: right;\n",
              "    }\n",
              "</style>\n",
              "<table border=\"1\" class=\"dataframe\">\n",
              "  <thead>\n",
              "    <tr style=\"text-align: right;\">\n",
              "      <th></th>\n",
              "      <th>makers_number</th>\n",
              "    </tr>\n",
              "  </thead>\n",
              "  <tbody>\n",
              "    <tr>\n",
              "      <th>0</th>\n",
              "      <td>1</td>\n",
              "    </tr>\n",
              "  </tbody>\n",
              "</table>\n",
              "</div>"
            ],
            "text/plain": [
              "   makers_number\n",
              "0              1"
            ]
          },
          "metadata": {
            "tags": []
          },
          "execution_count": 68
        }
      ]
    },
    {
      "cell_type": "markdown",
      "metadata": {
        "id": "WR06Mt78XExO"
      },
      "source": [
        "***\n",
        "### Задача № 29\n",
        "https://sql-ex.ru/learn_exercises.php?LN=29\n",
        "\n",
        "Приход и расход денег на каждом пункте приема фиксируется не чаще одного раза в день [т.е. первичный ключ (пункт, дата)].\n",
        "\n",
        "Написать запрос с выходными данными (пункт, дата, приход, расход). Использовать таблицы Income_o и Outcome_o."
      ]
    },
    {
      "cell_type": "code",
      "metadata": {
        "id": "xiVUphALXExQ",
        "outputId": "7c5ae25f-ad53-48f4-ba7b-7721900ff77a",
        "colab": {
          "base_uri": "https://localhost:8080/",
          "height": 610
        }
      },
      "source": [
        "sql = '''\n",
        "SELECT t.point, -- выбираем каждую точку и дату и для них находим общую сумму расходов и доходов\n",
        "       t.date,\n",
        "       SUM(t.inc) as inc,\n",
        "       SUM(t.out) as out\n",
        "\n",
        "-- 1. соберем общую таблицу расходов и приходов с помощью UNION \n",
        "FROM (\n",
        "      SELECT point, date, inc, null as out -- 1.1 из таблицы с приходами получим все записи с приходами и создаем столбец с расходами, где будет null (это нужно для работы UNION)\n",
        "      FROM Income_o\n",
        "\n",
        "      UNION -- 1.3 соединяем обе таблицы в один общий список доходов и расходов на каждую дату в каждой точке\n",
        "\n",
        "      SELECT point, date, null as inc, out -- 1.2 из таблицы с расходами получим все записи и сделаем столбец inc, содержащий null, чтобы таблицы были одинаковы и UNION работал\n",
        "      FROM Outcome_o\n",
        "     ) as t\n",
        "\n",
        "-- 2. группируем данные из общей таблицы по точке и дате\n",
        "GROUP BY t.point, t.date\n",
        "'''\n",
        "\n",
        "select(sql)"
      ],
      "execution_count": null,
      "outputs": [
        {
          "output_type": "execute_result",
          "data": {
            "text/html": [
              "<div>\n",
              "<style scoped>\n",
              "    .dataframe tbody tr th:only-of-type {\n",
              "        vertical-align: middle;\n",
              "    }\n",
              "\n",
              "    .dataframe tbody tr th {\n",
              "        vertical-align: top;\n",
              "    }\n",
              "\n",
              "    .dataframe thead th {\n",
              "        text-align: right;\n",
              "    }\n",
              "</style>\n",
              "<table border=\"1\" class=\"dataframe\">\n",
              "  <thead>\n",
              "    <tr style=\"text-align: right;\">\n",
              "      <th></th>\n",
              "      <th>point</th>\n",
              "      <th>date</th>\n",
              "      <th>inc</th>\n",
              "      <th>out</th>\n",
              "    </tr>\n",
              "  </thead>\n",
              "  <tbody>\n",
              "    <tr>\n",
              "      <th>0</th>\n",
              "      <td>1</td>\n",
              "      <td>20010314 00:00:00.000</td>\n",
              "      <td>NaN</td>\n",
              "      <td>15348.00</td>\n",
              "    </tr>\n",
              "    <tr>\n",
              "      <th>1</th>\n",
              "      <td>1</td>\n",
              "      <td>20010322 00:00:00.000</td>\n",
              "      <td>15000.0</td>\n",
              "      <td>NaN</td>\n",
              "    </tr>\n",
              "    <tr>\n",
              "      <th>2</th>\n",
              "      <td>1</td>\n",
              "      <td>20010323 00:00:00.000</td>\n",
              "      <td>15000.0</td>\n",
              "      <td>NaN</td>\n",
              "    </tr>\n",
              "    <tr>\n",
              "      <th>3</th>\n",
              "      <td>1</td>\n",
              "      <td>20010324 00:00:00.000</td>\n",
              "      <td>3400.0</td>\n",
              "      <td>3663.00</td>\n",
              "    </tr>\n",
              "    <tr>\n",
              "      <th>4</th>\n",
              "      <td>1</td>\n",
              "      <td>20010326 00:00:00.000</td>\n",
              "      <td>NaN</td>\n",
              "      <td>1221.00</td>\n",
              "    </tr>\n",
              "    <tr>\n",
              "      <th>5</th>\n",
              "      <td>1</td>\n",
              "      <td>20010328 00:00:00.000</td>\n",
              "      <td>NaN</td>\n",
              "      <td>2075.00</td>\n",
              "    </tr>\n",
              "    <tr>\n",
              "      <th>6</th>\n",
              "      <td>1</td>\n",
              "      <td>20010329 00:00:00.000</td>\n",
              "      <td>NaN</td>\n",
              "      <td>2004.00</td>\n",
              "    </tr>\n",
              "    <tr>\n",
              "      <th>7</th>\n",
              "      <td>1</td>\n",
              "      <td>20010411 00:00:00.000</td>\n",
              "      <td>NaN</td>\n",
              "      <td>3195.04</td>\n",
              "    </tr>\n",
              "    <tr>\n",
              "      <th>8</th>\n",
              "      <td>1</td>\n",
              "      <td>20010413 00:00:00.000</td>\n",
              "      <td>5000.0</td>\n",
              "      <td>4490.00</td>\n",
              "    </tr>\n",
              "    <tr>\n",
              "      <th>9</th>\n",
              "      <td>1</td>\n",
              "      <td>20010427 00:00:00.000</td>\n",
              "      <td>NaN</td>\n",
              "      <td>3110.00</td>\n",
              "    </tr>\n",
              "    <tr>\n",
              "      <th>10</th>\n",
              "      <td>1</td>\n",
              "      <td>20010511 00:00:00.000</td>\n",
              "      <td>4500.0</td>\n",
              "      <td>2530.00</td>\n",
              "    </tr>\n",
              "    <tr>\n",
              "      <th>11</th>\n",
              "      <td>2</td>\n",
              "      <td>20010322 00:00:00.000</td>\n",
              "      <td>10000.0</td>\n",
              "      <td>1440.00</td>\n",
              "    </tr>\n",
              "    <tr>\n",
              "      <th>12</th>\n",
              "      <td>2</td>\n",
              "      <td>20010324 00:00:00.000</td>\n",
              "      <td>1500.0</td>\n",
              "      <td>NaN</td>\n",
              "    </tr>\n",
              "    <tr>\n",
              "      <th>13</th>\n",
              "      <td>2</td>\n",
              "      <td>20010329 00:00:00.000</td>\n",
              "      <td>NaN</td>\n",
              "      <td>7848.00</td>\n",
              "    </tr>\n",
              "    <tr>\n",
              "      <th>14</th>\n",
              "      <td>2</td>\n",
              "      <td>20010402 00:00:00.000</td>\n",
              "      <td>NaN</td>\n",
              "      <td>2040.00</td>\n",
              "    </tr>\n",
              "    <tr>\n",
              "      <th>15</th>\n",
              "      <td>3</td>\n",
              "      <td>20010913 00:00:00.000</td>\n",
              "      <td>11500.0</td>\n",
              "      <td>1500.00</td>\n",
              "    </tr>\n",
              "    <tr>\n",
              "      <th>16</th>\n",
              "      <td>3</td>\n",
              "      <td>20010914 00:00:00.000</td>\n",
              "      <td>NaN</td>\n",
              "      <td>2300.00</td>\n",
              "    </tr>\n",
              "    <tr>\n",
              "      <th>17</th>\n",
              "      <td>3</td>\n",
              "      <td>20011002 00:00:00.000</td>\n",
              "      <td>18000.0</td>\n",
              "      <td>NaN</td>\n",
              "    </tr>\n",
              "    <tr>\n",
              "      <th>18</th>\n",
              "      <td>3</td>\n",
              "      <td>20020916 00:00:00.000</td>\n",
              "      <td>NaN</td>\n",
              "      <td>2150.00</td>\n",
              "    </tr>\n",
              "  </tbody>\n",
              "</table>\n",
              "</div>"
            ],
            "text/plain": [
              "    point                   date      inc       out\n",
              "0       1  20010314 00:00:00.000      NaN  15348.00\n",
              "1       1  20010322 00:00:00.000  15000.0       NaN\n",
              "2       1  20010323 00:00:00.000  15000.0       NaN\n",
              "3       1  20010324 00:00:00.000   3400.0   3663.00\n",
              "4       1  20010326 00:00:00.000      NaN   1221.00\n",
              "5       1  20010328 00:00:00.000      NaN   2075.00\n",
              "6       1  20010329 00:00:00.000      NaN   2004.00\n",
              "7       1  20010411 00:00:00.000      NaN   3195.04\n",
              "8       1  20010413 00:00:00.000   5000.0   4490.00\n",
              "9       1  20010427 00:00:00.000      NaN   3110.00\n",
              "10      1  20010511 00:00:00.000   4500.0   2530.00\n",
              "11      2  20010322 00:00:00.000  10000.0   1440.00\n",
              "12      2  20010324 00:00:00.000   1500.0       NaN\n",
              "13      2  20010329 00:00:00.000      NaN   7848.00\n",
              "14      2  20010402 00:00:00.000      NaN   2040.00\n",
              "15      3  20010913 00:00:00.000  11500.0   1500.00\n",
              "16      3  20010914 00:00:00.000      NaN   2300.00\n",
              "17      3  20011002 00:00:00.000  18000.0       NaN\n",
              "18      3  20020916 00:00:00.000      NaN   2150.00"
            ]
          },
          "metadata": {
            "tags": []
          },
          "execution_count": 77
        }
      ]
    },
    {
      "cell_type": "markdown",
      "metadata": {
        "id": "w1BCj9OwXE-O"
      },
      "source": [
        "***\n",
        "### Задача № 30\n",
        "https://sql-ex.ru/learn_exercises.php?LN=30\n",
        "\n",
        "Приход и расход денег на каждом пункте приема фиксируется произвольное число раз (первичным ключом в таблицах является столбец code).\n",
        "\n",
        "Получить таблицу, в которой каждому пункту за каждую дату выполнения операций будет соответствовать одна строка.\n",
        "\n",
        "Вывод: point, date, суммарный расход пункта за день (out), суммарный приход пункта за день (inc).\n",
        "\n",
        "Отсутствующие значения считать неопределенными (NULL)."
      ]
    },
    {
      "cell_type": "code",
      "metadata": {
        "id": "O6JzowVmXE-P",
        "outputId": "c3ab1eea-bd5b-4e07-927e-582ab307465f",
        "colab": {
          "base_uri": "https://localhost:8080/",
          "height": 550
        }
      },
      "source": [
        "sql = '''\n",
        "\n",
        "-- . на каждую дату в каждой точке считаем итоговые суммы расхода и прихода\n",
        "SELECT point,\n",
        "       date,\n",
        "       SUM(sum_out) as sum_out,\n",
        "       SUM(sum_inc) as sum_inc\n",
        "\n",
        "-- 1. формируем общую таблицу расхода и прихода с помощью UNION\n",
        "FROM (\n",
        "      SELECT point, date, SUM(inc) as sum_inc, null as sum_out -- 1.1 из таблицы с приходом находим сумму дохода на каждый день в каждой точке\n",
        "                                                               -- с помощью \"null as sum_out\" создаем столбец с расходом, в котором будет null\n",
        "                                                               --далее в этот столбец попадут значения из таблицы Outcome\n",
        "      FROM Income\n",
        "      GROUP BY point, date  -- группируем данные по точке и дате\n",
        "\n",
        "      UNION -- 1.3 соединяем обе таблицы внутри подзапроса, исключая дубликаты\n",
        "\n",
        "      SELECT point, date, null as sum_inc, SUM(out) as sum_out -- 1.2 из таблицы с расходами находим сумму расходов на каждый день в каждой точке\n",
        "                                                               -- здесь также создаем пустой столбец \"sum_inc\", заполненный null\n",
        "      FROM Outcome\n",
        "      GROUP BY point, date\n",
        "      ) as t  \n",
        "\n",
        "-- 2. Далее мы получаем таблицу в которой повторяются точки и даты, т.к. как на каждую точку и дату у нас есть расходы и доходы\n",
        "-- группируем таблицу еще раз по точке и дате, чтобы избежать дублирования строк\n",
        "\n",
        "GROUP BY point, date -- так в каждой строке будет точка, дата расход и приход\n",
        "ORDER BY point -- отсортируем по номеру точки для удобства\n",
        "'''\n",
        "\n",
        "select(sql)"
      ],
      "execution_count": null,
      "outputs": [
        {
          "output_type": "execute_result",
          "data": {
            "text/html": [
              "<div>\n",
              "<style scoped>\n",
              "    .dataframe tbody tr th:only-of-type {\n",
              "        vertical-align: middle;\n",
              "    }\n",
              "\n",
              "    .dataframe tbody tr th {\n",
              "        vertical-align: top;\n",
              "    }\n",
              "\n",
              "    .dataframe thead th {\n",
              "        text-align: right;\n",
              "    }\n",
              "</style>\n",
              "<table border=\"1\" class=\"dataframe\">\n",
              "  <thead>\n",
              "    <tr style=\"text-align: right;\">\n",
              "      <th></th>\n",
              "      <th>point</th>\n",
              "      <th>date</th>\n",
              "      <th>sum_out</th>\n",
              "      <th>sum_inc</th>\n",
              "    </tr>\n",
              "  </thead>\n",
              "  <tbody>\n",
              "    <tr>\n",
              "      <th>0</th>\n",
              "      <td>1</td>\n",
              "      <td>20010314 00:00:00.000</td>\n",
              "      <td>15348.00</td>\n",
              "      <td>NaN</td>\n",
              "    </tr>\n",
              "    <tr>\n",
              "      <th>1</th>\n",
              "      <td>1</td>\n",
              "      <td>20010322 00:00:00.000</td>\n",
              "      <td>NaN</td>\n",
              "      <td>30000.0</td>\n",
              "    </tr>\n",
              "    <tr>\n",
              "      <th>2</th>\n",
              "      <td>1</td>\n",
              "      <td>20010323 00:00:00.000</td>\n",
              "      <td>NaN</td>\n",
              "      <td>15000.0</td>\n",
              "    </tr>\n",
              "    <tr>\n",
              "      <th>3</th>\n",
              "      <td>1</td>\n",
              "      <td>20010324 00:00:00.000</td>\n",
              "      <td>7163.00</td>\n",
              "      <td>7000.0</td>\n",
              "    </tr>\n",
              "    <tr>\n",
              "      <th>4</th>\n",
              "      <td>1</td>\n",
              "      <td>20010326 00:00:00.000</td>\n",
              "      <td>1221.00</td>\n",
              "      <td>NaN</td>\n",
              "    </tr>\n",
              "    <tr>\n",
              "      <th>5</th>\n",
              "      <td>1</td>\n",
              "      <td>20010328 00:00:00.000</td>\n",
              "      <td>2075.00</td>\n",
              "      <td>NaN</td>\n",
              "    </tr>\n",
              "    <tr>\n",
              "      <th>6</th>\n",
              "      <td>1</td>\n",
              "      <td>20010329 00:00:00.000</td>\n",
              "      <td>4010.00</td>\n",
              "      <td>NaN</td>\n",
              "    </tr>\n",
              "    <tr>\n",
              "      <th>7</th>\n",
              "      <td>1</td>\n",
              "      <td>20010411 00:00:00.000</td>\n",
              "      <td>3195.04</td>\n",
              "      <td>NaN</td>\n",
              "    </tr>\n",
              "    <tr>\n",
              "      <th>8</th>\n",
              "      <td>1</td>\n",
              "      <td>20010413 00:00:00.000</td>\n",
              "      <td>4490.00</td>\n",
              "      <td>10000.0</td>\n",
              "    </tr>\n",
              "    <tr>\n",
              "      <th>9</th>\n",
              "      <td>1</td>\n",
              "      <td>20010427 00:00:00.000</td>\n",
              "      <td>3110.00</td>\n",
              "      <td>NaN</td>\n",
              "    </tr>\n",
              "    <tr>\n",
              "      <th>10</th>\n",
              "      <td>1</td>\n",
              "      <td>20010511 00:00:00.000</td>\n",
              "      <td>2530.00</td>\n",
              "      <td>4500.0</td>\n",
              "    </tr>\n",
              "    <tr>\n",
              "      <th>11</th>\n",
              "      <td>2</td>\n",
              "      <td>20010322 00:00:00.000</td>\n",
              "      <td>2880.00</td>\n",
              "      <td>10000.0</td>\n",
              "    </tr>\n",
              "    <tr>\n",
              "      <th>12</th>\n",
              "      <td>2</td>\n",
              "      <td>20010324 00:00:00.000</td>\n",
              "      <td>NaN</td>\n",
              "      <td>3000.0</td>\n",
              "    </tr>\n",
              "    <tr>\n",
              "      <th>13</th>\n",
              "      <td>2</td>\n",
              "      <td>20010329 00:00:00.000</td>\n",
              "      <td>7848.00</td>\n",
              "      <td>NaN</td>\n",
              "    </tr>\n",
              "    <tr>\n",
              "      <th>14</th>\n",
              "      <td>2</td>\n",
              "      <td>20010402 00:00:00.000</td>\n",
              "      <td>2040.00</td>\n",
              "      <td>NaN</td>\n",
              "    </tr>\n",
              "    <tr>\n",
              "      <th>15</th>\n",
              "      <td>3</td>\n",
              "      <td>20010913 00:00:00.000</td>\n",
              "      <td>2700.00</td>\n",
              "      <td>3100.0</td>\n",
              "    </tr>\n",
              "    <tr>\n",
              "      <th>16</th>\n",
              "      <td>3</td>\n",
              "      <td>20010914 00:00:00.000</td>\n",
              "      <td>1150.00</td>\n",
              "      <td>NaN</td>\n",
              "    </tr>\n",
              "  </tbody>\n",
              "</table>\n",
              "</div>"
            ],
            "text/plain": [
              "    point                   date   sum_out  sum_inc\n",
              "0       1  20010314 00:00:00.000  15348.00      NaN\n",
              "1       1  20010322 00:00:00.000       NaN  30000.0\n",
              "2       1  20010323 00:00:00.000       NaN  15000.0\n",
              "3       1  20010324 00:00:00.000   7163.00   7000.0\n",
              "4       1  20010326 00:00:00.000   1221.00      NaN\n",
              "5       1  20010328 00:00:00.000   2075.00      NaN\n",
              "6       1  20010329 00:00:00.000   4010.00      NaN\n",
              "7       1  20010411 00:00:00.000   3195.04      NaN\n",
              "8       1  20010413 00:00:00.000   4490.00  10000.0\n",
              "9       1  20010427 00:00:00.000   3110.00      NaN\n",
              "10      1  20010511 00:00:00.000   2530.00   4500.0\n",
              "11      2  20010322 00:00:00.000   2880.00  10000.0\n",
              "12      2  20010324 00:00:00.000       NaN   3000.0\n",
              "13      2  20010329 00:00:00.000   7848.00      NaN\n",
              "14      2  20010402 00:00:00.000   2040.00      NaN\n",
              "15      3  20010913 00:00:00.000   2700.00   3100.0\n",
              "16      3  20010914 00:00:00.000   1150.00      NaN"
            ]
          },
          "metadata": {
            "tags": []
          },
          "execution_count": 75
        }
      ]
    }
  ]
}
